{
 "cells": [
  {
   "cell_type": "code",
   "execution_count": null,
   "metadata": {},
   "outputs": [],
   "source": [
    "# Are word counts correlated with profit margin\n",
    "## Simplistic View\n",
    "\n",
    "## Talk about how easy this is to do, not much programming required\n",
    "\n",
    "## \n",
    "\n",
    "## Re-iterate where text data comes from\n",
    "\n",
    "## Scoll to 120%"
   ]
  },
  {
   "cell_type": "code",
   "execution_count": null,
   "metadata": {},
   "outputs": [],
   "source": [
    "%pip install \"calcbench-api-client[Pandas, Backoff, BeautifulSoup]\" tqdm scipy seaborn statsmodels"
   ]
  },
  {
   "cell_type": "code",
   "execution_count": 2,
   "metadata": {},
   "outputs": [],
   "source": [
    "import pandas as pd\n",
    "\n",
    "from tqdm.notebook import tqdm\n",
    "import qgrid\n",
    "\n",
    "from scipy.special import expit\n",
    "import seaborn as sns\n",
    "from statsmodels.tsa.ar_model import AutoReg\n",
    "from collections import Counter\n",
    "from typing import Iterable\n",
    "\n",
    "import calcbench as cb\n",
    "\n",
    "\n",
    "cb.enable_backoff()\n",
    "tqdm.pandas(desc=\"progress\")"
   ]
  },
  {
   "cell_type": "code",
   "execution_count": 3,
   "metadata": {},
   "outputs": [],
   "source": [
    "disclosure_embeddings = pd.read_pickle(\n",
    "    r\"C:\\Users\\andre\\Dropbox (Calcbench)\\andrew\\sp_500_tokenize_embeddings.pkl\"\n",
    ")"
   ]
  },
  {
   "cell_type": "code",
   "execution_count": 4,
   "metadata": {},
   "outputs": [],
   "source": [
    "def distance(word_counts: Counter, category_words: Iterable[str]):\n",
    "    return sum(count for word, count in word_counts.items() if word in category_words)"
   ]
  },
  {
   "cell_type": "code",
   "execution_count": 5,
   "metadata": {},
   "outputs": [
    {
     "data": {
      "application/vnd.jupyter.widget-view+json": {
       "model_id": "47c70aae64ca467d915dbd4937f855f2",
       "version_major": 2,
       "version_minor": 0
      },
      "text/plain": [
       "progress:   0%|          | 0/14940 [00:00<?, ?it/s]"
      ]
     },
     "metadata": {},
     "output_type": "display_data"
    }
   ],
   "source": [
    "category_distances = disclosure_embeddings.progress_applymap(\n",
    "    lambda word_counts: distance(word_counts, [\"inflation\", \"supply\"])\n",
    ")"
   ]
  },
  {
   "cell_type": "code",
   "execution_count": null,
   "metadata": {},
   "outputs": [],
   "source": [
    "tickers =cb.tickers(index=\"SP500\") # can use any list of tickers"
   ]
  },
  {
   "cell_type": "code",
   "execution_count": 6,
   "metadata": {},
   "outputs": [],
   "source": [
    "metric=\"GrossProfitMargin\" # Can use any of the calcbench standardized metrics\n",
    "\n",
    "profit_margin = cb.standardized_data(\n",
    "    company_identifiers=cb.tickers(index=\"SP500\"),\n",
    "    metrics=[metric],\n",
    "    all_history=True,\n",
    "    period_type=\"annual\",\n",
    ")[\"GrossProfitMargin\"]"
   ]
  },
  {
   "cell_type": "code",
   "execution_count": 13,
   "metadata": {},
   "outputs": [],
   "source": [
    "tickers = =cb.tickers(index=\"SP500\") # can use any list of tickers\n",
    "\n",
    "SIC_code = cb.standardized_data(\n",
    "    company_identifiers=tickers,\n",
    "    metrics=[\"SIC_code\"],\n",
    "    all_history=True,\n",
    "    period_type=\"annual\",\n",
    ")"
   ]
  },
  {
   "cell_type": "code",
   "execution_count": 20,
   "metadata": {},
   "outputs": [],
   "source": [
    "one_digit_SIC_codes = pd.to_numeric(\n",
    "    SIC_code[\"SIC_code\"].iloc[0] // 1000, downcast=\"integer\"\n",
    ").astype(str)\n",
    "one_digit_SIC_codes.name = \"SIC_Code\""
   ]
  },
  {
   "cell_type": "code",
   "execution_count": 7,
   "metadata": {},
   "outputs": [],
   "source": [
    "md_a_diff = (\n",
    "    category_distances.ManagementsDiscussionAndAnalysis\n",
    "    - category_distances.ManagementsDiscussionAndAnalysis.shift()\n",
    ")"
   ]
  },
  {
   "cell_type": "code",
   "execution_count": 8,
   "metadata": {},
   "outputs": [],
   "source": [
    "profit_margin_change = profit_margin - profit_margin.shift()"
   ]
  },
  {
   "cell_type": "code",
   "execution_count": 9,
   "metadata": {},
   "outputs": [],
   "source": [
    "d = (\n",
    "    pd.DataFrame(\n",
    "        data={\n",
    "            \"profit_margin_change\": expit(profit_margin_change.stack()),\n",
    "            \"inflation_count_change\": expit(md_a_diff).stack(),\n",
    "        }\n",
    "    )\n",
    "    .swaplevel()\n",
    "    .sort_index()\n",
    ")"
   ]
  },
  {
   "cell_type": "code",
   "execution_count": 11,
   "metadata": {},
   "outputs": [
    {
     "data": {
      "text/plain": [
       "<matplotlib.axes._subplots.AxesSubplot at 0x1fa2b2db1c0>"
      ]
     },
     "execution_count": 11,
     "metadata": {},
     "output_type": "execute_result"
    },
    {
     "data": {
      "image/png": "[encoded data removed]",
      "text/plain": [
       "<Figure size 432x288 with 1 Axes>"
      ]
     },
     "metadata": {
      "needs_background": "light"
     },
     "output_type": "display_data"
    }
   ],
   "source": [
    "sns.scatterplot(x=\"profit_margin_change\", y=\"inflation_count_change\", data=d)"
   ]
  },
  {
   "cell_type": "code",
   "execution_count": 29,
   "metadata": {},
   "outputs": [],
   "source": [
    "inflation_word_count_2020 = category_distances.ManagementsDiscussionAndAnalysis.iloc[-2]"
   ]
  },
  {
   "cell_type": "code",
   "execution_count": 30,
   "metadata": {},
   "outputs": [],
   "source": [
    "SIC_word_counts = pd.DataFrame(\n",
    "    data={\n",
    "        \"SIC_code\": one_digit_SIC_codes,\n",
    "        \"inflation_word_count\": inflation_word_count_2020,\n",
    "    }\n",
    ")"
   ]
  },
  {
   "cell_type": "code",
   "execution_count": 34,
   "metadata": {},
   "outputs": [
    {
     "data": {
      "text/plain": [
       "<matplotlib.axes._subplots.AxesSubplot at 0x1fa8bb43880>"
      ]
     },
     "execution_count": 34,
     "metadata": {},
     "output_type": "execute_result"
    },
    {
     "data": {
      "image/png": "[encoded data removed]",
      "text/plain": [
       "<Figure size 432x288 with 1 Axes>"
      ]
     },
     "metadata": {
      "needs_background": "light"
     },
     "output_type": "display_data"
    }
   ],
   "source": [
    "sns.scatterplot(x=\"SIC_code\", y=\"inflation_word_count\", data=SIC_word_counts)"
   ]
  },
  {
   "cell_type": "code",
   "execution_count": null,
   "metadata": {},
   "outputs": [],
   "source": []
  }
 ],
 "metadata": {
  "kernelspec": {
   "display_name": "Python 3",
   "language": "python",
   "name": "python3"
  },
  "language_info": {
   "codemirror_mode": {
    "name": "ipython",
    "version": 3
   },
   "file_extension": ".py",
   "mimetype": "text/x-python",
   "name": "python",
   "nbconvert_exporter": "python",
   "pygments_lexer": "ipython3",
   "version": "3.8.2"
  }
 },
 "nbformat": 4,
 "nbformat_minor": 4
}
