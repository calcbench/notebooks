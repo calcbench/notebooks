{
 "cells": [
  {
   "cell_type": "code",
   "execution_count": 95,
   "metadata": {},
   "outputs": [],
   "source": [
    "# Dependencies\n",
    "# !pip install \"calcbench-api-client[Pandas, Backoff, BeautifulSoup]\" tqdm scipy seaborn"
   ]
  },
  {
   "cell_type": "code",
   "execution_count": 92,
   "metadata": {},
   "outputs": [],
   "source": [
    "import pandas as pd\n",
    "\n",
    "from tqdm.notebook import tqdm\n",
    "import qgrid\n",
    "\n",
    "from scipy.special import expit\n",
    "import seaborn as sns\n",
    "\n",
    "import calcbench as cb\n",
    "\n",
    "\n",
    "cb.enable_backoff()\n",
    "tqdm.pandas(desc=\"progress\")"
   ]
  },
  {
   "cell_type": "code",
   "execution_count": 94,
   "metadata": {},
   "outputs": [],
   "source": [
    "disclosure_embeddings = pd.read_pickle(\n",
    "    r\"C:\\Users\\andre\\Dropbox (Calcbench)\\andrew\\sp_500_tokenize_embeddings.pkl\"\n",
    ")"
   ]
  },
  {
   "cell_type": "code",
   "execution_count": 11,
   "metadata": {},
   "outputs": [],
   "source": [
    "def distance(word_counts: Counter, category_words: Iterable[str]):\n",
    "    return sum(count for word, count in word_counts.items() if word in category_words)"
   ]
  },
  {
   "cell_type": "code",
   "execution_count": 12,
   "metadata": {},
   "outputs": [
    {
     "data": {
      "application/vnd.jupyter.widget-view+json": {
       "model_id": "bcaa02f2c8404eaf92b454ec89cb5d07",
       "version_major": 2,
       "version_minor": 0
      },
      "text/plain": [
       "progress:   0%|          | 0/14940 [00:00<?, ?it/s]"
      ]
     },
     "metadata": {},
     "output_type": "display_data"
    }
   ],
   "source": [
    "category_distances = disclosure_embeddings.progress_applymap(\n",
    "    lambda word_counts: distance(word_counts, [\"inflation\"])\n",
    ")"
   ]
  },
  {
   "cell_type": "code",
   "execution_count": 18,
   "metadata": {},
   "outputs": [],
   "source": [
    "profit_margin = cb.standardized_data(\n",
    "    company_identifiers=cb.tickers(index=\"SP500\"),\n",
    "    metrics=[\"GrossProfitMargin\"],\n",
    "    all_history=True,\n",
    "    period_type=\"annual\",\n",
    ")[\"GrossProfitMargin\"]"
   ]
  },
  {
   "cell_type": "code",
   "execution_count": null,
   "metadata": {},
   "outputs": [],
   "source": [
    "md_a_diff = (\n",
    "    category_distances.ManagementsDiscussionAndAnalysis\n",
    "    - category_distances.ManagementsDiscussionAndAnalysis.shift()\n",
    ")"
   ]
  },
  {
   "cell_type": "code",
   "execution_count": 79,
   "metadata": {},
   "outputs": [],
   "source": [
    "profig_margin_change = profit_margin - profit_margin.shift()"
   ]
  },
  {
   "cell_type": "code",
   "execution_count": 82,
   "metadata": {},
   "outputs": [],
   "source": [
    "d = (\n",
    "    pd.DataFrame(\n",
    "        data={\n",
    "            \"profit_margin_change\": expit(profig_margin_change.stack()),\n",
    "            \"inflation_count_change\": expit(md_a_diff).stack(),\n",
    "        }\n",
    "    )\n",
    "    .swaplevel()\n",
    "    .sort_index()\n",
    ")"
   ]
  },
  {
   "cell_type": "code",
   "execution_count": 93,
   "metadata": {},
   "outputs": [
    {
     "data": {
      "text/plain": [
       "<matplotlib.axes._subplots.AxesSubplot at 0x22108b31b80>"
      ]
     },
     "execution_count": 93,
     "metadata": {},
     "output_type": "execute_result"
    },
    {
     "data": {
      "image/png": "[encoded data removed]",
      "text/plain": [
       "<Figure size 432x288 with 1 Axes>"
      ]
     },
     "metadata": {
      "needs_background": "light"
     },
     "output_type": "display_data"
    }
   ],
   "source": [
    "sns.scatterplot(x=\"profit_margin_change\", y=\"inflation_count_change\", data=d)"
   ]
  },
  {
   "cell_type": "code",
   "execution_count": null,
   "metadata": {},
   "outputs": [],
   "source": []
  }
 ],
 "metadata": {
  "kernelspec": {
   "display_name": "Python 3",
   "language": "python",
   "name": "python3"
  },
  "language_info": {
   "codemirror_mode": {
    "name": "ipython",
    "version": 3
   },
   "file_extension": ".py",
   "mimetype": "text/x-python",
   "name": "python",
   "nbconvert_exporter": "python",
   "pygments_lexer": "ipython3",
   "version": "3.8.2"
  }
 },
 "nbformat": 4,
 "nbformat_minor": 4
}
