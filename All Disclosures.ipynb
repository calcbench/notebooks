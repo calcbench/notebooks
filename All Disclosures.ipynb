{
 "cells": [
  {
   "cell_type": "code",
   "execution_count": null,
   "id": "6b363d35",
   "metadata": {},
   "outputs": [],
   "source": [
    "# %#pip install calcbench-api-client[Pandas,tqdm]"
   ]
  },
  {
   "cell_type": "code",
   "execution_count": null,
   "id": "8fbe13c2",
   "metadata": {},
   "outputs": [],
   "source": [
    "from tqdm.auto import tqdm\n",
    "import calcbench as cb\n",
    "from calcbench.downloaders import iterate_to_dataframe\n",
    "from calcbench.models.disclosure_search_results import DisclosureSearchResults\n",
    "from nltk.tokenize import word_tokenize"
   ]
  },
  {
   "cell_type": "code",
   "execution_count": null,
   "id": "3e0bfa45",
   "metadata": {},
   "outputs": [],
   "source": [
    "tqdm.pandas()"
   ]
  },
  {
   "cell_type": "code",
   "execution_count": null,
   "id": "96fad0b2",
   "metadata": {},
   "outputs": [],
   "source": [
    "tickers = cb.tickers(index='DJIA')"
   ]
  },
  {
   "cell_type": "code",
   "execution_count": null,
   "id": "e1718899",
   "metadata": {},
   "outputs": [],
   "source": [
    "d = iterate_to_dataframe(\n",
    "    tickers,\n",
    "    lambda t: cb.disclosure_dataframe(\n",
    "        company_identifiers=[t],\n",
    "        all_disclosures=True,\n",
    "        all_history=True,\n",
    "    ),\n",
    ")"
   ]
  },
  {
   "cell_type": "code",
   "execution_count": null,
   "id": "51bb7236",
   "metadata": {},
   "outputs": [],
   "source": [
    "def word_count(d: DisclosureSearchResults):\n",
    "    try:\n",
    "        contents  = d.get_contents_text()\n",
    "    except Exception as e:\n",
    "        print(e)\n",
    "        return -1\n",
    "    else:\n",
    "        return len(word_tokenize(contents))\n"
   ]
  },
  {
   "cell_type": "code",
   "execution_count": null,
   "id": "c225f07c",
   "metadata": {},
   "outputs": [
    {
     "data": {
      "application/vnd.jupyter.widget-view+json": {
       "model_id": "287589c28b24423baf5ac3cdae7ca449",
       "version_major": 2,
       "version_minor": 0
      },
      "text/plain": [
       "  0%|          | 0/2129350 [00:00<?, ?it/s]"
      ]
     },
     "metadata": {},
     "output_type": "display_data"
    },
    {
     "name": "stderr",
     "output_type": "stream",
     "text": [
      "Exception https://www.calcbench.com/api/disclosureContents, disclosure=DisclosureSearchResults(fact_id=49004814, entity_name='3M Co', accession_id=375654, footnote_type=200, SEC_URL='https://www.sec.gov/Archives/edgar/data/66740/000006674024000016/0000066740-24-000016-index.htm', sec_filing_id=None, blob_id=None, fiscal_year=2023, fiscal_period=<Period.Annual: 0>, calendar_year=2023, calendar_period=<Period.Annual: 0>, filing_date='2024-02-07T00:00:00', received_date='0001-01-01T00:00:00', document_type='10-K', guide_link=None, page_url=None, entity_id=5128, id_detail=False, local_name=None, CIK='0000066740', sec_accession_number='0000066740-24-000016', network_id=81261920, ticker='MMM', filing_type=2, description='3M Co (MMM) ', disclosure_type_name=None, period_end_date='2023-12-31T00:00:00', footnote_type_title=None, content=None, date_reported=datetime.datetime(2024, 2, 7, 9, 36, 59, 940000), name='Other Notes To Financial Statements', schema=1, is_XBRL_document=True, sub_sections=None) standardize=False\n",
      "Traceback (most recent call last):\n",
      "  File \"c:\\users\\andre\\repos\\python_api_client\\calcbench\\api_client.py\", line 257, in _json_POST\n",
      "    response.raise_for_status()\n",
      "  File \"C:\\Users\\andre\\AppData\\Local\\Programs\\Python\\Python311\\Lib\\site-packages\\requests\\models.py\", line 1021, in raise_for_status\n",
      "    raise HTTPError(http_error_msg, response=self)\n",
      "requests.exceptions.HTTPError: 500 Server Error: Internal Server Error for url: https://www.calcbench.com/api/disclosureContents\n",
      "Giving up _json_POST(...) after 1 tries (requests.exceptions.HTTPError: 500 Server Error: Internal Server Error for url: https://www.calcbench.com/api/disclosureContents)\n",
      "Exception https://www.calcbench.com/api/disclosureContents, disclosure=DisclosureSearchResults(fact_id=50144806, entity_name='3M Co', accession_id=383147, footnote_type=200, SEC_URL='https://www.sec.gov/Archives/edgar/data/66740/000006674024000053/0000066740-24-000053-index.htm', sec_filing_id=None, blob_id=None, fiscal_year=2024, fiscal_period=<Period.Q1: 1>, calendar_year=2024, calendar_period=<Period.Q1: 1>, filing_date='2024-04-30T00:00:00', received_date='0001-01-01T00:00:00', document_type='10-Q', guide_link=None, page_url=None, entity_id=5128, id_detail=False, local_name=None, CIK='0000066740', sec_accession_number='0000066740-24-000053', network_id=83345054, ticker='MMM', filing_type=2, description='3M Co (MMM) ', disclosure_type_name=None, period_end_date='2024-03-31T00:00:00', footnote_type_title=None, content=None, date_reported=datetime.datetime(2024, 4, 30, 11, 46, 52, 820000), name='Other Notes To Financial Statements', schema=1, is_XBRL_document=True, sub_sections=None) standardize=False\n",
      "Traceback (most recent call last):\n",
      "  File \"c:\\users\\andre\\repos\\python_api_client\\calcbench\\api_client.py\", line 257, in _json_POST\n",
      "    response.raise_for_status()\n",
      "  File \"C:\\Users\\andre\\AppData\\Local\\Programs\\Python\\Python311\\Lib\\site-packages\\requests\\models.py\", line 1021, in raise_for_status\n",
      "    raise HTTPError(http_error_msg, response=self)\n",
      "requests.exceptions.HTTPError: 500 Server Error: Internal Server Error for url: https://www.calcbench.com/api/disclosureContents\n",
      "Giving up _json_POST(...) after 1 tries (requests.exceptions.HTTPError: 500 Server Error: Internal Server Error for url: https://www.calcbench.com/api/disclosureContents)\n",
      "Exception https://www.calcbench.com/api/disclosureContents, disclosure=DisclosureSearchResults(fact_id=50864373, entity_name='3M Co', accession_id=389632, footnote_type=200, SEC_URL='https://www.sec.gov/Archives/edgar/data/66740/000006674024000080/0000066740-24-000080-index.htm', sec_filing_id=None, blob_id=None, fiscal_year=2024, fiscal_period=<Period.Q2: 2>, calendar_year=2024, calendar_period=<Period.Q2: 2>, filing_date='2024-07-26T00:00:00', received_date='0001-01-01T00:00:00', document_type='10-Q', guide_link=None, page_url=None, entity_id=5128, id_detail=False, local_name=None, CIK='0000066740', sec_accession_number='0000066740-24-000080', network_id=84736772, ticker='MMM', filing_type=2, description='3M Co (MMM) ', disclosure_type_name=None, period_end_date='2024-06-30T00:00:00', footnote_type_title=None, content=None, date_reported=datetime.datetime(2024, 7, 26, 11, 27, 54, 210000), name='Other Notes To Financial Statements', schema=1, is_XBRL_document=True, sub_sections=None) standardize=False\n",
      "Traceback (most recent call last):\n",
      "  File \"c:\\users\\andre\\repos\\python_api_client\\calcbench\\api_client.py\", line 257, in _json_POST\n",
      "    response.raise_for_status()\n",
      "  File \"C:\\Users\\andre\\AppData\\Local\\Programs\\Python\\Python311\\Lib\\site-packages\\requests\\models.py\", line 1021, in raise_for_status\n",
      "    raise HTTPError(http_error_msg, response=self)\n",
      "requests.exceptions.HTTPError: 500 Server Error: Internal Server Error for url: https://www.calcbench.com/api/disclosureContents\n",
      "Giving up _json_POST(...) after 1 tries (requests.exceptions.HTTPError: 500 Server Error: Internal Server Error for url: https://www.calcbench.com/api/disclosureContents)\n"
     ]
    },
    {
     "name": "stdout",
     "output_type": "stream",
     "text": [
      "500 Server Error: Internal Server Error for url: https://www.calcbench.com/api/disclosureContents\n",
      "500 Server Error: Internal Server Error for url: https://www.calcbench.com/api/disclosureContents\n",
      "500 Server Error: Internal Server Error for url: https://www.calcbench.com/api/disclosureContents\n"
     ]
    },
    {
     "name": "stderr",
     "output_type": "stream",
     "text": [
      "Exception https://www.calcbench.com/api/disclosureContents, disclosure=DisclosureSearchResults(fact_id=47434545, entity_name='American Express Co', accession_id=361154, footnote_type=200, SEC_URL='https://www.sec.gov/Archives/edgar/data/4962/000000496223000028/0000004962-23-000028-index.htm', sec_filing_id=None, blob_id=None, fiscal_year=2023, fiscal_period=<Period.Q2: 2>, calendar_year=2023, calendar_period=<Period.Q2: 2>, filing_date='2023-07-25T00:00:00', received_date='0001-01-01T00:00:00', document_type='10-Q', guide_link=None, page_url=None, entity_id=5010, id_detail=False, local_name=None, CIK='0000004962', sec_accession_number='0000004962-23-000028', network_id=78210970, ticker='AXP', filing_type=2, description='American Express Co (AXP) ', disclosure_type_name=None, period_end_date='2023-06-30T00:00:00', footnote_type_title=None, content=None, date_reported=datetime.datetime(2023, 7, 25, 6, 14, 58, 190000), name='Other Notes To Financial Statements', schema=1, is_XBRL_document=True, sub_sections=None) standardize=False\n",
      "Traceback (most recent call last):\n",
      "  File \"c:\\users\\andre\\repos\\python_api_client\\calcbench\\api_client.py\", line 257, in _json_POST\n",
      "    response.raise_for_status()\n",
      "  File \"C:\\Users\\andre\\AppData\\Local\\Programs\\Python\\Python311\\Lib\\site-packages\\requests\\models.py\", line 1021, in raise_for_status\n",
      "    raise HTTPError(http_error_msg, response=self)\n",
      "requests.exceptions.HTTPError: 500 Server Error: Internal Server Error for url: https://www.calcbench.com/api/disclosureContents\n",
      "Giving up _json_POST(...) after 1 tries (requests.exceptions.HTTPError: 500 Server Error: Internal Server Error for url: https://www.calcbench.com/api/disclosureContents)\n"
     ]
    },
    {
     "name": "stdout",
     "output_type": "stream",
     "text": [
      "500 Server Error: Internal Server Error for url: https://www.calcbench.com/api/disclosureContents\n"
     ]
    },
    {
     "name": "stderr",
     "output_type": "stream",
     "text": [
      "Exception https://www.calcbench.com/api/disclosureContents, disclosure=DisclosureSearchResults(fact_id=48201035, entity_name='American Express Co', accession_id=368297, footnote_type=200, SEC_URL='https://www.sec.gov/Archives/edgar/data/4962/000000496223000038/0000004962-23-000038-index.htm', sec_filing_id=None, blob_id=None, fiscal_year=2023, fiscal_period=<Period.Q3: 3>, calendar_year=2023, calendar_period=<Period.Q3: 3>, filing_date='2023-10-20T00:00:00', received_date='0001-01-01T00:00:00', document_type='10-Q', guide_link=None, page_url=None, entity_id=5010, id_detail=False, local_name=None, CIK='0000004962', sec_accession_number='0000004962-23-000038', network_id=79702636, ticker='AXP', filing_type=2, description='American Express Co (AXP) ', disclosure_type_name=None, period_end_date='2023-09-30T00:00:00', footnote_type_title=None, content=None, date_reported=datetime.datetime(2023, 10, 20, 12, 45, 25, 990000), name='Other Notes To Financial Statements', schema=1, is_XBRL_document=True, sub_sections=None) standardize=False\n",
      "Traceback (most recent call last):\n",
      "  File \"c:\\users\\andre\\repos\\python_api_client\\calcbench\\api_client.py\", line 257, in _json_POST\n",
      "    response.raise_for_status()\n",
      "  File \"C:\\Users\\andre\\AppData\\Local\\Programs\\Python\\Python311\\Lib\\site-packages\\requests\\models.py\", line 1021, in raise_for_status\n",
      "    raise HTTPError(http_error_msg, response=self)\n",
      "requests.exceptions.HTTPError: 500 Server Error: Internal Server Error for url: https://www.calcbench.com/api/disclosureContents\n",
      "Giving up _json_POST(...) after 1 tries (requests.exceptions.HTTPError: 500 Server Error: Internal Server Error for url: https://www.calcbench.com/api/disclosureContents)\n",
      "Exception https://www.calcbench.com/api/disclosureContents, disclosure=DisclosureSearchResults(fact_id=49040583, entity_name='American Express Co', accession_id=375908, footnote_type=200, SEC_URL='https://www.sec.gov/Archives/edgar/data/4962/000000496224000013/0000004962-24-000013-index.htm', sec_filing_id=None, blob_id=None, fiscal_year=2023, fiscal_period=<Period.Annual: 0>, calendar_year=2023, calendar_period=<Period.Annual: 0>, filing_date='2024-02-09T00:00:00', received_date='0001-01-01T00:00:00', document_type='10-K', guide_link=None, page_url=None, entity_id=5010, id_detail=False, local_name=None, CIK='0000004962', sec_accession_number='0000004962-24-000013', network_id=81327617, ticker='AXP', filing_type=2, description='American Express Co (AXP) ', disclosure_type_name=None, period_end_date='2023-12-31T00:00:00', footnote_type_title=None, content=None, date_reported=datetime.datetime(2024, 2, 9, 14, 19, 49, 300000), name='Other Notes To Financial Statements', schema=1, is_XBRL_document=True, sub_sections=None) standardize=False\n",
      "Traceback (most recent call last):\n",
      "  File \"c:\\users\\andre\\repos\\python_api_client\\calcbench\\api_client.py\", line 257, in _json_POST\n",
      "    response.raise_for_status()\n",
      "  File \"C:\\Users\\andre\\AppData\\Local\\Programs\\Python\\Python311\\Lib\\site-packages\\requests\\models.py\", line 1021, in raise_for_status\n",
      "    raise HTTPError(http_error_msg, response=self)\n",
      "requests.exceptions.HTTPError: 500 Server Error: Internal Server Error for url: https://www.calcbench.com/api/disclosureContents\n",
      "Giving up _json_POST(...) after 1 tries (requests.exceptions.HTTPError: 500 Server Error: Internal Server Error for url: https://www.calcbench.com/api/disclosureContents)\n"
     ]
    },
    {
     "name": "stdout",
     "output_type": "stream",
     "text": [
      "500 Server Error: Internal Server Error for url: https://www.calcbench.com/api/disclosureContents\n",
      "500 Server Error: Internal Server Error for url: https://www.calcbench.com/api/disclosureContents\n"
     ]
    },
    {
     "name": "stderr",
     "output_type": "stream",
     "text": [
      "Exception https://www.calcbench.com/api/disclosureContents, disclosure=DisclosureSearchResults(fact_id=50022949, entity_name='American Express Co', accession_id=382153, footnote_type=200, SEC_URL='https://www.sec.gov/Archives/edgar/data/4962/000000496224000031/0000004962-24-000031-index.htm', sec_filing_id=None, blob_id=None, fiscal_year=2024, fiscal_period=<Period.Q1: 1>, calendar_year=2024, calendar_period=<Period.Q1: 1>, filing_date='2024-04-19T00:00:00', received_date='0001-01-01T00:00:00', document_type='10-Q', guide_link=None, page_url=None, entity_id=5010, id_detail=False, local_name=None, CIK='0000004962', sec_accession_number='0000004962-24-000031', network_id=83125574, ticker='AXP', filing_type=2, description='American Express Co (AXP) ', disclosure_type_name=None, period_end_date='2024-03-31T00:00:00', footnote_type_title=None, content=None, date_reported=datetime.datetime(2024, 4, 19, 11, 8, 43, 613000), name='Other Notes To Financial Statements', schema=1, is_XBRL_document=True, sub_sections=None) standardize=False\n",
      "Traceback (most recent call last):\n",
      "  File \"c:\\users\\andre\\repos\\python_api_client\\calcbench\\api_client.py\", line 257, in _json_POST\n",
      "    response.raise_for_status()\n",
      "  File \"C:\\Users\\andre\\AppData\\Local\\Programs\\Python\\Python311\\Lib\\site-packages\\requests\\models.py\", line 1021, in raise_for_status\n",
      "    raise HTTPError(http_error_msg, response=self)\n",
      "requests.exceptions.HTTPError: 500 Server Error: Internal Server Error for url: https://www.calcbench.com/api/disclosureContents\n",
      "Giving up _json_POST(...) after 1 tries (requests.exceptions.HTTPError: 500 Server Error: Internal Server Error for url: https://www.calcbench.com/api/disclosureContents)\n",
      "Exception https://www.calcbench.com/api/disclosureContents, disclosure=DisclosureSearchResults(fact_id=50830759, entity_name='American Express Co', accession_id=389306, footnote_type=200, SEC_URL='https://www.sec.gov/Archives/edgar/data/4962/000000496224000052/0000004962-24-000052-index.htm', sec_filing_id=None, blob_id=None, fiscal_year=2024, fiscal_period=<Period.Q2: 2>, calendar_year=2024, calendar_period=<Period.Q2: 2>, filing_date='2024-07-19T00:00:00', received_date='0001-01-01T00:00:00', document_type='10-Q', guide_link=None, page_url=None, entity_id=5010, id_detail=False, local_name=None, CIK='0000004962', sec_accession_number='0000004962-24-000052', network_id=84666955, ticker='AXP', filing_type=2, description='American Express Co (AXP) ', disclosure_type_name=None, period_end_date='2024-06-30T00:00:00', footnote_type_title=None, content=None, date_reported=datetime.datetime(2024, 7, 19, 13, 29, 28, 27000), name='Other Notes To Financial Statements', schema=1, is_XBRL_document=True, sub_sections=None) standardize=False\n",
      "Traceback (most recent call last):\n",
      "  File \"c:\\users\\andre\\repos\\python_api_client\\calcbench\\api_client.py\", line 257, in _json_POST\n",
      "    response.raise_for_status()\n",
      "  File \"C:\\Users\\andre\\AppData\\Local\\Programs\\Python\\Python311\\Lib\\site-packages\\requests\\models.py\", line 1021, in raise_for_status\n",
      "    raise HTTPError(http_error_msg, response=self)\n",
      "requests.exceptions.HTTPError: 500 Server Error: Internal Server Error for url: https://www.calcbench.com/api/disclosureContents\n",
      "Giving up _json_POST(...) after 1 tries (requests.exceptions.HTTPError: 500 Server Error: Internal Server Error for url: https://www.calcbench.com/api/disclosureContents)\n"
     ]
    },
    {
     "name": "stdout",
     "output_type": "stream",
     "text": [
      "500 Server Error: Internal Server Error for url: https://www.calcbench.com/api/disclosureContents\n",
      "500 Server Error: Internal Server Error for url: https://www.calcbench.com/api/disclosureContents\n"
     ]
    }
   ],
   "source": [
    "word_counts = d.progress_applymap(word_count, na_action=\"ignore\")"
   ]
  },
  {
   "cell_type": "code",
   "execution_count": null,
   "id": "3099ad62",
   "metadata": {},
   "outputs": [],
   "source": []
  }
 ],
 "metadata": {
  "kernelspec": {
   "display_name": "Python 3 (ipykernel)",
   "language": "python",
   "name": "python3"
  },
  "language_info": {
   "codemirror_mode": {
    "name": "ipython",
    "version": 3
   },
   "file_extension": ".py",
   "mimetype": "text/x-python",
   "name": "python",
   "nbconvert_exporter": "python",
   "pygments_lexer": "ipython3",
   "version": "3.11.0"
  }
 },
 "nbformat": 4,
 "nbformat_minor": 5
}
