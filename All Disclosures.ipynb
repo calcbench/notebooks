{
 "cells": [
  {
   "cell_type": "code",
   "execution_count": null,
   "id": "24d39f86",
   "metadata": {},
   "outputs": [],
   "source": [
    "# %#pip install calcbench-api-client[Pandas,tqdm]"
   ]
  },
  {
   "cell_type": "code",
   "execution_count": null,
   "id": "03a3aafa",
   "metadata": {},
   "outputs": [],
   "source": [
    "from tqdm.auto import tqdm\n",
    "import calcbench as cb\n",
    "from calcbench.downloaders import iterate_to_dataframe"
   ]
  },
  {
   "cell_type": "code",
   "execution_count": null,
   "id": "16b039b8",
   "metadata": {},
   "outputs": [],
   "source": [
    "tqdm.pandas()"
   ]
  },
  {
   "cell_type": "code",
   "execution_count": null,
   "id": "b1425bb5",
   "metadata": {},
   "outputs": [],
   "source": [
    "cb.api_client._rig_for_testing(\"cbandrewcloudservicetest.cloudapp.net\")"
   ]
  },
  {
   "cell_type": "code",
   "execution_count": null,
   "id": "5e7d29d0",
   "metadata": {},
   "outputs": [],
   "source": [
    "tickers = cb.tickers(index='DJIA')"
   ]
  },
  {
   "cell_type": "code",
   "execution_count": null,
   "id": "a7ea460f",
   "metadata": {},
   "outputs": [],
   "source": [
    "d = cb.disclosure_dataframe(\n",
    "    company_identifiers=[\"msft\", \"orcl\", \"fb\", \"goog\"],\n",
    "    all_disclosures=True,\n",
    "    all_history=True,\n",
    ")"
   ]
  },
  {
   "cell_type": "code",
   "execution_count": null,
   "id": "ee0b32d4",
   "metadata": {},
   "outputs": [],
   "source": [
    "d = iterate_to_dataframe(\n",
    "    tickers,\n",
    "    lambda t: cb.disclosure_dataframe(\n",
    "        company_identifiers=[t],\n",
    "        all_disclosures=True,\n",
    "        all_history=True,\n",
    "    ),\n",
    ")"
   ]
  },
  {
   "cell_type": "code",
   "execution_count": null,
   "id": "3d290f3b",
   "metadata": {},
   "outputs": [],
   "source": [
    "d.progress_map(lambda d: d.name, na_action=\"ignore\")"
   ]
  }
 ],
 "metadata": {
  "kernelspec": {
   "display_name": "Python 3 (ipykernel)",
   "language": "python",
   "name": "python3"
  },
  "language_info": {
   "codemirror_mode": {
    "name": "ipython",
    "version": 3
   },
   "file_extension": ".py",
   "mimetype": "text/x-python",
   "name": "python",
   "nbconvert_exporter": "python",
   "pygments_lexer": "ipython3",
   "version": "3.11.0"
  }
 },
 "nbformat": 4,
 "nbformat_minor": 5
}
