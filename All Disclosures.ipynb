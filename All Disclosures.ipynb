{
 "cells": [
  {
   "cell_type": "code",
   "execution_count": null,
   "id": "6b363d35",
   "metadata": {},
   "outputs": [],
   "source": [
    "# %#pip install calcbench-api-client[Pandas,tqdm]"
   ]
  },
  {
   "cell_type": "code",
   "execution_count": null,
   "id": "8fbe13c2",
   "metadata": {},
   "outputs": [],
   "source": [
    "from tqdm.auto import tqdm\n",
    "import calcbench as cb\n",
    "from calcbench.downloaders import iterate_to_dataframe\n",
    "from calcbench.models.disclosure_search_results import DisclosureSearchResults\n",
    "from nltk.tokenize import word_tokenize"
   ]
  },
  {
   "cell_type": "code",
   "execution_count": null,
   "id": "3e0bfa45",
   "metadata": {},
   "outputs": [],
   "source": [
    "tqdm.pandas()"
   ]
  },
  {
   "cell_type": "code",
   "execution_count": null,
   "id": "96fad0b2",
   "metadata": {},
   "outputs": [],
   "source": [
    "tickers = cb.tickers(index='DJIA')"
   ]
  },
  {
   "cell_type": "code",
   "execution_count": null,
   "id": "e1718899",
   "metadata": {},
   "outputs": [],
   "source": [
    "d = iterate_to_dataframe(\n",
    "    tickers,\n",
    "    lambda t: cb.disclosure_dataframe(\n",
    "        company_identifiers=[t],\n",
    "        all_disclosures=True,\n",
    "        all_history=True,\n",
    "    ),\n",
    ")"
   ]
  },
  {
   "cell_type": "code",
   "execution_count": null,
   "id": "51bb7236",
   "metadata": {},
   "outputs": [],
   "source": [
    "def word_count(d: DisclosureSearchResults):\n",
    "    try:\n",
    "        contents  = d.get_contents_text()\n",
    "    except Exception as e:\n",
    "        print(e)\n",
    "        return -1\n",
    "    else:\n",
    "        return len(word_tokenize(contents))\n"
   ]
  },
  {
   "cell_type": "code",
   "execution_count": null,
   "id": "6a3bba54",
   "metadata": {},
   "outputs": [],
   "source": [
    "word_counts = d.progress_applymap(word_count, na_action=\"ignore\")"
   ]
  },
  {
   "cell_type": "code",
   "execution_count": null,
   "id": "dee6d8e7",
   "metadata": {},
   "outputs": [],
   "source": []
  }
 ],
 "metadata": {
  "kernelspec": {
   "display_name": "Python 3 (ipykernel)",
   "language": "python",
   "name": "python3"
  },
  "language_info": {
   "codemirror_mode": {
    "name": "ipython",
    "version": 3
   },
   "file_extension": ".py",
   "mimetype": "text/x-python",
   "name": "python",
   "nbconvert_exporter": "python",
   "pygments_lexer": "ipython3",
   "version": "3.11.0"
  }
 },
 "nbformat": 4,
 "nbformat_minor": 5
}
