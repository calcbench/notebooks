{
 "cells": [
  {
   "cell_type": "markdown",
   "metadata": {},
   "source": [
    "# By Thomas Philips - tp55@nyu.edu"
   ]
  },
  {
   "cell_type": "code",
   "execution_count": null,
   "metadata": {},
   "outputs": [],
   "source": [
    "%pip install calcbench-api-client[Pandas]>=5.13.0 numpy matplotlib scipy"
   ]
  },
  {
   "cell_type": "code",
   "execution_count": null,
   "metadata": {},
   "outputs": [],
   "source": [
    "import matplotlib.pyplot as plt\n",
    "import numpy as np\n",
    "import calcbench as cb\n",
    "\n",
    "# Get the version of scipy.stats that explicitly allows for masked arrays, as there are missing values, NaNs etc. in the data\n",
    "import scipy.stats.mstats as stats"
   ]
  },
  {
   "cell_type": "code",
   "execution_count": null,
   "metadata": {},
   "outputs": [],
   "source": [
    "# For a list of metrics, visit https://www.calcbench.com/home/standardizedmetrics\n",
    "# Obtain a Pandas dataframe with all the data needed to run the P/B-ROE model for the S&P 500.\n",
    "# The dataframe is indexed by a MultiIndex, as it has 3 dimensions: data items, securities and time\n",
    "# see https://pandas.pydata.org/pandas-docs/stable/user_guide/advanced.html# for details\n",
    "tickers = cb.tickers(index=\"SP500\")\n",
    "data_items = [\"ROE\", \"StockholdersEquity\", \"MarketCapAtEndOfPeriod\"]\n",
    "data = cb.standardized(\n",
    "    company_identifiers=tickers, metrics=data_items, fiscal_year=2021, fiscal_period=0\n",
    ")\n",
    "data = data.unstack(\"metric\")[\"value\"]"
   ]
  },
  {
   "cell_type": "code",
   "execution_count": null,
   "metadata": {},
   "outputs": [],
   "source": [
    "lnPB = np.log(data.MarketCapAtEndOfPeriod / data.StockholdersEquity)\n",
    "\n",
    "# Now create masked arrays to identify all the missing / invalid data items\n",
    "lnPB_masked = np.ma.masked_array(lnPB, mask=np.isnan(lnPB))\n",
    "ROE_masked = np.ma.masked_array(data.ROE, mask=np.isnan(data.ROE))\n",
    "\n",
    "# Theil-Sen parameters are entered as (y,x), OLS parameters are entered as (x,y)\n",
    "# Regress y on x and x on y to compute a robust R squared\n",
    "robPB_ROE_fit = stats.theilslopes(lnPB_masked, ROE_masked)\n",
    "olsPB_ROE_fit = stats.linregress(ROE_masked, lnPB_masked)\n",
    "robROE_PB_fit = stats.theilslopes(ROE_masked, lnPB_masked)\n",
    "olsROE_PB_fit = stats.linregress(lnPB_masked, ROE_masked)\n",
    "\n",
    "robR2_PB_ROE = robPB_ROE_fit[0] * robROE_PB_fit[0]\n",
    "olsR2_PB_ROE = olsPB_ROE_fit[0] * olsROE_PB_fit[0]\n",
    "\n",
    "print(\"\\nln(P/B) vs. ROE: Robust R2=\", robR2_PB_ROE, \"OLS R2=\", olsR2_PB_ROE)\n",
    "print(robPB_ROE_fit)\n",
    "print(olsPB_ROE_fit)\n",
    "\n",
    "print(\"\\nROE vs. ln(P/B): Robust R2=\", robR2_PB_ROE, \"OLS R2=\", olsR2_PB_ROE)\n",
    "print(robROE_PB_fit)\n",
    "print(olsROE_PB_fit)\n",
    "\n",
    "fig = plt.figure()\n",
    "axes = fig.add_subplot(111)\n",
    "axes.set_xlim([-2, 3])\n",
    "axes.set_ylim([-2, 6])\n",
    "axes.plot(ROE_masked[0], lnPB_masked[0], \"b.\")\n",
    "axes.plot(ROE_masked[0], (robPB_ROE_fit[1] + robPB_ROE_fit[0] * ROE_masked)[0], \"g-\")\n",
    "axes.plot(ROE_masked[0], (olsPB_ROE_fit[1] + olsPB_ROE_fit[0] * ROE_masked)[0], \"r-\")\n",
    "plt.show()"
   ]
  },
  {
   "cell_type": "code",
   "execution_count": null,
   "metadata": {},
   "outputs": [],
   "source": []
  }
 ],
 "metadata": {
  "kernelspec": {
   "display_name": "Python 3 (ipykernel)",
   "language": "python",
   "name": "python3"
  },
  "language_info": {
   "codemirror_mode": {
    "name": "ipython",
    "version": 3
   },
   "file_extension": ".py",
   "mimetype": "text/x-python",
   "name": "python",
   "nbconvert_exporter": "python",
   "pygments_lexer": "ipython3",
   "version": "3.8.2"
  }
 },
 "nbformat": 4,
 "nbformat_minor": 4
}
