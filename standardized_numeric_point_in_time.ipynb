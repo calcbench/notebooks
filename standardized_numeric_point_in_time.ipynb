{
 "cells": [
  {
   "cell_type": "markdown",
   "metadata": {},
   "source": [
    "# Standardized Data With Timestamps Suitable For Backtesting"
   ]
  },
  {
   "cell_type": "markdown",
   "metadata": {},
   "source": [
    "### [Data Dictionary](https://www.calcbench.com/home/standardizedmetrics)\n",
    "### `date_reported` is the timestamp when Calcbench published the data and users would have had access ot it.\n",
    "### `revision_number` greater than 0 indicates that the filer reported a different value for this fact that was previously reported."
   ]
  },
  {
   "cell_type": "code",
   "execution_count": null,
   "metadata": {},
   "outputs": [],
   "source": [
    "import calcbench as cb\n",
    "import pandas as pd\n",
    "import datetime\n",
    "import os\n",
    "from tqdm import tqdm, tqdm_notebook\n",
    "import logging\n",
    "logging.getLogger('calcbench.api_client').setLevel(logging.DEBUG)\n",
    "cb.enable_backoff(giveup=lambda e: e.response.status_code == 404)"
   ]
  },
  {
   "cell_type": "code",
   "execution_count": null,
   "metadata": {},
   "outputs": [],
   "source": [
    "tickers = cb.tickers(index='DJIA')"
   ]
  },
  {
   "cell_type": "markdown",
   "metadata": {},
   "source": [
    "## Get Historic Data"
   ]
  },
  {
   "cell_type": "code",
   "execution_count": null,
   "metadata": {},
   "outputs": [],
   "source": [
    "output_file_name = r\"C:\\Users\\andre\\documents\\calcbench_pit_preliminary.csv\"\n",
    "include_preliminary = True # Include values from earnings press-releases and 8-Ks\n",
    "for index, ticker in enumerate(tqdm_notebook(tickers)):\n",
    "    try:\n",
    "        tqdm.write(f\"Getting {ticker}\")\n",
    "        pit_data = cb.point_in_time(all_face=True,\n",
    "                                    all_footnotes=False, \n",
    "                                    company_identifiers=[ticker], \n",
    "                                    all_history=True,\n",
    "                                    include_preliminary=include_preliminary,\n",
    "                                    include_xbrl=True)\n",
    "        if pit_data.empty:\n",
    "            continue\n",
    "    except KeyboardInterrupt:\n",
    "        raise\n",
    "    except Exception as e:\n",
    "        tqdm.write(f\"Exception getting {ticker} {e}\")\n",
    "    else:\n",
    "        first_write = index == 0\n",
    "        pit_data.to_csv(output_file_name, \n",
    "                        mode='w' if first_write else 'a', \n",
    "                        index=False, \n",
    "                        header=first_write)"
   ]
  },
  {
   "cell_type": "markdown",
   "metadata": {},
   "source": [
    "## New Filings Queue\n",
    "### Run the below code in a daemon\n",
    "\n",
    "The `handle_filing` function will get called every time a new filing is published.\n",
    "\n",
    "Calcbench pushes messages onto the queue when data is available, typically a few minutes after the SEC publishes the data.\n",
    "\n",
    "Messages will remain in the queue for seven days, if the listening process goes down you will receive the messages when it is started again.\n",
    "\n",
    "If the `handle_filing` function throws an error the message will be pushed back on the queue to re-try.\n"
   ]
  },
  {
   "cell_type": "code",
   "execution_count": null,
   "metadata": {},
   "outputs": [],
   "source": [
    "connection_string = \"Calcbench will give this to you\"\n",
    "subscription = \"Calcbench will give this to you\"\n",
    "\n",
    "def handle_filing(filing):\n",
    "    if filing[\"filing_type\"] != \"annualQuarterlyReport\":\n",
    "        return\n",
    "    accession_id = filing['calcbench_id']\n",
    "    filing_data = cb.point_in_time(accession_id=accession_id, all_face=True, all_footnotes=True)\n",
    "    file_name = f\"{filing['ticker']}_{filing['calcbench_finished_load'].date()}.csv\"\n",
    "    filing_data.reindex(columns=pit_columns).to_csv(file_name)\n",
    "    \n",
    "cb.handle_filings(handler=handle_filing, \n",
    "                  connection_string=connection_string,\n",
    "                  subscription_name=subscription)"
   ]
  },
  {
   "cell_type": "code",
   "execution_count": null,
   "metadata": {},
   "outputs": [],
   "source": [
    "cb.point_in_time(all_face=True, all_footnotes=True, update_date=datetime.date(2020, 5, 29))"
   ]
  },
  {
   "cell_type": "code",
   "execution_count": null,
   "metadata": {},
   "outputs": [],
   "source": []
  }
 ],
 "metadata": {
  "kernelspec": {
   "display_name": "Python 3",
   "language": "python",
   "name": "python3"
  },
  "language_info": {
   "codemirror_mode": {
    "name": "ipython",
    "version": 3
   },
   "file_extension": ".py",
   "mimetype": "text/x-python",
   "name": "python",
   "nbconvert_exporter": "python",
   "pygments_lexer": "ipython3",
   "version": "3.8.2"
  }
 },
 "nbformat": 4,
 "nbformat_minor": 2
}
