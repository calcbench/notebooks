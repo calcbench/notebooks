{
 "cells": [
  {
   "cell_type": "markdown",
   "metadata": {},
   "source": [
    "# Standardized Data With Timestamps Suitable For Backtesting"
   ]
  },
  {
   "cell_type": "markdown",
   "metadata": {},
   "source": [
    "### [Data Dictionary](https://www.calcbench.com/home/standardizedmetrics)\n",
    "### [Documentation](http://calcbench.github.io/python_api_client/html/numeric-data.html#point-in-time)"
   ]
  },
  {
   "cell_type": "code",
   "execution_count": null,
   "metadata": {},
   "outputs": [],
   "source": [
    "%pip install calcbench-api-client[Pandas,Backoff] tqdm"
   ]
  },
  {
   "cell_type": "code",
   "execution_count": 1,
   "metadata": {},
   "outputs": [],
   "source": [
    "from datetime import date\n",
    "\n",
    "from pathlib import Path\n",
    "from tqdm import tqdm\n",
    "import pandas as pd\n",
    "\n",
    "import calcbench as cb\n",
    "from calcbench.downloaders import iterate_and_save_pandas"
   ]
  },
  {
   "cell_type": "markdown",
   "metadata": {},
   "source": [
    "## Simple Example\n",
    "### Get face points only for three companies"
   ]
  },
  {
   "cell_type": "code",
   "execution_count": null,
   "metadata": {},
   "outputs": [],
   "source": [
    "data = pd.DataFrame()\n",
    "for ticker in tqdm([\"MSFT\", \"AMZN\", \"XOM\"]):\n",
    "    company_data = cb.standardized(company_identifiers=[ticker], point_in_time=True)\n",
    "    data = pd.concat([data, company_data])"
   ]
  },
  {
   "cell_type": "markdown",
   "metadata": {},
   "source": [
    "## Download and Save Historic Data For All Companies"
   ]
  },
  {
   "cell_type": "code",
   "execution_count": null,
   "metadata": {},
   "outputs": [],
   "source": [
    "tickers = cb.tickers(entire_universe=True)"
   ]
  },
  {
   "cell_type": "code",
   "execution_count": null,
   "metadata": {},
   "outputs": [],
   "source": [
    "face_output_file_name = Path.joinpath(Path.home(), \"cb_pit_data.csv\")\n",
    "\n",
    "iterate_and_save_pandas(\n",
    "    tickers,\n",
    "    lambda ticker: cb.standardized(company_identifiers=[ticker], point_in_time=True),\n",
    "    face_output_file_name,\n",
    ")"
   ]
  },
  {
   "cell_type": "markdown",
   "metadata": {},
   "source": [
    "## Push Notification of New Data\n",
    "### Example @ https://github.com/calcbench/notebooks/tree/master/filing_listener"
   ]
  },
  {
   "cell_type": "markdown",
   "metadata": {},
   "source": [
    "## Get All Data for One Day"
   ]
  },
  {
   "cell_type": "code",
   "execution_count": null,
   "metadata": {},
   "outputs": [],
   "source": [
    "face_output_file_name = Path.joinpath(Path.home(), f\"{date.today()}_data.csv\")\n",
    "filing_ids = [\n",
    "    f.filing_id\n",
    "    for f in cb.filings(received_date=date.today())\n",
    "    if f.has_standardized_data\n",
    "]\n",
    "iterate_and_save_pandas(\n",
    "    filing_ids,\n",
    "    lambda filing_id: cb.standardized(filing_id=filing_id, point_in_time=True),\n",
    "    face_output_file_name,\n",
    ")"
   ]
  }
 ],
 "metadata": {
  "kernelspec": {
   "display_name": "Python 3 (ipykernel)",
   "language": "python",
   "name": "python3"
  },
  "language_info": {
   "codemirror_mode": {
    "name": "ipython",
    "version": 3
   },
   "file_extension": ".py",
   "mimetype": "text/x-python",
   "name": "python",
   "nbconvert_exporter": "python",
   "pygments_lexer": "ipython3",
   "version": "3.8.2"
  }
 },
 "nbformat": 4,
 "nbformat_minor": 2
}
