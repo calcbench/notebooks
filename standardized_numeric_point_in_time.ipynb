{
 "cells": [
  {
   "cell_type": "markdown",
   "metadata": {},
   "source": [
    "# Standardized Data With Timestamps Suitable For Backtesting"
   ]
  },
  {
   "cell_type": "markdown",
   "metadata": {},
   "source": [
    "### [Data Dictionary](https://www.calcbench.com/home/standardizedmetrics)\n",
    "### [Documentation](http://calcbench.github.io/python_api_client/html/numeric-data.html#point-in-time)"
   ]
  },
  {
   "cell_type": "code",
   "execution_count": null,
   "metadata": {},
   "outputs": [],
   "source": [
    "%pip install calcbench-api-client[Pandas,Backoff] tqdm"
   ]
  },
  {
   "cell_type": "code",
   "execution_count": null,
   "metadata": {},
   "outputs": [],
   "source": [
    "import calcbench as cb\n",
    "from calcbench.downloaders import iterate_and_save_pandas"
   ]
  },
  {
   "cell_type": "markdown",
   "metadata": {},
   "source": [
    "## Simple Example\n",
    "### Get face points only for three companies"
   ]
  },
  {
   "cell_type": "code",
   "execution_count": null,
   "metadata": {},
   "outputs": [],
   "source": [
    "data = pd.DataFrame()\n",
    "for ticker in [\"MSFT\", \"AMZN\", \"XOM\"]:\n",
    "    company_data = cb.point_in_time(\n",
    "        all_face=True,\n",
    "        company_identifiers=[ticker],\n",
    "        all_history=True,\n",
    "        include_preliminary=True,\n",
    "        include_trace=True,\n",
    "    )\n",
    "    data = data.append(company_data)"
   ]
  },
  {
   "cell_type": "markdown",
   "metadata": {},
   "source": [
    "## Download and Save Historic Data For All Companies"
   ]
  },
  {
   "cell_type": "code",
   "execution_count": null,
   "metadata": {},
   "outputs": [],
   "source": [
    "tickers = cb.tickers(entire_universe=True)"
   ]
  },
  {
   "cell_type": "code",
   "execution_count": null,
   "metadata": {},
   "outputs": [],
   "source": [
    "face_output_file_name = Path.joinpath(Path.home(), \"face_data.csv\")\n",
    "\n",
    "iterate_and_save_pandas(\n",
    "    tickers,\n",
    "    lambda ticker: cb.point_in_time(\n",
    "        all_face=True,\n",
    "        all_footnotes=False,\n",
    "        company_identifiers=[ticker],\n",
    "        all_history=True,\n",
    "        include_preliminary=True,\n",
    "        include_xbrl=True,\n",
    "    ),\n",
    "    face_output_file_name,\n",
    ")\n",
    "\n",
    "footnote_file_name = Path.joinpath(Path.home(), \"footnote_data.csv\")\n",
    "\n",
    "iterate_and_save_pandas(\n",
    "    tickers,\n",
    "    lambda ticker: cb.point_in_time(\n",
    "        all_face=False,\n",
    "        all_footnotes=True,\n",
    "        company_identifiers=[ticker],\n",
    "        all_history=True,\n",
    "        include_preliminary=False,\n",
    "        include_xbrl=True,\n",
    "    ),\n",
    "    footnote_file_name,\n",
    ")"
   ]
  },
  {
   "cell_type": "markdown",
   "metadata": {},
   "source": [
    "## Push Notification of New Data\n",
    "### Example @ https://github.com/calcbench/notebooks/tree/master/filing_listener\n",
    "\n"
   ]
  }
 ],
 "metadata": {
  "kernelspec": {
   "display_name": "Python 3 (ipykernel)",
   "language": "python",
   "name": "python3"
  },
  "language_info": {
   "codemirror_mode": {
    "name": "ipython",
    "version": 3
   },
   "file_extension": ".py",
   "mimetype": "text/x-python",
   "name": "python",
   "nbconvert_exporter": "python",
   "pygments_lexer": "ipython3",
   "version": "3.8.2"
  }
 },
 "nbformat": 4,
 "nbformat_minor": 2
}
