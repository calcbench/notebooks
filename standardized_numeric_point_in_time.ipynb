{
 "cells": [
  {
   "cell_type": "markdown",
   "metadata": {},
   "source": [
    "# Standardized Data With Timestamps Suitable For Backtesting"
   ]
  },
  {
   "cell_type": "markdown",
   "metadata": {},
   "source": [
    "### [Data Dictionary](https://www.calcbench.com/home/standardizedmetrics)\n",
    "### `date_reported` is the timestamp when Calcbench published the data and users would have had access ot it.\n",
    "### `revision_number` greater than 0 indicates that the filer reported a different value for this fact that was previously reported."
   ]
  },
  {
   "cell_type": "code",
   "execution_count": null,
   "metadata": {},
   "outputs": [],
   "source": [
    "import calcbench as cb\n",
    "import pandas as pd\n",
    "import datetime\n",
    "import os\n",
    "from tqdm import tqdm, tqdm_notebook\n",
    "pit_columns = ['CIK', 'calendar_period', 'calendar_year', 'date_reported', 'period_start', 'period_end',\n",
    "               'fiscal_period', 'fiscal_year', 'metric', 'revision_number','ticker', 'value']"
   ]
  },
  {
   "cell_type": "code",
   "execution_count": null,
   "metadata": {},
   "outputs": [],
   "source": [
    "tickers = cb.companies(entire_universe=True).ticker"
   ]
  },
  {
   "cell_type": "markdown",
   "metadata": {},
   "source": [
    "## Get Historic Data\n",
    "### Takes ~12 hours"
   ]
  },
  {
   "cell_type": "code",
   "execution_count": null,
   "metadata": {},
   "outputs": [],
   "source": [
    "output_file_name = r\"C:/Users/Andrew Kittredge/documents/calcbench_data.csv\"\n",
    "try:\n",
    "    os.remove(output_file_name)\n",
    "except OSError:\n",
    "    pass\n",
    "for ticker in tqdm_notebook(tickers):\n",
    "    try:\n",
    "        pit_data = cb.point_in_time(all_face=True, all_footnotes=True, company_identifiers=[ticker], all_history=True)\n",
    "    except KeyboardInterrupt:\n",
    "        raise\n",
    "    except Exception as e:\n",
    "        tqdm.write(f\"Exception getting {ticker} {e}\")\n",
    "    else:\n",
    "        if not pit_data.empty:\n",
    "            with open(output_file_name, 'a') as f:\n",
    "                pit_data.reindex(columns=pit_columns).to_csv(f, header=not f.tell())\n"
   ]
  },
  {
   "cell_type": "markdown",
   "metadata": {},
   "source": [
    "## Updates for New Filings\n",
    "Run the below code in a daemon.\n",
    "\n",
    "Calcbench pushes messages onto the queue when data is available, typically a few minutes after the SEC publishes the data.\n",
    "\n",
    "Messages will remain in the queue for seven days, if you process goes down you will receive the messages when it is started again.\n",
    "\n",
    "If the handle_filing function throws an error the message will be pushed back on the queue to re-try.\n"
   ]
  },
  {
   "cell_type": "code",
   "execution_count": null,
   "metadata": {},
   "outputs": [],
   "source": [
    "connection_string = \"Calcbench will give this to you\"\n",
    "subscription = \"Calcbench will give this to you\"\n",
    "\n",
    "def handle_filing(filing):\n",
    "    if filing[\"filing_type\"] != \"annualQuarterlyReport\":\n",
    "        return\n",
    "    accession_id = filing['calcbench_id']\n",
    "    filing_data = cb.point_in_time(accession_id=accession_id, all_face=True, all_footnotes=True)\n",
    "    file_name = f\"{filing['ticker']}_{filing['calcbench_finished_load'].date()}.csv\"\n",
    "    filing_data.reindex(columns=pit_columns).to_csv(file_name)\n",
    "    \n",
    "cb.handle_filings(handler=handle_filing, \n",
    "                  connection_string=connection_string,\n",
    "                  subscription_name=subscription)"
   ]
  },
  {
   "cell_type": "code",
   "execution_count": null,
   "metadata": {},
   "outputs": [],
   "source": []
  }
 ],
 "metadata": {
  "kernelspec": {
   "display_name": "Python 3",
   "language": "python",
   "name": "python3"
  },
  "language_info": {
   "codemirror_mode": {
    "name": "ipython",
    "version": 3
   },
   "file_extension": ".py",
   "mimetype": "text/x-python",
   "name": "python",
   "nbconvert_exporter": "python",
   "pygments_lexer": "ipython3",
   "version": "3.7.3"
  }
 },
 "nbformat": 4,
 "nbformat_minor": 1
}
