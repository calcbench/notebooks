{
 "cells": [
  {
   "cell_type": "markdown",
   "metadata": {},
   "source": [
    "# Standardized Data With Timestamps Suitable For Backtesting"
   ]
  },
  {
   "cell_type": "markdown",
   "metadata": {},
   "source": [
    "### [Data Dictionary](https://www.calcbench.com/home/standardizedmetrics)\n",
    "### [Documentation](http://calcbench.github.io/python_api_client/html/numeric-data.html#point-in-time)"
   ]
  },
  {
   "cell_type": "code",
   "execution_count": null,
   "metadata": {},
   "outputs": [],
   "source": [
    "%pip install calcbench-api-client[Pandas,Backoff] tqdm"
   ]
  },
  {
   "cell_type": "code",
   "execution_count": null,
   "metadata": {},
   "outputs": [],
   "source": [
    "from datetime import date, timedelta\n",
    "\n",
    "from pathlib import Path\n",
    "from tqdm import tqdm\n",
    "import pandas as pd\n",
    "\n",
    "import calcbench as cb\n",
    "from calcbench.downloaders import iterate_and_save_pandas"
   ]
  },
  {
   "cell_type": "markdown",
   "metadata": {},
   "source": [
    "## Simple Example\n",
    "### Get all points only for three companies"
   ]
  },
  {
   "cell_type": "code",
   "execution_count": null,
   "metadata": {},
   "outputs": [],
   "source": [
    "data = cb.standardized(company_identifiers=[\"MSFT\", \"AMZN\", \"XOM\"], point_in_time=True)"
   ]
  },
  {
   "cell_type": "markdown",
   "metadata": {},
   "source": [
    "## Download and Save Historic Data For All Companies"
   ]
  },
  {
   "cell_type": "code",
   "execution_count": null,
   "metadata": {},
   "outputs": [],
   "source": [
    "# See the column definitions @ http://calcbench.github.io/python_api_client/html/numeric-data.html#standardized\n",
    "# Numbering and order of columns is subject to change.\n",
    "columns = [\n",
    "    \"ticker\",\n",
    "    \"metric\",\n",
    "    \"fiscal_period\",\n",
    "    \"date_reported\",\n",
    "    \"value\",\n",
    "    \"revision_number\",\n",
    "    \"preliminary\",\n",
    "    \"XBRL\",\n",
    "    \"filing_type\",\n",
    "    \"CIK\",\n",
    "    \"calcbench_entity_id\",\n",
    "    \"period_start\",\n",
    "    \"period_end\",\n",
    "    \"calendar_year\",\n",
    "    \"calendar_period\",\n",
    "    \"filing_accession_number\",\n",
    "    \"trace_url\",\n",
    "    \"original_value\",\n",
    "    \"filing_id\",\n",
    "    \"date_modified\",\n",
    "    \"standardized_id\",\n",
    "    \"date_downloaded\",\n",
    "]"
   ]
  },
  {
   "cell_type": "code",
   "execution_count": null,
   "metadata": {},
   "outputs": [],
   "source": [
    "tickers = cb.tickers(entire_universe=True)\n",
    "tickers=['msft', 'orcl']"
   ]
  },
  {
   "cell_type": "code",
   "execution_count": null,
   "metadata": {},
   "outputs": [],
   "source": [
    "face_output_file_name = Path.joinpath(Path.home(), \"cb_pit_data.csv\")\n",
    "\n",
    "iterate_and_save_pandas(\n",
    "    tickers,\n",
    "    lambda ticker: cb.standardized(company_identifiers=[ticker], point_in_time=True),\n",
    "    face_output_file_name,\n",
    "    columns,\n",
    ")"
   ]
  },
  {
   "cell_type": "markdown",
   "metadata": {},
   "source": [
    "## Push Notification of New Data\n",
    "### Example @ https://github.com/calcbench/notebooks/tree/master/filing_listener"
   ]
  },
  {
   "cell_type": "markdown",
   "metadata": {},
   "source": [
    "## Get All Data for One Day (Yesterday)"
   ]
  },
  {
   "cell_type": "code",
   "execution_count": null,
   "metadata": {},
   "outputs": [],
   "source": [
    "date_to_get = date.today() - timedelta(days=1)\n",
    "face_output_file_name = Path.joinpath(Path.home(), f\"{date_to_get}_data.csv\")\n",
    "d = cb.standardized(\n",
    "    start_date=date_to_get,\n",
    "    end_date=date.today(),\n",
    "    point_in_time=True,\n",
    ")\n",
    "d.reset_index()[columns].to_csv(face_output_file_name)"
   ]
  },
  {
   "cell_type": "code",
   "execution_count": null,
   "metadata": {},
   "outputs": [],
   "source": []
  }
 ],
 "metadata": {
  "kernelspec": {
   "display_name": "Python 3 (ipykernel)",
   "language": "python",
   "name": "python3"
  },
  "language_info": {
   "codemirror_mode": {
    "name": "ipython",
    "version": 3
   },
   "file_extension": ".py",
   "mimetype": "text/x-python",
   "name": "python",
   "nbconvert_exporter": "python",
   "pygments_lexer": "ipython3",
   "version": "3.8.2"
  }
 },
 "nbformat": 4,
 "nbformat_minor": 2
}
