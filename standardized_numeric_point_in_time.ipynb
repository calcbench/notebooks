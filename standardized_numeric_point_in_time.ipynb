{
 "cells": [
  {
   "cell_type": "markdown",
   "metadata": {},
   "source": [
    "# Standardized Data With Timestamps Suitable For Backtesting"
   ]
  },
  {
   "cell_type": "markdown",
   "metadata": {},
   "source": [
    "### [Data Dictionary](https://www.calcbench.com/home/standardizedmetrics)\n",
    "### [Documentation](http://calcbench.github.io/python_api_client/html/numeric-data.html#point-in-time)"
   ]
  },
  {
   "cell_type": "code",
   "execution_count": null,
   "metadata": {},
   "outputs": [],
   "source": [
    "%pip install calcbench-api-client[Pandas,Backoff] tqdm"
   ]
  },
  {
   "cell_type": "code",
   "execution_count": 11,
   "metadata": {},
   "outputs": [],
   "source": [
    "from pathlib import Path\n",
    "from tqdm import tqdm\n",
    "import pandas as pd\n",
    "\n",
    "import calcbench as cb\n",
    "from calcbench.downloaders import iterate_and_save_pandas"
   ]
  },
  {
   "cell_type": "markdown",
   "metadata": {},
   "source": [
    "## Simple Example\n",
    "### Get face points only for three companies"
   ]
  },
  {
   "cell_type": "code",
   "execution_count": 13,
   "metadata": {},
   "outputs": [
    {
     "name": "stderr",
     "output_type": "stream",
     "text": [
      "100%|████████████████████████████████████████████████████████████████████████████████████| 3/3 [00:25<00:00,  8.53s/it]\n"
     ]
    }
   ],
   "source": [
    "data = pd.DataFrame()\n",
    "for ticker in tqdm([\"MSFT\", \"AMZN\", \"XOM\"]):\n",
    "    face_data = cb.point_in_time(\n",
    "        all_face=True,\n",
    "        company_identifiers=[ticker],\n",
    "        all_history=True,\n",
    "        include_preliminary=True,\n",
    "        include_trace=True,\n",
    "    )\n",
    "\n",
    "    footnote_data = cb.point_in_time(\n",
    "        all_footnotes=True,\n",
    "        company_identifiers=[ticker],\n",
    "        all_history=True,\n",
    "        include_trace=True\n",
    "    )\n",
    "    data = pd.concat([data, face_data, footnote_data])\n",
    "data.to_csv('pit_sample.csv')"
   ]
  },
  {
   "cell_type": "code",
   "execution_count": null,
   "metadata": {},
   "outputs": [],
   "source": [
    "pd"
   ]
  },
  {
   "cell_type": "code",
   "execution_count": 9,
   "metadata": {},
   "outputs": [
    {
     "name": "stderr",
     "output_type": "stream",
     "text": [
      "Exception https://www.calcbench.com/api/mappedData, {'pageParameters': {'metrics': [], 'includeTrace': True, 'pointInTime': True, 'includePreliminary': True, 'allFootnotes': True, 'allface': True, 'includeXBRL': True}, 'periodParameters': {'year': None, 'period': None, 'endYear': None, 'endPeriod': None, 'allHistory': True, 'updateDate': None, 'periodType': None, 'useFiscalPeriod': False, 'accessionID': None, 'filingID': None}, 'companiesParameters': {'entireUniverse': False, 'companyIdentifiers': ['XOM']}}\n",
      "Traceback (most recent call last):\n",
      "  File \"C:\\Users\\andre\\repos\\python_api_client\\calcbench\\api_client.py\", line 245, in _json_POST\n",
      "    response.raise_for_status()\n",
      "  File \"c:\\users\\andre\\appdata\\local\\programs\\python\\python38\\lib\\site-packages\\requests\\models.py\", line 953, in raise_for_status\n",
      "    raise HTTPError(http_error_msg, response=self)\n",
      "requests.exceptions.HTTPError: 404 Client Error: Preliminary not available for footnotes for url: https://www.calcbench.com/api/mappedData\n",
      "Exception https://www.calcbench.com/api/mappedData, {'pageParameters': {'metrics': [], 'includeTrace': True, 'pointInTime': True, 'includePreliminary': True, 'allFootnotes': True, 'allface': True, 'includeXBRL': True}, 'periodParameters': {'year': None, 'period': None, 'endYear': None, 'endPeriod': None, 'allHistory': True, 'updateDate': None, 'periodType': None, 'useFiscalPeriod': False, 'accessionID': None, 'filingID': None}, 'companiesParameters': {'entireUniverse': False, 'companyIdentifiers': ['XOM']}}\n",
      "Traceback (most recent call last):\n",
      "  File \"C:\\Users\\andre\\repos\\python_api_client\\calcbench\\api_client.py\", line 245, in _json_POST\n",
      "    response.raise_for_status()\n",
      "  File \"c:\\users\\andre\\appdata\\local\\programs\\python\\python38\\lib\\site-packages\\requests\\models.py\", line 953, in raise_for_status\n",
      "    raise HTTPError(http_error_msg, response=self)\n",
      "requests.exceptions.HTTPError: 404 Client Error: Preliminary not available for footnotes for url: https://www.calcbench.com/api/mappedData\n",
      "Exception https://www.calcbench.com/api/mappedData, {'pageParameters': {'metrics': [], 'includeTrace': True, 'pointInTime': True, 'includePreliminary': True, 'allFootnotes': True, 'allface': True, 'includeXBRL': True}, 'periodParameters': {'year': None, 'period': None, 'endYear': None, 'endPeriod': None, 'allHistory': True, 'updateDate': None, 'periodType': None, 'useFiscalPeriod': False, 'accessionID': None, 'filingID': None}, 'companiesParameters': {'entireUniverse': False, 'companyIdentifiers': ['XOM']}}\n",
      "Traceback (most recent call last):\n",
      "  File \"C:\\Users\\andre\\repos\\python_api_client\\calcbench\\api_client.py\", line 245, in _json_POST\n",
      "    response.raise_for_status()\n",
      "  File \"c:\\users\\andre\\appdata\\local\\programs\\python\\python38\\lib\\site-packages\\requests\\models.py\", line 953, in raise_for_status\n",
      "    raise HTTPError(http_error_msg, response=self)\n",
      "requests.exceptions.HTTPError: 404 Client Error: Preliminary not available for footnotes for url: https://www.calcbench.com/api/mappedData\n",
      "Exception https://www.calcbench.com/api/mappedData, {'pageParameters': {'metrics': [], 'includeTrace': True, 'pointInTime': True, 'includePreliminary': True, 'allFootnotes': True, 'allface': True, 'includeXBRL': True}, 'periodParameters': {'year': None, 'period': None, 'endYear': None, 'endPeriod': None, 'allHistory': True, 'updateDate': None, 'periodType': None, 'useFiscalPeriod': False, 'accessionID': None, 'filingID': None}, 'companiesParameters': {'entireUniverse': False, 'companyIdentifiers': ['XOM']}}\n",
      "Traceback (most recent call last):\n",
      "  File \"C:\\Users\\andre\\repos\\python_api_client\\calcbench\\api_client.py\", line 245, in _json_POST\n",
      "    response.raise_for_status()\n",
      "  File \"c:\\users\\andre\\appdata\\local\\programs\\python\\python38\\lib\\site-packages\\requests\\models.py\", line 953, in raise_for_status\n",
      "    raise HTTPError(http_error_msg, response=self)\n",
      "requests.exceptions.HTTPError: 404 Client Error: Preliminary not available for footnotes for url: https://www.calcbench.com/api/mappedData\n"
     ]
    },
    {
     "ename": "KeyboardInterrupt",
     "evalue": "",
     "output_type": "error",
     "traceback": [
      "\u001b[1;31m---------------------------------------------------------------------------\u001b[0m",
      "\u001b[1;31mHTTPError\u001b[0m                                 Traceback (most recent call last)",
      "File \u001b[1;32mc:\\users\\andre\\appdata\\local\\programs\\python\\python38\\lib\\site-packages\\backoff\\_sync.py:94\u001b[0m, in \u001b[0;36mretry_exception.<locals>.retry\u001b[1;34m(*args, **kwargs)\u001b[0m\n\u001b[0;32m     93\u001b[0m \u001b[38;5;28;01mtry\u001b[39;00m:\n\u001b[1;32m---> 94\u001b[0m     ret \u001b[38;5;241m=\u001b[39m \u001b[43mtarget\u001b[49m\u001b[43m(\u001b[49m\u001b[38;5;241;43m*\u001b[39;49m\u001b[43margs\u001b[49m\u001b[43m,\u001b[49m\u001b[43m \u001b[49m\u001b[38;5;241;43m*\u001b[39;49m\u001b[38;5;241;43m*\u001b[39;49m\u001b[43mkwargs\u001b[49m\u001b[43m)\u001b[49m\n\u001b[0;32m     95\u001b[0m \u001b[38;5;28;01mexcept\u001b[39;00m exception \u001b[38;5;28;01mas\u001b[39;00m e:\n",
      "File \u001b[1;32m~\\repos\\python_api_client\\calcbench\\api_client.py:248\u001b[0m, in \u001b[0;36m_json_POST\u001b[1;34m(end_point, payload)\u001b[0m\n\u001b[0;32m    247\u001b[0m     logger\u001b[38;5;241m.\u001b[39mexception(\u001b[38;5;124m\"\u001b[39m\u001b[38;5;124mException \u001b[39m\u001b[38;5;132;01m{0}\u001b[39;00m\u001b[38;5;124m, \u001b[39m\u001b[38;5;132;01m{1}\u001b[39;00m\u001b[38;5;124m\"\u001b[39m\u001b[38;5;241m.\u001b[39mformat(url, payload))\n\u001b[1;32m--> 248\u001b[0m     \u001b[38;5;28;01mraise\u001b[39;00m e\n\u001b[0;32m    249\u001b[0m response_data \u001b[38;5;241m=\u001b[39m response\u001b[38;5;241m.\u001b[39mjson()\n",
      "File \u001b[1;32m~\\repos\\python_api_client\\calcbench\\api_client.py:245\u001b[0m, in \u001b[0;36m_json_POST\u001b[1;34m(end_point, payload)\u001b[0m\n\u001b[0;32m    244\u001b[0m \u001b[38;5;28;01mtry\u001b[39;00m:\n\u001b[1;32m--> 245\u001b[0m     \u001b[43mresponse\u001b[49m\u001b[38;5;241;43m.\u001b[39;49m\u001b[43mraise_for_status\u001b[49m\u001b[43m(\u001b[49m\u001b[43m)\u001b[49m\n\u001b[0;32m    246\u001b[0m \u001b[38;5;28;01mexcept\u001b[39;00m requests\u001b[38;5;241m.\u001b[39mexceptions\u001b[38;5;241m.\u001b[39mHTTPError \u001b[38;5;28;01mas\u001b[39;00m e:\n",
      "File \u001b[1;32mc:\\users\\andre\\appdata\\local\\programs\\python\\python38\\lib\\site-packages\\requests\\models.py:953\u001b[0m, in \u001b[0;36mResponse.raise_for_status\u001b[1;34m(self)\u001b[0m\n\u001b[0;32m    952\u001b[0m \u001b[38;5;28;01mif\u001b[39;00m http_error_msg:\n\u001b[1;32m--> 953\u001b[0m     \u001b[38;5;28;01mraise\u001b[39;00m HTTPError(http_error_msg, response\u001b[38;5;241m=\u001b[39m\u001b[38;5;28mself\u001b[39m)\n",
      "\u001b[1;31mHTTPError\u001b[0m: 404 Client Error: Preliminary not available for footnotes for url: https://www.calcbench.com/api/mappedData",
      "\nDuring handling of the above exception, another exception occurred:\n",
      "\u001b[1;31mKeyboardInterrupt\u001b[0m                         Traceback (most recent call last)",
      "Input \u001b[1;32mIn [9]\u001b[0m, in \u001b[0;36m<module>\u001b[1;34m\u001b[0m\n\u001b[1;32m----> 1\u001b[0m \u001b[43mcb\u001b[49m\u001b[38;5;241;43m.\u001b[39;49m\u001b[43mpoint_in_time\u001b[49m\u001b[43m(\u001b[49m\n\u001b[0;32m      2\u001b[0m \u001b[43m        \u001b[49m\u001b[43mall_face\u001b[49m\u001b[38;5;241;43m=\u001b[39;49m\u001b[38;5;28;43;01mTrue\u001b[39;49;00m\u001b[43m,\u001b[49m\n\u001b[0;32m      3\u001b[0m \u001b[43m        \u001b[49m\u001b[43mall_footnotes\u001b[49m\u001b[38;5;241;43m=\u001b[39;49m\u001b[38;5;28;43;01mTrue\u001b[39;49;00m\u001b[43m,\u001b[49m\n\u001b[0;32m      4\u001b[0m \u001b[43m        \u001b[49m\u001b[43mcompany_identifiers\u001b[49m\u001b[38;5;241;43m=\u001b[39;49m\u001b[43m[\u001b[49m\u001b[43mticker\u001b[49m\u001b[43m]\u001b[49m\u001b[43m,\u001b[49m\n\u001b[0;32m      5\u001b[0m \u001b[43m        \u001b[49m\u001b[43mall_history\u001b[49m\u001b[38;5;241;43m=\u001b[39;49m\u001b[38;5;28;43;01mTrue\u001b[39;49;00m\u001b[43m,\u001b[49m\n\u001b[0;32m      6\u001b[0m \u001b[43m        \u001b[49m\u001b[43minclude_preliminary\u001b[49m\u001b[38;5;241;43m=\u001b[39;49m\u001b[38;5;28;43;01mTrue\u001b[39;49;00m\u001b[43m,\u001b[49m\n\u001b[0;32m      7\u001b[0m \u001b[43m        \u001b[49m\u001b[43minclude_trace\u001b[49m\u001b[38;5;241;43m=\u001b[39;49m\u001b[38;5;28;43;01mTrue\u001b[39;49;00m\u001b[43m,\u001b[49m\n\u001b[0;32m      8\u001b[0m \u001b[43m    \u001b[49m\u001b[43m)\u001b[49m\n",
      "File \u001b[1;32m~\\repos\\python_api_client\\calcbench\\standardized_numeric.py:351\u001b[0m, in \u001b[0;36mpoint_in_time\u001b[1;34m(company_identifiers, all_footnotes, metrics, all_history, entire_universe, start_year, start_period, end_year, end_period, period_type, use_fiscal_period, include_preliminary, all_face, include_xbrl, accession_id, include_trace, set_index, _point_in_time_mode, filing_id)\u001b[0m\n\u001b[0;32m    255\u001b[0m \u001b[38;5;28;01mdef\u001b[39;00m \u001b[38;5;21mpoint_in_time\u001b[39m(\n\u001b[0;32m    256\u001b[0m     company_identifiers: CompanyIdentifiers \u001b[38;5;241m=\u001b[39m [],\n\u001b[0;32m    257\u001b[0m     all_footnotes: \u001b[38;5;28mbool\u001b[39m \u001b[38;5;241m=\u001b[39m \u001b[38;5;28;01mFalse\u001b[39;00m,\n\u001b[1;32m   (...)\u001b[0m\n\u001b[0;32m    274\u001b[0m     filing_id: Optional[\u001b[38;5;28mint\u001b[39m] \u001b[38;5;241m=\u001b[39m \u001b[38;5;28;01mNone\u001b[39;00m,\n\u001b[0;32m    275\u001b[0m ) \u001b[38;5;241m-\u001b[39m\u001b[38;5;241m>\u001b[39m \u001b[38;5;124m\"\u001b[39m\u001b[38;5;124mpd.DataFrame\u001b[39m\u001b[38;5;124m\"\u001b[39m:\n\u001b[0;32m    276\u001b[0m     \u001b[38;5;124;03m\"\"\"Point-in-Time Data\u001b[39;00m\n\u001b[0;32m    277\u001b[0m \n\u001b[0;32m    278\u001b[0m \u001b[38;5;124;03m    Standardized data with a timestamp when it was published by Calcbench.\u001b[39;00m\n\u001b[1;32m   (...)\u001b[0m\n\u001b[0;32m    348\u001b[0m \n\u001b[0;32m    349\u001b[0m \u001b[38;5;124;03m    \"\"\"\u001b[39;00m\n\u001b[1;32m--> 351\u001b[0m     data \u001b[38;5;241m=\u001b[39m \u001b[43mstandardized_raw\u001b[49m\u001b[43m(\u001b[49m\n\u001b[0;32m    352\u001b[0m \u001b[43m        \u001b[49m\u001b[43mcompany_identifiers\u001b[49m\u001b[38;5;241;43m=\u001b[39;49m\u001b[43mcompany_identifiers\u001b[49m\u001b[43m,\u001b[49m\n\u001b[0;32m    353\u001b[0m \u001b[43m        \u001b[49m\u001b[43mall_face\u001b[49m\u001b[38;5;241;43m=\u001b[39;49m\u001b[43mall_face\u001b[49m\u001b[43m,\u001b[49m\n\u001b[0;32m    354\u001b[0m \u001b[43m        \u001b[49m\u001b[43mall_footnotes\u001b[49m\u001b[38;5;241;43m=\u001b[39;49m\u001b[43mall_footnotes\u001b[49m\u001b[43m,\u001b[49m\n\u001b[0;32m    355\u001b[0m \u001b[43m        \u001b[49m\u001b[43mpoint_in_time\u001b[49m\u001b[38;5;241;43m=\u001b[39;49m\u001b[43m_point_in_time_mode\u001b[49m\u001b[43m,\u001b[49m\n\u001b[0;32m    356\u001b[0m \u001b[43m        \u001b[49m\u001b[43mmetrics\u001b[49m\u001b[38;5;241;43m=\u001b[39;49m\u001b[43mmetrics\u001b[49m\u001b[43m,\u001b[49m\n\u001b[0;32m    357\u001b[0m \u001b[43m        \u001b[49m\u001b[43mall_history\u001b[49m\u001b[38;5;241;43m=\u001b[39;49m\u001b[43mall_history\u001b[49m\u001b[43m,\u001b[49m\n\u001b[0;32m    358\u001b[0m \u001b[43m        \u001b[49m\u001b[43mentire_universe\u001b[49m\u001b[38;5;241;43m=\u001b[39;49m\u001b[43mentire_universe\u001b[49m\u001b[43m,\u001b[49m\n\u001b[0;32m    359\u001b[0m \u001b[43m        \u001b[49m\u001b[43mstart_year\u001b[49m\u001b[38;5;241;43m=\u001b[39;49m\u001b[43mstart_year\u001b[49m\u001b[43m,\u001b[49m\n\u001b[0;32m    360\u001b[0m \u001b[43m        \u001b[49m\u001b[43mstart_period\u001b[49m\u001b[38;5;241;43m=\u001b[39;49m\u001b[43mstart_period\u001b[49m\u001b[43m,\u001b[49m\n\u001b[0;32m    361\u001b[0m \u001b[43m        \u001b[49m\u001b[43mend_year\u001b[49m\u001b[38;5;241;43m=\u001b[39;49m\u001b[43mend_year\u001b[49m\u001b[43m,\u001b[49m\n\u001b[0;32m    362\u001b[0m \u001b[43m        \u001b[49m\u001b[43mend_period\u001b[49m\u001b[38;5;241;43m=\u001b[39;49m\u001b[43mend_period\u001b[49m\u001b[43m,\u001b[49m\n\u001b[0;32m    363\u001b[0m \u001b[43m        \u001b[49m\u001b[43mperiod_type\u001b[49m\u001b[38;5;241;43m=\u001b[39;49m\u001b[43mperiod_type\u001b[49m\u001b[43m,\u001b[49m\n\u001b[0;32m    364\u001b[0m \u001b[43m        \u001b[49m\u001b[43muse_fiscal_period\u001b[49m\u001b[38;5;241;43m=\u001b[39;49m\u001b[43muse_fiscal_period\u001b[49m\u001b[43m,\u001b[49m\n\u001b[0;32m    365\u001b[0m \u001b[43m        \u001b[49m\u001b[43minclude_preliminary\u001b[49m\u001b[38;5;241;43m=\u001b[39;49m\u001b[43minclude_preliminary\u001b[49m\u001b[43m,\u001b[49m\n\u001b[0;32m    366\u001b[0m \u001b[43m        \u001b[49m\u001b[43maccession_id\u001b[49m\u001b[38;5;241;43m=\u001b[39;49m\u001b[43maccession_id\u001b[49m\u001b[43m,\u001b[49m\n\u001b[0;32m    367\u001b[0m \u001b[43m        \u001b[49m\u001b[43minclude_trace\u001b[49m\u001b[38;5;241;43m=\u001b[39;49m\u001b[43minclude_trace\u001b[49m\u001b[43m,\u001b[49m\n\u001b[0;32m    368\u001b[0m \u001b[43m        \u001b[49m\u001b[43minclude_xbrl\u001b[49m\u001b[38;5;241;43m=\u001b[39;49m\u001b[43minclude_xbrl\u001b[49m\u001b[43m,\u001b[49m\n\u001b[0;32m    369\u001b[0m \u001b[43m        \u001b[49m\u001b[43mfiling_id\u001b[49m\u001b[38;5;241;43m=\u001b[39;49m\u001b[43mfiling_id\u001b[49m\u001b[43m,\u001b[49m\n\u001b[0;32m    370\u001b[0m \u001b[43m    \u001b[49m\u001b[43m)\u001b[49m\n\u001b[0;32m    372\u001b[0m     \u001b[38;5;28;01mif\u001b[39;00m \u001b[38;5;129;01mnot\u001b[39;00m data:\n\u001b[0;32m    373\u001b[0m         \u001b[38;5;28;01mreturn\u001b[39;00m pd\u001b[38;5;241m.\u001b[39mDataFrame()\n",
      "File \u001b[1;32m~\\repos\\python_api_client\\calcbench\\standardized_numeric.py:252\u001b[0m, in \u001b[0;36mstandardized_raw\u001b[1;34m(company_identifiers, metrics, start_year, start_period, end_year, end_period, entire_universe, accession_id, point_in_time, include_trace, update_date, all_history, year, period, period_type, include_preliminary, use_fiscal_period, all_face, all_footnotes, include_xbrl, filing_id)\u001b[0m\n\u001b[0;32m    223\u001b[0m     \u001b[38;5;28;01mpass\u001b[39;00m\n\u001b[0;32m    224\u001b[0m payload \u001b[38;5;241m=\u001b[39m {\n\u001b[0;32m    225\u001b[0m     \u001b[38;5;124m\"\u001b[39m\u001b[38;5;124mpageParameters\u001b[39m\u001b[38;5;124m\"\u001b[39m: {\n\u001b[0;32m    226\u001b[0m         \u001b[38;5;124m\"\u001b[39m\u001b[38;5;124mmetrics\u001b[39m\u001b[38;5;124m\"\u001b[39m: metrics,\n\u001b[1;32m   (...)\u001b[0m\n\u001b[0;32m    249\u001b[0m     },\n\u001b[0;32m    250\u001b[0m }\n\u001b[1;32m--> 252\u001b[0m \u001b[38;5;28;01mreturn\u001b[39;00m \u001b[43m_json_POST\u001b[49m\u001b[43m(\u001b[49m\u001b[38;5;124;43m\"\u001b[39;49m\u001b[38;5;124;43mmappedData\u001b[39;49m\u001b[38;5;124;43m\"\u001b[39;49m\u001b[43m,\u001b[49m\u001b[43m \u001b[49m\u001b[43mpayload\u001b[49m\u001b[43m)\u001b[49m\n",
      "File \u001b[1;32m~\\repos\\python_api_client\\calcbench\\api_client.py:218\u001b[0m, in \u001b[0;36m_add_backoff.<locals>.wrapper\u001b[1;34m(*args, **kwargs)\u001b[0m\n\u001b[0;32m    215\u001b[0m \u001b[38;5;28;01mif\u001b[39;00m _SESSION_STUFF[\u001b[38;5;124m\"\u001b[39m\u001b[38;5;124menable_backoff\u001b[39m\u001b[38;5;124m\"\u001b[39m]:\n\u001b[0;32m    216\u001b[0m     \u001b[38;5;28;01mimport\u001b[39;00m \u001b[38;5;21;01mbackoff\u001b[39;00m\n\u001b[1;32m--> 218\u001b[0m     \u001b[38;5;28;01mreturn\u001b[39;00m \u001b[43mbackoff\u001b[49m\u001b[38;5;241;43m.\u001b[39;49m\u001b[43mon_exception\u001b[49m\u001b[43m(\u001b[49m\n\u001b[0;32m    219\u001b[0m \u001b[43m        \u001b[49m\u001b[43mbackoff\u001b[49m\u001b[38;5;241;43m.\u001b[39;49m\u001b[43mexpo\u001b[49m\u001b[43m,\u001b[49m\n\u001b[0;32m    220\u001b[0m \u001b[43m        \u001b[49m\u001b[43mrequests\u001b[49m\u001b[38;5;241;43m.\u001b[39;49m\u001b[43mexceptions\u001b[49m\u001b[38;5;241;43m.\u001b[39;49m\u001b[43mRequestException\u001b[49m\u001b[43m,\u001b[49m\n\u001b[0;32m    221\u001b[0m \u001b[43m        \u001b[49m\u001b[43mmax_tries\u001b[49m\u001b[38;5;241;43m=\u001b[39;49m\u001b[38;5;241;43m8\u001b[39;49m\u001b[43m,\u001b[49m\n\u001b[0;32m    222\u001b[0m \u001b[43m        \u001b[49m\u001b[43mlogger\u001b[49m\u001b[38;5;241;43m=\u001b[39;49m\u001b[43mlogger\u001b[49m\u001b[43m,\u001b[49m\n\u001b[0;32m    223\u001b[0m \u001b[43m        \u001b[49m\u001b[43mgiveup\u001b[49m\u001b[38;5;241;43m=\u001b[39;49m\u001b[43m_SESSION_STUFF\u001b[49m\u001b[43m[\u001b[49m\u001b[38;5;124;43m\"\u001b[39;49m\u001b[38;5;124;43mbackoff_giveup\u001b[39;49m\u001b[38;5;124;43m\"\u001b[39;49m\u001b[43m]\u001b[49m\u001b[43m,\u001b[49m\n\u001b[0;32m    224\u001b[0m \u001b[43m    \u001b[49m\u001b[43m)\u001b[49m\u001b[43m(\u001b[49m\u001b[43mf\u001b[49m\u001b[43m)\u001b[49m\u001b[43m(\u001b[49m\u001b[38;5;241;43m*\u001b[39;49m\u001b[43margs\u001b[49m\u001b[43m,\u001b[49m\u001b[43m \u001b[49m\u001b[38;5;241;43m*\u001b[39;49m\u001b[38;5;241;43m*\u001b[39;49m\u001b[43mkwargs\u001b[49m\u001b[43m)\u001b[49m\n\u001b[0;32m    225\u001b[0m \u001b[38;5;28;01melse\u001b[39;00m:\n\u001b[0;32m    226\u001b[0m     \u001b[38;5;28;01mreturn\u001b[39;00m f(\u001b[38;5;241m*\u001b[39margs, \u001b[38;5;241m*\u001b[39m\u001b[38;5;241m*\u001b[39mkwargs)\n",
      "File \u001b[1;32mc:\\users\\andre\\appdata\\local\\programs\\python\\python38\\lib\\site-packages\\backoff\\_sync.py:112\u001b[0m, in \u001b[0;36mretry_exception.<locals>.retry\u001b[1;34m(*args, **kwargs)\u001b[0m\n\u001b[0;32m    108\u001b[0m         \u001b[38;5;28;01mraise\u001b[39;00m e\n\u001b[0;32m    110\u001b[0m     _call_handlers(on_backoff, \u001b[38;5;241m*\u001b[39mdetails, wait\u001b[38;5;241m=\u001b[39mseconds)\n\u001b[1;32m--> 112\u001b[0m     \u001b[43mtime\u001b[49m\u001b[38;5;241;43m.\u001b[39;49m\u001b[43msleep\u001b[49m\u001b[43m(\u001b[49m\u001b[43mseconds\u001b[49m\u001b[43m)\u001b[49m\n\u001b[0;32m    113\u001b[0m \u001b[38;5;28;01melse\u001b[39;00m:\n\u001b[0;32m    114\u001b[0m     _call_handlers(on_success, \u001b[38;5;241m*\u001b[39mdetails)\n",
      "\u001b[1;31mKeyboardInterrupt\u001b[0m: "
     ]
    }
   ],
   "source": [
    "cb.point_in_time(\n",
    "        all_face=True,\n",
    "        all_footnotes=True,\n",
    "        company_identifiers=[ticker],\n",
    "        all_history=True,\n",
    "        include_preliminary=True,\n",
    "        include_trace=True,\n",
    "    )"
   ]
  },
  {
   "cell_type": "markdown",
   "metadata": {},
   "source": [
    "## Download and Save Historic Data For All Companies"
   ]
  },
  {
   "cell_type": "code",
   "execution_count": null,
   "metadata": {},
   "outputs": [],
   "source": [
    "tickers = cb.tickers(entire_universe=True)"
   ]
  },
  {
   "cell_type": "code",
   "execution_count": null,
   "metadata": {},
   "outputs": [],
   "source": [
    "face_output_file_name = Path.joinpath(Path.home(), \"face_data.csv\")\n",
    "\n",
    "iterate_and_save_pandas(\n",
    "    tickers,\n",
    "    lambda ticker: cb.point_in_time(\n",
    "        all_face=True,\n",
    "        all_footnotes=False,\n",
    "        company_identifiers=[ticker],\n",
    "        all_history=True,\n",
    "        include_preliminary=True,\n",
    "        include_xbrl=True,\n",
    "    ),\n",
    "    face_output_file_name,\n",
    ")\n",
    "\n",
    "footnote_file_name = Path.joinpath(Path.home(), \"footnote_data.csv\")\n",
    "\n",
    "iterate_and_save_pandas(\n",
    "    tickers,\n",
    "    lambda ticker: cb.point_in_time(\n",
    "        all_face=False,\n",
    "        all_footnotes=True,\n",
    "        company_identifiers=[ticker],\n",
    "        all_history=True,\n",
    "        include_preliminary=False,\n",
    "        include_xbrl=True,\n",
    "    ),\n",
    "    footnote_file_name,\n",
    ")"
   ]
  },
  {
   "cell_type": "markdown",
   "metadata": {},
   "source": [
    "## Push Notification of New Data\n",
    "### Example @ https://github.com/calcbench/notebooks/tree/master/filing_listener\n",
    "\n"
   ]
  }
 ],
 "metadata": {
  "kernelspec": {
   "display_name": "Python 3 (ipykernel)",
   "language": "python",
   "name": "python3"
  },
  "language_info": {
   "codemirror_mode": {
    "name": "ipython",
    "version": 3
   },
   "file_extension": ".py",
   "mimetype": "text/x-python",
   "name": "python",
   "nbconvert_exporter": "python",
   "pygments_lexer": "ipython3",
   "version": "3.8.2"
  }
 },
 "nbformat": 4,
 "nbformat_minor": 2
}
