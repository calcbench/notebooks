{
 "cells": [
  {
   "cell_type": "code",
   "execution_count": 9,
   "metadata": {},
   "outputs": [],
   "source": [
    "import calcbench as cb\n",
    "import pandas as pd\n",
    "import requests"
   ]
  },
  {
   "cell_type": "code",
   "execution_count": 29,
   "metadata": {},
   "outputs": [],
   "source": [
    "FISCAL_YEAR = 2021"
   ]
  },
  {
   "cell_type": "code",
   "execution_count": 101,
   "metadata": {},
   "outputs": [],
   "source": [
    "def get_holdings(file_name: str):\n",
    "    holdings = pd.read_csv(\n",
    "        file_name, header=0\n",
    "    )  # From https://www.barchart.com/etfs-funds/quotes/QQQ/constituents\n",
    "    holdings = holdings[:-1]\n",
    "    holdings.Symbol = holdings.Symbol.replace({\"GOOGL\": \"GOOG\", \"BRK.B\": \"BRK\"})\n",
    "    holdings = holdings.rename({'Symbol' : 'ticker'}, axis=1)\n",
    "    holdings = holdings.set_index(\"ticker\")\n",
    "    holdings = holdings[\"% Holding\"].str.rstrip(\"%\").astype(\"float\") * .01\n",
    "    holdings = holdings[holdings.index.dropna()]\n",
    "    holdings = holdings.groupby('ticker').sum().sort_values(ascending=False) # remove duplicates\n",
    "    return holdings"
   ]
  },
  {
   "cell_type": "code",
   "execution_count": 102,
   "metadata": {},
   "outputs": [],
   "source": [
    "QQQ_holdings = get_holdings(\"./etf-constituents-06-02-2022 QQQ.csv\")\n",
    "SPY_holdings = get_holdings(\"./etf-constituents-06-02-2022 SPY.csv\")"
   ]
  },
  {
   "cell_type": "code",
   "execution_count": 6,
   "metadata": {},
   "outputs": [],
   "source": [
    "income_statement_metrics = [\n",
    "    \"Revenue\",\n",
    "    \"CostOfRevenue\",\n",
    "    \"GrossProfit\",\n",
    "    \"SGAExpense\",\n",
    "    \"OperatingExpenses\",\n",
    "    \"OperatingIncome\",\n",
    "    \"EBIT\",\n",
    "    \"InterestExpense\",\n",
    "    \"IncomeTaxes\",\n",
    "    \"NetIncome\",\n",
    "]"
   ]
  },
  {
   "cell_type": "code",
   "execution_count": 22,
   "metadata": {},
   "outputs": [],
   "source": [
    "company_identifiers = SPY_holdings.index.union(QQQ_holdings.index).unique().unique()[:5]"
   ]
  },
  {
   "cell_type": "code",
   "execution_count": 63,
   "metadata": {},
   "outputs": [],
   "source": [
    "d = cb.standardized(\n",
    "    metrics=income_statement_metrics,\n",
    "    company_identifiers=company_identifiers,\n",
    "    fiscal_year=FISCAL_YEAR,\n",
    "    fiscal_period=cb.api_query_params.Period.Annual\n",
    ")"
   ]
  },
  {
   "cell_type": "code",
   "execution_count": 146,
   "metadata": {},
   "outputs": [],
   "source": [
    "by_fund_weight = d[\"value\"].unstack([\"metric\", \"fiscal_period\"]).mul(SPY_holdings, axis=0)"
   ]
  },
  {
   "cell_type": "code",
   "execution_count": 166,
   "metadata": {},
   "outputs": [],
   "source": [
    "totals = by_fund_weight.sum()"
   ]
  },
  {
   "cell_type": "code",
   "execution_count": 170,
   "metadata": {},
   "outputs": [],
   "source": [
    "percent_of_revenue = totals / totals['Revenue']"
   ]
  },
  {
   "cell_type": "code",
   "execution_count": 172,
   "metadata": {},
   "outputs": [
    {
     "data": {
      "text/plain": [
       "metric             fiscal_period\n",
       "Revenue            2021-0           1.000000\n",
       "CostOfRevenue      2021-0           0.577404\n",
       "GrossProfit        2021-0           0.422596\n",
       "SGAExpense         2021-0           0.063036\n",
       "OperatingExpenses  2021-0           0.124586\n",
       "OperatingIncome    2021-0           0.298011\n",
       "EBIT               2021-0           0.305034\n",
       "InterestExpense    2021-0           0.007854\n",
       "IncomeTaxes        2021-0           0.039441\n",
       "NetIncome          2021-0           0.257739\n",
       "dtype: float64"
      ]
     },
     "execution_count": 172,
     "metadata": {},
     "output_type": "execute_result"
    }
   ],
   "source": [
    "percent_of_revenue[income_statement_metrics]"
   ]
  }
 ],
 "metadata": {
  "kernelspec": {
   "display_name": "Python 3 (ipykernel)",
   "language": "python",
   "name": "python3"
  },
  "language_info": {
   "codemirror_mode": {
    "name": "ipython",
    "version": 3
   },
   "file_extension": ".py",
   "mimetype": "text/x-python",
   "name": "python",
   "nbconvert_exporter": "python",
   "pygments_lexer": "ipython3",
   "version": "3.8.2"
  }
 },
 "nbformat": 4,
 "nbformat_minor": 2
}
