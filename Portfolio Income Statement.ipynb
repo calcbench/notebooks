{
 "cells": [
  {
   "cell_type": "code",
   "execution_count": 1,
   "metadata": {},
   "outputs": [],
   "source": [
    "import calcbench as cb\n",
    "import pandas as pd\n",
    "import requests"
   ]
  },
  {
   "cell_type": "code",
   "execution_count": 4,
   "metadata": {},
   "outputs": [],
   "source": [
    "spy_holdings_url = \"https://us.spdrs.com/site-content/xls/SPY_All_Holdings.xls?fund=SPY&docname=All+Holdings&onyx_code1=&onyx_code2=\""
   ]
  },
  {
   "cell_type": "code",
   "execution_count": 5,
   "metadata": {},
   "outputs": [],
   "source": [
    "spy_market_cap = 244e9  # From google finance"
   ]
  },
  {
   "cell_type": "code",
   "execution_count": 6,
   "metadata": {},
   "outputs": [
    {
     "name": "stderr",
     "output_type": "stream",
     "text": [
      "c:\\users\\andrew kittredge\\appdata\\local\\programs\\python\\python37-32\\lib\\site-packages\\pandas\\util\\_decorators.py:188: FutureWarning: the 'skip_footer' keyword is deprecated, use 'skipfooter' instead\n",
      "  return func(*args, **kwargs)\n"
     ]
    }
   ],
   "source": [
    "spy_holdings = pd.read_excel(spy_holdings_url, header=3, skip_footer=11, index_col=1)\n",
    "spy_holdings.index = spy_holdings.index.map(\n",
    "    lambda ticker: ticker.split(\".\")[0]\n",
    ")  # Change BRK.B to BRK"
   ]
  },
  {
   "cell_type": "code",
   "execution_count": 5,
   "metadata": {},
   "outputs": [],
   "source": [
    "value_of_fund_holdings = spy_holdings.Weight * spy_market_cap * 0.01"
   ]
  },
  {
   "cell_type": "code",
   "execution_count": 8,
   "metadata": {},
   "outputs": [],
   "source": [
    "income_statement_metrics = [\n",
    "    \"Revenue\",\n",
    "    \"CostOfRevenue\",\n",
    "    \"GrossProfit\",\n",
    "    \"SGAExpense\",\n",
    "    \"OperatingExpenses\",\n",
    "    \"OperatingIncome\",\n",
    "    \"EBIT\",\n",
    "    \"InterestExpense\",\n",
    "    \"IncomeTaxes\",\n",
    "    \"NetIncome\",\n",
    "]"
   ]
  },
  {
   "cell_type": "code",
   "execution_count": 9,
   "metadata": {},
   "outputs": [],
   "source": [
    "d = cb.standardized_data(\n",
    "    company_identifiers=spy_holdings.index,\n",
    "    metrics=income_statement_metrics + [\"MarketCapAtEndOfPeriod\"],\n",
    "    year=2016,\n",
    "    period=\"q1\",\n",
    ")"
   ]
  },
  {
   "cell_type": "code",
   "execution_count": 11,
   "metadata": {},
   "outputs": [],
   "source": [
    "percent_of_company_fund_owns = (\n",
    "    value_of_fund_holdings / d[\"MarketCapAtEndOfPeriod\"].loc[\"2016\"]\n",
    ")"
   ]
  },
  {
   "cell_type": "code",
   "execution_count": 13,
   "metadata": {},
   "outputs": [
    {
     "name": "stdout",
     "output_type": "stream",
     "text": [
      "Revenue 20389206022244.617\n",
      "CostOfRevenue 14854516622193.232\n",
      "GrossProfit 5534689400051.386\n",
      "SGAExpense 3436654964729.0347\n",
      "OperatingExpenses 5764678423730.568\n",
      "OperatingIncome -229823855938.80902\n",
      "EBIT -230567915072.5475\n",
      "InterestExpense 314165146248.34656\n",
      "IncomeTaxes -193459148502.12646\n",
      "NetIncome -255531759810.4028\n"
     ]
    }
   ],
   "source": [
    "for metric in income_statement_metrics:\n",
    "    print(metric, (d.loc[\"2016\"][metric] * percent_of_company_fund_owns).sum())"
   ]
  }
 ],
 "metadata": {
  "kernelspec": {
   "display_name": "Python 3",
   "language": "python",
   "name": "python3"
  },
  "language_info": {
   "codemirror_mode": {
    "name": "ipython",
    "version": 3
   },
   "file_extension": ".py",
   "mimetype": "text/x-python",
   "name": "python",
   "nbconvert_exporter": "python",
   "pygments_lexer": "ipython3",
   "version": "3.8.2"
  }
 },
 "nbformat": 4,
 "nbformat_minor": 2
}
