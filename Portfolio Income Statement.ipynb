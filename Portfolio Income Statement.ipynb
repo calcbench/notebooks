{
 "cells": [
  {
   "cell_type": "code",
   "execution_count": null,
   "metadata": {},
   "outputs": [],
   "source": [
    "import calcbench as cb\n",
    "import pandas as pd\n",
    "import requests"
   ]
  },
  {
   "cell_type": "code",
   "execution_count": null,
   "metadata": {},
   "outputs": [],
   "source": [
    "spy_holdings_url = \"https://us.spdrs.com/site-content/xls/SPY_All_Holdings.xls?fund=SPY&docname=All+Holdings&onyx_code1=&onyx_code2=\""
   ]
  },
  {
   "cell_type": "code",
   "execution_count": null,
   "metadata": {},
   "outputs": [],
   "source": [
    "pd.read_csv?"
   ]
  },
  {
   "cell_type": "code",
   "execution_count": null,
   "metadata": {},
   "outputs": [],
   "source": [
    "QQQ_holdings = pd.read_csv('./etf-constituents-06-02-2022 QQQ.csv', header=0) # From https://www.barchart.com/etfs-funds/quotes/QQQ/constituents\n",
    "QQQ_holdings = QQQ_holdings[:-1]\n",
    "SPY_holdings = pd.read_csv('./etf-constituents-06-02-2022 SPY.csv', header=0) # From https://www.barchart.com/etfs-funds/quotes/SPY/constituents\n",
    "SPY_holdings = SPY_holdings[:-1]"
   ]
  },
  {
   "cell_type": "code",
   "execution_count": null,
   "metadata": {},
   "outputs": [],
   "source": [
    "def get_holdings(file_name: str):\n",
    "    holdings = pd.read_csv(file_name, header=0) # From https://www.barchart.com/etfs-funds/quotes/QQQ/constituents\n",
    "    holdings = holdings[:-1]\n",
    "    holdings.Symbol = holdings.Symbol.replace({'GOOGL' : \"GOOG\", \"BRK.B\" : \"BRK\"})\n",
    "    holdings = holdings.set_index('Symbol')\n",
    "    holdings = holdings['% Holding'].str.rstrip('%').astype('float')\n",
    "    holdings = holdings[holdings.index.dropna()]\n",
    "    return holdings"
   ]
  },
  {
   "cell_type": "code",
   "execution_count": null,
   "metadata": {},
   "outputs": [],
   "source": [
    "QQQ_holdings = get_holdings('./etf-constituents-06-02-2022 QQQ.csv')\n",
    "SPY_holdings = get_holdings('./etf-constituents-06-02-2022 SPY.csv')"
   ]
  },
  {
   "cell_type": "code",
   "execution_count": null,
   "metadata": {},
   "outputs": [],
   "source": [
    "SPY_holdings"
   ]
  },
  {
   "cell_type": "code",
   "execution_count": null,
   "metadata": {},
   "outputs": [],
   "source": [
    "SPY_holdings.index.union(QQQ_holdings.index).unique()"
   ]
  },
  {
   "cell_type": "code",
   "execution_count": null,
   "metadata": {},
   "outputs": [],
   "source": [
    "income_statement_metrics = [\n",
    "    \"Revenue\",\n",
    "    \"CostOfRevenue\",\n",
    "    \"GrossProfit\",\n",
    "    \"SGAExpense\",\n",
    "    \"OperatingExpenses\",\n",
    "    \"OperatingIncome\",\n",
    "    \"EBIT\",\n",
    "    \"InterestExpense\",\n",
    "    \"IncomeTaxes\",\n",
    "    \"NetIncome\",\n",
    "]"
   ]
  },
  {
   "cell_type": "code",
   "execution_count": null,
   "metadata": {},
   "outputs": [],
   "source": [
    "cb.standardized?"
   ]
  },
  {
   "cell_type": "code",
   "execution_count": null,
   "metadata": {},
   "outputs": [],
   "source": [
    "d = cb.standardized(metrics=income_statement_metrics, company_identifiers=list(SPY_holdings.index.union(QQQ_holdings.index).unique()))"
   ]
  },
  {
   "cell_type": "code",
   "execution_count": null,
   "metadata": {},
   "outputs": [],
   "source": [
    "d"
   ]
  },
  {
   "cell_type": "code",
   "execution_count": null,
   "metadata": {},
   "outputs": [],
   "source": [
    "d = cb.standardized_data(\n",
    "    company_identifiers=SPY_holdings.index,\n",
    "    metrics=income_statement_metrics + [\"MarketCapAtEndOfPeriod\"],\n",
    "    year=2016,\n",
    "    period=\"q1\",\n",
    ")"
   ]
  },
  {
   "cell_type": "code",
   "execution_count": null,
   "metadata": {},
   "outputs": [],
   "source": [
    "percent_of_company_fund_owns = (\n",
    "    value_of_fund_holdings / d[\"MarketCapAtEndOfPeriod\"].loc[\"2016\"]\n",
    ")"
   ]
  },
  {
   "cell_type": "code",
   "execution_count": null,
   "metadata": {},
   "outputs": [],
   "source": [
    "for metric in income_statement_metrics:\n",
    "    print(metric, (d.loc[\"2016\"][metric] * percent_of_company_fund_owns).sum())"
   ]
  }
 ],
 "metadata": {
  "kernelspec": {
   "display_name": "Python 3 (ipykernel)",
   "language": "python",
   "name": "python3"
  },
  "language_info": {
   "codemirror_mode": {
    "name": "ipython",
    "version": 3
   },
   "file_extension": ".py",
   "mimetype": "text/x-python",
   "name": "python",
   "nbconvert_exporter": "python",
   "pygments_lexer": "ipython3",
   "version": "3.8.2"
  }
 },
 "nbformat": 4,
 "nbformat_minor": 2
}
