{
 "cells": [
  {
   "cell_type": "code",
   "execution_count": 1,
   "metadata": {},
   "outputs": [],
   "source": [
    "import calcbench as cb"
   ]
  },
  {
   "cell_type": "code",
   "execution_count": 2,
   "metadata": {},
   "outputs": [],
   "source": [
    "clauses = [\n",
    "    {\"value\": '4-28-2020', \"parameter\": \"filingDate\", \"operator\": 1}\n",
    "]"
   ]
  },
  {
   "cell_type": "code",
   "execution_count": 11,
   "metadata": {},
   "outputs": [
    {
     "name": "stdout",
     "output_type": "stream",
     "text": [
      "10min 40s ± 2min 36s per loop (mean ± std. dev. of 7 runs, 1 loop each)\n"
     ]
    }
   ],
   "source": [
    "d = cb.raw_data_raw(entire_universe=True, clauses=clauses, end_point='rawNonXBRLData')"
   ]
  },
  {
   "cell_type": "code",
   "execution_count": 14,
   "metadata": {},
   "outputs": [
    {
     "data": {
      "text/plain": [
       "{'companyID': 5128,\n",
       " 'CIK': '0000066740',\n",
       " 'ticker': 'MMM',\n",
       " 'entity_name': '3M CO',\n",
       " 'filingID': 1550126,\n",
       " 'XBRLfilingID': 262646,\n",
       " 'document': '8-K',\n",
       " 'sec_html_url': '=hyperlink(\"https://www.sec.gov/Archives/edgar/data/66740/000110465920051945/000110465920051945index.htm/0001104659-20-051945-index.htm-index.htm\")',\n",
       " 'sec_filing_URL': 'https://www.sec.gov/Archives/edgar/data/66740/000110465920051945/0001104659-20-051945-index.htm',\n",
       " 'special_fact_type': 'non_xbrl',\n",
       " 'filing_period': 1,\n",
       " 'filing_year': 2020,\n",
       " 'filing_end_date': '2020-03-31T00:00:00',\n",
       " 'filing_date': '2020-04-28T00:00:00',\n",
       " 'label': '3M Reports First-Quarter 2020 Results',\n",
       " 'Value': None,\n",
       " 'UOM': '',\n",
       " 'column_label': '',\n",
       " 'fiscal_period': '',\n",
       " 'fiscal_year': '',\n",
       " 'is_guidance': False,\n",
       " 'is_non_gaap': False,\n",
       " 'range_high': False,\n",
       " 'range_low': False,\n",
       " 'statement_type': 200,\n",
       " 'metric_id': 5869233,\n",
       " 'metric': '',\n",
       " 'extract_tag': '',\n",
       " 'tabular_item': '',\n",
       " 'fact_id': 305789257}"
      ]
     },
     "execution_count": 14,
     "metadata": {},
     "output_type": "execute_result"
    }
   ],
   "source": [
    "d[0]"
   ]
  },
  {
   "cell_type": "code",
   "execution_count": null,
   "metadata": {},
   "outputs": [],
   "source": []
  }
 ],
 "metadata": {
  "kernelspec": {
   "display_name": "Python 3",
   "language": "python",
   "name": "python3"
  },
  "language_info": {
   "codemirror_mode": {
    "name": "ipython",
    "version": 3
   },
   "file_extension": ".py",
   "mimetype": "text/x-python",
   "name": "python",
   "nbconvert_exporter": "python",
   "pygments_lexer": "ipython3",
   "version": "3.8.2"
  }
 },
 "nbformat": 4,
 "nbformat_minor": 4
}
