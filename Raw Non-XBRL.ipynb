{
 "cells": [
  {
   "cell_type": "code",
   "execution_count": null,
   "metadata": {},
   "outputs": [],
   "source": [
    "%matplotlib inline\n",
    "import calcbench as cb\n",
    "from tqdm.notebook import tqdm"
   ]
  },
  {
   "cell_type": "code",
   "execution_count": null,
   "metadata": {},
   "outputs": [],
   "source": [
    "tickers = cb.tickers(index=\"DJIA\")"
   ]
  },
  {
   "cell_type": "code",
   "execution_count": null,
   "metadata": {},
   "outputs": [],
   "source": [
    "clauses = [\n",
    "    {\"parameter\": \"filingDate\", \"operator\": 1, \"value\": \"2021-01-26\"},\n",
    "    {\"parameter\": \"fiscalYear\", \"operator\": 1, \"value\": 2021},\n",
    "]\n",
    "\n",
    "d = cb.non_XBRL_numeric(company_identifiers=[\"MMM\"], clauses=clauses)"
   ]
  },
  {
   "cell_type": "code",
   "execution_count": null,
   "metadata": {},
   "outputs": [],
   "source": [
    "d.shape"
   ]
  },
  {
   "cell_type": "code",
   "execution_count": null,
   "metadata": {},
   "outputs": [],
   "source": [
    "data = pd.DataFrame()\n",
    "for ticker in tqdm(tickers):\n",
    "    for fiscal_year in tqdm(range(2008, 2020)):\n",
    "        clauses = [\n",
    "            {\"parameter\": \"fiscalYear\", \"operator\": 1, \"value\": fiscal_year},\n",
    "            {\"parameter\": \"filingType\", \"operator\": 1, \"value\": \"Earnings\"},\n",
    "            {\"parameter\": \"fiscalPeriod\", \"operator\": 1, \"value\": \"Y\"},\n",
    "        ]\n",
    "        d = cb.non_XBRL_numeric(company_identifiers=[ticker], clauses=clauses)\n",
    "        data = data.append(d)"
   ]
  },
  {
   "cell_type": "code",
   "execution_count": null,
   "metadata": {},
   "outputs": [],
   "source": [
    "unique_tags = data.groupby([\"ticker\", \"fiscal_year\"])[\"extract_tag\"].nunique()"
   ]
  },
  {
   "cell_type": "code",
   "execution_count": null,
   "metadata": {},
   "outputs": [],
   "source": [
    "p = unique_tags.groupby(\"ticker\").plot(legend=True, figsize=(30, 50))"
   ]
  },
  {
   "cell_type": "code",
   "execution_count": null,
   "metadata": {},
   "outputs": [],
   "source": []
  }
 ],
 "metadata": {
  "kernelspec": {
   "display_name": "Python 3",
   "language": "python",
   "name": "python3"
  },
  "language_info": {
   "codemirror_mode": {
    "name": "ipython",
    "version": 3
   },
   "file_extension": ".py",
   "mimetype": "text/x-python",
   "name": "python",
   "nbconvert_exporter": "python",
   "pygments_lexer": "ipython3",
   "version": "3.8.2"
  }
 },
 "nbformat": 4,
 "nbformat_minor": 4
}
