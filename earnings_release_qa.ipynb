{
 "cells": [
  {
   "cell_type": "code",
   "execution_count": null,
   "metadata": {},
   "outputs": [],
   "source": [
    "import calcbench as cb\n",
    "import pandas as pd\n",
    "import math\n",
    "import numpy as np\n",
    "from decimal import Decimal\n",
    "from tqdm import tqdm, tqdm_notebook\n",
    "from IPython.core.debugger import set_trace\n",
    "from tqdm.notebook import tqdm\n",
    "import random\n",
    "import qgrid\n",
    "\n",
    "tqdm.pandas(desc=\"my bar!\")"
   ]
  },
  {
   "cell_type": "code",
   "execution_count": null,
   "metadata": {},
   "outputs": [],
   "source": [
    "tickers = cb.tickers(index=\"DJIA\")"
   ]
  },
  {
   "cell_type": "code",
   "execution_count": null,
   "metadata": {},
   "outputs": [],
   "source": [
    "data = pd.DataFrame()\n",
    "for ticker in tqdm(tickers):\n",
    "    d = cb.point_in_time(\n",
    "        company_identifiers=[ticker],\n",
    "        all_face=True,\n",
    "        include_preliminary=True,\n",
    "        include_xbrl=True,\n",
    "        all_history=True,\n",
    "        include_trace=True,\n",
    "        period_type=\"combined\",\n",
    "    )\n",
    "    data = data.append(d)\n",
    "data.reset_index(inplace=True, drop=True)"
   ]
  },
  {
   "cell_type": "code",
   "execution_count": null,
   "metadata": {},
   "outputs": [],
   "source": [
    "def preliminary_and_revision(group: pd.DataFrame) -> bool:\n",
    "    \"\"\"\n",
    "    Does this group have a preliminary line and an XBRL line?\n",
    "    \"\"\"\n",
    "    unconfirmed_preliminary = group[group.preliminary & ~group.XBRL].shape[0]\n",
    "    XBRL_revision = group[group.XBRL & (group.revision_number > 0)].shape[0]\n",
    "    return bool(unconfirmed_preliminary and XBRL_revision)"
   ]
  },
  {
   "cell_type": "code",
   "execution_count": null,
   "metadata": {},
   "outputs": [],
   "source": [
    "def error_type(g):\n",
    "    # set_trace()\n",
    "    preliminary_value = g[g.preliminary].iloc[0].value\n",
    "    XBRL_value = g[~g.preliminary].iloc[0].value\n",
    "    preliminary_decimal = Decimal(preliminary_value).normalize().as_tuple()\n",
    "    XBRL_decimal = Decimal(XBRL_value).normalize().as_tuple()\n",
    "    diff = (preliminary_value - XBRL_value) / XBRL_value\n",
    "    d = pd.DataFrame(g)\n",
    "    d[\"diff\"] = diff\n",
    "    break_type = \"diff\"\n",
    "    if preliminary_decimal.digits == XBRL_decimal.digits:\n",
    "        if preliminary_decimal.exponent == XBRL_decimal.exponent:\n",
    "            break_type = \"sign\"\n",
    "        else:\n",
    "            break_type = \"scale\"\n",
    "    elif math.isclose(preliminary_value, XBRL_value, rel_tol=0.05):\n",
    "        break_type = \"close_enough\"\n",
    "    elif math.isclose(preliminary_value * 4, XBRL_value, rel_tol=0.1):\n",
    "        break_type = \"quarter_error\"\n",
    "    else:\n",
    "        break_type = \"unknown\"\n",
    "    d[\"break_type\"] = break_type\n",
    "    return d"
   ]
  },
  {
   "cell_type": "code",
   "execution_count": null,
   "metadata": {},
   "outputs": [],
   "source": [
    "group_by = [\"metric\", \"calendar_year\", \"calendar_period\"]\n",
    "groups = data.groupby(group_by, sort=False)\n",
    "groups = list(groups)"
   ]
  },
  {
   "cell_type": "code",
   "execution_count": null,
   "metadata": {},
   "outputs": [],
   "source": [
    "all_breaks = pd.DataFrame()\n",
    "for ticker in tqdm(data.ticker.unique()):\n",
    "    preliminary_and_revision_lines = (\n",
    "        data[data.ticker == ticker]\n",
    "        .groupby(group_by)\n",
    "        .filter(preliminary_and_revision)\n",
    "        .reset_index(drop=True)\n",
    "    )\n",
    "    breaks = preliminary_and_revision_lines.groupby(group_by).apply(error_type)\n",
    "    if breaks.empty:\n",
    "        continue\n",
    "    breaks = breaks.sort_values(group_by + [\"revision_number\"])\n",
    "    breaks.reset_index(inplace=True, drop=True)\n",
    "    all_breaks = all_breaks.append(breaks)"
   ]
  },
  {
   "cell_type": "code",
   "execution_count": null,
   "metadata": {},
   "outputs": [],
   "source": [
    "all_breaks.groupby(\"metric\").count() / data[data.preliminary == True].groupby(\n",
    "    \"metric\"\n",
    ").count()"
   ]
  },
  {
   "cell_type": "code",
   "execution_count": null,
   "metadata": {},
   "outputs": [],
   "source": [
    "all_breaks[all_breaks.preliminary == True].groupby(\n",
    "    [\"calendar_year\"]\n",
    ").count().sort_values(\"calendar_year\")"
   ]
  },
  {
   "cell_type": "code",
   "execution_count": null,
   "metadata": {},
   "outputs": [],
   "source": [
    "data[data.preliminary].groupby(\"metric\").count().sort_values(\"preliminary\")"
   ]
  },
  {
   "cell_type": "code",
   "execution_count": null,
   "metadata": {},
   "outputs": [],
   "source": [
    "data[data.preliminary].shape"
   ]
  },
  {
   "cell_type": "code",
   "execution_count": null,
   "metadata": {},
   "outputs": [],
   "source": [
    "all_breaks[all_breaks.preliminary].shape"
   ]
  },
  {
   "cell_type": "code",
   "execution_count": null,
   "metadata": {},
   "outputs": [],
   "source": []
  }
 ],
 "metadata": {
  "kernelspec": {
   "display_name": "Python 3",
   "language": "python",
   "name": "python3"
  },
  "language_info": {
   "codemirror_mode": {
    "name": "ipython",
    "version": 3
   },
   "file_extension": ".py",
   "mimetype": "text/x-python",
   "name": "python",
   "nbconvert_exporter": "python",
   "pygments_lexer": "ipython3",
   "version": "3.8.2"
  }
 },
 "nbformat": 4,
 "nbformat_minor": 4
}
