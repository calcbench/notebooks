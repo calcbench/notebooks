{
 "cells": [
  {
   "cell_type": "code",
   "execution_count": 1,
   "metadata": {},
   "outputs": [],
   "source": [
    "import calcbench as cb\n",
    "import pandas as pd\n",
    "import math\n",
    "import numpy as np\n",
    "from decimal import Decimal\n",
    "from tqdm import tqdm, tqdm_notebook\n",
    "from IPython.core.debugger import set_trace\n",
    "from tqdm.notebook import tqdm\n",
    "import random\n",
    "import qgrid\n",
    "from sklearn.metrics import confusion_matrix\n",
    "from sklearn.preprocessing import OneHotEncoder\n",
    "from sklearn.tree import DecisionTreeClassifier\n",
    "from sklearn.model_selection import train_test_split\n",
    "\n",
    "cb.enable_backoff()\n",
    "\n",
    "tqdm.pandas(desc=\"my bar!\")"
   ]
  },
  {
   "cell_type": "code",
   "execution_count": 2,
   "metadata": {},
   "outputs": [],
   "source": [
    "tickers = cb.tickers(index=\"DJIA\")"
   ]
  },
  {
   "cell_type": "code",
   "execution_count": 3,
   "metadata": {},
   "outputs": [],
   "source": [
    "relevant_columns = [\n",
    "    \"preliminary\",\n",
    "    \"revision_number\",\n",
    "    \"value\",\n",
    "    \"trace_url\",\n",
    "    \"XBRL\",\n",
    "    \"filing_type\",\n",
    "]"
   ]
  },
  {
   "cell_type": "code",
   "execution_count": 4,
   "metadata": {},
   "outputs": [
    {
     "data": {
      "application/vnd.jupyter.widget-view+json": {
       "model_id": "fa0adf8d18d147c88fbc1db4837c0dbf",
       "version_major": 2,
       "version_minor": 0
      },
      "text/plain": [
       "  0%|          | 0/30 [00:00<?, ?it/s]"
      ]
     },
     "metadata": {},
     "output_type": "display_data"
    }
   ],
   "source": [
    "data = pd.DataFrame()\n",
    "for ticker in tqdm(tickers):\n",
    "    d = cb.point_in_time(\n",
    "        company_identifiers=[ticker],\n",
    "        all_face=True,\n",
    "        include_preliminary=True,\n",
    "        include_xbrl=True,\n",
    "        all_history=True,\n",
    "        period_type=\"quarterly\",\n",
    "        include_trace=True,\n",
    "    )\n",
    "    data = data.append(d)\n",
    "data.reset_index(inplace=True, drop=True)\n",
    "\n",
    "data = data[data.fiscal_period.isin([1, 2, 3, 4])]\n",
    "data[\"period\"] = pd.PeriodIndex(\n",
    "    year=data.fiscal_year, quarter=data.fiscal_period, freq=\"Q\"\n",
    ")\n",
    "data = data.set_index(\n",
    "    [\n",
    "        \"ticker\",\n",
    "        \"metric\",\n",
    "        \"period\",\n",
    "    ]\n",
    ")\n",
    "data = data[relevant_columns]"
   ]
  },
  {
   "cell_type": "code",
   "execution_count": 58,
   "metadata": {},
   "outputs": [],
   "source": [
    "# Difference from previous XBRL value\n",
    "previous_XBRL_value = (\n",
    "    data[data.XBRL]\n",
    "    .groupby([\"ticker\", \"metric\"])\n",
    "    .shift(1)[\"value\"]\n",
    "    .groupby([\"ticker\", \"metric\", \"period\"])\n",
    "    .first()\n",
    "    .rename(\"previous_XBRL_value\")\n",
    ")\n",
    "\n",
    "joined = data[data.preliminary].join(\n",
    "    previous_XBRL_value,\n",
    "    how=\"left\",\n",
    ")\n",
    "# data[\"diff_from_previous\"] = (joined.value - joined.previous_XBRL_value) / joined.value"
   ]
  },
  {
   "cell_type": "code",
   "execution_count": 5,
   "metadata": {},
   "outputs": [],
   "source": [
    "def preliminary_and_revision(group: pd.DataFrame) -> bool:\n",
    "    \"\"\"\n",
    "    Does this group have a preliminary line and an XBRL line?\n",
    "    \"\"\"\n",
    "    unconfirmed_preliminary = group[group.preliminary & ~group.XBRL].shape[0]\n",
    "    revisions = group.revision_number > 0\n",
    "    XBRL_revision = group[group.XBRL & revisions].shape[0]\n",
    "    return bool(unconfirmed_preliminary and XBRL_revision)"
   ]
  },
  {
   "cell_type": "code",
   "execution_count": 6,
   "metadata": {},
   "outputs": [],
   "source": [
    "ERROR_TYPE_TO_BOOL = {\n",
    "    \"close_enough\": 0,\n",
    "    \"unknown\": 1,\n",
    "    \"scale\": 1,\n",
    "    \"sign\": 1,\n",
    "    \"quarter_error\": 1,\n",
    "    0: 0,\n",
    "}"
   ]
  },
  {
   "cell_type": "code",
   "execution_count": 7,
   "metadata": {},
   "outputs": [],
   "source": [
    "def error_type(g):\n",
    "    preliminary_row = g[g.preliminary].iloc[0]\n",
    "    preliminary_value = preliminary_row.value\n",
    "    XBRL_value = g[~g.preliminary].iloc[0].value\n",
    "    preliminary_decimal = Decimal(preliminary_value).normalize().as_tuple()\n",
    "    XBRL_decimal = Decimal(XBRL_value).normalize().as_tuple()\n",
    "    diff = (preliminary_value - XBRL_value) / XBRL_value\n",
    "    d = pd.DataFrame(g)\n",
    "    d[\"diff\"] = diff\n",
    "    if preliminary_decimal.digits == XBRL_decimal.digits:\n",
    "        if preliminary_decimal.exponent == XBRL_decimal.exponent:\n",
    "            break_type = \"sign\"\n",
    "        else:\n",
    "            break_type = \"scale\"\n",
    "    elif math.isclose(preliminary_value, XBRL_value, rel_tol=0.05):\n",
    "        break_type = \"close_enough\"\n",
    "    elif math.isclose(preliminary_value * 4, XBRL_value, rel_tol=0.1):\n",
    "        break_type = \"quarter_error\"\n",
    "    else:\n",
    "        break_type = \"unknown\"\n",
    "    d[\"break_type\"] = break_type\n",
    "    g[g.preliminary][\"error\"] = break_type\n",
    "    return d"
   ]
  },
  {
   "cell_type": "code",
   "execution_count": 8,
   "metadata": {},
   "outputs": [],
   "source": [
    "groups_with_preliminary_and_revision = data.groupby(data.index).filter(\n",
    "    preliminary_and_revision\n",
    ")"
   ]
  },
  {
   "cell_type": "code",
   "execution_count": 9,
   "metadata": {
    "scrolled": true
   },
   "outputs": [
    {
     "data": {
      "application/vnd.jupyter.widget-view+json": {
       "model_id": "8217a5ed9dd2449aa4d21b5dc4b683ff",
       "version_major": 2,
       "version_minor": 0
      },
      "text/plain": [
       "my bar!:   0%|          | 0/5438 [00:00<?, ?it/s]"
      ]
     },
     "metadata": {},
     "output_type": "display_data"
    },
    {
     "name": "stderr",
     "output_type": "stream",
     "text": [
      "<ipython-input-7-a745ee1068fa>:7: RuntimeWarning: divide by zero encountered in double_scalars\n",
      "  diff = (preliminary_value - XBRL_value) / XBRL_value\n"
     ]
    }
   ],
   "source": [
    "all_breaks = groups_with_preliminary_and_revision.groupby(\n",
    "    groups_with_preliminary_and_revision.index\n",
    ").progress_apply(error_type)"
   ]
  },
  {
   "cell_type": "code",
   "execution_count": 10,
   "metadata": {},
   "outputs": [],
   "source": [
    "# Calculate previous error\n",
    "only_preliminary = all_breaks[all_breaks.preliminary]\n",
    "previous_error = only_preliminary.groupby([\"ticker\", \"metric\"])[\"break_type\"].shift()\n",
    "all_breaks[\"previous_error\"] = previous_error"
   ]
  },
  {
   "cell_type": "code",
   "execution_count": 24,
   "metadata": {},
   "outputs": [],
   "source": [
    "preliminary_with_break_type = data[data.preliminary].merge(\n",
    "    all_breaks[all_breaks.preliminary][[\"break_type\", \"previous_error\"]],\n",
    "    how=\"left\",\n",
    "    left_index=True,\n",
    "    right_index=True,\n",
    ")"
   ]
  },
  {
   "cell_type": "code",
   "execution_count": 25,
   "metadata": {},
   "outputs": [
    {
     "name": "stderr",
     "output_type": "stream",
     "text": [
      "c:\\users\\andre\\appdata\\local\\programs\\python\\python38\\lib\\site-packages\\pandas\\core\\frame.py:3607: SettingWithCopyWarning: \n",
      "A value is trying to be set on a copy of a slice from a DataFrame.\n",
      "Try using .loc[row_indexer,col_indexer] = value instead\n",
      "\n",
      "See the caveats in the documentation: https://pandas.pydata.org/pandas-docs/stable/user_guide/indexing.html#returning-a-view-versus-a-copy\n",
      "  self._set_item(key, value)\n"
     ]
    }
   ],
   "source": [
    "one_hot_columns = [\"ticker\", \"metric\"]\n",
    "X = preliminary_with_break_type[[\"previous_error\"]]\n",
    "X[\"previous_error\"] = X[\"previous_error\"].fillna(0).map(ERROR_TYPE_TO_BOOL)\n",
    "for column in one_hot_columns:\n",
    "    X[column] = X.index.get_level_values(column).factorize()[0]"
   ]
  },
  {
   "cell_type": "code",
   "execution_count": 26,
   "metadata": {},
   "outputs": [],
   "source": [
    "y = preliminary_with_break_type[\"break_type\"].fillna(0).map(ERROR_TYPE_TO_BOOL)"
   ]
  },
  {
   "cell_type": "code",
   "execution_count": 27,
   "metadata": {},
   "outputs": [],
   "source": [
    "X_train, X_test, y_train, y_test = train_test_split(X, y, test_size=0.1)"
   ]
  },
  {
   "cell_type": "code",
   "execution_count": 28,
   "metadata": {},
   "outputs": [],
   "source": [
    "clf = DecisionTreeClassifier()\n",
    "clf = clf.fit(X_train, y_train)"
   ]
  },
  {
   "cell_type": "code",
   "execution_count": 29,
   "metadata": {},
   "outputs": [],
   "source": [
    "y_predicted = clf.predict(X_test)"
   ]
  },
  {
   "cell_type": "code",
   "execution_count": 30,
   "metadata": {},
   "outputs": [
    {
     "data": {
      "text/plain": [
       "array([[3536,   18],\n",
       "       [  89,  354]], dtype=int64)"
      ]
     },
     "execution_count": 30,
     "metadata": {},
     "output_type": "execute_result"
    }
   ],
   "source": [
    "confusion_matrix(y_test, y_predicted)"
   ]
  },
  {
   "cell_type": "code",
   "execution_count": 31,
   "metadata": {},
   "outputs": [
    {
     "data": {
      "text/plain": [
       "array([[3536,   18],\n",
       "       [  89,  354]], dtype=int64)"
      ]
     },
     "execution_count": 31,
     "metadata": {},
     "output_type": "execute_result"
    }
   ],
   "source": [
    "confusion_matrix(y_test, y_predicted)"
   ]
  },
  {
   "cell_type": "code",
   "execution_count": null,
   "metadata": {},
   "outputs": [],
   "source": []
  }
 ],
 "metadata": {
  "kernelspec": {
   "display_name": "Python 3",
   "language": "python",
   "name": "python3"
  },
  "language_info": {
   "codemirror_mode": {
    "name": "ipython",
    "version": 3
   },
   "file_extension": ".py",
   "mimetype": "text/x-python",
   "name": "python",
   "nbconvert_exporter": "python",
   "pygments_lexer": "ipython3",
   "version": "3.8.2"
  }
 },
 "nbformat": 4,
 "nbformat_minor": 4
}
