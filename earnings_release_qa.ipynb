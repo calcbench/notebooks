{
 "cells": [
  {
   "cell_type": "code",
   "execution_count": null,
   "metadata": {},
   "outputs": [],
   "source": [
    "import calcbench as cb\n",
    "import pandas as pd\n",
    "import math\n",
    "import numpy as np\n",
    "from decimal import Decimal\n",
    "from tqdm import tqdm, tqdm_notebook\n",
    "from IPython.core.debugger import set_trace\n",
    "from tqdm import tqdm\n",
    "import random\n",
    "\n",
    "tqdm.pandas(desc=\"my bar!\")"
   ]
  },
  {
   "cell_type": "code",
   "execution_count": null,
   "metadata": {},
   "outputs": [],
   "source": [
    "cb.enable_backoff()"
   ]
  },
  {
   "cell_type": "code",
   "execution_count": null,
   "metadata": {},
   "outputs": [],
   "source": [
    "tickers = cb.tickers(index='DJIA')"
   ]
  },
  {
   "cell_type": "code",
   "execution_count": null,
   "metadata": {},
   "outputs": [],
   "source": [
    "data = pd.DataFrame()\n",
    "for ticker in tqdm_notebook(tickers[:1]):\n",
    "    d = cb.point_in_time(\n",
    "        company_identifiers=[ticker],\n",
    "        all_face=True,\n",
    "        include_preliminary=True,\n",
    "        include_xbrl=True,\n",
    "        all_history=True,\n",
    "        include_trace=True,\n",
    "    )\n",
    "    data = data.append(d)\n",
    "data.reset_index(inplace=True, drop=True)"
   ]
  },
  {
   "cell_type": "code",
   "execution_count": null,
   "metadata": {},
   "outputs": [],
   "source": [
    "def preliminary_and_revision(group):\n",
    "    if group.shape[0] == 1:\n",
    "        return False\n",
    "    preliminary_value = group[group.preliminary]\n",
    "    if preliminary_value.shape[0] == 0:\n",
    "        return False\n",
    "    XBRL_value = group[~group.preliminary & (group.revision_number == 1)]\n",
    "    if XBRL_value.shape[0] == 0:\n",
    "        return False\n",
    "    return preliminary_value.iloc[0].value != XBRL_value.iloc[0].value"
   ]
  },
  {
   "cell_type": "code",
   "execution_count": null,
   "metadata": {},
   "outputs": [],
   "source": [
    "def error_type(g):\n",
    "    # set_trace()\n",
    "    preliminary_value = g[g.preliminary].iloc[0].value\n",
    "    XBRL_value = g[~g.preliminary].iloc[0].value\n",
    "    preliminary_decimal = Decimal(preliminary_value).normalize().as_tuple()\n",
    "    XBRL_decimal = Decimal(XBRL_value).normalize().as_tuple()\n",
    "    diff = (preliminary_value - XBRL_value) / XBRL_value\n",
    "    d = pd.DataFrame(g)\n",
    "    d[\"diff\"] = diff\n",
    "    break_type = \"diff\"\n",
    "    if preliminary_decimal.digits == XBRL_decimal.digits:\n",
    "        if preliminary_decimal.exponent == XBRL_decimal.exponent:\n",
    "            break_type = \"sign\"\n",
    "        else:\n",
    "            break_type = \"scale\"\n",
    "    elif math.isclose(preliminary_value, XBRL_value, rel_tol=0.05):\n",
    "        break_type = \"close_enough\"\n",
    "    else:\n",
    "        break_type = \"unknown\"\n",
    "    d[\"break_type\"] = break_type\n",
    "    return d"
   ]
  },
  {
   "cell_type": "code",
   "execution_count": null,
   "metadata": {},
   "outputs": [],
   "source": [
    "group_by = [\"ticker\", \"metric\", \"calendar_year\", \"calendar_period\"]\n",
    "groups = data.groupby(group_by, sort=False)\n",
    "groups = list(groups)"
   ]
  },
  {
   "cell_type": "code",
   "execution_count": null,
   "metadata": {},
   "outputs": [],
   "source": []
  },
  {
   "cell_type": "code",
   "execution_count": null,
   "metadata": {},
   "outputs": [],
   "source": [
    "all_breaks = pd.DataFrame()\n",
    "for ticker in tqdm_notebook(data.ticker.unique()):\n",
    "\n",
    "    preliminary_and_revision_lines = (\n",
    "        data[data.ticker == ticker]\n",
    "        .groupby(group_by)\n",
    "        .filter(preliminary_and_revision)\n",
    "        .reset_index(drop=True)\n",
    "    )\n",
    "    breaks = preliminary_and_revision_lines.groupby(group_by).apply(error_type)\n",
    "    if breaks.empty:\n",
    "        continue\n",
    "    breaks = breaks.sort_values(group_by)\n",
    "    breaks.reset_index(inplace=True, drop=True)\n",
    "    all_breaks.append(breaks)"
   ]
  },
  {
   "cell_type": "code",
   "execution_count": null,
   "metadata": {},
   "outputs": [],
   "source": [
    "error_types = preliminary_and_revision_lines.groupby(group_by).apply(error_type)"
   ]
  },
  {
   "cell_type": "code",
   "execution_count": null,
   "metadata": {},
   "outputs": [],
   "source": [
    "breaks = (\n",
    "    preliminary_and_revision_lines.groupby(group_by)\n",
    "    .apply(error_type)\n",
    "    .sort_values(group_by)\n",
    ")\n",
    "breaks.reset_index(inplace=True, drop=True)"
   ]
  },
  {
   "cell_type": "code",
   "execution_count": null,
   "metadata": {},
   "outputs": [],
   "source": [
    "breaks"
   ]
  },
  {
   "cell_type": "code",
   "execution_count": null,
   "metadata": {},
   "outputs": [],
   "source": [
    "breaks.to_excel(\n",
    "    r\"breaks.xlsx\", index=False\n",
    ")"
   ]
  },
  {
   "cell_type": "code",
   "execution_count": null,
   "metadata": {},
   "outputs": [],
   "source": []
  }
 ],
 "metadata": {
  "kernelspec": {
   "display_name": "Python 3",
   "language": "python",
   "name": "python3"
  },
  "language_info": {
   "codemirror_mode": {
    "name": "ipython",
    "version": 3
   },
   "file_extension": ".py",
   "mimetype": "text/x-python",
   "name": "python",
   "nbconvert_exporter": "python",
   "pygments_lexer": "ipython3",
   "version": "3.8.2"
  }
 },
 "nbformat": 4,
 "nbformat_minor": 4
}
