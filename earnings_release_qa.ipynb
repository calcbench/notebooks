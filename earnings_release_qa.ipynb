{
 "cells": [
  {
   "cell_type": "code",
   "execution_count": null,
   "metadata": {},
   "outputs": [],
   "source": [
    "import calcbench as cb\n",
    "import pandas as pd\n",
    "import math\n",
    "import numpy as np\n",
    "from decimal import Decimal\n",
    "from tqdm import tqdm, tqdm_notebook\n",
    "from IPython.core.debugger import set_trace\n",
    "from tqdm.notebook import tqdm\n",
    "import random\n",
    "import qgrid\n",
    "from sklearn.metrics import confusion_matrix\n",
    "\n",
    "cb.enable_backoff()\n",
    "\n",
    "tqdm.pandas(desc=\"my bar!\")"
   ]
  },
  {
   "cell_type": "code",
   "execution_count": null,
   "metadata": {},
   "outputs": [],
   "source": [
    "tickers = cb.tickers(index=\"DJIA\")"
   ]
  },
  {
   "cell_type": "code",
   "execution_count": null,
   "metadata": {},
   "outputs": [],
   "source": [
    "relevant_columns = [\n",
    "    \"preliminary\",\n",
    "    \"revision_number\",\n",
    "    \"value\",\n",
    "    \"trace_url\",\n",
    "    \"XBRL\",\n",
    "    \"filing_type\",\n",
    "]"
   ]
  },
  {
   "cell_type": "code",
   "execution_count": null,
   "metadata": {},
   "outputs": [],
   "source": [
    "data = pd.DataFrame()\n",
    "for ticker in tqdm(tickers[:2]):\n",
    "    d = cb.point_in_time(\n",
    "        company_identifiers=[ticker],\n",
    "        all_face=True,\n",
    "        # metrics=[\"EBIT\"],\n",
    "        include_preliminary=True,\n",
    "        include_xbrl=True,\n",
    "        all_history=True,\n",
    "        period_type=\"quarterly\",\n",
    "        include_trace=True,\n",
    "    )\n",
    "    data = data.append(d)\n",
    "data.reset_index(inplace=True, drop=True)\n",
    "\n",
    "data = data[data.fiscal_period.isin([1, 2, 3, 4])]\n",
    "data[\"period\"] = pd.PeriodIndex(\n",
    "    year=data.fiscal_year, quarter=data.fiscal_period, freq=\"Q\"\n",
    ")\n",
    "data = data.set_index([\"ticker\", \"metric\", \"period\"])\n",
    "data = data[relevant_columns]"
   ]
  },
  {
   "cell_type": "code",
   "execution_count": null,
   "metadata": {},
   "outputs": [],
   "source": [
    "qgrid.show_grid(data)"
   ]
  },
  {
   "cell_type": "code",
   "execution_count": null,
   "metadata": {},
   "outputs": [],
   "source": [
    "def preliminary_and_revision(group: pd.DataFrame) -> bool:\n",
    "    \"\"\"\n",
    "    Does this group have a preliminary line and an XBRL line?\n",
    "    \"\"\"\n",
    "    unconfirmed_preliminary = group[group.preliminary & ~group.XBRL].shape[0]\n",
    "    XBRL_revision = group[group.XBRL & (group.revision_number > 0)].shape[0]\n",
    "    return bool(unconfirmed_preliminary and XBRL_revision)"
   ]
  },
  {
   "cell_type": "code",
   "execution_count": null,
   "metadata": {},
   "outputs": [],
   "source": [
    "def error_type(g):\n",
    "    preliminary_row = g[g.preliminary].iloc[0]\n",
    "    preliminary_value = preliminary_row.value\n",
    "    XBRL_value = g[~g.preliminary].iloc[0].value\n",
    "    preliminary_decimal = Decimal(preliminary_value).normalize().as_tuple()\n",
    "    XBRL_decimal = Decimal(XBRL_value).normalize().as_tuple()\n",
    "    diff = (preliminary_value - XBRL_value) / XBRL_value\n",
    "    d = pd.DataFrame(g)\n",
    "    d[\"diff\"] = diff\n",
    "    if preliminary_decimal.digits == XBRL_decimal.digits:\n",
    "        if preliminary_decimal.exponent == XBRL_decimal.exponent:\n",
    "            break_type = \"sign\"\n",
    "        else:\n",
    "            break_type = \"scale\"\n",
    "    elif math.isclose(preliminary_value, XBRL_value, rel_tol=0.05):\n",
    "        break_type = \"close_enough\"\n",
    "    elif math.isclose(preliminary_value * 4, XBRL_value, rel_tol=0.1):\n",
    "        break_type = \"quarter_error\"\n",
    "    else:\n",
    "        break_type = \"unknown\"\n",
    "    d[\"break_type\"] = break_type\n",
    "    g[g.preliminary][\"error\"] = break_type\n",
    "    return d"
   ]
  },
  {
   "cell_type": "code",
   "execution_count": 143,
   "metadata": {},
   "outputs": [],
   "source": [
    "groups_with_preliminary_and_revisioin = data.groupby(data.index).filter(\n",
    "    preliminary_and_revision\n",
    ")"
   ]
  },
  {
   "cell_type": "code",
   "execution_count": 148,
   "metadata": {
    "scrolled": true
   },
   "outputs": [
    {
     "data": {
      "application/vnd.jupyter.widget-view+json": {
       "model_id": "a6486269ee404f27bdb20179c9c979e0",
       "version_major": 2,
       "version_minor": 0
      },
      "text/plain": [
       "my bar!:   0%|          | 0/741 [00:00<?, ?it/s]"
      ]
     },
     "metadata": {},
     "output_type": "display_data"
    },
    {
     "name": "stderr",
     "output_type": "stream",
     "text": [
      "<ipython-input-30-a745ee1068fa>:7: RuntimeWarning: divide by zero encountered in double_scalars\n",
      "  diff = (preliminary_value - XBRL_value) / XBRL_value\n"
     ]
    }
   ],
   "source": [
    "all_breaks = groups_with_preliminary_and_revisioin.groupby(\n",
    "    groups_with_preliminary_and_revisioin.index\n",
    ").progress_apply(error_type)"
   ]
  },
  {
   "cell_type": "code",
   "execution_count": 150,
   "metadata": {},
   "outputs": [],
   "source": [
    "preliminary_with_error_type = data[data.preliminary].merge(\n",
    "    all_breaks[all_breaks.preliminary],\n",
    "    how=\"left\",\n",
    ")"
   ]
  },
  {
   "cell_type": "code",
   "execution_count": 152,
   "metadata": {},
   "outputs": [
    {
     "data": {
      "text/plain": [
       "(2539, 6)"
      ]
     },
     "execution_count": 152,
     "metadata": {},
     "output_type": "execute_result"
    }
   ],
   "source": [
    "data[data.preliminary].shape"
   ]
  },
  {
   "cell_type": "code",
   "execution_count": null,
   "metadata": {},
   "outputs": [],
   "source": [
    "qgrid.show_grid(preliminary_with_error_type)"
   ]
  },
  {
   "cell_type": "code",
   "execution_count": null,
   "metadata": {},
   "outputs": [],
   "source": [
    "preliminary_with_error_type.groupby(\"break_type\", dropna=False).count()"
   ]
  },
  {
   "cell_type": "code",
   "execution_count": null,
   "metadata": {},
   "outputs": [],
   "source": [
    "data[(data.ticker == \"AXP\") & (data.metric == \"Revenue\")]"
   ]
  },
  {
   "cell_type": "code",
   "execution_count": null,
   "metadata": {},
   "outputs": [],
   "source": [
    "data[\"period\"] = pd.PeriodIndex(\n",
    "    year=data.fiscal_year, quarter=data.fiscal_period, freq=\"Q\"\n",
    ")"
   ]
  },
  {
   "cell_type": "code",
   "execution_count": null,
   "metadata": {},
   "outputs": [],
   "source": []
  }
 ],
 "metadata": {
  "kernelspec": {
   "display_name": "Python 3",
   "language": "python",
   "name": "python3"
  },
  "language_info": {
   "codemirror_mode": {
    "name": "ipython",
    "version": 3
   },
   "file_extension": ".py",
   "mimetype": "text/x-python",
   "name": "python",
   "nbconvert_exporter": "python",
   "pygments_lexer": "ipython3",
   "version": "3.8.2"
  }
 },
 "nbformat": 4,
 "nbformat_minor": 4
}
