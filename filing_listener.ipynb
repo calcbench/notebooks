{
 "cells": [
  {
   "cell_type": "markdown",
   "metadata": {},
   "source": [
    "# Handle Push Notification of New Filings\n",
    "## Calcbench pushes a message after each new SEC filing is processed and ready for retrieval.\n",
    "### Requires a queue subscription from Calcbench, talk to us.\n",
    "### Requires optional dependencies `pip install calcbench-api-client[Listener]`\n",
    "### Documentation @ http://calcbench.github.io/python_api_client/html/push-notification.html\n",
    "### Example daemon @ https://github.com/calcbench/notebooks/tree/master/filing_listener"
   ]
  },
  {
   "cell_type": "code",
   "execution_count": null,
   "metadata": {
    "scrolled": true
   },
   "outputs": [],
   "source": [
    "import calcbench as cb"
   ]
  },
  {
   "cell_type": "code",
   "execution_count": null,
   "metadata": {},
   "outputs": [],
   "source": [
    "subscription_name = \"Ask Calcbench for a queue subscription\""
   ]
  },
  {
   "cell_type": "code",
   "execution_count": null,
   "metadata": {},
   "outputs": [],
   "source": [
    "def handle_filing(filing: cb.Filing):\n",
    "    if not filing.standardized_XBRL:\n",
    "        return\n",
    "    accession_id = filing.calcbench_id\n",
    "    filing_data = cb.point_in_time(\n",
    "        accession_id=accession_id, all_face=True, all_footnotes=True\n",
    "    )\n",
    "    print(filing_data)"
   ]
  },
  {
   "cell_type": "code",
   "execution_count": null,
   "metadata": {},
   "outputs": [],
   "source": [
    "cb.handle_filings(\n",
    "    handler=handle_filing,\n",
    "    subscription_name=subscription_name,\n",
    ")"
   ]
  },
  {
   "cell_type": "markdown",
   "metadata": {},
   "source": [
    "## Get historical data by filing date"
   ]
  },
  {
   "cell_type": "code",
   "execution_count": null,
   "metadata": {},
   "outputs": [],
   "source": [
    "from datetime import date\n",
    "\n",
    "filings = cb.filings(\n",
    "    start_date=date(2021, 5, 25), end_date=date(2021, 5, 29), entire_universe=True\n",
    ")\n",
    "for filing in filings:\n",
    "    handle_filing(filing)"
   ]
  }
 ],
 "metadata": {
  "kernelspec": {
   "display_name": "Python 3",
   "language": "python",
   "name": "python3"
  },
  "language_info": {
   "codemirror_mode": {
    "name": "ipython",
    "version": 3
   },
   "file_extension": ".py",
   "mimetype": "text/x-python",
   "name": "python",
   "nbconvert_exporter": "python",
   "pygments_lexer": "ipython3",
   "version": "3.8.2"
  }
 },
 "nbformat": 4,
 "nbformat_minor": 2
}
