{
 "cells": [
  {
   "cell_type": "markdown",
   "metadata": {},
   "source": [
    "# Handle Push Notification of New Filings\n",
    "## Calcbench pushes a message after each new SEC filing is processed and ready for retrieval.\n",
    "### Requires a queue subscription from Calcbench\n",
    "### Need to `pip install azure.servicebus`"
   ]
  },
  {
   "cell_type": "code",
   "execution_count": null,
   "metadata": {
    "scrolled": true
   },
   "outputs": [],
   "source": [
    "import calcbench as cb"
   ]
  },
  {
   "cell_type": "code",
   "execution_count": null,
   "metadata": {},
   "outputs": [],
   "source": [
    "connection_string = \"Endpoint=sb://calcbench.servicebus.windows.net/;SharedAccessKeyName=public;SharedAccessKey=Cb7VhLR6eJxsurCSPtXQHOJvlkU84CCCx2oB+T/so6Q=\"\n",
    "subscription_name = \"{your subscription name}\""
   ]
  },
  {
   "cell_type": "code",
   "execution_count": null,
   "metadata": {},
   "outputs": [],
   "source": [
    "def handle_filing(filing):\n",
    "    accession_id = filing[\"calcbench_id\"]\n",
    "    filing_data = cb.point_in_time(accession_id=filing[\"calcbench_id\"], all_face=True)\n",
    "    print(filing_data)"
   ]
  },
  {
   "cell_type": "code",
   "execution_count": null,
   "metadata": {},
   "outputs": [],
   "source": [
    "cb.handle_filings(\n",
    "    handler=handle_filing,\n",
    "    connection_string=connection_string,\n",
    "    subscription_name=subscription_name,\n",
    "    filter_expression=\"FilingType = 'annualQuarterlyReport'\",\n",
    ")"
   ]
  }
 ],
 "metadata": {
  "kernelspec": {
   "display_name": "Python 3",
   "language": "python",
   "name": "python3"
  },
  "language_info": {
   "codemirror_mode": {
    "name": "ipython",
    "version": 3
   },
   "file_extension": ".py",
   "mimetype": "text/x-python",
   "name": "python",
   "nbconvert_exporter": "python",
   "pygments_lexer": "ipython3",
   "version": "3.8.2"
  }
 },
 "nbformat": 4,
 "nbformat_minor": 2
}
