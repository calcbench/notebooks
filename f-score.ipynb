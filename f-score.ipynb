{
 "cells": [
  {
   "cell_type": "markdown",
   "metadata": {},
   "source": [
    "# Dechow's F-Score\n",
    "## [Original Paper](https://poseidon01.ssrn.com/delivery.php?ID=556009073006105088000122086073105078024081022041024036031090115103120083014070085024099002021039108007045065097003086091003112104036001013036115108029089018008107000061062003088073093002097123117025122099081111118125007118076120069029016119120082027&EXT=pdf)\n"
   ]
  },
  {
   "cell_type": "code",
   "execution_count": 1,
   "metadata": {
    "collapsed": true
   },
   "outputs": [
    {
     "name": "stdout",
     "output_type": "stream",
     "text": [
      "Requirement already satisfied: calcbench-api-client[Pandas] in c:\\users\\andre\\repos\\python_api_client (14.1.2)\n",
      "Requirement already satisfied: requests in c:\\users\\andre\\appdata\\local\\programs\\python\\python311\\lib\\site-packages (from calcbench-api-client[Pandas]) (2.31.0)\n",
      "Requirement already satisfied: pydantic>=2.0.0 in c:\\users\\andre\\appdata\\local\\programs\\python\\python311\\lib\\site-packages (from calcbench-api-client[Pandas]) (2.5.3)\n",
      "Requirement already satisfied: Pandas>=1.0.0 in c:\\users\\andre\\appdata\\local\\programs\\python\\python311\\lib\\site-packages (from calcbench-api-client[Pandas]) (2.2.0)\n",
      "Requirement already satisfied: numpy<2,>=1.23.2 in c:\\users\\andre\\appdata\\local\\programs\\python\\python311\\lib\\site-packages (from Pandas>=1.0.0->calcbench-api-client[Pandas]) (1.23.5)\n",
      "Requirement already satisfied: python-dateutil>=2.8.2 in c:\\users\\andre\\appdata\\local\\programs\\python\\python311\\lib\\site-packages (from Pandas>=1.0.0->calcbench-api-client[Pandas]) (2.8.2)\n",
      "Requirement already satisfied: pytz>=2020.1 in c:\\users\\andre\\appdata\\local\\programs\\python\\python311\\lib\\site-packages (from Pandas>=1.0.0->calcbench-api-client[Pandas]) (2023.3.post1)\n",
      "Requirement already satisfied: tzdata>=2022.7 in c:\\users\\andre\\appdata\\local\\programs\\python\\python311\\lib\\site-packages (from Pandas>=1.0.0->calcbench-api-client[Pandas]) (2023.4)\n",
      "Requirement already satisfied: annotated-types>=0.4.0 in c:\\users\\andre\\appdata\\local\\programs\\python\\python311\\lib\\site-packages (from pydantic>=2.0.0->calcbench-api-client[Pandas]) (0.6.0)\n",
      "Requirement already satisfied: pydantic-core==2.14.6 in c:\\users\\andre\\appdata\\local\\programs\\python\\python311\\lib\\site-packages (from pydantic>=2.0.0->calcbench-api-client[Pandas]) (2.14.6)\n",
      "Requirement already satisfied: typing-extensions>=4.6.1 in c:\\users\\andre\\appdata\\local\\programs\\python\\python311\\lib\\site-packages (from pydantic>=2.0.0->calcbench-api-client[Pandas]) (4.9.0)\n",
      "Requirement already satisfied: charset-normalizer<4,>=2 in c:\\users\\andre\\appdata\\local\\programs\\python\\python311\\lib\\site-packages (from requests->calcbench-api-client[Pandas]) (3.3.2)\n",
      "Requirement already satisfied: idna<4,>=2.5 in c:\\users\\andre\\appdata\\local\\programs\\python\\python311\\lib\\site-packages (from requests->calcbench-api-client[Pandas]) (3.6)\n",
      "Requirement already satisfied: urllib3<3,>=1.21.1 in c:\\users\\andre\\appdata\\local\\programs\\python\\python311\\lib\\site-packages (from requests->calcbench-api-client[Pandas]) (2.1.0)\n",
      "Requirement already satisfied: certifi>=2017.4.17 in c:\\users\\andre\\appdata\\local\\programs\\python\\python311\\lib\\site-packages (from requests->calcbench-api-client[Pandas]) (2023.11.17)\n",
      "Requirement already satisfied: six>=1.5 in c:\\users\\andre\\appdata\\local\\programs\\python\\python311\\lib\\site-packages (from python-dateutil>=2.8.2->Pandas>=1.0.0->calcbench-api-client[Pandas]) (1.16.0)\n",
      "Note: you may need to restart the kernel to use updated packages.\n"
     ]
    }
   ],
   "source": [
    "%pip install \"calcbench-api-client[Pandas]\""
   ]
  },
  {
   "cell_type": "code",
   "execution_count": 2,
   "metadata": {},
   "outputs": [],
   "source": [
    "import calcbench as cb\n",
    "import pandas as pd\n",
    "import numpy as np"
   ]
  },
  {
   "cell_type": "code",
   "execution_count": 3,
   "metadata": {},
   "outputs": [],
   "source": [
    "metrics = [\n",
    "    \"Assets\",\n",
    "    \"Liabilities\",\n",
    "    \"CurrentAssets\",\n",
    "    \"Cash\",\n",
    "    \"ShortTermInvestments\",\n",
    "    \"CurrentLiabilities\",\n",
    "    \"CurrentLongTermDebt\",\n",
    "    \"LongTermDebt\",\n",
    "    \"PreferredStockValue\",\n",
    "    \"AccountsReceivable\",\n",
    "    \"Inventory\",\n",
    "    \"PPE\",\n",
    "    \"NetIncome\",\n",
    "    \"SharesIssued\",\n",
    "    \"LoansReceivable\",\n",
    "    \"LongTermInvestments\",\n",
    "    \"Revenue\",\n",
    "]"
   ]
  },
  {
   "cell_type": "code",
   "execution_count": 4,
   "metadata": {},
   "outputs": [],
   "source": [
    "tickers = cb.tickers(index=\"DJIA\")"
   ]
  },
  {
   "cell_type": "code",
   "execution_count": 16,
   "metadata": {},
   "outputs": [],
   "source": [
    "data = cb.standardized(\n",
    "    company_identifiers=tickers, metrics=metrics, period_type=\"annual\"\n",
    ").fillna(0).unstack('metric')['value']"
   ]
  },
  {
   "cell_type": "code",
   "execution_count": 18,
   "metadata": {},
   "outputs": [],
   "source": [
    "average_total_assets = (data[\"Assets\"] + data.shift(1)[\"Assets\"]) / 2"
   ]
  },
  {
   "cell_type": "code",
   "execution_count": 19,
   "metadata": {},
   "outputs": [],
   "source": [
    "# Working Capital\n",
    "WC = data[\"CurrentAssets\"] - data[\"CurrentLiabilities\"]"
   ]
  },
  {
   "cell_type": "code",
   "execution_count": 20,
   "metadata": {},
   "outputs": [],
   "source": [
    "# Net Charge Offs\n",
    "investments_and_advances = data[\n",
    "    \"LoansReceivable\"\n",
    "]  # This is probably not totally correct.  The paper says Investments and Advances is DATA 32 from CompuStat\n",
    "NCO = (data[\"Assets\"] - data[\"CurrentAssets\"] - investments_and_advances) - (\n",
    "    data[\"Liabilities\"] - data[\"CurrentLiabilities\"] - data[\"LongTermDebt\"]\n",
    ")"
   ]
  },
  {
   "cell_type": "code",
   "execution_count": 21,
   "metadata": {},
   "outputs": [],
   "source": [
    "FIN = (data[\"ShortTermInvestments\"] + data[\"LongTermInvestments\"]) - (\n",
    "    data[\"LongTermDebt\"] + data[\"CurrentLongTermDebt\"] + data[\"PreferredStockValue\"]\n",
    ")"
   ]
  },
  {
   "cell_type": "code",
   "execution_count": 22,
   "metadata": {},
   "outputs": [],
   "source": [
    "RSST_Accruals = (WC.diff() + NCO.diff() + FIN.diff()) / average_total_assets"
   ]
  },
  {
   "cell_type": "code",
   "execution_count": 23,
   "metadata": {},
   "outputs": [],
   "source": [
    "percent_soft_assets = (data[\"Assets\"] - data[\"PPE\"]) / data[\"Assets\"]"
   ]
  },
  {
   "cell_type": "code",
   "execution_count": 24,
   "metadata": {},
   "outputs": [],
   "source": [
    "issued_shares = data[\"SharesIssued\"].diff() > 0"
   ]
  },
  {
   "cell_type": "code",
   "execution_count": 25,
   "metadata": {},
   "outputs": [],
   "source": [
    "change_inventory = data[\"Inventory\"].diff() / average_total_assets"
   ]
  },
  {
   "cell_type": "code",
   "execution_count": 26,
   "metadata": {},
   "outputs": [],
   "source": [
    "change_receivables = data[\"AccountsReceivable\"] / average_total_assets"
   ]
  },
  {
   "cell_type": "code",
   "execution_count": 27,
   "metadata": {},
   "outputs": [],
   "source": [
    "cash_sales = data[\"Revenue\"] - data[\"AccountsReceivable\"].diff()"
   ]
  },
  {
   "cell_type": "code",
   "execution_count": 28,
   "metadata": {},
   "outputs": [],
   "source": [
    "ROA = data[\"NetIncome\"] / average_total_assets"
   ]
  },
  {
   "cell_type": "code",
   "execution_count": 29,
   "metadata": {},
   "outputs": [],
   "source": [
    "intercept = -7.893"
   ]
  },
  {
   "cell_type": "code",
   "execution_count": 30,
   "metadata": {},
   "outputs": [
    {
     "name": "stderr",
     "output_type": "stream",
     "text": [
      "C:\\Users\\andre\\AppData\\Local\\Temp\\ipykernel_22004\\4123540390.py:7: FutureWarning: The default fill_method='pad' in Series.pct_change is deprecated and will be removed in a future version. Either fill in any non-leading NA values prior to calling pct_change or specify 'fill_method=None' to not fill NA values.\n",
      "  + (0.171 * cash_sales.pct_change())\n"
     ]
    }
   ],
   "source": [
    "predicted_value = (\n",
    "    intercept\n",
    "    + (0.79 * RSST_Accruals)\n",
    "    + (2.518 * change_receivables)\n",
    "    + (1.191 * change_inventory)\n",
    "    + (1.979 * percent_soft_assets)\n",
    "    + (0.171 * cash_sales.pct_change())\n",
    "    + (-0.932 * ROA.diff())\n",
    "    + (1.029 * issued_shares)\n",
    ")"
   ]
  },
  {
   "cell_type": "code",
   "execution_count": 31,
   "metadata": {},
   "outputs": [],
   "source": [
    "probability = (np.e ** predicted_value) / (1 + np.e ** predicted_value)"
   ]
  },
  {
   "cell_type": "code",
   "execution_count": null,
   "metadata": {},
   "outputs": [],
   "source": []
  }
 ],
 "metadata": {
  "kernelspec": {
   "display_name": "Python 3 (ipykernel)",
   "language": "python",
   "name": "python3"
  },
  "language_info": {
   "codemirror_mode": {
    "name": "ipython",
    "version": 3
   },
   "file_extension": ".py",
   "mimetype": "text/x-python",
   "name": "python",
   "nbconvert_exporter": "python",
   "pygments_lexer": "ipython3",
   "version": "3.11.0"
  }
 },
 "nbformat": 4,
 "nbformat_minor": 2
}
