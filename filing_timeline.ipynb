{
 "cells": [
  {
   "cell_type": "markdown",
   "id": "bf3e6dd5",
   "metadata": {},
   "source": [
    "## Filing Lag\n",
    "### What is the delay between Calcbench processing the earnings press release and the XBRL 10-K/Q?\n",
    "### In general companies publish an earnings-press-release, either on a news wire or as an 8-K.  The earnings press release has the face financials and some KPIs.  Calcbench does our best to extract the numbers from the earnings press release.\n",
    "### A few minutes to ~10 days later the company files and XBRL encoded 10-K/Q with face financials and footnotes.  Calcbench extracts the numbers from the XBRL."
   ]
  },
  {
   "cell_type": "code",
   "execution_count": 2,
   "id": "8246ccea",
   "metadata": {},
   "outputs": [],
   "source": [
    "import calcbench as cb\n",
    "from calcbench.filing import FilingType\n",
    "from datetime import date\n",
    "import numpy as np"
   ]
  },
  {
   "cell_type": "code",
   "execution_count": 3,
   "id": "86e5b7b5",
   "metadata": {},
   "outputs": [],
   "source": [
    "filings = cb.filings_dataframe(\n",
    "    start_date=date(2022, 10, 12), end_date=date(2022, 11, 12)\n",
    ")"
   ]
  },
  {
   "cell_type": "code",
   "execution_count": 5,
   "id": "6d2adda9",
   "metadata": {},
   "outputs": [],
   "source": [
    "def filing_timeline(filings):\n",
    "    filings = filings.sort_values('calcbench_finished_load')\n",
    "    ten_QK = filings[filings.filing_type == FilingType.annualQuarterlyReport]\n",
    "    ten_KQ_filing_date = pd.NaT\n",
    "    if ten_QK.shape[0] > 0:\n",
    "        ten_KQ_filing_date = ten_QK.iloc[0].calcbench_finished_load\n",
    "    earnings_press_release = filings[\n",
    "        filings.filing_type == FilingType.eightk_earningsPressRelease\n",
    "    ]\n",
    "    earnings_press_release_filing_date = pd.NaT\n",
    "    if earnings_press_release.shape[0] > 0:\n",
    "        earnings_press_release_filing_date = earnings_press_release.iloc[\n",
    "            0\n",
    "        ].calcbench_finished_load\n",
    "\n",
    "    return pd.Series(\n",
    "        (\n",
    "            earnings_press_release_filing_date,\n",
    "            ten_KQ_filing_date,\n",
    "            ten_KQ_filing_date - earnings_press_release_filing_date,\n",
    "        ),\n",
    "        [\n",
    "            \"earnings_press_release_filing_date\",\n",
    "            \"10-KQ_filing_date\",\n",
    "            \"press_release_to_10_KQ_lag\",\n",
    "        ],\n",
    "    )"
   ]
  },
  {
   "cell_type": "code",
   "execution_count": 6,
   "id": "3e602059",
   "metadata": {},
   "outputs": [
    {
     "name": "stderr",
     "output_type": "stream",
     "text": [
      "C:\\Users\\andre\\AppData\\Local\\Temp\\ipykernel_22048\\3311001337.py:2: FutureWarning: The default of observed=False is deprecated and will be changed to True in a future version of pandas. Pass observed=False to retain current behavior or observed=True to adopt the future default and silence this warning.\n",
      "  filings.groupby([\"ticker\", \"fiscal_year\", \"fiscal_period\"])\n",
      "C:\\Users\\andre\\AppData\\Local\\Temp\\ipykernel_22048\\3311001337.py:3: DeprecationWarning: DataFrameGroupBy.apply operated on the grouping columns. This behavior is deprecated, and in a future version of pandas the grouping columns will be excluded from the operation. Either pass `include_groups=False` to exclude the groupings or explicitly select the grouping columns after groupby to silence this warning.\n",
      "  .apply(filing_timeline)\n"
     ]
    }
   ],
   "source": [
    "filing_lags = (\n",
    "    filings.groupby([\"ticker\", \"fiscal_year\", \"fiscal_period\"])\n",
    "    .apply(filing_timeline)\n",
    "    .dropna()\n",
    ")"
   ]
  },
  {
   "cell_type": "code",
   "execution_count": 7,
   "id": "f45be251",
   "metadata": {},
   "outputs": [],
   "source": [
    "filing_lags.to_excel(\"filing_timeline.xlsx\")"
   ]
  },
  {
   "cell_type": "markdown",
   "id": "9a76bfc7",
   "metadata": {},
   "source": [
    "### Most of the 10-K/Qs a received on the same day"
   ]
  },
  {
   "cell_type": "code",
   "execution_count": 16,
   "id": "5b43d6cc",
   "metadata": {},
   "outputs": [
    {
     "data": {
      "text/plain": [
       "<Axes: ylabel='Frequency'>"
      ]
     },
     "execution_count": 16,
     "metadata": {},
     "output_type": "execute_result"
    },
    {
     "data": {
      "image/png": "[encoded data removed]",
      "text/plain": [
       "<Figure size 640x480 with 1 Axes>"
      ]
     },
     "metadata": {},
     "output_type": "display_data"
    }
   ],
   "source": [
    "(filing_lags.press_release_to_10_KQ_lag / pd.Timedelta(hours=1)).plot.hist(\n",
    "    cumulative=True, bins=np.logspace(-1, 2, 50)\n",
    ")"
   ]
  },
  {
   "cell_type": "code",
   "execution_count": 17,
   "id": "0a0763c6",
   "metadata": {},
   "outputs": [
    {
     "data": {
      "text/plain": [
       "count                         3385\n",
       "mean     2 days 12:49:01.980206794\n",
       "std      4 days 18:44:06.413558367\n",
       "min              -6 days +20:14:38\n",
       "25%                0 days 01:32:00\n",
       "50%                0 days 09:51:43\n",
       "75%                1 days 15:06:05\n",
       "max               27 days 07:59:15\n",
       "Name: press_release_to_10_KQ_lag, dtype: object"
      ]
     },
     "execution_count": 17,
     "metadata": {},
     "output_type": "execute_result"
    }
   ],
   "source": [
    "filing_lags.press_release_to_10_KQ_lag.describe()"
   ]
  },
  {
   "cell_type": "markdown",
   "id": "9e897eac",
   "metadata": {},
   "source": [
    "## Filing Data\n",
    "### What data are we getting from earnings press-releases vs XBRL 10-K/Qs?"
   ]
  },
  {
   "cell_type": "code",
   "execution_count": 18,
   "id": "c994de90",
   "metadata": {},
   "outputs": [],
   "source": [
    "company_idenfiers = [\"PEP\"]"
   ]
  },
  {
   "cell_type": "code",
   "execution_count": 19,
   "id": "19f7a052",
   "metadata": {},
   "outputs": [],
   "source": [
    "data = cb.standardized(company_identifiers=company_idenfiers, point_in_time=True)"
   ]
  },
  {
   "cell_type": "code",
   "execution_count": 20,
   "id": "62e750e9",
   "metadata": {},
   "outputs": [],
   "source": [
    "pep_data = data.merge(\n",
    "    filings[[\"fiscal_year\", \"fiscal_period\"]].rename(\n",
    "        columns={\n",
    "            \"fiscal_year\": \"filing_fiscal_year\",\n",
    "            \"fiscal_period\": \"filing_fiscal_period\",\n",
    "        }\n",
    "    ),\n",
    "    left_on=\"filing_id\",\n",
    "    right_index=True,\n",
    ")"
   ]
  },
  {
   "cell_type": "markdown",
   "id": "85b2b4f5",
   "metadata": {},
   "source": [
    "### For PEP Calcbench extracted 51 values from the 8-K and 94 from the 10-Q.\n",
    "#### Number from both the 8-K and 10-Q are only included in the 8-K count."
   ]
  },
  {
   "cell_type": "code",
   "execution_count": 21,
   "id": "4ceead78",
   "metadata": {},
   "outputs": [
    {
     "data": {
      "text/plain": [
       "filing_type\n",
       "10-Q    126\n",
       "8-K      74\n",
       "Name: count, dtype: Int64"
      ]
     },
     "execution_count": 21,
     "metadata": {},
     "output_type": "execute_result"
    }
   ],
   "source": [
    "pep_data['filing_type'].value_counts()"
   ]
  },
  {
   "cell_type": "code",
   "execution_count": null,
   "id": "e22fa717",
   "metadata": {},
   "outputs": [],
   "source": []
  }
 ],
 "metadata": {
  "kernelspec": {
   "display_name": "Python 3 (ipykernel)",
   "language": "python",
   "name": "python3"
  },
  "language_info": {
   "codemirror_mode": {
    "name": "ipython",
    "version": 3
   },
   "file_extension": ".py",
   "mimetype": "text/x-python",
   "name": "python",
   "nbconvert_exporter": "python",
   "pygments_lexer": "ipython3",
   "version": "3.11.0"
  }
 },
 "nbformat": 4,
 "nbformat_minor": 5
}
