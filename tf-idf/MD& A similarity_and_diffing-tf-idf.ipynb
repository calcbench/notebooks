{
 "cells": [
  {
   "cell_type": "code",
   "execution_count": 12,
   "metadata": {
    "slideshow": {
     "slide_type": "skip"
    }
   },
   "outputs": [],
   "source": [
    "import calcbench as cb\n",
    "from sklearn.feature_extraction.text import TfidfVectorizer\n",
    "from bs4 import BeautifulSoup\n",
    "from scipy.spatial.distance import cosine\n",
    "from IPython.core.display import display, HTML\n",
    "import sklearn\n",
    "import itertools\n",
    "from tqdm import tqdm_notebook\n",
    "from matplotlib import colors\n",
    "import matplotlib.pyplot as plt\n",
    "import pandas as pd"
   ]
  },
  {
   "cell_type": "code",
   "execution_count": null,
   "metadata": {
    "slideshow": {
     "slide_type": "skip"
    }
   },
   "outputs": [],
   "source": [
    "class NumberNormalizingVectorizer(sklearn.feature_extraction.text.TfidfVectorizer):\n",
    "    def build_tokenizer(self):\n",
    "        tokenize = super(NumberNormalizingVectorizer, self).build_tokenizer()\n",
    "        return lambda doc: list(number_normalizer(tokenize(doc)))"
   ]
  },
  {
   "cell_type": "code",
   "execution_count": null,
   "metadata": {
    "slideshow": {
     "slide_type": "skip"
    }
   },
   "outputs": [],
   "source": [
    "def number_normalizer(tokens):\n",
    "    \"\"\"Map all numeric tokens to a placeholder.\n",
    "\n",
    "    For many applications, tokens that begin with a number are not directly\n",
    "    useful, but the fact that such a token exists can be relevant.  By applying\n",
    "    this form of dimensionality reduction, some methods may perform better.\n",
    "    \"\"\"\n",
    "\n",
    "    return (\"#NUMBER\" if token[0].isdigit() else token for token in tokens)"
   ]
  },
  {
   "cell_type": "code",
   "execution_count": null,
   "metadata": {
    "slideshow": {
     "slide_type": "skip"
    }
   },
   "outputs": [],
   "source": [
    "def pairwise(iterable):\n",
    "    \"s -> (s0,s1), (s1,s2), (s2, s3), ...\"\n",
    "    a, b = itertools.tee(iterable)\n",
    "    next(b, None)\n",
    "    return zip(a, b)"
   ]
  },
  {
   "cell_type": "code",
   "execution_count": null,
   "metadata": {},
   "outputs": [],
   "source": [
    "tickers = cb.tickers(index=\"DJIA\")[:2]"
   ]
  },
  {
   "cell_type": "code",
   "execution_count": null,
   "metadata": {
    "slideshow": {
     "slide_type": "skip"
    }
   },
   "outputs": [],
   "source": [
    "document_section = \"ManagementsDiscussionAndAnalysis\"  # See the full list @ https://www.calcbench.com/disclosure_list\n",
    "first_year = 2008\n",
    "end_year = 2020\n",
    "diffs = pd.DataFrame(index=tickers, columns=range(end_year, first_year - 1, -1))\n",
    "for ticker in tqdm_notebook(tickers):\n",
    "    ten_K_sections = (\n",
    "        d\n",
    "        for d in cb.document_search(\n",
    "            company_identifiers=[ticker], document_name=document_section, st\n",
    "        )\n",
    "        if d[\"fiscal_period\"] == \"Y\"\n",
    "    )\n",
    "    sorted_disclosures = sorted(ten_K_sections, key=lambda d: d[\"fiscal_year\"])\n",
    "    year_pairs = pairwise(sorted_disclosures)\n",
    "    for last_year, this_year in tqdm.notebook.tqdm(year_pairs):\n",
    "        text_last_year = BeautifulSoup(last_year.get_contents(), \"html.parser\").text\n",
    "        text_this_year = BeautifulSoup(this_year.get_contents(), \"html.parser\").text\n",
    "        vectorizer = NumberNormalizingVectorizer(stop_words=\"english\")\n",
    "        X = vectorizer.fit_transform([text_this_year, text_last_year])\n",
    "        distance = cosine(X[0].todense(), X[1].todense())\n",
    "        diffs[this_year[\"fiscal_year\"]][ticker] = distance"
   ]
  },
  {
   "cell_type": "code",
   "execution_count": null,
   "metadata": {
    "slideshow": {
     "slide_type": "skip"
    }
   },
   "outputs": [],
   "source": [
    "def background_gradient(s, m, M, cmap=\"PuBu\", low=0, high=0):\n",
    "    # from https://stackoverflow.com/questions/38931566/pandas-style-background-gradient-both-rows-and-columns\n",
    "    rng = M - m\n",
    "    norm = colors.Normalize(m - (rng * low), M + (rng * high))\n",
    "    normed = norm(s.values)\n",
    "    c = [colors.rgb2hex(x) for x in plt.cm.get_cmap(cmap)(normed)]\n",
    "    return [\"background-color: %s\" % color for color in c]\n",
    "\n",
    "\n",
    "def highlight_largest_diffs(diffs):\n",
    "    filled_df = (\n",
    "        diffs.loc[diffs.sum(axis=1).sort_values(ascending=False).index]\n",
    "        .fillna(0)\n",
    "        .round(3)\n",
    "    )\n",
    "    return filled_df.style.apply(\n",
    "        background_gradient,\n",
    "        cmap=\"Reds\",\n",
    "        m=filled_df.min().min(),\n",
    "        M=filled_df.max().max(),\n",
    "        low=0,\n",
    "        high=2.5,\n",
    "    )"
   ]
  },
  {
   "cell_type": "markdown",
   "metadata": {
    "slideshow": {
     "slide_type": "slide"
    }
   },
   "source": [
    "## Hightlight Risk Factors with Greatest Change\n",
    "### Brightest cells are those documents which changed the most vis-a-vis the previous period."
   ]
  },
  {
   "cell_type": "code",
   "execution_count": null,
   "metadata": {
    "scrolled": true,
    "slideshow": {
     "slide_type": "subslide"
    }
   },
   "outputs": [],
   "source": [
    "highlight_largest_diffs(diffs)"
   ]
  },
  {
   "cell_type": "code",
   "execution_count": null,
   "metadata": {},
   "outputs": [],
   "source": [
    "diffs.to_excel(\n",
    "    \"C:\\\\Users\\\\Andrew Kittredge\\\\Dropbox (Calcbench)\\\\Andrew\\\\tf-idf examples\\\\md_a.xlsx\"\n",
    ")"
   ]
  },
  {
   "cell_type": "code",
   "execution_count": null,
   "metadata": {
    "slideshow": {
     "slide_type": "skip"
    }
   },
   "outputs": [],
   "source": [
    "document_section = \"Management's Discussion And Analysis\"\n",
    "ticker = \"CVX\"\n",
    "year = 2012\n",
    "previous_year = 2011\n",
    "doc = next(\n",
    "    cb.document_search(\n",
    "        company_identifiers=[ticker], document_name=document_section, year=year\n",
    "    )\n",
    ").get_contents()\n",
    "previous_doc = next(\n",
    "    cb.document_search(\n",
    "        company_identifiers=[ticker], document_name=document_section, year=previous_year\n",
    "    )\n",
    ").get_contents()\n",
    "display(HTML(cb.html_diff(doc, previous_doc)))"
   ]
  },
  {
   "cell_type": "markdown",
   "metadata": {
    "slideshow": {
     "slide_type": "slide"
    }
   },
   "source": [
    "## Review Changes\n",
    "#### The .607 distance between JNJ's 2015 and 2016 risk factors indicates a substantial change.  We verify the change on Calcbench's [disclosure page](https://www.calcbench.com/query/footnotes?pg_classificationMethod=tickers&pg_tickers=JNJ&doc_searchingBy=footnoteType&doc_footnoteType=1110&doc_selectedDisclosure=b-648365_section111&pc_year=2016&pc_periodType=Annual&pc_useFiscalPeriod=false&pc_rangeOption=Single%20Period&pc_dateRange=%5Bobject%20Object%5D).\n",
    "![Diff](https://dl.dropboxusercontent.com/s/vjd382gr4vvhvuh/diff.png?raw=1)"
   ]
  }
 ],
 "metadata": {
  "celltoolbar": "Slideshow",
  "kernelspec": {
   "display_name": "Python 3",
   "language": "python",
   "name": "python3"
  }
 },
 "nbformat": 4,
 "nbformat_minor": 2
}
