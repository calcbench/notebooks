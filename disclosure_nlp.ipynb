{
 "cells": [
  {
   "cell_type": "markdown",
   "metadata": {},
   "source": [
    "# Download the text of 10-K sections and perform simple natural language processing on them"
   ]
  },
  {
   "cell_type": "code",
   "execution_count": 2,
   "metadata": {
    "collapsed": true
   },
   "outputs": [
    {
     "name": "stdout",
     "output_type": "stream",
     "text": [
      "Requirement already satisfied: tqdm in c:\\users\\andre\\appdata\\local\\programs\\python\\python311\\lib\\site-packages (4.66.5)\n",
      "Requirement already satisfied: nltk in c:\\users\\andre\\appdata\\local\\programs\\python\\python311\\lib\\site-packages (3.8.1)\n",
      "Collecting py-readability-metrics\n",
      "  Downloading py_readability_metrics-1.4.5-py3-none-any.whl.metadata (8.8 kB)\n",
      "Requirement already satisfied: sentence-transformers in c:\\users\\andre\\appdata\\local\\programs\\python\\python311\\lib\\site-packages (2.7.0)\n",
      "Requirement already satisfied: calcbench-api-client[Backoff,BeautifulSoup,Pandas] in c:\\users\\andre\\repos\\python_api_client (14.1.2)\n",
      "Requirement already satisfied: requests in c:\\users\\andre\\appdata\\local\\programs\\python\\python311\\lib\\site-packages (from calcbench-api-client[Backoff,BeautifulSoup,Pandas]) (2.31.0)\n",
      "Requirement already satisfied: pydantic>=2.0.0 in c:\\users\\andre\\appdata\\local\\programs\\python\\python311\\lib\\site-packages (from calcbench-api-client[Backoff,BeautifulSoup,Pandas]) (2.5.3)\n",
      "Requirement already satisfied: backoff in c:\\users\\andre\\appdata\\local\\programs\\python\\python311\\lib\\site-packages (from calcbench-api-client[Backoff,BeautifulSoup,Pandas]) (2.2.1)\n",
      "Requirement already satisfied: beautifulsoup4 in c:\\users\\andre\\appdata\\local\\programs\\python\\python311\\lib\\site-packages (from calcbench-api-client[Backoff,BeautifulSoup,Pandas]) (4.12.3)\n",
      "Requirement already satisfied: Pandas>=1.0.0 in c:\\users\\andre\\appdata\\local\\programs\\python\\python311\\lib\\site-packages (from calcbench-api-client[Backoff,BeautifulSoup,Pandas]) (2.2.0)\n",
      "Requirement already satisfied: colorama in c:\\users\\andre\\appdata\\local\\programs\\python\\python311\\lib\\site-packages (from tqdm) (0.4.6)\n",
      "Requirement already satisfied: click in c:\\users\\andre\\appdata\\local\\programs\\python\\python311\\lib\\site-packages (from nltk) (8.1.7)\n",
      "Requirement already satisfied: joblib in c:\\users\\andre\\appdata\\local\\programs\\python\\python311\\lib\\site-packages (from nltk) (1.3.2)\n",
      "Requirement already satisfied: regex>=2021.8.3 in c:\\users\\andre\\appdata\\local\\programs\\python\\python311\\lib\\site-packages (from nltk) (2024.4.16)\n",
      "Requirement already satisfied: transformers<5.0.0,>=4.34.0 in c:\\users\\andre\\appdata\\local\\programs\\python\\python311\\lib\\site-packages (from sentence-transformers) (4.40.1)\n",
      "Requirement already satisfied: torch>=1.11.0 in c:\\users\\andre\\appdata\\local\\programs\\python\\python311\\lib\\site-packages (from sentence-transformers) (2.3.0)\n",
      "Requirement already satisfied: numpy in c:\\users\\andre\\appdata\\local\\programs\\python\\python311\\lib\\site-packages (from sentence-transformers) (1.23.5)\n",
      "Requirement already satisfied: scikit-learn in c:\\users\\andre\\appdata\\local\\programs\\python\\python311\\lib\\site-packages (from sentence-transformers) (1.4.0)\n",
      "Requirement already satisfied: scipy in c:\\users\\andre\\appdata\\local\\programs\\python\\python311\\lib\\site-packages (from sentence-transformers) (1.12.0)\n",
      "Requirement already satisfied: huggingface-hub>=0.15.1 in c:\\users\\andre\\appdata\\local\\programs\\python\\python311\\lib\\site-packages (from sentence-transformers) (0.22.2)\n",
      "Requirement already satisfied: Pillow in c:\\users\\andre\\appdata\\local\\programs\\python\\python311\\lib\\site-packages (from sentence-transformers) (10.2.0)\n",
      "Requirement already satisfied: filelock in c:\\users\\andre\\appdata\\local\\programs\\python\\python311\\lib\\site-packages (from huggingface-hub>=0.15.1->sentence-transformers) (3.15.4)\n",
      "Requirement already satisfied: fsspec>=2023.5.0 in c:\\users\\andre\\appdata\\local\\programs\\python\\python311\\lib\\site-packages (from huggingface-hub>=0.15.1->sentence-transformers) (2023.12.2)\n",
      "Requirement already satisfied: packaging>=20.9 in c:\\users\\andre\\appdata\\local\\programs\\python\\python311\\lib\\site-packages (from huggingface-hub>=0.15.1->sentence-transformers) (24.1)\n",
      "Requirement already satisfied: pyyaml>=5.1 in c:\\users\\andre\\appdata\\local\\programs\\python\\python311\\lib\\site-packages (from huggingface-hub>=0.15.1->sentence-transformers) (6.0.1)\n",
      "Requirement already satisfied: typing-extensions>=3.7.4.3 in c:\\users\\andre\\appdata\\local\\programs\\python\\python311\\lib\\site-packages (from huggingface-hub>=0.15.1->sentence-transformers) (4.9.0)\n",
      "Requirement already satisfied: python-dateutil>=2.8.2 in c:\\users\\andre\\appdata\\local\\programs\\python\\python311\\lib\\site-packages (from Pandas>=1.0.0->calcbench-api-client[Backoff,BeautifulSoup,Pandas]) (2.8.2)\n",
      "Requirement already satisfied: pytz>=2020.1 in c:\\users\\andre\\appdata\\local\\programs\\python\\python311\\lib\\site-packages (from Pandas>=1.0.0->calcbench-api-client[Backoff,BeautifulSoup,Pandas]) (2023.3.post1)\n",
      "Requirement already satisfied: tzdata>=2022.7 in c:\\users\\andre\\appdata\\local\\programs\\python\\python311\\lib\\site-packages (from Pandas>=1.0.0->calcbench-api-client[Backoff,BeautifulSoup,Pandas]) (2023.4)\n",
      "Requirement already satisfied: annotated-types>=0.4.0 in c:\\users\\andre\\appdata\\local\\programs\\python\\python311\\lib\\site-packages (from pydantic>=2.0.0->calcbench-api-client[Backoff,BeautifulSoup,Pandas]) (0.6.0)\n",
      "Requirement already satisfied: pydantic-core==2.14.6 in c:\\users\\andre\\appdata\\local\\programs\\python\\python311\\lib\\site-packages (from pydantic>=2.0.0->calcbench-api-client[Backoff,BeautifulSoup,Pandas]) (2.14.6)\n",
      "Requirement already satisfied: sympy in c:\\users\\andre\\appdata\\local\\programs\\python\\python311\\lib\\site-packages (from torch>=1.11.0->sentence-transformers) (1.12)\n",
      "Requirement already satisfied: networkx in c:\\users\\andre\\appdata\\local\\programs\\python\\python311\\lib\\site-packages (from torch>=1.11.0->sentence-transformers) (3.3)\n",
      "Requirement already satisfied: jinja2 in c:\\users\\andre\\appdata\\local\\programs\\python\\python311\\lib\\site-packages (from torch>=1.11.0->sentence-transformers) (3.1.3)\n",
      "Requirement already satisfied: mkl<=2021.4.0,>=2021.1.1 in c:\\users\\andre\\appdata\\local\\programs\\python\\python311\\lib\\site-packages (from torch>=1.11.0->sentence-transformers) (2021.4.0)\n",
      "Requirement already satisfied: tokenizers<0.20,>=0.19 in c:\\users\\andre\\appdata\\local\\programs\\python\\python311\\lib\\site-packages (from transformers<5.0.0,>=4.34.0->sentence-transformers) (0.19.1)\n",
      "Requirement already satisfied: safetensors>=0.4.1 in c:\\users\\andre\\appdata\\local\\programs\\python\\python311\\lib\\site-packages (from transformers<5.0.0,>=4.34.0->sentence-transformers) (0.4.3)\n",
      "Requirement already satisfied: soupsieve>1.2 in c:\\users\\andre\\appdata\\local\\programs\\python\\python311\\lib\\site-packages (from beautifulsoup4->calcbench-api-client[Backoff,BeautifulSoup,Pandas]) (2.5)\n",
      "Requirement already satisfied: charset-normalizer<4,>=2 in c:\\users\\andre\\appdata\\local\\programs\\python\\python311\\lib\\site-packages (from requests->calcbench-api-client[Backoff,BeautifulSoup,Pandas]) (3.3.2)\n",
      "Requirement already satisfied: idna<4,>=2.5 in c:\\users\\andre\\appdata\\local\\programs\\python\\python311\\lib\\site-packages (from requests->calcbench-api-client[Backoff,BeautifulSoup,Pandas]) (3.6)\n",
      "Requirement already satisfied: urllib3<3,>=1.21.1 in c:\\users\\andre\\appdata\\local\\programs\\python\\python311\\lib\\site-packages (from requests->calcbench-api-client[Backoff,BeautifulSoup,Pandas]) (2.1.0)\n",
      "Requirement already satisfied: certifi>=2017.4.17 in c:\\users\\andre\\appdata\\local\\programs\\python\\python311\\lib\\site-packages (from requests->calcbench-api-client[Backoff,BeautifulSoup,Pandas]) (2023.11.17)\n",
      "Requirement already satisfied: threadpoolctl>=2.0.0 in c:\\users\\andre\\appdata\\local\\programs\\python\\python311\\lib\\site-packages (from scikit-learn->sentence-transformers) (3.2.0)\n",
      "Requirement already satisfied: intel-openmp==2021.* in c:\\users\\andre\\appdata\\local\\programs\\python\\python311\\lib\\site-packages (from mkl<=2021.4.0,>=2021.1.1->torch>=1.11.0->sentence-transformers) (2021.4.0)\n",
      "Requirement already satisfied: tbb==2021.* in c:\\users\\andre\\appdata\\local\\programs\\python\\python311\\lib\\site-packages (from mkl<=2021.4.0,>=2021.1.1->torch>=1.11.0->sentence-transformers) (2021.12.0)\n",
      "Requirement already satisfied: six>=1.5 in c:\\users\\andre\\appdata\\local\\programs\\python\\python311\\lib\\site-packages (from python-dateutil>=2.8.2->Pandas>=1.0.0->calcbench-api-client[Backoff,BeautifulSoup,Pandas]) (1.16.0)\n",
      "Requirement already satisfied: MarkupSafe>=2.0 in c:\\users\\andre\\appdata\\local\\programs\\python\\python311\\lib\\site-packages (from jinja2->torch>=1.11.0->sentence-transformers) (2.1.4)\n",
      "Requirement already satisfied: mpmath>=0.19 in c:\\users\\andre\\appdata\\local\\programs\\python\\python311\\lib\\site-packages (from sympy->torch>=1.11.0->sentence-transformers) (1.3.0)\n",
      "Downloading py_readability_metrics-1.4.5-py3-none-any.whl (26 kB)\n",
      "Installing collected packages: py-readability-metrics\n",
      "Successfully installed py-readability-metrics-1.4.5\n",
      "Note: you may need to restart the kernel to use updated packages.\n"
     ]
    }
   ],
   "source": [
    "%pip install \"calcbench-api-client[Pandas, Backoff, BeautifulSoup]\" tqdm nltk py-readability-metrics sentence-transformers\n",
    "# also install pytorch following the instructions @ https://pytorch.org/"
   ]
  },
  {
   "cell_type": "code",
   "execution_count": 3,
   "metadata": {
    "collapsed": true
   },
   "outputs": [
    {
     "name": "stderr",
     "output_type": "stream",
     "text": [
      "[nltk_data] Downloading package punkt to\n",
      "[nltk_data]     C:\\Users\\andre\\AppData\\Roaming\\nltk_data...\n",
      "[nltk_data]   Package punkt is already up-to-date!\n"
     ]
    }
   ],
   "source": [
    "import calcbench as cb\n",
    "from readability import (\n",
    "    Readability,\n",
    ")  # https://github.com/cdimascio/py-readability-metrics\n",
    "from readability.exceptions import ReadabilityException\n",
    "from tqdm import tqdm\n",
    "from tqdm.notebook import tqdm as tqdm_notebook\n",
    "from nltk import word_tokenize\n",
    "import nltk\n",
    "\n",
    "nltk.download(\"punkt\")\n",
    "from sentence_transformers import SentenceTransformer, util\n",
    "\n",
    "cb.enable_backoff(giveup=lambda e: e.response.status_code == 404)\n",
    "import torch\n",
    "\n",
    "tqdm.pandas(desc=\"progress\") # adds the progress_applymap function"
   ]
  },
  {
   "cell_type": "code",
   "execution_count": 4,
   "metadata": {},
   "outputs": [],
   "source": [
    "tickers = cb.tickers(index=\"DJIA\")"
   ]
  },
  {
   "cell_type": "code",
   "execution_count": 5,
   "metadata": {
    "collapsed": true
   },
   "outputs": [
    {
     "data": {
      "application/vnd.jupyter.widget-view+json": {
       "model_id": "a89891ed174a4eafa77a3b8eca7f92c7",
       "version_major": 2,
       "version_minor": 0
      },
      "text/plain": [
       "0it [00:00, ?it/s]"
      ]
     },
     "metadata": {},
     "output_type": "display_data"
    },
    {
     "name": "stderr",
     "output_type": "stream",
     "text": [
      "c:\\users\\andre\\repos\\python_api_client\\calcbench\\disclosures.py:264: FutureWarning: 'A' is deprecated and will be removed in a future version, please use 'Y' instead.\n",
      "  pandas_period = pd.Period(year=period_year, freq=\"A\")  # type: ignore\n"
     ]
    }
   ],
   "source": [
    "with tqdm_notebook() as progress_bar:\n",
    "    data = cb.disclosure_dataframe(\n",
    "        company_identifiers=tickers[:2],\n",
    "        all_history=True,\n",
    "        disclosure_names=[\"ManagementsDiscussionAndAnalysis\", \"RiskFactors\"],\n",
    "        use_fiscal_period=True,\n",
    "        progress_bar=progress_bar,\n",
    "        period_type=cb.api_query_params.PeriodType.Annual\n",
    "    )"
   ]
  },
  {
   "cell_type": "code",
   "execution_count": 6,
   "metadata": {},
   "outputs": [
    {
     "name": "stderr",
     "output_type": "stream",
     "text": [
      "progress:   0%|                                                                                 | 0/68 [00:00<?, ?it/s]C:\\Users\\andre\\AppData\\Local\\Programs\\Python\\Python311\\Lib\\site-packages\\tqdm\\std.py:917: FutureWarning: DataFrame.applymap has been deprecated. Use DataFrame.map instead.\n",
      "  return getattr(df, df_function)(wrapper, **kwargs)\n",
      "progress:  94%|███████████████████████████████████████████████████████████████████▊    | 64/68 [00:16<00:01,  4.00it/s]\n"
     ]
    }
   ],
   "source": [
    "def get_contents(d):\n",
    "    try:\n",
    "        return d.get_contents_text()\n",
    "    except Exception as e:\n",
    "        print(f\"Exception getting {d} \\n{e}\")\n",
    "\n",
    "\n",
    "d = data.progress_applymap(get_contents, na_action=\"ignore\")"
   ]
  },
  {
   "cell_type": "code",
   "execution_count": 7,
   "metadata": {
    "collapsed": true
   },
   "outputs": [
    {
     "name": "stderr",
     "output_type": "stream",
     "text": [
      "progress:  94%|███████████████████████████████████████████████████████████████████▊    | 64/68 [00:18<00:01,  3.52it/s]\n"
     ]
    }
   ],
   "source": [
    "def flesch_kincaid(text):\n",
    "    try:\n",
    "        return Readability(text).flesch_kincaid().score\n",
    "    except ReadabilityException:\n",
    "        return None\n",
    "\n",
    "\n",
    "readability = d.progress_applymap(flesch_kincaid, na_action=\"ignore\")"
   ]
  },
  {
   "cell_type": "code",
   "execution_count": null,
   "metadata": {},
   "outputs": [],
   "source": [
    "readability.to_excel(r\"readability.xlsx\")"
   ]
  },
  {
   "cell_type": "code",
   "execution_count": 8,
   "metadata": {
    "collapsed": true
   },
   "outputs": [
    {
     "name": "stderr",
     "output_type": "stream",
     "text": [
      "progress:  94%|███████████████████████████████████████████████████████████████████▊    | 64/68 [00:02<00:00, 26.51it/s]\n"
     ]
    }
   ],
   "source": [
    "word_counts = d.progress_applymap(\n",
    "    lambda text: len(word_tokenize(text)), na_action=\"ignore\"\n",
    ")"
   ]
  },
  {
   "cell_type": "code",
   "execution_count": null,
   "metadata": {},
   "outputs": [],
   "source": [
    "word_counts.to_excel(r\"word_counts.xlsx\")"
   ]
  },
  {
   "cell_type": "code",
   "execution_count": 9,
   "metadata": {
    "collapsed": true
   },
   "outputs": [
    {
     "data": {
      "application/vnd.jupyter.widget-view+json": {
       "model_id": "ac4de916acfb402293b2b5fc99aa6382",
       "version_major": 2,
       "version_minor": 0
      },
      "text/plain": [
       "modules.json:   0%|          | 0.00/229 [00:00<?, ?B/s]"
      ]
     },
     "metadata": {},
     "output_type": "display_data"
    },
    {
     "data": {
      "application/vnd.jupyter.widget-view+json": {
       "model_id": "7dec931ad0b84ab18dd27306ce9dd4c8",
       "version_major": 2,
       "version_minor": 0
      },
      "text/plain": [
       "config_sentence_transformers.json:   0%|          | 0.00/122 [00:00<?, ?B/s]"
      ]
     },
     "metadata": {},
     "output_type": "display_data"
    },
    {
     "data": {
      "application/vnd.jupyter.widget-view+json": {
       "model_id": "125b39c19fd342ea81d1cb6ddcc927ce",
       "version_major": 2,
       "version_minor": 0
      },
      "text/plain": [
       "README.md:   0%|          | 0.00/4.05k [00:00<?, ?B/s]"
      ]
     },
     "metadata": {},
     "output_type": "display_data"
    },
    {
     "data": {
      "application/vnd.jupyter.widget-view+json": {
       "model_id": "008a64c5e54b459babc8281623846d08",
       "version_major": 2,
       "version_minor": 0
      },
      "text/plain": [
       "sentence_bert_config.json:   0%|          | 0.00/53.0 [00:00<?, ?B/s]"
      ]
     },
     "metadata": {},
     "output_type": "display_data"
    },
    {
     "data": {
      "application/vnd.jupyter.widget-view+json": {
       "model_id": "3d9baba6b0a349898125e2f798873435",
       "version_major": 2,
       "version_minor": 0
      },
      "text/plain": [
       "config.json:   0%|          | 0.00/555 [00:00<?, ?B/s]"
      ]
     },
     "metadata": {},
     "output_type": "display_data"
    },
    {
     "data": {
      "application/vnd.jupyter.widget-view+json": {
       "model_id": "ff9b56cb1d6146b693ab154857dc6cd6",
       "version_major": 2,
       "version_minor": 0
      },
      "text/plain": [
       "model.safetensors:   0%|          | 0.00/265M [00:00<?, ?B/s]"
      ]
     },
     "metadata": {},
     "output_type": "display_data"
    },
    {
     "data": {
      "application/vnd.jupyter.widget-view+json": {
       "model_id": "ff2540d61ecc44dea95a652e69c3f967",
       "version_major": 2,
       "version_minor": 0
      },
      "text/plain": [
       "tokenizer_config.json:   0%|          | 0.00/505 [00:00<?, ?B/s]"
      ]
     },
     "metadata": {},
     "output_type": "display_data"
    },
    {
     "data": {
      "application/vnd.jupyter.widget-view+json": {
       "model_id": "194655f815b4455fabbffb46b7b193d4",
       "version_major": 2,
       "version_minor": 0
      },
      "text/plain": [
       "vocab.txt:   0%|          | 0.00/232k [00:00<?, ?B/s]"
      ]
     },
     "metadata": {},
     "output_type": "display_data"
    },
    {
     "data": {
      "application/vnd.jupyter.widget-view+json": {
       "model_id": "85147de9dda147b1980b1f3a5148676c",
       "version_major": 2,
       "version_minor": 0
      },
      "text/plain": [
       "tokenizer.json:   0%|          | 0.00/466k [00:00<?, ?B/s]"
      ]
     },
     "metadata": {},
     "output_type": "display_data"
    },
    {
     "data": {
      "application/vnd.jupyter.widget-view+json": {
       "model_id": "da9d03c0366943859d80fc8d3c2bec7a",
       "version_major": 2,
       "version_minor": 0
      },
      "text/plain": [
       "special_tokens_map.json:   0%|          | 0.00/112 [00:00<?, ?B/s]"
      ]
     },
     "metadata": {},
     "output_type": "display_data"
    },
    {
     "data": {
      "application/vnd.jupyter.widget-view+json": {
       "model_id": "4129514733584c10932186004eac6ebe",
       "version_major": 2,
       "version_minor": 0
      },
      "text/plain": [
       "1_Pooling/config.json:   0%|          | 0.00/190 [00:00<?, ?B/s]"
      ]
     },
     "metadata": {},
     "output_type": "display_data"
    },
    {
     "name": "stderr",
     "output_type": "stream",
     "text": [
      "progress:   0%|                                                                                  | 0/4 [00:00<?, ?it/s]C:\\Users\\andre\\AppData\\Local\\Programs\\Python\\Python311\\Lib\\site-packages\\sentence_transformers\\SentenceTransformer.py:362: FutureWarning: Series.__getitem__ treating keys as positions is deprecated. In a future version, integer keys will always be treated as labels (consistent with DataFrame behavior). To access a value by position, use `ser.iloc[pos]`\n",
      "  sentences_sorted = [sentences[idx] for idx in length_sorted_idx]\n",
      "progress: 100%|██████████████████████████████████████████████████████████████████████████| 4/4 [00:06<00:00,  1.64s/it]\n"
     ]
    }
   ],
   "source": [
    "model = SentenceTransformer(\"distilbert-base-nli-stsb-mean-tokens\")\n",
    "tensor_cosine_distance = torch.nn.CosineSimilarity()\n",
    "\n",
    "\n",
    "def cosine_difference(documents):\n",
    "    embeddings = model.encode(documents.fillna(\"\"), convert_to_tensor=True)\n",
    "    return tensor_cosine_distance(embeddings, embeddings.roll(1, 0))\n",
    "\n",
    "\n",
    "diffs = d.progress_apply(cosine_difference)"
   ]
  },
  {
   "cell_type": "code",
   "execution_count": null,
   "metadata": {},
   "outputs": [],
   "source": [
    "diffs.to_excel(r\"cosine_diffs.xlsx\")"
   ]
  },
  {
   "cell_type": "code",
   "execution_count": null,
   "metadata": {},
   "outputs": [],
   "source": []
  }
 ],
 "metadata": {
  "kernelspec": {
   "display_name": "Python 3 (ipykernel)",
   "language": "python",
   "name": "python3"
  },
  "language_info": {
   "codemirror_mode": {
    "name": "ipython",
    "version": 3
   },
   "file_extension": ".py",
   "mimetype": "text/x-python",
   "name": "python",
   "nbconvert_exporter": "python",
   "pygments_lexer": "ipython3",
   "version": "3.11.0"
  }
 },
 "nbformat": 4,
 "nbformat_minor": 4
}
