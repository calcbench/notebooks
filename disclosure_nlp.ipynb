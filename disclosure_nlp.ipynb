{
 "cells": [
  {
   "cell_type": "markdown",
   "metadata": {},
   "source": [
    "# Download the text of 10-K sections and perform simple natural language processing on them"
   ]
  },
  {
   "cell_type": "code",
   "execution_count": null,
   "metadata": {},
   "outputs": [],
   "source": [
    "%pip install \"calcbench-api-client[Pandas, Backoff, BeautifulSoup]\" tqdm nltk py-readability-metrics sentence-transformers\n",
    "# also install pytorch following the instructions @ https://pytorch.org/"
   ]
  },
  {
   "cell_type": "code",
   "execution_count": null,
   "metadata": {},
   "outputs": [],
   "source": [
    "import calcbench as cb\n",
    "from readability import (\n",
    "    Readability,\n",
    ")  # https://github.com/cdimascio/py-readability-metrics\n",
    "from readability.exceptions import ReadabilityException\n",
    "from tqdm import tqdm\n",
    "from tqdm.notebook import tqdm as tqdm_notebook\n",
    "from nltk import word_tokenize\n",
    "import nltk\n",
    "\n",
    "nltk.download(\"punkt\")\n",
    "from sentence_transformers import SentenceTransformer, util\n",
    "\n",
    "cb.enable_backoff(giveup=lambda e: e.response.status_code == 404)\n",
    "import torch\n",
    "\n",
    "tqdm.pandas(desc=\"progress\") # adds the progress_applymap function"
   ]
  },
  {
   "cell_type": "code",
   "execution_count": null,
   "metadata": {},
   "outputs": [],
   "source": [
    "tickers = cb.tickers(index=\"DJIA\")"
   ]
  },
  {
   "cell_type": "code",
   "execution_count": null,
   "metadata": {},
   "outputs": [],
   "source": [
    "with tqdm_notebook() as progress_bar:\n",
    "    data = cb.disclosure_dataframe(\n",
    "        company_identifiers=tickers[:2],\n",
    "        all_history=True,\n",
    "        disclosure_names=[\"ManagementsDiscussionAndAnalysis\", \"RiskFactors\"],\n",
    "        use_fiscal_period=True,\n",
    "        progress_bar=progress_bar,\n",
    "        period_type=cb.api_query_params.PeriodType.Annual\n",
    "    )"
   ]
  },
  {
   "cell_type": "code",
   "execution_count": null,
   "metadata": {},
   "outputs": [],
   "source": [
    "def get_contents(d):\n",
    "    try:\n",
    "        return d.get_contents_text()\n",
    "    except Exception as e:\n",
    "        print(f\"Exception getting {d} \\n{e}\")\n",
    "\n",
    "\n",
    "d = data.progress_applymap(get_contents, na_action=\"ignore\")"
   ]
  },
  {
   "cell_type": "code",
   "execution_count": null,
   "metadata": {},
   "outputs": [],
   "source": [
    "def flesch_kincaid(text):\n",
    "    try:\n",
    "        return Readability(text).flesch_kincaid().score\n",
    "    except ReadabilityException:\n",
    "        return None\n",
    "\n",
    "\n",
    "readability = d.progress_applymap(flesch_kincaid, na_action=\"ignore\")"
   ]
  },
  {
   "cell_type": "code",
   "execution_count": null,
   "metadata": {},
   "outputs": [],
   "source": [
    "readability.to_excel(r\"readability.xlsx\")"
   ]
  },
  {
   "cell_type": "code",
   "execution_count": null,
   "metadata": {},
   "outputs": [],
   "source": [
    "word_counts = d.progress_applymap(\n",
    "    lambda text: len(word_tokenize(text)), na_action=\"ignore\"\n",
    ")"
   ]
  },
  {
   "cell_type": "code",
   "execution_count": null,
   "metadata": {},
   "outputs": [],
   "source": [
    "word_counts.to_excel(r\"word_counts.xlsx\")"
   ]
  },
  {
   "cell_type": "code",
   "execution_count": null,
   "metadata": {},
   "outputs": [],
   "source": [
    "model = SentenceTransformer(\"distilbert-base-nli-stsb-mean-tokens\")\n",
    "tensor_cosine_distance = torch.nn.CosineSimilarity()\n",
    "\n",
    "\n",
    "def cosine_difference(documents):\n",
    "    embeddings = model.encode(documents.fillna(\"\"), convert_to_tensor=True)\n",
    "    return tensor_cosine_distance(embeddings, embeddings.roll(1, 0))\n",
    "\n",
    "\n",
    "diffs = d.progress_apply(cosine_difference)"
   ]
  },
  {
   "cell_type": "code",
   "execution_count": null,
   "metadata": {},
   "outputs": [],
   "source": [
    "diffs.to_excel(r\"cosine_diffs.xlsx\")"
   ]
  },
  {
   "cell_type": "code",
   "execution_count": null,
   "metadata": {},
   "outputs": [],
   "source": []
  }
 ],
 "metadata": {
  "kernelspec": {
   "display_name": "Python 3 (ipykernel)",
   "language": "python",
   "name": "python3"
  },
  "language_info": {
   "codemirror_mode": {
    "name": "ipython",
    "version": 3
   },
   "file_extension": ".py",
   "mimetype": "text/x-python",
   "name": "python",
   "nbconvert_exporter": "python",
   "pygments_lexer": "ipython3",
   "version": "3.8.2"
  }
 },
 "nbformat": 4,
 "nbformat_minor": 4
}
