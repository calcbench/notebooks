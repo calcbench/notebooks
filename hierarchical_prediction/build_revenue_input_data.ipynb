{
 "cells": [
  {
   "cell_type": "code",
   "execution_count": 1,
   "id": "fa47d89a",
   "metadata": {},
   "outputs": [
    {
     "name": "stdout",
     "output_type": "stream",
     "text": [
      "Requirement already satisfied: calcbench-api-client[Pandas] in c:\\users\\andre\\repos\\python_api_client (14.1.2)\n",
      "Requirement already satisfied: requests in c:\\users\\andre\\appdata\\local\\programs\\python\\python311\\lib\\site-packages (from calcbench-api-client[Pandas]) (2.31.0)\n",
      "Requirement already satisfied: pydantic>=2.0.0 in c:\\users\\andre\\appdata\\local\\programs\\python\\python311\\lib\\site-packages (from calcbench-api-client[Pandas]) (2.5.3)\n",
      "Requirement already satisfied: Pandas>=1.0.0 in c:\\users\\andre\\appdata\\local\\programs\\python\\python311\\lib\\site-packages (from calcbench-api-client[Pandas]) (2.2.0)\n",
      "Requirement already satisfied: numpy<2,>=1.23.2 in c:\\users\\andre\\appdata\\local\\programs\\python\\python311\\lib\\site-packages (from Pandas>=1.0.0->calcbench-api-client[Pandas]) (1.23.5)\n",
      "Requirement already satisfied: python-dateutil>=2.8.2 in c:\\users\\andre\\appdata\\local\\programs\\python\\python311\\lib\\site-packages (from Pandas>=1.0.0->calcbench-api-client[Pandas]) (2.8.2)\n",
      "Requirement already satisfied: pytz>=2020.1 in c:\\users\\andre\\appdata\\local\\programs\\python\\python311\\lib\\site-packages (from Pandas>=1.0.0->calcbench-api-client[Pandas]) (2023.3.post1)\n",
      "Requirement already satisfied: tzdata>=2022.7 in c:\\users\\andre\\appdata\\local\\programs\\python\\python311\\lib\\site-packages (from Pandas>=1.0.0->calcbench-api-client[Pandas]) (2023.4)\n",
      "Requirement already satisfied: annotated-types>=0.4.0 in c:\\users\\andre\\appdata\\local\\programs\\python\\python311\\lib\\site-packages (from pydantic>=2.0.0->calcbench-api-client[Pandas]) (0.6.0)\n",
      "Requirement already satisfied: pydantic-core==2.14.6 in c:\\users\\andre\\appdata\\local\\programs\\python\\python311\\lib\\site-packages (from pydantic>=2.0.0->calcbench-api-client[Pandas]) (2.14.6)\n",
      "Requirement already satisfied: typing-extensions>=4.6.1 in c:\\users\\andre\\appdata\\local\\programs\\python\\python311\\lib\\site-packages (from pydantic>=2.0.0->calcbench-api-client[Pandas]) (4.9.0)\n",
      "Requirement already satisfied: charset-normalizer<4,>=2 in c:\\users\\andre\\appdata\\local\\programs\\python\\python311\\lib\\site-packages (from requests->calcbench-api-client[Pandas]) (3.3.2)\n",
      "Requirement already satisfied: idna<4,>=2.5 in c:\\users\\andre\\appdata\\local\\programs\\python\\python311\\lib\\site-packages (from requests->calcbench-api-client[Pandas]) (3.6)\n",
      "Requirement already satisfied: urllib3<3,>=1.21.1 in c:\\users\\andre\\appdata\\local\\programs\\python\\python311\\lib\\site-packages (from requests->calcbench-api-client[Pandas]) (2.1.0)\n",
      "Requirement already satisfied: certifi>=2017.4.17 in c:\\users\\andre\\appdata\\local\\programs\\python\\python311\\lib\\site-packages (from requests->calcbench-api-client[Pandas]) (2023.11.17)\n",
      "Requirement already satisfied: six>=1.5 in c:\\users\\andre\\appdata\\local\\programs\\python\\python311\\lib\\site-packages (from python-dateutil>=2.8.2->Pandas>=1.0.0->calcbench-api-client[Pandas]) (1.16.0)\n",
      "Note: you may need to restart the kernel to use updated packages.\n"
     ]
    }
   ],
   "source": [
    "%pip install \"calcbench-api-client[Pandas]\""
   ]
  },
  {
   "cell_type": "code",
   "execution_count": 2,
   "id": "0d9b37fe",
   "metadata": {},
   "outputs": [],
   "source": [
    "import pyarrow.parquet as pq\n",
    "import pyarrow.compute as pc\n",
    "import pyarrow as pa\n",
    "import numpy as np\n",
    "import calcbench as cb\n",
    "from ipydatagrid import DataGrid\n",
    "from qgridnext import show_grid\n",
    "from scipy.stats import zscore"
   ]
  },
  {
   "cell_type": "markdown",
   "id": "49cba79a",
   "metadata": {},
   "source": [
    "### File is the Calcbench Point-In-Time data, see https://github.com/calcbench/notebooks/blob/master/standardized_numeric_point_in_time.ipynb\n",
    "### Talk to us@calcbench.com if you want a historical file."
   ]
  },
  {
   "cell_type": "code",
   "execution_count": 3,
   "id": "9d1d964c",
   "metadata": {},
   "outputs": [],
   "source": [
    "d = pq.read_table(\"C:/Users/andre/Downloads/standardized_data_oct_23.parquet\")"
   ]
  },
  {
   "cell_type": "code",
   "execution_count": 4,
   "id": "4030278b",
   "metadata": {},
   "outputs": [],
   "source": [
    "# Only dealing with Revenue for now\n",
    "expr = pc.field(\"metric\") == \"NetIncome\""
   ]
  },
  {
   "cell_type": "code",
   "execution_count": 5,
   "id": "85c83e55",
   "metadata": {},
   "outputs": [],
   "source": [
    "metric_data = d.filter(expr).to_pandas()"
   ]
  },
  {
   "cell_type": "code",
   "execution_count": 6,
   "id": "fb86b3db",
   "metadata": {},
   "outputs": [],
   "source": [
    "metric_data[\"value\"] = metric_data[\"value\"].astype(float)"
   ]
  },
  {
   "cell_type": "code",
   "execution_count": 7,
   "id": "bfa12839",
   "metadata": {},
   "outputs": [],
   "source": [
    "# Remove small companies\n",
    "\n",
    "#revenue = revenue[revenue[\"value\"] > 1e7]"
   ]
  },
  {
   "cell_type": "code",
   "execution_count": 8,
   "id": "6e78e2f8",
   "metadata": {},
   "outputs": [],
   "source": [
    "# Quarterly only\n",
    "metric_data = metric_data[~metric_data.index.get_level_values(\"fiscal_period\").str.endswith(\"-0\")]"
   ]
  },
  {
   "cell_type": "markdown",
   "id": "948ebc44",
   "metadata": {},
   "source": [
    "## Add SIC Code meta-data"
   ]
  },
  {
   "cell_type": "code",
   "execution_count": 9,
   "id": "ed37228a",
   "metadata": {},
   "outputs": [],
   "source": [
    "company_data = cb.companies(entire_universe=True)"
   ]
  },
  {
   "cell_type": "code",
   "execution_count": 10,
   "id": "170a2061",
   "metadata": {},
   "outputs": [],
   "source": [
    "merged = metric_data.reset_index().merge(\n",
    "    company_data[[\"ticker\", \"sic_code\"]], right_on=[\"ticker\"], left_on=[\"ticker\"]\n",
    ")[[\"ticker\", \"period_end\", \"sic_code\", \"value\"]]"
   ]
  },
  {
   "cell_type": "markdown",
   "id": "49913390",
   "metadata": {},
   "source": [
    "##### Split SIC code into levels, GICs codes would probably be better but Calcbench does not have them\n",
    "###### https://www.sec.gov/corpfin/division-of-corporation-finance-standard-industrial-classification-sic-code-list"
   ]
  },
  {
   "cell_type": "code",
   "execution_count": 11,
   "id": "9fce3a1c",
   "metadata": {},
   "outputs": [],
   "source": [
    "merged[\"top_level_SIC_code\"] = merged[\"sic_code\"].floordiv(1000).astype(\"string\")\n",
    "merged[\"second_level_SIC_code\"] = (\n",
    "    (merged[\"sic_code\"] % 1000).floordiv(100).astype(\"string\")\n",
    ")\n",
    "merged[\"third_level_SIC_code\"] = (\n",
    "    (merged[\"sic_code\"] % 100).floordiv(10).astype(\"string\")\n",
    ")\n",
    "merged[\"fourth_level_SIC_code\"] = (merged[\"sic_code\"] % 10).astype(\"string\")"
   ]
  },
  {
   "cell_type": "code",
   "execution_count": 12,
   "id": "c906bd2e",
   "metadata": {},
   "outputs": [],
   "source": [
    "merged[\"ds\"] = (merged[\"period_end\"] + pd.offsets.QuarterEnd()).dt.normalize()"
   ]
  },
  {
   "cell_type": "code",
   "execution_count": 13,
   "id": "f2733003",
   "metadata": {},
   "outputs": [],
   "source": [
    "merged = merged[\n",
    "    ~merged.isnull().T.any()\n",
    "]  # get rid of rows with any null values, the model builder does not like nulls"
   ]
  },
  {
   "cell_type": "code",
   "execution_count": 14,
   "id": "4cc4e131",
   "metadata": {},
   "outputs": [],
   "source": [
    "# only get retail companies \n",
    "#merged = merged[merged['top_level_SIC_code'] == '5']"
   ]
  },
  {
   "cell_type": "code",
   "execution_count": 15,
   "id": "9d461578",
   "metadata": {},
   "outputs": [],
   "source": [
    "# Get first record, there are revisions in the Calcbench data set.\n",
    "merged = merged.groupby([\"ticker\", \"ds\"]).first()"
   ]
  },
  {
   "cell_type": "code",
   "execution_count": 16,
   "id": "5888bd01",
   "metadata": {},
   "outputs": [],
   "source": [
    "# only want companies for which we have more than a year of history\n",
    "merged = merged.groupby(\"ticker\").filter(lambda g: g.shape[0] > 4)"
   ]
  },
  {
   "cell_type": "code",
   "execution_count": 17,
   "id": "8765353a",
   "metadata": {},
   "outputs": [],
   "source": [
    "# throw out outliers\n",
    "z_scores = merged.groupby(\"ticker\")[\"value\"].transform(lambda x: zscore(x))\n",
    "merged = merged[z_scores < 4]"
   ]
  },
  {
   "cell_type": "code",
   "execution_count": 21,
   "id": "eddee9dd",
   "metadata": {},
   "outputs": [
    {
     "data": {
      "text/html": [
       "<div>\n",
       "<style scoped>\n",
       "    .dataframe tbody tr th:only-of-type {\n",
       "        vertical-align: middle;\n",
       "    }\n",
       "\n",
       "    .dataframe tbody tr th {\n",
       "        vertical-align: top;\n",
       "    }\n",
       "\n",
       "    .dataframe thead th {\n",
       "        text-align: right;\n",
       "    }\n",
       "</style>\n",
       "<table border=\"1\" class=\"dataframe\">\n",
       "  <thead>\n",
       "    <tr style=\"text-align: right;\">\n",
       "      <th></th>\n",
       "      <th></th>\n",
       "      <th>period_end</th>\n",
       "      <th>sic_code</th>\n",
       "      <th>y</th>\n",
       "      <th>top_level_SIC_code</th>\n",
       "      <th>second_level_SIC_code</th>\n",
       "      <th>third_level_SIC_code</th>\n",
       "      <th>fourth_level_SIC_code</th>\n",
       "    </tr>\n",
       "    <tr>\n",
       "      <th>ticker</th>\n",
       "      <th>ds</th>\n",
       "      <th></th>\n",
       "      <th></th>\n",
       "      <th></th>\n",
       "      <th></th>\n",
       "      <th></th>\n",
       "      <th></th>\n",
       "      <th></th>\n",
       "    </tr>\n",
       "  </thead>\n",
       "  <tbody>\n",
       "    <tr>\n",
       "      <th rowspan=\"5\" valign=\"top\">0000739708</th>\n",
       "      <th>2010-09-30</th>\n",
       "      <td>2010-06-30</td>\n",
       "      <td>4832</td>\n",
       "      <td>-77207000.0</td>\n",
       "      <td>4</td>\n",
       "      <td>8</td>\n",
       "      <td>3</td>\n",
       "      <td>2</td>\n",
       "    </tr>\n",
       "    <tr>\n",
       "      <th>2010-12-31</th>\n",
       "      <td>2010-09-30</td>\n",
       "      <td>4832</td>\n",
       "      <td>-150392000.0</td>\n",
       "      <td>4</td>\n",
       "      <td>8</td>\n",
       "      <td>3</td>\n",
       "      <td>2</td>\n",
       "    </tr>\n",
       "    <tr>\n",
       "      <th>2011-03-31</th>\n",
       "      <td>2010-12-31</td>\n",
       "      <td>4832</td>\n",
       "      <td>-55627000.0</td>\n",
       "      <td>4</td>\n",
       "      <td>8</td>\n",
       "      <td>3</td>\n",
       "      <td>2</td>\n",
       "    </tr>\n",
       "    <tr>\n",
       "      <th>2011-06-30</th>\n",
       "      <td>2011-03-31</td>\n",
       "      <td>4832</td>\n",
       "      <td>-131363000.0</td>\n",
       "      <td>4</td>\n",
       "      <td>8</td>\n",
       "      <td>3</td>\n",
       "      <td>2</td>\n",
       "    </tr>\n",
       "    <tr>\n",
       "      <th>2011-09-30</th>\n",
       "      <td>2011-06-30</td>\n",
       "      <td>4832</td>\n",
       "      <td>-37975000.0</td>\n",
       "      <td>4</td>\n",
       "      <td>8</td>\n",
       "      <td>3</td>\n",
       "      <td>2</td>\n",
       "    </tr>\n",
       "    <tr>\n",
       "      <th>...</th>\n",
       "      <th>...</th>\n",
       "      <td>...</td>\n",
       "      <td>...</td>\n",
       "      <td>...</td>\n",
       "      <td>...</td>\n",
       "      <td>...</td>\n",
       "      <td>...</td>\n",
       "      <td>...</td>\n",
       "    </tr>\n",
       "    <tr>\n",
       "      <th rowspan=\"5\" valign=\"top\">talo</th>\n",
       "      <th>2023-09-30</th>\n",
       "      <td>2023-06-30</td>\n",
       "      <td>1311</td>\n",
       "      <td>13677000.0</td>\n",
       "      <td>1</td>\n",
       "      <td>3</td>\n",
       "      <td>1</td>\n",
       "      <td>1</td>\n",
       "    </tr>\n",
       "    <tr>\n",
       "      <th>2023-12-31</th>\n",
       "      <td>2023-09-30</td>\n",
       "      <td>1311</td>\n",
       "      <td>-2103000.0</td>\n",
       "      <td>1</td>\n",
       "      <td>3</td>\n",
       "      <td>1</td>\n",
       "      <td>1</td>\n",
       "    </tr>\n",
       "    <tr>\n",
       "      <th>2024-03-31</th>\n",
       "      <td>2023-12-31</td>\n",
       "      <td>1311</td>\n",
       "      <td>85898000.0</td>\n",
       "      <td>1</td>\n",
       "      <td>3</td>\n",
       "      <td>1</td>\n",
       "      <td>1</td>\n",
       "    </tr>\n",
       "    <tr>\n",
       "      <th>2024-06-30</th>\n",
       "      <td>2024-03-31</td>\n",
       "      <td>1311</td>\n",
       "      <td>-112439000.0</td>\n",
       "      <td>1</td>\n",
       "      <td>3</td>\n",
       "      <td>1</td>\n",
       "      <td>1</td>\n",
       "    </tr>\n",
       "    <tr>\n",
       "      <th>2024-09-30</th>\n",
       "      <td>2024-06-30</td>\n",
       "      <td>1311</td>\n",
       "      <td>12381000.0</td>\n",
       "      <td>1</td>\n",
       "      <td>3</td>\n",
       "      <td>1</td>\n",
       "      <td>1</td>\n",
       "    </tr>\n",
       "  </tbody>\n",
       "</table>\n",
       "<p>384531 rows × 7 columns</p>\n",
       "</div>"
      ],
      "text/plain": [
       "                      period_end  sic_code            y top_level_SIC_code  \\\n",
       "ticker     ds                                                                \n",
       "0000739708 2010-09-30 2010-06-30      4832  -77207000.0                  4   \n",
       "           2010-12-31 2010-09-30      4832 -150392000.0                  4   \n",
       "           2011-03-31 2010-12-31      4832  -55627000.0                  4   \n",
       "           2011-06-30 2011-03-31      4832 -131363000.0                  4   \n",
       "           2011-09-30 2011-06-30      4832  -37975000.0                  4   \n",
       "...                          ...       ...          ...                ...   \n",
       "talo       2023-09-30 2023-06-30      1311   13677000.0                  1   \n",
       "           2023-12-31 2023-09-30      1311   -2103000.0                  1   \n",
       "           2024-03-31 2023-12-31      1311   85898000.0                  1   \n",
       "           2024-06-30 2024-03-31      1311 -112439000.0                  1   \n",
       "           2024-09-30 2024-06-30      1311   12381000.0                  1   \n",
       "\n",
       "                      second_level_SIC_code third_level_SIC_code  \\\n",
       "ticker     ds                                                      \n",
       "0000739708 2010-09-30                     8                    3   \n",
       "           2010-12-31                     8                    3   \n",
       "           2011-03-31                     8                    3   \n",
       "           2011-06-30                     8                    3   \n",
       "           2011-09-30                     8                    3   \n",
       "...                                     ...                  ...   \n",
       "talo       2023-09-30                     3                    1   \n",
       "           2023-12-31                     3                    1   \n",
       "           2024-03-31                     3                    1   \n",
       "           2024-06-30                     3                    1   \n",
       "           2024-09-30                     3                    1   \n",
       "\n",
       "                      fourth_level_SIC_code  \n",
       "ticker     ds                                \n",
       "0000739708 2010-09-30                     2  \n",
       "           2010-12-31                     2  \n",
       "           2011-03-31                     2  \n",
       "           2011-06-30                     2  \n",
       "           2011-09-30                     2  \n",
       "...                                     ...  \n",
       "talo       2023-09-30                     1  \n",
       "           2023-12-31                     1  \n",
       "           2024-03-31                     1  \n",
       "           2024-06-30                     1  \n",
       "           2024-09-30                     1  \n",
       "\n",
       "[384531 rows x 7 columns]"
      ]
     },
     "execution_count": 21,
     "metadata": {},
     "output_type": "execute_result"
    }
   ],
   "source": [
    "merged"
   ]
  },
  {
   "cell_type": "code",
   "execution_count": 18,
   "id": "1038c6e5",
   "metadata": {},
   "outputs": [],
   "source": [
    "merged = merged.rename({\"value\": \"y\"}, axis=1)"
   ]
  },
  {
   "cell_type": "code",
   "execution_count": 23,
   "id": "85254cad",
   "metadata": {},
   "outputs": [],
   "source": [
    "merged.reset_index().to_parquet(\"net_income.parquet\", index=False)"
   ]
  },
  {
   "cell_type": "code",
   "execution_count": null,
   "id": "26692a1a",
   "metadata": {},
   "outputs": [],
   "source": []
  }
 ],
 "metadata": {
  "kernelspec": {
   "display_name": "Python 3 (ipykernel)",
   "language": "python",
   "name": "python3"
  },
  "language_info": {
   "codemirror_mode": {
    "name": "ipython",
    "version": 3
   },
   "file_extension": ".py",
   "mimetype": "text/x-python",
   "name": "python",
   "nbconvert_exporter": "python",
   "pygments_lexer": "ipython3",
   "version": "3.11.0"
  }
 },
 "nbformat": 4,
 "nbformat_minor": 5
}
