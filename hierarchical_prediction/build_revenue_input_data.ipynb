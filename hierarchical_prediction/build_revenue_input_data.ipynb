{
 "cells": [
  {
   "cell_type": "code",
   "execution_count": null,
   "id": "fa47d89a",
   "metadata": {},
   "outputs": [],
   "source": [
    "%pip install \"calcbench-api-client[Pandas]\""
   ]
  },
  {
   "cell_type": "code",
   "execution_count": 2,
   "id": "0d9b37fe",
   "metadata": {},
   "outputs": [],
   "source": [
    "import pyarrow.parquet as pq\n",
    "import pyarrow.compute as pc\n",
    "import pyarrow as pa\n",
    "import numpy as np\n",
    "import calcbench as cb\n",
    "from ipydatagrid import DataGrid\n",
    "from qgridnext import show_grid\n",
    "from scipy.stats import zscore"
   ]
  },
  {
   "cell_type": "markdown",
   "id": "49cba79a",
   "metadata": {},
   "source": [
    "### File is the Calcbench Point-In-Time data, see https://github.com/calcbench/notebooks/blob/master/standardized_numeric_point_in_time.ipynb\n",
    "### Talk to us@calcbench.com if you want a historical file."
   ]
  },
  {
   "cell_type": "code",
   "execution_count": 3,
   "id": "9d1d964c",
   "metadata": {},
   "outputs": [],
   "source": [
    "d = pq.read_table(\"C:/Users/andre/Downloads/standardized_data_oct_23.parquet\")"
   ]
  },
  {
   "cell_type": "code",
   "execution_count": 7,
   "id": "f9a53f63",
   "metadata": {},
   "outputs": [
    {
     "name": "stdout",
     "output_type": "stream",
     "text": [
      "Object `isin` not found.\n"
     ]
    }
   ],
   "source": [
    "#pc.field('metric').isin([\"Revenue\", 'CostOfRevenue', )"
   ]
  },
  {
   "cell_type": "code",
   "execution_count": 3,
   "id": "4030278b",
   "metadata": {},
   "outputs": [],
   "source": [
    "# Only dealing with Revenue for now\n",
    "expr = pc.field(\"metric\") == \"Revenue\""
   ]
  },
  {
   "cell_type": "code",
   "execution_count": 4,
   "id": "85c83e55",
   "metadata": {},
   "outputs": [],
   "source": [
    "metric_data = d.filter(expr).to_pandas()"
   ]
  },
  {
   "cell_type": "code",
   "execution_count": 5,
   "id": "fb86b3db",
   "metadata": {},
   "outputs": [],
   "source": [
    "metric_data[\"value\"] = metric_data[\"value\"].astype(float)"
   ]
  },
  {
   "cell_type": "code",
   "execution_count": 6,
   "id": "bfa12839",
   "metadata": {},
   "outputs": [],
   "source": [
    "# Remove small companies\n",
    "\n",
    "#revenue = revenue[revenue[\"value\"] > 1e7]"
   ]
  },
  {
   "cell_type": "code",
   "execution_count": 7,
   "id": "6e78e2f8",
   "metadata": {},
   "outputs": [],
   "source": [
    "# Quarterly only\n",
    "metric_data = metric_data[~metric_data.index.get_level_values(\"fiscal_period\").str.endswith(\"-0\")]"
   ]
  },
  {
   "cell_type": "markdown",
   "id": "948ebc44",
   "metadata": {},
   "source": [
    "## Add SIC Code meta-data"
   ]
  },
  {
   "cell_type": "code",
   "execution_count": 8,
   "id": "2054e7e1",
   "metadata": {},
   "outputs": [],
   "source": [
    "company_data = cb.companies(entire_universe=True)"
   ]
  },
  {
   "cell_type": "code",
   "execution_count": 9,
   "id": "170a2061",
   "metadata": {},
   "outputs": [],
   "source": [
    "merged = metric_data.reset_index().merge(\n",
    "    company_data[[\"ticker\", \"sic_code\"]], right_on=[\"ticker\"], left_on=[\"ticker\"]\n",
    ")[[\"ticker\", \"period_end\", \"sic_code\", \"value\"]]"
   ]
  },
  {
   "cell_type": "markdown",
   "id": "49913390",
   "metadata": {},
   "source": [
    "##### Split SIC code into levels, GICs codes would probably be better but Calcbench does not have them\n",
    "###### https://www.sec.gov/corpfin/division-of-corporation-finance-standard-industrial-classification-sic-code-list"
   ]
  },
  {
   "cell_type": "code",
   "execution_count": 10,
   "id": "9fce3a1c",
   "metadata": {},
   "outputs": [],
   "source": [
    "merged[\"top_level_SIC_code\"] = merged[\"sic_code\"].floordiv(1000).astype(\"string\")\n",
    "merged[\"second_level_SIC_code\"] = (\n",
    "    (merged[\"sic_code\"] % 1000).floordiv(100).astype(\"string\")\n",
    ")\n",
    "merged[\"third_level_SIC_code\"] = (\n",
    "    (merged[\"sic_code\"] % 100).floordiv(10).astype(\"string\")\n",
    ")\n",
    "merged[\"fourth_level_SIC_code\"] = (merged[\"sic_code\"] % 10).astype(\"string\")"
   ]
  },
  {
   "cell_type": "code",
   "execution_count": 11,
   "id": "c906bd2e",
   "metadata": {},
   "outputs": [],
   "source": [
    "merged[\"ds\"] = (merged[\"period_end\"] + pd.offsets.QuarterEnd()).dt.normalize()"
   ]
  },
  {
   "cell_type": "code",
   "execution_count": 12,
   "id": "f2733003",
   "metadata": {},
   "outputs": [],
   "source": [
    "merged = merged[\n",
    "    ~merged.isnull().T.any()\n",
    "]  # get rid of rows with any null values, the model builder does not like nulls"
   ]
  },
  {
   "cell_type": "code",
   "execution_count": 13,
   "id": "4cc4e131",
   "metadata": {},
   "outputs": [],
   "source": [
    "# only get retail companies \n",
    "#merged = merged[merged['top_level_SIC_code'] == '5']"
   ]
  },
  {
   "cell_type": "code",
   "execution_count": 14,
   "id": "9d461578",
   "metadata": {},
   "outputs": [],
   "source": [
    "# Get first record, there are revisions in the Calcbench data set.\n",
    "merged = merged.groupby([\"ticker\", \"ds\"]).first()"
   ]
  },
  {
   "cell_type": "code",
   "execution_count": 15,
   "id": "13dcd9ce",
   "metadata": {},
   "outputs": [],
   "source": [
    "# only want companies for which we have more than a year of history\n",
    "merged = merged.groupby(\"ticker\").filter(lambda g: g.shape[0] > 4)"
   ]
  },
  {
   "cell_type": "code",
   "execution_count": 16,
   "id": "7f981cfa",
   "metadata": {},
   "outputs": [],
   "source": [
    "# throw out outliers\n",
    "z_scores = merged.groupby(\"ticker\")[\"value\"].transform(lambda x: zscore(x))\n",
    "merged = merged[z_scores < 4]"
   ]
  },
  {
   "cell_type": "code",
   "execution_count": 18,
   "id": "ba485fa0",
   "metadata": {},
   "outputs": [],
   "source": [
    "merged = merged.rename({\"value\": \"y\"}, axis=1)"
   ]
  },
  {
   "cell_type": "code",
   "execution_count": 19,
   "id": "b0e36b44",
   "metadata": {},
   "outputs": [],
   "source": [
    "merged.reset_index().to_parquet(\"test_train_data.parquet\", index=False)"
   ]
  },
  {
   "cell_type": "code",
   "execution_count": null,
   "id": "cd42dc49",
   "metadata": {},
   "outputs": [],
   "source": []
  }
 ],
 "metadata": {
  "kernelspec": {
   "display_name": "Python 3 (ipykernel)",
   "language": "python",
   "name": "python3"
  },
  "language_info": {
   "codemirror_mode": {
    "name": "ipython",
    "version": 3
   },
   "file_extension": ".py",
   "mimetype": "text/x-python",
   "name": "python",
   "nbconvert_exporter": "python",
   "pygments_lexer": "ipython3",
   "version": "3.11.0"
  }
 },
 "nbformat": 4,
 "nbformat_minor": 5
}
