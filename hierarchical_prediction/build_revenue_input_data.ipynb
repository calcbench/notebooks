{
 "cells": [
  {
   "cell_type": "code",
   "execution_count": null,
   "id": "fa47d89a",
   "metadata": {},
   "outputs": [],
   "source": [
    "%pip install \"calcbench-api-client[Pandas]\""
   ]
  },
  {
   "cell_type": "code",
   "execution_count": 34,
   "id": "0d9b37fe",
   "metadata": {},
   "outputs": [],
   "source": [
    "import pyarrow.parquet as pq\n",
    "import pyarrow.compute as pc\n",
    "import pandas as pd\n",
    "import calcbench as cb\n",
    "from scipy.stats import zscore\n",
    "from datetime import date\n",
    "from qgridnext import show_grid"
   ]
  },
  {
   "cell_type": "markdown",
   "id": "49cba79a",
   "metadata": {},
   "source": [
    "### File is the Calcbench Point-In-Time data, see https://github.com/calcbench/notebooks/blob/master/standardized_numeric_point_in_time.ipynb\n",
    "\n",
    "### Talk to us@calcbench.com if you want a historical file.\n"
   ]
  },
  {
   "cell_type": "code",
   "execution_count": 2,
   "id": "0646081c",
   "metadata": {},
   "outputs": [],
   "source": [
    "# last date\n",
    "last_date = pd.to_datetime(date(2024, 9, 30))\n",
    "\n",
    "# XBRL data starts ~2010\n",
    "first_date = pd.to_datetime(date(2010, 1, 1))"
   ]
  },
  {
   "cell_type": "code",
   "execution_count": 3,
   "id": "9d1d964c",
   "metadata": {},
   "outputs": [],
   "source": [
    "d = pq.read_table(\"C:/Users/andre/Downloads/standardized_data_oct_23.parquet\")"
   ]
  },
  {
   "cell_type": "code",
   "execution_count": 4,
   "id": "889d84ba",
   "metadata": {},
   "outputs": [],
   "source": [
    "# Filter for the line items we want\n",
    "\n",
    "expenses = [\n",
    "\n",
    "    \"CostOfRevenue\",\n",
    "\n",
    "    \"SGAExpense\",\n",
    "\n",
    "    \"InterestExpense\",\n",
    "\n",
    "    \"IncomeTaxes\",\n",
    "\n",
    "]\n",
    "\n",
    "\n",
    "expr = pc.field(\"metric\").isin([\"Revenue\", \"NetIncome\"] + expenses)\n",
    "\n",
    "metric_data = d.filter(expr).to_pandas()"
   ]
  },
  {
   "cell_type": "code",
   "execution_count": 5,
   "id": "fb86b3db",
   "metadata": {},
   "outputs": [],
   "source": [
    "# do things in millions for readability\n",
    "\n",
    "metric_data[\"value\"] = metric_data[\"value\"].astype(float) / 1e6"
   ]
  },
  {
   "cell_type": "code",
   "execution_count": 6,
   "id": "bfa12839",
   "metadata": {},
   "outputs": [],
   "source": [
    "# Remove small companies\n",
    "\n",
    "# revenue = revenue[revenue[\"value\"] > 1e7]"
   ]
  },
  {
   "cell_type": "code",
   "execution_count": 7,
   "id": "6e78e2f8",
   "metadata": {},
   "outputs": [],
   "source": [
    "# Quarterly only\n",
    "metric_data = metric_data[\n",
    "    ~metric_data.index.get_level_values(\"fiscal_period\").str.endswith(\"-0\")\n",
    "]"
   ]
  },
  {
   "cell_type": "markdown",
   "id": "948ebc44",
   "metadata": {},
   "source": [
    "## Add SIC Code meta-data\n"
   ]
  },
  {
   "cell_type": "code",
   "execution_count": 8,
   "id": "2054e7e1",
   "metadata": {},
   "outputs": [],
   "source": [
    "company_data = cb.companies(entire_universe=True)"
   ]
  },
  {
   "cell_type": "code",
   "execution_count": 9,
   "id": "170a2061",
   "metadata": {},
   "outputs": [],
   "source": [
    "merged = metric_data.reset_index().merge(\n",
    "    company_data[[\"ticker\", \"sic_code\"]], right_on=[\"ticker\"], left_on=[\"ticker\"]\n",
    ")[[\"ticker\", \"period_end\", \"sic_code\", \"value\", \"metric\"]]"
   ]
  },
  {
   "cell_type": "markdown",
   "id": "49913390",
   "metadata": {},
   "source": [
    "##### Split SIC code into levels, GICs codes would probably be better but Calcbench does not have them\n",
    "\n",
    "###### https://www.sec.gov/corpfin/division-of-corporation-finance-standard-industrial-classification-sic-code-list\n"
   ]
  },
  {
   "cell_type": "code",
   "execution_count": 10,
   "id": "9fce3a1c",
   "metadata": {},
   "outputs": [],
   "source": [
    "merged[\"top_level_SIC_code\"] = merged[\"sic_code\"].floordiv(1000).astype(\"string\")\n",
    "merged[\"second_level_SIC_code\"] = (\n",
    "    (merged[\"sic_code\"] % 1000).floordiv(100).astype(\"string\")\n",
    ")\n",
    "merged[\"third_level_SIC_code\"] = (\n",
    "    (merged[\"sic_code\"] % 100).floordiv(10).astype(\"string\")\n",
    ")\n",
    "merged[\"fourth_level_SIC_code\"] = (merged[\"sic_code\"] % 10).astype(\"string\")"
   ]
  },
  {
   "cell_type": "code",
   "execution_count": 11,
   "id": "c906bd2e",
   "metadata": {},
   "outputs": [],
   "source": [
    "merged[\"ds\"] = (merged[\"period_end\"] + pd.offsets.QuarterEnd()).dt.normalize()"
   ]
  },
  {
   "cell_type": "code",
   "execution_count": 12,
   "id": "f2733003",
   "metadata": {},
   "outputs": [],
   "source": [
    "merged = merged[\n",
    "    ~merged.isnull().T.any()\n",
    "]  # get rid of rows with any null values, the model builder does not like nulls"
   ]
  },
  {
   "cell_type": "code",
   "execution_count": 13,
   "id": "9d461578",
   "metadata": {},
   "outputs": [],
   "source": [
    "# Get first record, there are revisions in the Calcbench data set.\n",
    "merged = merged.groupby([\"ticker\", \"ds\", \"metric\"]).first()"
   ]
  },
  {
   "cell_type": "code",
   "execution_count": 14,
   "id": "13dcd9ce",
   "metadata": {},
   "outputs": [],
   "source": [
    "# only want companies for which we have more than a year of history\n",
    "merged = merged.groupby(\"ticker\").filter(lambda g: g.shape[0] > 4)"
   ]
  },
  {
   "cell_type": "code",
   "execution_count": 15,
   "id": "7f981cfa",
   "metadata": {},
   "outputs": [],
   "source": [
    "# throw out outliers\n",
    "z_scores = merged.groupby([\"ticker\", \"metric\"])[\"value\"].transform(lambda x: zscore(x))\n",
    "merged = merged[z_scores < 4]"
   ]
  },
  {
   "cell_type": "code",
   "execution_count": 23,
   "id": "14152848",
   "metadata": {},
   "outputs": [
    {
     "ename": "KeyError",
     "evalue": "\"None of ['metric'] are in the columns\"",
     "output_type": "error",
     "traceback": [
      "\u001b[1;31m---------------------------------------------------------------------------\u001b[0m",
      "\u001b[1;31mKeyError\u001b[0m                                  Traceback (most recent call last)",
      "\u001b[1;32m~\\AppData\\Local\\Temp\\ipykernel_26372\\1087643113.py\u001b[0m in \u001b[0;36m?\u001b[1;34m()\u001b[0m\n\u001b[0;32m      1\u001b[0m accounts = (\n\u001b[0;32m      2\u001b[0m     \u001b[0mmerged\u001b[0m\u001b[1;33m.\u001b[0m\u001b[0mreset_index\u001b[0m\u001b[1;33m(\u001b[0m\u001b[1;33m)\u001b[0m\u001b[1;33m\u001b[0m\u001b[1;33m\u001b[0m\u001b[0m\n\u001b[1;32m----> 3\u001b[1;33m     .set_index(\n\u001b[0m\u001b[0;32m      4\u001b[0m         [\n\u001b[0;32m      5\u001b[0m             \u001b[1;34m\"top_level_SIC_code\"\u001b[0m\u001b[1;33m,\u001b[0m\u001b[1;33m\u001b[0m\u001b[1;33m\u001b[0m\u001b[0m\n\u001b[0;32m      6\u001b[0m             \u001b[1;34m\"second_level_SIC_code\"\u001b[0m\u001b[1;33m,\u001b[0m\u001b[1;33m\u001b[0m\u001b[1;33m\u001b[0m\u001b[0m\n",
      "\u001b[1;32m~\\AppData\\Local\\Programs\\Python\\Python311\\Lib\\site-packages\\pandas\\core\\frame.py\u001b[0m in \u001b[0;36m?\u001b[1;34m(self, keys, drop, append, inplace, verify_integrity)\u001b[0m\n\u001b[0;32m   6102\u001b[0m                     \u001b[1;32mif\u001b[0m \u001b[1;32mnot\u001b[0m \u001b[0mfound\u001b[0m\u001b[1;33m:\u001b[0m\u001b[1;33m\u001b[0m\u001b[1;33m\u001b[0m\u001b[0m\n\u001b[0;32m   6103\u001b[0m                         \u001b[0mmissing\u001b[0m\u001b[1;33m.\u001b[0m\u001b[0mappend\u001b[0m\u001b[1;33m(\u001b[0m\u001b[0mcol\u001b[0m\u001b[1;33m)\u001b[0m\u001b[1;33m\u001b[0m\u001b[1;33m\u001b[0m\u001b[0m\n\u001b[0;32m   6104\u001b[0m \u001b[1;33m\u001b[0m\u001b[0m\n\u001b[0;32m   6105\u001b[0m         \u001b[1;32mif\u001b[0m \u001b[0mmissing\u001b[0m\u001b[1;33m:\u001b[0m\u001b[1;33m\u001b[0m\u001b[1;33m\u001b[0m\u001b[0m\n\u001b[1;32m-> 6106\u001b[1;33m             \u001b[1;32mraise\u001b[0m \u001b[0mKeyError\u001b[0m\u001b[1;33m(\u001b[0m\u001b[1;34mf\"None of {missing} are in the columns\"\u001b[0m\u001b[1;33m)\u001b[0m\u001b[1;33m\u001b[0m\u001b[1;33m\u001b[0m\u001b[0m\n\u001b[0m\u001b[0;32m   6107\u001b[0m \u001b[1;33m\u001b[0m\u001b[0m\n\u001b[0;32m   6108\u001b[0m         \u001b[1;32mif\u001b[0m \u001b[0minplace\u001b[0m\u001b[1;33m:\u001b[0m\u001b[1;33m\u001b[0m\u001b[1;33m\u001b[0m\u001b[0m\n\u001b[0;32m   6109\u001b[0m             \u001b[0mframe\u001b[0m \u001b[1;33m=\u001b[0m \u001b[0mself\u001b[0m\u001b[1;33m\u001b[0m\u001b[1;33m\u001b[0m\u001b[0m\n",
      "\u001b[1;31mKeyError\u001b[0m: \"None of ['metric'] are in the columns\""
     ]
    }
   ],
   "source": [
    "accounts = (\n",
    "    merged.reset_index()\n",
    "    .set_index(\n",
    "        [\n",
    "            \"top_level_SIC_code\",\n",
    "            \"second_level_SIC_code\",\n",
    "            \"third_level_SIC_code\",\n",
    "            \"fourth_level_SIC_code\",\n",
    "            \"ticker\",\n",
    "            \"ds\",\n",
    "            \"metric\",\n",
    "        ]\n",
    "    )[\"value\"]\n",
    "    .unstack(\"metric\")\n",
    ")"
   ]
  },
  {
   "cell_type": "code",
   "execution_count": 17,
   "id": "748a36af",
   "metadata": {},
   "outputs": [],
   "source": [
    "calculated_net_income = accounts[\"Revenue\"] - accounts[expenses].sum(axis=1)"
   ]
  },
  {
   "cell_type": "code",
   "execution_count": 18,
   "id": "3defede7",
   "metadata": {},
   "outputs": [],
   "source": [
    "accounts[\"Other\"] = accounts[\"NetIncome\"] - calculated_net_income"
   ]
  },
  {
   "cell_type": "code",
   "execution_count": 40,
   "id": "e6edcc99",
   "metadata": {},
   "outputs": [],
   "source": [
    "# No longer need NetIncome\n",
    "accounts = accounts.drop('NetIncome', axis=1)"
   ]
  },
  {
   "cell_type": "code",
   "execution_count": 41,
   "id": "e93307ce",
   "metadata": {},
   "outputs": [],
   "source": [
    "merged = accounts.stack(\"metric\").to_frame(name='y')"
   ]
  },
  {
   "cell_type": "code",
   "execution_count": 51,
   "id": "7beb6ace",
   "metadata": {},
   "outputs": [],
   "source": [
    "merged = merged.reset_index('ds')"
   ]
  },
  {
   "cell_type": "code",
   "execution_count": 52,
   "id": "1ed3acbe",
   "metadata": {},
   "outputs": [],
   "source": [
    "merged = merged[merged[\"ds\"] <= last_date]\n",
    "merged = merged[merged[\"ds\"] >= first_date]"
   ]
  },
  {
   "cell_type": "code",
   "execution_count": 54,
   "id": "bd5eb82f",
   "metadata": {},
   "outputs": [],
   "source": [
    "# remove companies for which we do not have current data\n",
    "merged = merged.groupby(\"ticker\").filter(lambda x: x[\"ds\"].max() == last_date)"
   ]
  },
  {
   "cell_type": "code",
   "execution_count": 55,
   "id": "8763b9b3",
   "metadata": {},
   "outputs": [],
   "source": [
    "# Get rid of companies for which we do not have enough data\n",
    "MINIMUM_NUMBER_OF_OBSERVATIONS = 40\n",
    "merged = merged.groupby(\"ticker\").filter(\n",
    "    lambda x: x.shape[0] > MINIMUM_NUMBER_OF_OBSERVATIONS\n",
    ")"
   ]
  },
  {
   "cell_type": "code",
   "execution_count": 58,
   "id": "86f3b491",
   "metadata": {},
   "outputs": [],
   "source": [
    "merged = merged.reset_index()"
   ]
  },
  {
   "cell_type": "code",
   "execution_count": 59,
   "id": "8952337e",
   "metadata": {},
   "outputs": [],
   "source": [
    "pivot_columns = [\n",
    "    \"ticker\",\n",
    "    \"top_level_SIC_code\",\n",
    "    \"second_level_SIC_code\",\n",
    "    \"third_level_SIC_code\",\n",
    "    \"fourth_level_SIC_code\",\n",
    "    \"metric\",\n",
    "]\n",
    "\n",
    "# forward fill missing data\n",
    "merged = (\n",
    "    merged.pivot(\n",
    "        index=\"ds\",\n",
    "        columns=pivot_columns,\n",
    "        values=\"y\",\n",
    "    )\n",
    "    .ffill()\n",
    "    .melt(ignore_index=False, value_name=\"y\")\n",
    "    .reset_index()\n",
    ")"
   ]
  },
  {
   "cell_type": "code",
   "execution_count": 60,
   "id": "94efaf7a",
   "metadata": {},
   "outputs": [
    {
     "data": {
      "text/html": [
       "<div>\n",
       "<style scoped>\n",
       "    .dataframe tbody tr th:only-of-type {\n",
       "        vertical-align: middle;\n",
       "    }\n",
       "\n",
       "    .dataframe tbody tr th {\n",
       "        vertical-align: top;\n",
       "    }\n",
       "\n",
       "    .dataframe thead th {\n",
       "        text-align: right;\n",
       "    }\n",
       "</style>\n",
       "<table border=\"1\" class=\"dataframe\">\n",
       "  <thead>\n",
       "    <tr style=\"text-align: right;\">\n",
       "      <th></th>\n",
       "      <th>ds</th>\n",
       "      <th>ticker</th>\n",
       "      <th>top_level_SIC_code</th>\n",
       "      <th>second_level_SIC_code</th>\n",
       "      <th>third_level_SIC_code</th>\n",
       "      <th>fourth_level_SIC_code</th>\n",
       "      <th>metric</th>\n",
       "      <th>y</th>\n",
       "    </tr>\n",
       "  </thead>\n",
       "  <tbody>\n",
       "    <tr>\n",
       "      <th>0</th>\n",
       "      <td>2010-03-31</td>\n",
       "      <td>ALCO</td>\n",
       "      <td>0</td>\n",
       "      <td>1</td>\n",
       "      <td>0</td>\n",
       "      <td>0</td>\n",
       "      <td>CostOfRevenue</td>\n",
       "      <td>NaN</td>\n",
       "    </tr>\n",
       "    <tr>\n",
       "      <th>1</th>\n",
       "      <td>2010-06-30</td>\n",
       "      <td>ALCO</td>\n",
       "      <td>0</td>\n",
       "      <td>1</td>\n",
       "      <td>0</td>\n",
       "      <td>0</td>\n",
       "      <td>CostOfRevenue</td>\n",
       "      <td>NaN</td>\n",
       "    </tr>\n",
       "    <tr>\n",
       "      <th>2</th>\n",
       "      <td>2010-09-30</td>\n",
       "      <td>ALCO</td>\n",
       "      <td>0</td>\n",
       "      <td>1</td>\n",
       "      <td>0</td>\n",
       "      <td>0</td>\n",
       "      <td>CostOfRevenue</td>\n",
       "      <td>23.057</td>\n",
       "    </tr>\n",
       "    <tr>\n",
       "      <th>3</th>\n",
       "      <td>2010-12-31</td>\n",
       "      <td>ALCO</td>\n",
       "      <td>0</td>\n",
       "      <td>1</td>\n",
       "      <td>0</td>\n",
       "      <td>0</td>\n",
       "      <td>CostOfRevenue</td>\n",
       "      <td>5.513</td>\n",
       "    </tr>\n",
       "    <tr>\n",
       "      <th>4</th>\n",
       "      <td>2011-03-31</td>\n",
       "      <td>ALCO</td>\n",
       "      <td>0</td>\n",
       "      <td>1</td>\n",
       "      <td>0</td>\n",
       "      <td>0</td>\n",
       "      <td>CostOfRevenue</td>\n",
       "      <td>14.062</td>\n",
       "    </tr>\n",
       "    <tr>\n",
       "      <th>...</th>\n",
       "      <td>...</td>\n",
       "      <td>...</td>\n",
       "      <td>...</td>\n",
       "      <td>...</td>\n",
       "      <td>...</td>\n",
       "      <td>...</td>\n",
       "      <td>...</td>\n",
       "      <td>...</td>\n",
       "    </tr>\n",
       "    <tr>\n",
       "      <th>1527269</th>\n",
       "      <td>2023-09-30</td>\n",
       "      <td>NVRI</td>\n",
       "      <td>8</td>\n",
       "      <td>9</td>\n",
       "      <td>0</td>\n",
       "      <td>0</td>\n",
       "      <td>Other</td>\n",
       "      <td>-16.486</td>\n",
       "    </tr>\n",
       "    <tr>\n",
       "      <th>1527270</th>\n",
       "      <td>2023-12-31</td>\n",
       "      <td>NVRI</td>\n",
       "      <td>8</td>\n",
       "      <td>9</td>\n",
       "      <td>0</td>\n",
       "      <td>0</td>\n",
       "      <td>Other</td>\n",
       "      <td>-10.702</td>\n",
       "    </tr>\n",
       "    <tr>\n",
       "      <th>1527271</th>\n",
       "      <td>2024-03-31</td>\n",
       "      <td>NVRI</td>\n",
       "      <td>8</td>\n",
       "      <td>9</td>\n",
       "      <td>0</td>\n",
       "      <td>0</td>\n",
       "      <td>Other</td>\n",
       "      <td>-51.664</td>\n",
       "    </tr>\n",
       "    <tr>\n",
       "      <th>1527272</th>\n",
       "      <td>2024-06-30</td>\n",
       "      <td>NVRI</td>\n",
       "      <td>8</td>\n",
       "      <td>9</td>\n",
       "      <td>0</td>\n",
       "      <td>0</td>\n",
       "      <td>Other</td>\n",
       "      <td>-15.738</td>\n",
       "    </tr>\n",
       "    <tr>\n",
       "      <th>1527273</th>\n",
       "      <td>2024-09-30</td>\n",
       "      <td>NVRI</td>\n",
       "      <td>8</td>\n",
       "      <td>9</td>\n",
       "      <td>0</td>\n",
       "      <td>0</td>\n",
       "      <td>Other</td>\n",
       "      <td>-12.487</td>\n",
       "    </tr>\n",
       "  </tbody>\n",
       "</table>\n",
       "<p>1527274 rows × 8 columns</p>\n",
       "</div>"
      ],
      "text/plain": [
       "                ds ticker top_level_SIC_code second_level_SIC_code  \\\n",
       "0       2010-03-31   ALCO                  0                     1   \n",
       "1       2010-06-30   ALCO                  0                     1   \n",
       "2       2010-09-30   ALCO                  0                     1   \n",
       "3       2010-12-31   ALCO                  0                     1   \n",
       "4       2011-03-31   ALCO                  0                     1   \n",
       "...            ...    ...                ...                   ...   \n",
       "1527269 2023-09-30   NVRI                  8                     9   \n",
       "1527270 2023-12-31   NVRI                  8                     9   \n",
       "1527271 2024-03-31   NVRI                  8                     9   \n",
       "1527272 2024-06-30   NVRI                  8                     9   \n",
       "1527273 2024-09-30   NVRI                  8                     9   \n",
       "\n",
       "        third_level_SIC_code fourth_level_SIC_code         metric       y  \n",
       "0                          0                     0  CostOfRevenue     NaN  \n",
       "1                          0                     0  CostOfRevenue     NaN  \n",
       "2                          0                     0  CostOfRevenue  23.057  \n",
       "3                          0                     0  CostOfRevenue   5.513  \n",
       "4                          0                     0  CostOfRevenue  14.062  \n",
       "...                      ...                   ...            ...     ...  \n",
       "1527269                    0                     0          Other -16.486  \n",
       "1527270                    0                     0          Other -10.702  \n",
       "1527271                    0                     0          Other -51.664  \n",
       "1527272                    0                     0          Other -15.738  \n",
       "1527273                    0                     0          Other -12.487  \n",
       "\n",
       "[1527274 rows x 8 columns]"
      ]
     },
     "execution_count": 60,
     "metadata": {},
     "output_type": "execute_result"
    }
   ],
   "source": [
    "merged"
   ]
  },
  {
   "cell_type": "code",
   "execution_count": 61,
   "id": "b0e36b44",
   "metadata": {},
   "outputs": [],
   "source": [
    "merged.to_parquet(\"test_train_data.parquet\", index=False)"
   ]
  },
  {
   "cell_type": "code",
   "execution_count": null,
   "id": "2c2bec9b",
   "metadata": {},
   "outputs": [],
   "source": []
  }
 ],
 "metadata": {
  "kernelspec": {
   "display_name": "Python 3 (ipykernel)",
   "language": "python",
   "name": "python3"
  },
  "language_info": {
   "codemirror_mode": {
    "name": "ipython",
    "version": 3
   },
   "file_extension": ".py",
   "mimetype": "text/x-python",
   "name": "python",
   "nbconvert_exporter": "python",
   "pygments_lexer": "ipython3",
   "version": "3.11.0"
  }
 },
 "nbformat": 4,
 "nbformat_minor": 5
}
