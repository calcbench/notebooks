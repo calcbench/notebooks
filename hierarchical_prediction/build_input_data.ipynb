{
 "cells": [
  {
   "cell_type": "code",
   "execution_count": null,
   "id": "fa47d89a",
   "metadata": {},
   "outputs": [],
   "source": [
    "%pip install \"calcbench-api-client[Pandas]\""
   ]
  },
  {
   "cell_type": "code",
   "execution_count": null,
   "id": "0d9b37fe",
   "metadata": {},
   "outputs": [],
   "source": [
    "import pyarrow.parquet as pq\n",
    "import pyarrow.compute as pc\n",
    "import pandas as pd\n",
    "import calcbench as cb\n",
    "from scipy.stats import zscore\n",
    "from datetime import date\n",
    "from qgridnext import show_grid"
   ]
  },
  {
   "cell_type": "markdown",
   "id": "49cba79a",
   "metadata": {},
   "source": [
    "### File is the Calcbench Point-In-Time data, see https://github.com/calcbench/notebooks/blob/master/standardized_numeric_point_in_time.ipynb\n",
    "\n",
    "### Talk to us@calcbench.com if you want a historical file.\n"
   ]
  },
  {
   "cell_type": "code",
   "execution_count": null,
   "id": "0646081c",
   "metadata": {},
   "outputs": [],
   "source": [
    "# last date\n",
    "last_date = pd.to_datetime(date(2024, 9, 30))\n",
    "\n",
    "# XBRL data starts ~2010\n",
    "first_date = pd.to_datetime(date(2010, 1, 1))"
   ]
  },
  {
   "cell_type": "code",
   "execution_count": null,
   "id": "9d1d964c",
   "metadata": {},
   "outputs": [],
   "source": [
    "d = pq.read_table(\"C:/Users/andre/Downloads/standardized_data_oct_23.parquet\")"
   ]
  },
  {
   "cell_type": "code",
   "execution_count": null,
   "id": "889d84ba",
   "metadata": {},
   "outputs": [],
   "source": [
    "# Filter for the line items we want\n",
    "\n",
    "expenses = [\n",
    "    \"CostOfRevenue\",\n",
    "    \"SGAExpense\",\n",
    "    \"InterestExpense\",\n",
    "    \"IncomeTaxes\",\n",
    "]\n",
    "expr = pc.field(\"metric\").isin([\"Revenue\", \"NetIncome\"] + expenses)\n",
    "metric_data = d.filter(expr).to_pandas()"
   ]
  },
  {
   "cell_type": "code",
   "execution_count": null,
   "id": "fb86b3db",
   "metadata": {},
   "outputs": [],
   "source": [
    "# do things in millions for readability\n",
    "\n",
    "metric_data[\"value\"] = metric_data[\"value\"].astype(float) / 1e6"
   ]
  },
  {
   "cell_type": "code",
   "execution_count": null,
   "id": "bfa12839",
   "metadata": {},
   "outputs": [],
   "source": [
    "# Remove small companies\n",
    "\n",
    "# revenue = revenue[revenue[\"value\"] > 1e7]"
   ]
  },
  {
   "cell_type": "code",
   "execution_count": null,
   "id": "6e78e2f8",
   "metadata": {},
   "outputs": [],
   "source": [
    "# Quarterly only\n",
    "metric_data = metric_data[\n",
    "    ~metric_data.index.get_level_values(\"fiscal_period\").str.endswith(\"-0\")\n",
    "]"
   ]
  },
  {
   "cell_type": "markdown",
   "id": "948ebc44",
   "metadata": {},
   "source": [
    "## Add SIC Code meta-data\n"
   ]
  },
  {
   "cell_type": "code",
   "execution_count": null,
   "id": "2054e7e1",
   "metadata": {},
   "outputs": [],
   "source": [
    "company_data = cb.companies(entire_universe=True)"
   ]
  },
  {
   "cell_type": "code",
   "execution_count": null,
   "id": "170a2061",
   "metadata": {},
   "outputs": [],
   "source": [
    "merged = metric_data.reset_index().merge(\n",
    "    company_data[[\"ticker\", \"sic_code\"]], right_on=[\"ticker\"], left_on=[\"ticker\"]\n",
    ")[[\"ticker\", \"period_end\", \"sic_code\", \"value\", \"metric\"]]"
   ]
  },
  {
   "cell_type": "markdown",
   "id": "49913390",
   "metadata": {},
   "source": [
    "##### Split SIC code into levels, GICs codes would probably be better but Calcbench does not have them\n",
    "\n",
    "###### https://www.sec.gov/corpfin/division-of-corporation-finance-standard-industrial-classification-sic-code-list\n"
   ]
  },
  {
   "cell_type": "code",
   "execution_count": null,
   "id": "9fce3a1c",
   "metadata": {},
   "outputs": [],
   "source": [
    "merged[\"top_level_SIC_code\"] = merged[\"sic_code\"].floordiv(1000).astype(\"string\")\n",
    "merged[\"second_level_SIC_code\"] = (\n",
    "    (merged[\"sic_code\"] % 1000).floordiv(100).astype(\"string\")\n",
    ")\n",
    "merged[\"third_level_SIC_code\"] = (\n",
    "    (merged[\"sic_code\"] % 100).floordiv(10).astype(\"string\")\n",
    ")\n",
    "merged[\"fourth_level_SIC_code\"] = (merged[\"sic_code\"] % 10).astype(\"string\")"
   ]
  },
  {
   "cell_type": "code",
   "execution_count": null,
   "id": "c906bd2e",
   "metadata": {},
   "outputs": [],
   "source": [
    "merged[\"ds\"] = (merged[\"period_end\"] + pd.offsets.QuarterEnd()).dt.normalize()"
   ]
  },
  {
   "cell_type": "code",
   "execution_count": null,
   "id": "f2733003",
   "metadata": {},
   "outputs": [],
   "source": [
    "merged = merged[\n",
    "    ~merged.isnull().T.any()\n",
    "]  # get rid of rows with any null values, the model builder does not like nulls"
   ]
  },
  {
   "cell_type": "code",
   "execution_count": null,
   "id": "9d461578",
   "metadata": {},
   "outputs": [],
   "source": [
    "# Get first record, there are revisions in the Calcbench data set.\n",
    "merged = merged.groupby([\"ticker\", \"ds\", \"metric\"]).first()"
   ]
  },
  {
   "cell_type": "code",
   "execution_count": null,
   "id": "13dcd9ce",
   "metadata": {},
   "outputs": [],
   "source": [
    "# only want companies for which we have more than a year of history\n",
    "merged = merged.groupby(\"ticker\").filter(lambda g: g.shape[0] > 4)"
   ]
  },
  {
   "cell_type": "code",
   "execution_count": null,
   "id": "7f981cfa",
   "metadata": {},
   "outputs": [],
   "source": [
    "# throw out outliers\n",
    "z_scores = merged.groupby([\"ticker\", \"metric\"])[\"value\"].transform(lambda x: zscore(x))\n",
    "merged = merged[z_scores < 4]"
   ]
  },
  {
   "cell_type": "code",
   "execution_count": null,
   "id": "14152848",
   "metadata": {},
   "outputs": [],
   "source": [
    "accounts = (\n",
    "    merged.reset_index()\n",
    "    .set_index(\n",
    "        [\n",
    "            \"top_level_SIC_code\",\n",
    "            \"second_level_SIC_code\",\n",
    "            \"third_level_SIC_code\",\n",
    "            \"fourth_level_SIC_code\",\n",
    "            \"ticker\",\n",
    "            \"ds\",\n",
    "            \"metric\",\n",
    "        ]\n",
    "    )[\"value\"]\n",
    "    .unstack(\"metric\")\n",
    ")"
   ]
  },
  {
   "cell_type": "code",
   "execution_count": null,
   "id": "748a36af",
   "metadata": {},
   "outputs": [],
   "source": [
    "calculated_net_income = accounts[\"Revenue\"] - accounts[expenses].sum(axis=1)"
   ]
  },
  {
   "cell_type": "code",
   "execution_count": null,
   "id": "3defede7",
   "metadata": {},
   "outputs": [],
   "source": [
    "accounts[\"Other\"] = accounts[\"NetIncome\"] - calculated_net_income"
   ]
  },
  {
   "cell_type": "code",
   "execution_count": null,
   "id": "f754d94f",
   "metadata": {},
   "outputs": [],
   "source": [
    "# No longer need NetIncome\n",
    "accounts = accounts.drop('NetIncome', axis=1)"
   ]
  },
  {
   "cell_type": "code",
   "execution_count": null,
   "id": "ac2f44cc",
   "metadata": {},
   "outputs": [],
   "source": [
    "merged = accounts.stack(\"metric\").to_frame(name='y')"
   ]
  },
  {
   "cell_type": "code",
   "execution_count": null,
   "id": "cdf95f8d",
   "metadata": {},
   "outputs": [],
   "source": [
    "merged = merged.reset_index('ds')"
   ]
  },
  {
   "cell_type": "code",
   "execution_count": null,
   "id": "1ed3acbe",
   "metadata": {},
   "outputs": [],
   "source": [
    "merged = merged[merged[\"ds\"] <= last_date]\n",
    "merged = merged[merged[\"ds\"] >= first_date]"
   ]
  },
  {
   "cell_type": "code",
   "execution_count": null,
   "id": "bd5eb82f",
   "metadata": {},
   "outputs": [],
   "source": [
    "# remove companies for which we do not have current data\n",
    "merged = merged.groupby(\"ticker\").filter(lambda x: x[\"ds\"].max() == last_date)"
   ]
  },
  {
   "cell_type": "code",
   "execution_count": null,
   "id": "8763b9b3",
   "metadata": {},
   "outputs": [],
   "source": [
    "# Get rid of companies for which we do not have enough data\n",
    "MINIMUM_NUMBER_OF_OBSERVATIONS = 40\n",
    "merged = merged.groupby(\"ticker\").filter(\n",
    "    lambda x: x.shape[0] > MINIMUM_NUMBER_OF_OBSERVATIONS\n",
    ")"
   ]
  },
  {
   "cell_type": "code",
   "execution_count": null,
   "id": "9cbd6494",
   "metadata": {},
   "outputs": [],
   "source": [
    "merged = merged.reset_index()"
   ]
  },
  {
   "cell_type": "code",
   "execution_count": null,
   "id": "8952337e",
   "metadata": {},
   "outputs": [],
   "source": [
    "pivot_columns = [\n",
    "    \"ticker\",\n",
    "    \"top_level_SIC_code\",\n",
    "    \"second_level_SIC_code\",\n",
    "    \"third_level_SIC_code\",\n",
    "    \"fourth_level_SIC_code\",\n",
    "    \"metric\",\n",
    "]\n",
    "\n",
    "# forward fill missing data\n",
    "merged = (\n",
    "    merged.pivot(\n",
    "        index=\"ds\",\n",
    "        columns=pivot_columns,\n",
    "        values=\"y\",\n",
    "    )\n",
    "    .ffill()\n",
    "    .melt(ignore_index=False, value_name=\"y\")\n",
    "    .reset_index()\n",
    ")"
   ]
  },
  {
   "cell_type": "code",
   "execution_count": null,
   "id": "bd70d063",
   "metadata": {},
   "outputs": [],
   "source": [
    "merged = merged[~merged[\"y\"].isna()]"
   ]
  },
  {
   "cell_type": "code",
   "execution_count": null,
   "id": "88f6e466",
   "metadata": {},
   "outputs": [],
   "source": [
    "# top level\n",
    "merged[\"market\"] = \"market\""
   ]
  },
  {
   "cell_type": "code",
   "execution_count": null,
   "id": "4801ce83",
   "metadata": {},
   "outputs": [],
   "source": [
    "merged"
   ]
  },
  {
   "cell_type": "code",
   "execution_count": null,
   "id": "b0e36b44",
   "metadata": {},
   "outputs": [],
   "source": [
    "merged.to_parquet(\"test_train_data.parquet\", index=False)"
   ]
  },
  {
   "cell_type": "code",
   "execution_count": null,
   "id": "2c2bec9b",
   "metadata": {},
   "outputs": [],
   "source": []
  }
 ],
 "metadata": {
  "kernelspec": {
   "display_name": "Python 3 (ipykernel)",
   "language": "python",
   "name": "python3"
  },
  "language_info": {
   "codemirror_mode": {
    "name": "ipython",
    "version": 3
   },
   "file_extension": ".py",
   "mimetype": "text/x-python",
   "name": "python",
   "nbconvert_exporter": "python",
   "pygments_lexer": "ipython3",
   "version": "3.11.0"
  }
 },
 "nbformat": 4,
 "nbformat_minor": 5
}
