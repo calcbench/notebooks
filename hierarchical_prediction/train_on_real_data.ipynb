{
 "cells": [
  {
   "cell_type": "markdown",
   "id": "9a05ef29",
   "metadata": {},
   "source": [
    "## https://github.com/Nixtla/hierarchicalforecast/blob/main/nbs/examples/TourismSmall.ipynb"
   ]
  },
  {
   "cell_type": "code",
   "execution_count": null,
   "id": "1a8fbd23",
   "metadata": {},
   "outputs": [],
   "source": [
    "# %#pip install statsforecast hierarchicalforecast utilsforcast"
   ]
  },
  {
   "cell_type": "code",
   "execution_count": null,
   "id": "4d081a13",
   "metadata": {},
   "outputs": [],
   "source": [
    "from statsforecast.core import StatsForecast\n",
    "from statsforecast.models import AutoARIMA, Naive, HoltWinters\n",
    "import pandas as pd\n",
    "\n",
    "from hierarchicalforecast.core import HierarchicalReconciliation\n",
    "from hierarchicalforecast.evaluation import HierarchicalEvaluation, mse, rel_mse, mqloss\n",
    "from hierarchicalforecast.methods import TopDown, BottomUp\n",
    "from hierarchicalforecast.utils import aggregate, HierarchicalPlot\n",
    "from utilsforecast.preprocessing import fill_gaps\n",
    "import numpy as np\n",
    "\n",
    "import pickle\n",
    "from datetime import date\n",
    "from sklearn.metrics import mean_absolute_percentage_error\n",
    "from qgridnext import show_grid\n",
    "from importlib import reload"
   ]
  },
  {
   "cell_type": "code",
   "execution_count": null,
   "id": "35ece961",
   "metadata": {},
   "outputs": [],
   "source": [
    "reload( hierarchicalforecast.evaluation)"
   ]
  },
  {
   "cell_type": "code",
   "execution_count": null,
   "id": "0d3ec2fe",
   "metadata": {},
   "outputs": [],
   "source": [
    "TEST_PERIODS = 4"
   ]
  },
  {
   "cell_type": "code",
   "execution_count": null,
   "id": "6c7f0fb2",
   "metadata": {},
   "outputs": [],
   "source": [
    "Y_df_load = (\n",
    "    pd.read_parquet(\"revenue_data.parquet\").rename({\"value\": \"y\"}, axis=1).reset_index()\n",
    ")\n",
    "\n",
    "\n",
    "Y_df_load['y'] = Y_df_load['y'] / 1e6  # make everything in millions so its easier to read"
   ]
  },
  {
   "cell_type": "markdown",
   "id": "92b6f2a8",
   "metadata": {},
   "source": [
    "## Prep Data"
   ]
  },
  {
   "cell_type": "code",
   "execution_count": null,
   "id": "25679a0e",
   "metadata": {},
   "outputs": [],
   "source": [
    "# last date\n",
    "last_date = pd.to_datetime(date(2023, 9, 30))"
   ]
  },
  {
   "cell_type": "code",
   "execution_count": null,
   "id": "8d9052a3",
   "metadata": {},
   "outputs": [],
   "source": [
    "# XBRL data starts ~2010\n",
    "first_date = pd.to_datetime(date(2010, 1, 1))"
   ]
  },
  {
   "cell_type": "code",
   "execution_count": null,
   "id": "2714e666",
   "metadata": {},
   "outputs": [],
   "source": [
    "# remove periods after the date from which we are predicting\n",
    "Y_df_load = Y_df_load[Y_df_load[\"ds\"] <= last_date]\n",
    "Y_df_load = Y_df_load[Y_df_load[\"ds\"] >= first_date]"
   ]
  },
  {
   "cell_type": "code",
   "execution_count": null,
   "id": "3ed2d225",
   "metadata": {},
   "outputs": [],
   "source": [
    "# remove companies for which we do not have current data\n",
    "Y_df_load = Y_df_load.groupby(\"ticker\").filter(lambda x: x[\"ds\"].max() == last_date)"
   ]
  },
  {
   "cell_type": "code",
   "execution_count": null,
   "id": "08e22b1f",
   "metadata": {},
   "outputs": [],
   "source": [
    "# Get rid of companies for which we do not have enough data\n",
    "MINIMUM_NUMBER_OF_OBSERVATIONS = 40\n",
    "Y_df_load = Y_df_load.groupby(\"ticker\").filter(\n",
    "    lambda x: x.shape[0] > MINIMUM_NUMBER_OF_OBSERVATIONS\n",
    ")"
   ]
  },
  {
   "cell_type": "code",
   "execution_count": null,
   "id": "17abf16e",
   "metadata": {},
   "outputs": [],
   "source": [
    "pivot_columns = [\n",
    "    \"ticker\",\n",
    "    \"top_level_SIC_code\",\n",
    "    \"second_level_SIC_code\",\n",
    "    \"third_level_SIC_code\",\n",
    "    \"fourth_level_SIC_code\",\n",
    "]"
   ]
  },
  {
   "cell_type": "code",
   "execution_count": null,
   "id": "7efab97a",
   "metadata": {},
   "outputs": [],
   "source": [
    "# forward fill missing data\n",
    "Y_df_load = (\n",
    "    Y_df_load.pivot(\n",
    "        index=\"ds\",\n",
    "        columns=pivot_columns,\n",
    "        values=\"y\",\n",
    "    )\n",
    "    .ffill()\n",
    "    .melt(ignore_index=False, value_name=\"y\")\n",
    "    .reset_index()\n",
    ")"
   ]
  },
  {
   "cell_type": "code",
   "execution_count": null,
   "id": "3f670764",
   "metadata": {},
   "outputs": [],
   "source": [
    "Y_df_load = Y_df_load[~Y_df_load[\"y\"].isna()]"
   ]
  },
  {
   "cell_type": "code",
   "execution_count": null,
   "id": "8a940822",
   "metadata": {},
   "outputs": [],
   "source": [
    "Y_df_load[\"entity_type\"] = \"company\""
   ]
  },
  {
   "cell_type": "markdown",
   "id": "ffdf4a98",
   "metadata": {},
   "source": [
    "## Build training data"
   ]
  },
  {
   "cell_type": "code",
   "execution_count": null,
   "id": "a6eae936",
   "metadata": {},
   "outputs": [],
   "source": [
    "levels = [\n",
    "    [\"entity_type\"],\n",
    "    [\"entity_type\", \"top_level_SIC_code\"],\n",
    "    [\"entity_type\", \"top_level_SIC_code\", \"ticker\"],\n",
    "]\n",
    "\n",
    "levels = [\n",
    "    ['top_level_SIC_code'],\n",
    "    ['top_level_SIC_code', 'ticker']\n",
    "]\n",
    "\"\"\"\n",
    "    [\"entity_type\", \"top_level_SIC_code\", \"second_level_SIC_code\"],\n",
    "    [\n",
    "        \"entity_type\",\n",
    "        \"top_level_SIC_code\",\n",
    "        \"second_level_SIC_code\",\n",
    "        \"third_level_SIC_code\",\n",
    "    ],\n",
    "    [\n",
    "        \"entity_type\",\n",
    "        \"top_level_SIC_code\",\n",
    "        \"second_level_SIC_code\",\n",
    "        \"third_level_SIC_code\",\n",
    "        \"fourth_level_SIC_code\",\n",
    "    ],\n",
    "    [\n",
    "        \"entity_type\",\n",
    "        \"top_level_SIC_code\",\n",
    "        \"second_level_SIC_code\",\n",
    "        \"third_level_SIC_code\",\n",
    "        \"fourth_level_SIC_code\",\n",
    "        \"ticker\",\n",
    "    ],\n",
    "]\n",
    "\"\"\""
   ]
  },
  {
   "cell_type": "code",
   "execution_count": null,
   "id": "0f35973b",
   "metadata": {},
   "outputs": [],
   "source": [
    "Y_df, S_df, tags = aggregate(df=Y_df_load, spec=levels)"
   ]
  },
  {
   "cell_type": "code",
   "execution_count": null,
   "id": "d19f85b8",
   "metadata": {},
   "outputs": [],
   "source": [
    "Y_df = Y_df.reset_index()"
   ]
  },
  {
   "cell_type": "code",
   "execution_count": null,
   "id": "626de399",
   "metadata": {},
   "outputs": [],
   "source": [
    "Y_test_df = Y_df.groupby(\"unique_id\").tail(TEST_PERIODS)\n",
    "Y_train_df = Y_df.drop(Y_test_df.index)\n",
    "Y_test_df = Y_test_df.set_index(\"unique_id\")"
   ]
  },
  {
   "cell_type": "code",
   "execution_count": null,
   "id": "38cdcdf3",
   "metadata": {},
   "outputs": [],
   "source": [
    "show_grid(Y_test_df)"
   ]
  },
  {
   "cell_type": "code",
   "execution_count": null,
   "id": "bae7a62a",
   "metadata": {},
   "outputs": [],
   "source": [
    "show_grid(Y_hat_df)"
   ]
  },
  {
   "cell_type": "markdown",
   "id": "c8d81868",
   "metadata": {},
   "source": [
    "## Base Forecasts"
   ]
  },
  {
   "cell_type": "code",
   "execution_count": null,
   "id": "59b47d20",
   "metadata": {},
   "outputs": [],
   "source": [
    "fcst = StatsForecast(models=[AutoARIMA(season_length=4), Naive()], freq=\"QE\", n_jobs=-1)"
   ]
  },
  {
   "cell_type": "code",
   "execution_count": null,
   "id": "5ec7e15f",
   "metadata": {},
   "outputs": [],
   "source": [
    "Y_hat_df = fcst.forecast(\n",
    "    df=Y_train_df,\n",
    "    h=TEST_PERIODS,\n",
    "    fitted=True,\n",
    ")"
   ]
  },
  {
   "cell_type": "code",
   "execution_count": null,
   "id": "d667fc3b",
   "metadata": {},
   "outputs": [],
   "source": [
    "fcst.plot(\n",
    "    Y_train_df,\n",
    "    Y_hat_df,\n",
    "    models=[\"AutoARIMA\", \"Naive\"],\n",
    "    unique_ids=[\"5\"],\n",
    ")"
   ]
  },
  {
   "cell_type": "code",
   "execution_count": null,
   "id": "d059c2e8",
   "metadata": {},
   "outputs": [],
   "source": [
    "Y_hat_df"
   ]
  },
  {
   "cell_type": "code",
   "execution_count": null,
   "id": "17f2184a",
   "metadata": {},
   "outputs": [],
   "source": []
  },
  {
   "cell_type": "code",
   "execution_count": null,
   "id": "c1717401",
   "metadata": {},
   "outputs": [],
   "source": [
    "show_grid(Y_hat_df)"
   ]
  },
  {
   "cell_type": "markdown",
   "id": "decb4a12",
   "metadata": {},
   "source": [
    "## Hierarchical reconciliation"
   ]
  },
  {
   "cell_type": "code",
   "execution_count": null,
   "id": "b80fdce1",
   "metadata": {},
   "outputs": [],
   "source": [
    "hrec = HierarchicalReconciliation([BottomUp()])"
   ]
  },
  {
   "cell_type": "code",
   "execution_count": null,
   "id": "bde91003",
   "metadata": {},
   "outputs": [],
   "source": [
    "Y_train_df"
   ]
  },
  {
   "cell_type": "code",
   "execution_count": null,
   "id": "73e929b1",
   "metadata": {},
   "outputs": [],
   "source": [
    "Y_rec_df = hrec.reconcile(Y_hat_df=Y_hat_df, Y_df=Y_train_df, S=S_df, tags=tags)"
   ]
  },
  {
   "cell_type": "code",
   "execution_count": null,
   "id": "4793f2d4",
   "metadata": {},
   "outputs": [],
   "source": [
    "plot_df = pd.concat(\n",
    "    [\n",
    "        Y_df.reset_index().set_index([\"unique_id\", \"ds\"]),\n",
    "        Y_rec_df.set_index(\"ds\", append=True),\n",
    "    ],\n",
    "    axis=1,\n",
    ")\n",
    "plot_df = plot_df.reset_index(\"ds\")"
   ]
  },
  {
   "cell_type": "code",
   "execution_count": null,
   "id": "b54e0f95",
   "metadata": {},
   "outputs": [],
   "source": [
    "hplot = HierarchicalPlot(S=S_df, tags=tags)\n",
    "hplot.plot_series(\n",
    "    series=\"5\",\n",
    "    Y_df=plot_df,\n",
    "    models=[\"y\", \"Naive\", \"AutoARIMA\"],\n",
    "    level=[80],\n",
    ")"
   ]
  },
  {
   "cell_type": "code",
   "execution_count": null,
   "id": "d82e4f7e",
   "metadata": {},
   "outputs": [],
   "source": [
    "show_grid(plot_df)"
   ]
  },
  {
   "cell_type": "code",
   "execution_count": null,
   "id": "fcd46fe1",
   "metadata": {
    "scrolled": true
   },
   "outputs": [],
   "source": [
    "hplot = HierarchicalPlot(S=S_df, tags=tags)\n",
    "hplot.plot_hierarchical_predictions_gap(Y_hat_df.rename({\"Naive\": \"y\"}, axis=1))"
   ]
  },
  {
   "cell_type": "markdown",
   "id": "c9076ea5",
   "metadata": {},
   "source": [
    "# Evaluation\n",
    "## https://github.com/Nixtla/hierarchicalforecast/blob/2296c259542dbd906cfba4b8345c3b72148dad79/nbs/examples/TourismSmall.ipynb#L463"
   ]
  },
  {
   "cell_type": "code",
   "execution_count": null,
   "id": "2d52f9cb",
   "metadata": {},
   "outputs": [],
   "source": [
    "evaluator = HierarchicalEvaluation(evaluators=[mse])\n",
    "evaluation = evaluator.evaluate(\n",
    "    Y_hat_df=Y_rec_df,\n",
    "    Y_test_df=Y_test_df,\n",
    "    Y_df=Y_train_df,\n",
    "    tags=tags,\n",
    "    benchmark=\"Naive\",\n",
    ")"
   ]
  },
  {
   "cell_type": "code",
   "execution_count": null,
   "id": "52fd7dd8",
   "metadata": {},
   "outputs": [],
   "source": [
    "evaluation.T"
   ]
  },
  {
   "cell_type": "code",
   "execution_count": null,
   "id": "f0dfc079",
   "metadata": {},
   "outputs": [],
   "source": [
    "S_df"
   ]
  },
  {
   "cell_type": "code",
   "execution_count": null,
   "id": "40c1b083",
   "metadata": {},
   "outputs": [],
   "source": []
  }
 ],
 "metadata": {
  "kernelspec": {
   "display_name": "Python 3 (ipykernel)",
   "language": "python",
   "name": "python3"
  },
  "language_info": {
   "codemirror_mode": {
    "name": "ipython",
    "version": 3
   },
   "file_extension": ".py",
   "mimetype": "text/x-python",
   "name": "python",
   "nbconvert_exporter": "python",
   "pygments_lexer": "ipython3",
   "version": "3.11.0"
  }
 },
 "nbformat": 4,
 "nbformat_minor": 5
}
