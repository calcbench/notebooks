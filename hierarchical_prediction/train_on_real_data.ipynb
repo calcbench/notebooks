{
 "cells": [
  {
   "cell_type": "markdown",
   "id": "9a05ef29",
   "metadata": {},
   "source": [
    "## https://github.com/Nixtla/hierarchicalforecast/blob/main/nbs/examples/TourismSmall.ipynb"
   ]
  },
  {
   "cell_type": "code",
   "execution_count": null,
   "id": "1a8fbd23",
   "metadata": {},
   "outputs": [],
   "source": [
    "# %#pip install statsforecast hierarchicalforecast utilsforcast"
   ]
  },
  {
   "cell_type": "code",
<<<<<<< HEAD
   "execution_count": 232,
=======
   "execution_count": 23,
>>>>>>> 0c3982659f19d7254365436e1457a283bc55fe6f
   "id": "4d081a13",
   "metadata": {},
   "outputs": [],
   "source": [
    "from statsforecast.core import StatsForecast\n",
    "from statsforecast.models import AutoARIMA, Naive, HoltWinters, SeasonalNaive\n",
    "import pandas as pd\n",
    "\n",
    "from hierarchicalforecast.core import HierarchicalReconciliation\n",
    "from hierarchicalforecast.evaluation import HierarchicalEvaluation, mse, rel_mse, mqloss\n",
    "from hierarchicalforecast.methods import TopDown, BottomUp, MinTrace, OptimalCombination\n",
    "from hierarchicalforecast.utils import aggregate, HierarchicalPlot\n",
    "from utilsforecast.preprocessing import fill_gaps\n",
    "import numpy as np\n",
    "\n",
    "import pickle\n",
    "from datetime import date, datetime\n",
    "from sklearn.metrics import mean_absolute_percentage_error\n",
    "from qgridnext import show_grid\n",
    "from importlib import reload\n",
    "import re\n",
    "import pickle"
   ]
  },
  {
   "cell_type": "code",
   "execution_count": 9,
   "id": "0d3ec2fe",
   "metadata": {},
   "outputs": [],
   "source": [
    "TEST_PERIODS = 2"
   ]
  },
  {
   "cell_type": "code",
   "execution_count": 1,
   "id": "6c7f0fb2",
   "metadata": {},
   "outputs": [],
   "source": [
<<<<<<< HEAD
    "Y_df_load = (\n",
    "    pd.read_parquet(\"test_train_data.parquet\").reset_index()\n",
    ")\n",
    " \n",
    "Y_df_load[\"y\"] = (\n",
    "    Y_df_load[\"y\"] / 1e6\n",
    ")  # make everything in millions so its easier to read"
   ]
  },
  {
   "cell_type": "markdown",
   "id": "92b6f2a8",
   "metadata": {},
   "source": [
    "## Prep Data"
   ]
  },
  {
   "cell_type": "code",
   "execution_count": 4,
   "id": "25679a0e",
   "metadata": {},
   "outputs": [],
   "source": [
    "# last date\n",
    "last_date = pd.to_datetime(date(2024, 9, 30))"
   ]
  },
  {
   "cell_type": "code",
   "execution_count": 5,
   "id": "8d9052a3",
   "metadata": {},
   "outputs": [],
   "source": [
    "# XBRL data starts ~2010\n",
    "first_date = pd.to_datetime(date(2010, 1, 1))"
   ]
  },
  {
   "cell_type": "code",
   "execution_count": 6,
   "id": "2714e666",
   "metadata": {},
   "outputs": [],
   "source": [
    "# remove periods after the date from which we are predicting\n",
    "Y_df_load = Y_df_load[Y_df_load[\"ds\"] <= last_date]\n",
    "Y_df_load = Y_df_load[Y_df_load[\"ds\"] >= first_date]"
   ]
  },
  {
   "cell_type": "code",
   "execution_count": 7,
   "id": "3ed2d225",
   "metadata": {},
   "outputs": [],
   "source": [
    "# remove companies for which we do not have current data\n",
    "Y_df_load = Y_df_load.groupby(\"ticker\").filter(lambda x: x[\"ds\"].max() == last_date)"
   ]
  },
  {
   "cell_type": "code",
   "execution_count": 8,
   "id": "08e22b1f",
   "metadata": {},
   "outputs": [],
   "source": [
    "# Get rid of companies for which we do not have enough data\n",
    "MINIMUM_NUMBER_OF_OBSERVATIONS = 40\n",
    "Y_df_load = Y_df_load.groupby(\"ticker\").filter(\n",
    "    lambda x: x.shape[0] > MINIMUM_NUMBER_OF_OBSERVATIONS\n",
    ")"
   ]
  },
  {
   "cell_type": "code",
   "execution_count": 9,
   "id": "17abf16e",
   "metadata": {},
   "outputs": [],
   "source": [
    "pivot_columns = [\n",
    "    \"ticker\",\n",
    "    \"top_level_SIC_code\",\n",
    "    \"second_level_SIC_code\",\n",
    "    \"third_level_SIC_code\",\n",
    "    \"fourth_level_SIC_code\",\n",
    "]"
   ]
  },
  {
   "cell_type": "code",
   "execution_count": 10,
   "id": "7efab97a",
   "metadata": {},
   "outputs": [],
   "source": [
    "# forward fill missing data\n",
    "Y_df_load = (\n",
    "    Y_df_load.pivot(\n",
    "        index=\"ds\",\n",
    "        columns=pivot_columns,\n",
    "        values=\"y\",\n",
    "    )\n",
    "    .ffill()\n",
    "    .melt(ignore_index=False, value_name=\"y\")\n",
    "    .reset_index()\n",
    ")"
   ]
  },
  {
   "cell_type": "code",
   "execution_count": 11,
   "id": "3f670764",
   "metadata": {},
   "outputs": [],
   "source": [
    "Y_df_load = Y_df_load[~Y_df_load[\"y\"].isna()]"
   ]
  },
  {
   "cell_type": "code",
   "execution_count": 187,
   "id": "8a940822",
   "metadata": {},
   "outputs": [],
   "source": [
    "Y_df_load[\"market\"] = \"market\""
   ]
  },
  {
   "cell_type": "code",
   "execution_count": 188,
   "id": "f63291e9",
   "metadata": {},
   "outputs": [
    {
     "data": {
      "text/html": [
       "<div>\n",
       "<style scoped>\n",
       "    .dataframe tbody tr th:only-of-type {\n",
       "        vertical-align: middle;\n",
       "    }\n",
       "\n",
       "    .dataframe tbody tr th {\n",
       "        vertical-align: top;\n",
       "    }\n",
       "\n",
       "    .dataframe thead th {\n",
       "        text-align: right;\n",
       "    }\n",
       "</style>\n",
       "<table border=\"1\" class=\"dataframe\">\n",
       "  <thead>\n",
       "    <tr style=\"text-align: right;\">\n",
       "      <th></th>\n",
       "      <th>ds</th>\n",
       "      <th>ticker</th>\n",
       "      <th>top_level_SIC_code</th>\n",
       "      <th>second_level_SIC_code</th>\n",
       "      <th>third_level_SIC_code</th>\n",
       "      <th>fourth_level_SIC_code</th>\n",
       "      <th>y</th>\n",
       "      <th>entity_type</th>\n",
       "      <th>market</th>\n",
       "    </tr>\n",
       "  </thead>\n",
       "  <tbody>\n",
       "    <tr>\n",
       "      <th>0</th>\n",
       "      <td>2010-03-31</td>\n",
       "      <td>A</td>\n",
       "      <td>3</td>\n",
       "      <td>8</td>\n",
       "      <td>2</td>\n",
       "      <td>6</td>\n",
       "      <td>1213.000</td>\n",
       "      <td>company</td>\n",
       "      <td>market</td>\n",
       "    </tr>\n",
       "    <tr>\n",
       "      <th>1</th>\n",
       "      <td>2010-06-30</td>\n",
       "      <td>A</td>\n",
       "      <td>3</td>\n",
       "      <td>8</td>\n",
       "      <td>2</td>\n",
       "      <td>6</td>\n",
       "      <td>1271.000</td>\n",
       "      <td>company</td>\n",
       "      <td>market</td>\n",
       "    </tr>\n",
       "    <tr>\n",
       "      <th>2</th>\n",
       "      <td>2010-09-30</td>\n",
       "      <td>A</td>\n",
       "      <td>3</td>\n",
       "      <td>8</td>\n",
       "      <td>2</td>\n",
       "      <td>6</td>\n",
       "      <td>1384.000</td>\n",
       "      <td>company</td>\n",
       "      <td>market</td>\n",
       "    </tr>\n",
       "    <tr>\n",
       "      <th>3</th>\n",
       "      <td>2010-12-31</td>\n",
       "      <td>A</td>\n",
       "      <td>3</td>\n",
       "      <td>8</td>\n",
       "      <td>2</td>\n",
       "      <td>6</td>\n",
       "      <td>1576.000</td>\n",
       "      <td>company</td>\n",
       "      <td>market</td>\n",
       "    </tr>\n",
       "    <tr>\n",
       "      <th>4</th>\n",
       "      <td>2011-03-31</td>\n",
       "      <td>A</td>\n",
       "      <td>3</td>\n",
       "      <td>8</td>\n",
       "      <td>2</td>\n",
       "      <td>6</td>\n",
       "      <td>1519.000</td>\n",
       "      <td>company</td>\n",
       "      <td>market</td>\n",
       "    </tr>\n",
       "    <tr>\n",
       "      <th>...</th>\n",
       "      <td>...</td>\n",
       "      <td>...</td>\n",
       "      <td>...</td>\n",
       "      <td>...</td>\n",
       "      <td>...</td>\n",
       "      <td>...</td>\n",
       "      <td>...</td>\n",
       "      <td>...</td>\n",
       "      <td>...</td>\n",
       "    </tr>\n",
       "    <tr>\n",
       "      <th>155932</th>\n",
       "      <td>2023-09-30</td>\n",
       "      <td>ax</td>\n",
       "      <td>6</td>\n",
       "      <td>0</td>\n",
       "      <td>3</td>\n",
       "      <td>5</td>\n",
       "      <td>84.298</td>\n",
       "      <td>company</td>\n",
       "      <td>market</td>\n",
       "    </tr>\n",
       "    <tr>\n",
       "      <th>155933</th>\n",
       "      <td>2023-12-31</td>\n",
       "      <td>ax</td>\n",
       "      <td>6</td>\n",
       "      <td>0</td>\n",
       "      <td>3</td>\n",
       "      <td>5</td>\n",
       "      <td>83.649</td>\n",
       "      <td>company</td>\n",
       "      <td>market</td>\n",
       "    </tr>\n",
       "    <tr>\n",
       "      <th>155934</th>\n",
       "      <td>2024-03-31</td>\n",
       "      <td>ax</td>\n",
       "      <td>6</td>\n",
       "      <td>0</td>\n",
       "      <td>3</td>\n",
       "      <td>5</td>\n",
       "      <td>106.767</td>\n",
       "      <td>company</td>\n",
       "      <td>market</td>\n",
       "    </tr>\n",
       "    <tr>\n",
       "      <th>155935</th>\n",
       "      <td>2024-06-30</td>\n",
       "      <td>ax</td>\n",
       "      <td>6</td>\n",
       "      <td>0</td>\n",
       "      <td>3</td>\n",
       "      <td>5</td>\n",
       "      <td>294.769</td>\n",
       "      <td>company</td>\n",
       "      <td>market</td>\n",
       "    </tr>\n",
       "    <tr>\n",
       "      <th>155936</th>\n",
       "      <td>2024-09-30</td>\n",
       "      <td>ax</td>\n",
       "      <td>6</td>\n",
       "      <td>0</td>\n",
       "      <td>3</td>\n",
       "      <td>5</td>\n",
       "      <td>290.923</td>\n",
       "      <td>company</td>\n",
       "      <td>market</td>\n",
       "    </tr>\n",
       "  </tbody>\n",
       "</table>\n",
       "<p>148481 rows × 9 columns</p>\n",
       "</div>"
      ],
      "text/plain": [
       "               ds ticker top_level_SIC_code second_level_SIC_code  \\\n",
       "0      2010-03-31      A                  3                     8   \n",
       "1      2010-06-30      A                  3                     8   \n",
       "2      2010-09-30      A                  3                     8   \n",
       "3      2010-12-31      A                  3                     8   \n",
       "4      2011-03-31      A                  3                     8   \n",
       "...           ...    ...                ...                   ...   \n",
       "155932 2023-09-30     ax                  6                     0   \n",
       "155933 2023-12-31     ax                  6                     0   \n",
       "155934 2024-03-31     ax                  6                     0   \n",
       "155935 2024-06-30     ax                  6                     0   \n",
       "155936 2024-09-30     ax                  6                     0   \n",
       "\n",
       "       third_level_SIC_code fourth_level_SIC_code         y entity_type  \\\n",
       "0                         2                     6  1213.000     company   \n",
       "1                         2                     6  1271.000     company   \n",
       "2                         2                     6  1384.000     company   \n",
       "3                         2                     6  1576.000     company   \n",
       "4                         2                     6  1519.000     company   \n",
       "...                     ...                   ...       ...         ...   \n",
       "155932                    3                     5    84.298     company   \n",
       "155933                    3                     5    83.649     company   \n",
       "155934                    3                     5   106.767     company   \n",
       "155935                    3                     5   294.769     company   \n",
       "155936                    3                     5   290.923     company   \n",
       "\n",
       "        market  \n",
       "0       market  \n",
       "1       market  \n",
       "2       market  \n",
       "3       market  \n",
       "4       market  \n",
       "...        ...  \n",
       "155932  market  \n",
       "155933  market  \n",
       "155934  market  \n",
       "155935  market  \n",
       "155936  market  \n",
       "\n",
       "[148481 rows x 9 columns]"
      ]
     },
     "execution_count": 188,
     "metadata": {},
     "output_type": "execute_result"
    }
   ],
   "source": [
    "Y_df_load"
=======
    "Y_df_load = pd.read_parquet(\"test_train_data.parquet\")"
>>>>>>> 0c3982659f19d7254365436e1457a283bc55fe6f
   ]
  },
  {
   "cell_type": "markdown",
   "id": "ffdf4a98",
   "metadata": {},
   "source": [
    "## Build training data"
   ]
  },
  {
   "cell_type": "code",
<<<<<<< HEAD
   "execution_count": 189,
=======
   "execution_count": 5,
>>>>>>> 0c3982659f19d7254365436e1457a283bc55fe6f
   "id": "a6eae936",
   "metadata": {},
   "outputs": [],
   "source": [
    "levels = [\n",
<<<<<<< HEAD
    "    [\"entity_type\", \"top_level_SIC_code\", \"second_level_SIC_code\"],\n",
    "    [\n",
    "        \"entity_type\",\n",
    "        \"top_level_SIC_code\",\n",
    "        \"second_level_SIC_code\",\n",
    "        \"third_level_SIC_code\",\n",
    "    ],\n",
    "    [\n",
    "        \"entity_type\",\n",
    "        \"top_level_SIC_code\",\n",
    "        \"second_level_SIC_code\",\n",
    "        \"third_level_SIC_code\",\n",
    "        \"fourth_level_SIC_code\",\n",
    "    ],\n",
    "    [\n",
    "        \"entity_type\",\n",
    "        \"top_level_SIC_code\",\n",
    "        \"second_level_SIC_code\",\n",
    "        \"third_level_SIC_code\",\n",
    "        \"fourth_level_SIC_code\",\n",
    "        \"ticker\",\n",
    "    ],\n",
    "]\n",
    "\n",
    "\n",
    "levels = [\n",
    "    [\"entity_type\"],\n",
    "    [\"entity_type\", \"top_level_SIC_code\"],\n",
    "    [\"entity_type\", \"top_level_SIC_code\", \"ticker\"],\n",
    "]\n",
    "\n",
    "levels = [\n",
=======
>>>>>>> 0c3982659f19d7254365436e1457a283bc55fe6f
    "    [\"market\"],\n",
    "    [\"market\", \"top_level_SIC_code\"],\n",
    "    [\"market\", \"top_level_SIC_code\", \"second_level_SIC_code\"],\n",
    "    [\"market\", \"top_level_SIC_code\", \"second_level_SIC_code\", \"ticker\"],\n",
<<<<<<< HEAD
=======
    "    [\"market\", \"top_level_SIC_code\", \"second_level_SIC_code\", \"ticker\", 'metric']\n",
>>>>>>> 0c3982659f19d7254365436e1457a283bc55fe6f
    "]"
   ]
  },
  {
   "cell_type": "code",
<<<<<<< HEAD
   "execution_count": 190,
=======
   "execution_count": 6,
>>>>>>> 0c3982659f19d7254365436e1457a283bc55fe6f
   "id": "0f35973b",
   "metadata": {},
   "outputs": [],
   "source": [
    "Y_df, S_df, tags = aggregate(df=Y_df_load, spec=levels)"
   ]
  },
  {
   "cell_type": "code",
<<<<<<< HEAD
   "execution_count": 27,
   "id": "799f010b",
   "metadata": {},
   "outputs": [],
   "source": [
    "S_df.to_parquet('S_df.parquet')"
   ]
  },
  {
   "cell_type": "code",
   "execution_count": 197,
   "id": "4a850099",
=======
   "execution_count": 54,
   "id": "4b46c593",
>>>>>>> 0c3982659f19d7254365436e1457a283bc55fe6f
   "metadata": {},
   "outputs": [
    {
     "data": {
      "text/html": [
       "<div>\n",
       "<style scoped>\n",
       "    .dataframe tbody tr th:only-of-type {\n",
       "        vertical-align: middle;\n",
       "    }\n",
       "\n",
       "    .dataframe tbody tr th {\n",
       "        vertical-align: top;\n",
       "    }\n",
       "\n",
       "    .dataframe thead th {\n",
       "        text-align: right;\n",
       "    }\n",
       "</style>\n",
       "<table border=\"1\" class=\"dataframe\">\n",
       "  <thead>\n",
       "    <tr style=\"text-align: right;\">\n",
       "      <th></th>\n",
<<<<<<< HEAD
       "      <th>market</th>\n",
       "      <th>market/0</th>\n",
       "      <th>market/1</th>\n",
       "      <th>market/2</th>\n",
       "      <th>market/3</th>\n",
       "      <th>market/4</th>\n",
       "      <th>market/5</th>\n",
       "      <th>market/6</th>\n",
       "      <th>market/7</th>\n",
       "      <th>market/8</th>\n",
       "      <th>market/0/1</th>\n",
       "      <th>market/0/2</th>\n",
       "      <th>market/0/7</th>\n",
       "      <th>market/1/0</th>\n",
       "      <th>market/1/2</th>\n",
       "      <th>market/1/3</th>\n",
       "      <th>market/1/4</th>\n",
       "      <th>market/1/5</th>\n",
       "      <th>market/1/6</th>\n",
       "      <th>market/1/7</th>\n",
=======
       "      <th>market/0/1/ALCO/CostOfRevenue</th>\n",
       "      <th>market/0/1/ALCO/IncomeTaxes</th>\n",
       "      <th>market/0/1/ALCO/InterestExpense</th>\n",
       "      <th>market/0/1/ALCO/Other</th>\n",
       "      <th>market/0/1/ALCO/Revenue</th>\n",
>>>>>>> 0c3982659f19d7254365436e1457a283bc55fe6f
       "    </tr>\n",
       "  </thead>\n",
       "  <tbody>\n",
       "    <tr>\n",
<<<<<<< HEAD
       "      <th>market/0/1/ALCO</th>\n",
       "      <td>1.0</td>\n",
       "      <td>1.0</td>\n",
       "      <td>0.0</td>\n",
       "      <td>0.0</td>\n",
       "      <td>0.0</td>\n",
       "      <td>0.0</td>\n",
       "      <td>0.0</td>\n",
       "      <td>0.0</td>\n",
       "      <td>0.0</td>\n",
       "      <td>0.0</td>\n",
       "      <td>1.0</td>\n",
       "      <td>0.0</td>\n",
       "      <td>0.0</td>\n",
       "      <td>0.0</td>\n",
       "      <td>0.0</td>\n",
=======
       "      <th>market</th>\n",
       "      <td>1.0</td>\n",
       "      <td>1.0</td>\n",
       "      <td>1.0</td>\n",
       "      <td>1.0</td>\n",
       "      <td>1.0</td>\n",
       "    </tr>\n",
       "    <tr>\n",
       "      <th>market/0</th>\n",
       "      <td>1.0</td>\n",
       "      <td>1.0</td>\n",
       "      <td>1.0</td>\n",
       "      <td>1.0</td>\n",
       "      <td>1.0</td>\n",
       "    </tr>\n",
       "    <tr>\n",
       "      <th>market/1</th>\n",
>>>>>>> 0c3982659f19d7254365436e1457a283bc55fe6f
       "      <td>0.0</td>\n",
       "      <td>0.0</td>\n",
       "      <td>0.0</td>\n",
       "      <td>0.0</td>\n",
       "      <td>0.0</td>\n",
       "    </tr>\n",
       "    <tr>\n",
<<<<<<< HEAD
       "      <th>market/0/1/CTVA</th>\n",
       "      <td>1.0</td>\n",
       "      <td>1.0</td>\n",
       "      <td>0.0</td>\n",
       "      <td>0.0</td>\n",
       "      <td>0.0</td>\n",
       "      <td>0.0</td>\n",
       "      <td>0.0</td>\n",
       "      <td>0.0</td>\n",
       "      <td>0.0</td>\n",
       "      <td>0.0</td>\n",
       "      <td>1.0</td>\n",
       "      <td>0.0</td>\n",
       "      <td>0.0</td>\n",
       "      <td>0.0</td>\n",
       "      <td>0.0</td>\n",
=======
       "      <th>market/2</th>\n",
>>>>>>> 0c3982659f19d7254365436e1457a283bc55fe6f
       "      <td>0.0</td>\n",
       "      <td>0.0</td>\n",
       "      <td>0.0</td>\n",
       "      <td>0.0</td>\n",
       "      <td>0.0</td>\n",
       "    </tr>\n",
       "    <tr>\n",
<<<<<<< HEAD
       "      <th>market/0/1/LMNR</th>\n",
       "      <td>1.0</td>\n",
       "      <td>1.0</td>\n",
       "      <td>0.0</td>\n",
       "      <td>0.0</td>\n",
       "      <td>0.0</td>\n",
       "      <td>0.0</td>\n",
       "      <td>0.0</td>\n",
       "      <td>0.0</td>\n",
       "      <td>0.0</td>\n",
       "      <td>0.0</td>\n",
       "      <td>1.0</td>\n",
       "      <td>0.0</td>\n",
       "      <td>0.0</td>\n",
       "      <td>0.0</td>\n",
       "      <td>0.0</td>\n",
=======
       "      <th>market/3</th>\n",
>>>>>>> 0c3982659f19d7254365436e1457a283bc55fe6f
       "      <td>0.0</td>\n",
       "      <td>0.0</td>\n",
       "      <td>0.0</td>\n",
       "      <td>0.0</td>\n",
       "      <td>0.0</td>\n",
       "    </tr>\n",
       "    <tr>\n",
<<<<<<< HEAD
       "      <th>market/0/1/RKDA</th>\n",
       "      <td>1.0</td>\n",
       "      <td>1.0</td>\n",
       "      <td>0.0</td>\n",
       "      <td>0.0</td>\n",
       "      <td>0.0</td>\n",
       "      <td>0.0</td>\n",
       "      <td>0.0</td>\n",
       "      <td>0.0</td>\n",
       "      <td>0.0</td>\n",
       "      <td>0.0</td>\n",
       "      <td>1.0</td>\n",
       "      <td>0.0</td>\n",
       "      <td>0.0</td>\n",
       "      <td>0.0</td>\n",
       "      <td>0.0</td>\n",
=======
       "      <th>...</th>\n",
       "      <td>...</td>\n",
       "      <td>...</td>\n",
       "      <td>...</td>\n",
       "      <td>...</td>\n",
       "      <td>...</td>\n",
       "    </tr>\n",
       "    <tr>\n",
       "      <th>market/8/9/NVRI/IncomeTaxes</th>\n",
>>>>>>> 0c3982659f19d7254365436e1457a283bc55fe6f
       "      <td>0.0</td>\n",
       "      <td>0.0</td>\n",
       "      <td>0.0</td>\n",
       "      <td>0.0</td>\n",
       "      <td>0.0</td>\n",
       "    </tr>\n",
       "    <tr>\n",
<<<<<<< HEAD
       "      <th>market/0/1/YTEN</th>\n",
       "      <td>1.0</td>\n",
       "      <td>1.0</td>\n",
       "      <td>0.0</td>\n",
       "      <td>0.0</td>\n",
       "      <td>0.0</td>\n",
       "      <td>0.0</td>\n",
       "      <td>0.0</td>\n",
       "      <td>0.0</td>\n",
       "      <td>0.0</td>\n",
       "      <td>0.0</td>\n",
       "      <td>1.0</td>\n",
       "      <td>0.0</td>\n",
       "      <td>0.0</td>\n",
       "      <td>0.0</td>\n",
       "      <td>0.0</td>\n",
=======
       "      <th>market/8/9/NVRI/InterestExpense</th>\n",
>>>>>>> 0c3982659f19d7254365436e1457a283bc55fe6f
       "      <td>0.0</td>\n",
       "      <td>0.0</td>\n",
       "      <td>0.0</td>\n",
       "      <td>0.0</td>\n",
       "      <td>0.0</td>\n",
       "    </tr>\n",
       "    <tr>\n",
<<<<<<< HEAD
       "      <th>market/0/2/CALM</th>\n",
       "      <td>1.0</td>\n",
       "      <td>1.0</td>\n",
       "      <td>0.0</td>\n",
       "      <td>0.0</td>\n",
       "      <td>0.0</td>\n",
       "      <td>0.0</td>\n",
       "      <td>0.0</td>\n",
       "      <td>0.0</td>\n",
       "      <td>0.0</td>\n",
       "      <td>0.0</td>\n",
       "      <td>0.0</td>\n",
       "      <td>1.0</td>\n",
       "      <td>0.0</td>\n",
       "      <td>0.0</td>\n",
       "      <td>0.0</td>\n",
=======
       "      <th>market/8/9/NVRI/Other</th>\n",
>>>>>>> 0c3982659f19d7254365436e1457a283bc55fe6f
       "      <td>0.0</td>\n",
       "      <td>0.0</td>\n",
       "      <td>0.0</td>\n",
       "      <td>0.0</td>\n",
       "      <td>0.0</td>\n",
       "    </tr>\n",
       "    <tr>\n",
<<<<<<< HEAD
       "      <th>market/0/7/CEAD</th>\n",
       "      <td>1.0</td>\n",
       "      <td>1.0</td>\n",
       "      <td>0.0</td>\n",
       "      <td>0.0</td>\n",
       "      <td>0.0</td>\n",
       "      <td>0.0</td>\n",
       "      <td>0.0</td>\n",
       "      <td>0.0</td>\n",
       "      <td>0.0</td>\n",
       "      <td>0.0</td>\n",
       "      <td>0.0</td>\n",
       "      <td>0.0</td>\n",
       "      <td>1.0</td>\n",
       "      <td>0.0</td>\n",
       "      <td>0.0</td>\n",
=======
       "      <th>market/8/9/NVRI/Revenue</th>\n",
>>>>>>> 0c3982659f19d7254365436e1457a283bc55fe6f
       "      <td>0.0</td>\n",
       "      <td>0.0</td>\n",
       "      <td>0.0</td>\n",
       "      <td>0.0</td>\n",
       "      <td>0.0</td>\n",
       "    </tr>\n",
       "    <tr>\n",
<<<<<<< HEAD
       "      <th>market/0/7/CVAT</th>\n",
       "      <td>1.0</td>\n",
       "      <td>1.0</td>\n",
       "      <td>0.0</td>\n",
       "      <td>0.0</td>\n",
       "      <td>0.0</td>\n",
       "      <td>0.0</td>\n",
       "      <td>0.0</td>\n",
       "      <td>0.0</td>\n",
       "      <td>0.0</td>\n",
       "      <td>0.0</td>\n",
       "      <td>0.0</td>\n",
       "      <td>0.0</td>\n",
       "      <td>1.0</td>\n",
       "      <td>0.0</td>\n",
       "      <td>0.0</td>\n",
       "      <td>0.0</td>\n",
       "      <td>0.0</td>\n",
       "      <td>0.0</td>\n",
       "      <td>0.0</td>\n",
       "      <td>0.0</td>\n",
       "    </tr>\n",
       "    <tr>\n",
       "      <th>market/0/7/CVGW</th>\n",
       "      <td>1.0</td>\n",
       "      <td>1.0</td>\n",
       "      <td>0.0</td>\n",
       "      <td>0.0</td>\n",
       "      <td>0.0</td>\n",
       "      <td>0.0</td>\n",
       "      <td>0.0</td>\n",
       "      <td>0.0</td>\n",
       "      <td>0.0</td>\n",
       "      <td>0.0</td>\n",
       "      <td>0.0</td>\n",
       "      <td>0.0</td>\n",
       "      <td>1.0</td>\n",
       "      <td>0.0</td>\n",
       "      <td>0.0</td>\n",
       "      <td>0.0</td>\n",
       "      <td>0.0</td>\n",
       "      <td>0.0</td>\n",
       "      <td>0.0</td>\n",
       "      <td>0.0</td>\n",
       "    </tr>\n",
       "    <tr>\n",
       "      <th>market/0/7/GGROU</th>\n",
       "      <td>1.0</td>\n",
       "      <td>1.0</td>\n",
       "      <td>0.0</td>\n",
       "      <td>0.0</td>\n",
       "      <td>0.0</td>\n",
       "      <td>0.0</td>\n",
       "      <td>0.0</td>\n",
       "      <td>0.0</td>\n",
       "      <td>0.0</td>\n",
       "      <td>0.0</td>\n",
       "      <td>0.0</td>\n",
       "      <td>0.0</td>\n",
       "      <td>1.0</td>\n",
       "      <td>0.0</td>\n",
       "      <td>0.0</td>\n",
       "      <td>0.0</td>\n",
       "      <td>0.0</td>\n",
       "      <td>0.0</td>\n",
       "      <td>0.0</td>\n",
       "      <td>0.0</td>\n",
       "    </tr>\n",
       "    <tr>\n",
       "      <th>market/1/0/CDE</th>\n",
       "      <td>1.0</td>\n",
       "      <td>0.0</td>\n",
       "      <td>1.0</td>\n",
       "      <td>0.0</td>\n",
       "      <td>0.0</td>\n",
       "      <td>0.0</td>\n",
       "      <td>0.0</td>\n",
       "      <td>0.0</td>\n",
       "      <td>0.0</td>\n",
       "      <td>0.0</td>\n",
       "      <td>0.0</td>\n",
       "      <td>0.0</td>\n",
       "      <td>0.0</td>\n",
       "      <td>1.0</td>\n",
       "      <td>0.0</td>\n",
       "      <td>0.0</td>\n",
       "      <td>0.0</td>\n",
       "      <td>0.0</td>\n",
       "      <td>0.0</td>\n",
       "      <td>0.0</td>\n",
       "    </tr>\n",
       "    <tr>\n",
       "      <th>market/1/0/CLF</th>\n",
       "      <td>1.0</td>\n",
       "      <td>0.0</td>\n",
       "      <td>1.0</td>\n",
       "      <td>0.0</td>\n",
       "      <td>0.0</td>\n",
       "      <td>0.0</td>\n",
       "      <td>0.0</td>\n",
       "      <td>0.0</td>\n",
       "      <td>0.0</td>\n",
       "      <td>0.0</td>\n",
       "      <td>0.0</td>\n",
       "      <td>0.0</td>\n",
       "      <td>0.0</td>\n",
       "      <td>1.0</td>\n",
       "      <td>0.0</td>\n",
       "      <td>0.0</td>\n",
       "      <td>0.0</td>\n",
       "      <td>0.0</td>\n",
       "      <td>0.0</td>\n",
       "      <td>0.0</td>\n",
       "    </tr>\n",
       "    <tr>\n",
       "      <th>market/1/0/DYNR</th>\n",
       "      <td>1.0</td>\n",
       "      <td>0.0</td>\n",
       "      <td>1.0</td>\n",
       "      <td>0.0</td>\n",
       "      <td>0.0</td>\n",
       "      <td>0.0</td>\n",
       "      <td>0.0</td>\n",
       "      <td>0.0</td>\n",
       "      <td>0.0</td>\n",
       "      <td>0.0</td>\n",
       "      <td>0.0</td>\n",
       "      <td>0.0</td>\n",
       "      <td>0.0</td>\n",
       "      <td>1.0</td>\n",
       "      <td>0.0</td>\n",
       "      <td>0.0</td>\n",
       "      <td>0.0</td>\n",
       "      <td>0.0</td>\n",
       "      <td>0.0</td>\n",
       "      <td>0.0</td>\n",
       "    </tr>\n",
       "    <tr>\n",
       "      <th>market/1/0/FCX</th>\n",
       "      <td>1.0</td>\n",
       "      <td>0.0</td>\n",
       "      <td>1.0</td>\n",
       "      <td>0.0</td>\n",
       "      <td>0.0</td>\n",
       "      <td>0.0</td>\n",
       "      <td>0.0</td>\n",
       "      <td>0.0</td>\n",
       "      <td>0.0</td>\n",
       "      <td>0.0</td>\n",
       "      <td>0.0</td>\n",
       "      <td>0.0</td>\n",
       "      <td>0.0</td>\n",
       "      <td>1.0</td>\n",
       "      <td>0.0</td>\n",
       "      <td>0.0</td>\n",
       "      <td>0.0</td>\n",
       "      <td>0.0</td>\n",
       "      <td>0.0</td>\n",
       "      <td>0.0</td>\n",
       "    </tr>\n",
       "    <tr>\n",
       "      <th>market/1/0/GORO</th>\n",
       "      <td>1.0</td>\n",
       "      <td>0.0</td>\n",
       "      <td>1.0</td>\n",
       "      <td>0.0</td>\n",
       "      <td>0.0</td>\n",
       "      <td>0.0</td>\n",
       "      <td>0.0</td>\n",
       "      <td>0.0</td>\n",
       "      <td>0.0</td>\n",
       "      <td>0.0</td>\n",
       "      <td>0.0</td>\n",
       "      <td>0.0</td>\n",
       "      <td>0.0</td>\n",
       "      <td>1.0</td>\n",
       "      <td>0.0</td>\n",
       "      <td>0.0</td>\n",
       "      <td>0.0</td>\n",
       "      <td>0.0</td>\n",
       "      <td>0.0</td>\n",
       "      <td>0.0</td>\n",
       "    </tr>\n",
       "    <tr>\n",
       "      <th>market/1/0/IDR</th>\n",
       "      <td>1.0</td>\n",
       "      <td>0.0</td>\n",
       "      <td>1.0</td>\n",
       "      <td>0.0</td>\n",
       "      <td>0.0</td>\n",
       "      <td>0.0</td>\n",
       "      <td>0.0</td>\n",
       "      <td>0.0</td>\n",
       "      <td>0.0</td>\n",
       "      <td>0.0</td>\n",
       "      <td>0.0</td>\n",
       "      <td>0.0</td>\n",
       "      <td>0.0</td>\n",
       "      <td>1.0</td>\n",
       "      <td>0.0</td>\n",
       "      <td>0.0</td>\n",
       "      <td>0.0</td>\n",
       "      <td>0.0</td>\n",
       "      <td>0.0</td>\n",
       "      <td>0.0</td>\n",
       "    </tr>\n",
       "    <tr>\n",
       "      <th>market/1/0/MUX</th>\n",
       "      <td>1.0</td>\n",
       "      <td>0.0</td>\n",
       "      <td>1.0</td>\n",
       "      <td>0.0</td>\n",
       "      <td>0.0</td>\n",
       "      <td>0.0</td>\n",
       "      <td>0.0</td>\n",
       "      <td>0.0</td>\n",
       "      <td>0.0</td>\n",
       "      <td>0.0</td>\n",
       "      <td>0.0</td>\n",
       "      <td>0.0</td>\n",
       "      <td>0.0</td>\n",
       "      <td>1.0</td>\n",
       "      <td>0.0</td>\n",
       "      <td>0.0</td>\n",
       "      <td>0.0</td>\n",
       "      <td>0.0</td>\n",
       "      <td>0.0</td>\n",
       "      <td>0.0</td>\n",
       "    </tr>\n",
       "    <tr>\n",
       "      <th>market/1/0/NEM</th>\n",
       "      <td>1.0</td>\n",
       "      <td>0.0</td>\n",
       "      <td>1.0</td>\n",
       "      <td>0.0</td>\n",
       "      <td>0.0</td>\n",
       "      <td>0.0</td>\n",
       "      <td>0.0</td>\n",
       "      <td>0.0</td>\n",
       "      <td>0.0</td>\n",
       "      <td>0.0</td>\n",
       "      <td>0.0</td>\n",
       "      <td>0.0</td>\n",
       "      <td>0.0</td>\n",
       "      <td>1.0</td>\n",
       "      <td>0.0</td>\n",
       "      <td>0.0</td>\n",
       "      <td>0.0</td>\n",
       "      <td>0.0</td>\n",
       "      <td>0.0</td>\n",
       "      <td>0.0</td>\n",
       "    </tr>\n",
       "    <tr>\n",
       "      <th>market/1/0/SCCO</th>\n",
       "      <td>1.0</td>\n",
       "      <td>0.0</td>\n",
       "      <td>1.0</td>\n",
       "      <td>0.0</td>\n",
       "      <td>0.0</td>\n",
       "      <td>0.0</td>\n",
       "      <td>0.0</td>\n",
       "      <td>0.0</td>\n",
       "      <td>0.0</td>\n",
       "      <td>0.0</td>\n",
       "      <td>0.0</td>\n",
       "      <td>0.0</td>\n",
       "      <td>0.0</td>\n",
       "      <td>1.0</td>\n",
       "      <td>0.0</td>\n",
       "      <td>0.0</td>\n",
       "      <td>0.0</td>\n",
       "      <td>0.0</td>\n",
       "      <td>0.0</td>\n",
       "      <td>0.0</td>\n",
       "    </tr>\n",
       "    <tr>\n",
       "      <th>market/1/0/URG</th>\n",
       "      <td>1.0</td>\n",
       "      <td>0.0</td>\n",
       "      <td>1.0</td>\n",
       "      <td>0.0</td>\n",
       "      <td>0.0</td>\n",
       "      <td>0.0</td>\n",
       "      <td>0.0</td>\n",
       "      <td>0.0</td>\n",
       "      <td>0.0</td>\n",
       "      <td>0.0</td>\n",
       "      <td>0.0</td>\n",
       "      <td>0.0</td>\n",
       "      <td>0.0</td>\n",
       "      <td>1.0</td>\n",
       "      <td>0.0</td>\n",
=======
       "      <th>market/8/9/NVRI/SGAExpense</th>\n",
>>>>>>> 0c3982659f19d7254365436e1457a283bc55fe6f
       "      <td>0.0</td>\n",
       "      <td>0.0</td>\n",
       "      <td>0.0</td>\n",
       "      <td>0.0</td>\n",
       "      <td>0.0</td>\n",
       "    </tr>\n",
       "  </tbody>\n",
       "</table>\n",
<<<<<<< HEAD
       "</div>"
      ],
      "text/plain": [
       "                  market  market/0  market/1  market/2  market/3  market/4  \\\n",
       "market/0/1/ALCO      1.0       1.0       0.0       0.0       0.0       0.0   \n",
       "market/0/1/CTVA      1.0       1.0       0.0       0.0       0.0       0.0   \n",
       "market/0/1/LMNR      1.0       1.0       0.0       0.0       0.0       0.0   \n",
       "market/0/1/RKDA      1.0       1.0       0.0       0.0       0.0       0.0   \n",
       "market/0/1/YTEN      1.0       1.0       0.0       0.0       0.0       0.0   \n",
       "market/0/2/CALM      1.0       1.0       0.0       0.0       0.0       0.0   \n",
       "market/0/7/CEAD      1.0       1.0       0.0       0.0       0.0       0.0   \n",
       "market/0/7/CVAT      1.0       1.0       0.0       0.0       0.0       0.0   \n",
       "market/0/7/CVGW      1.0       1.0       0.0       0.0       0.0       0.0   \n",
       "market/0/7/GGROU     1.0       1.0       0.0       0.0       0.0       0.0   \n",
       "market/1/0/CDE       1.0       0.0       1.0       0.0       0.0       0.0   \n",
       "market/1/0/CLF       1.0       0.0       1.0       0.0       0.0       0.0   \n",
       "market/1/0/DYNR      1.0       0.0       1.0       0.0       0.0       0.0   \n",
       "market/1/0/FCX       1.0       0.0       1.0       0.0       0.0       0.0   \n",
       "market/1/0/GORO      1.0       0.0       1.0       0.0       0.0       0.0   \n",
       "market/1/0/IDR       1.0       0.0       1.0       0.0       0.0       0.0   \n",
       "market/1/0/MUX       1.0       0.0       1.0       0.0       0.0       0.0   \n",
       "market/1/0/NEM       1.0       0.0       1.0       0.0       0.0       0.0   \n",
       "market/1/0/SCCO      1.0       0.0       1.0       0.0       0.0       0.0   \n",
       "market/1/0/URG       1.0       0.0       1.0       0.0       0.0       0.0   \n",
       "\n",
       "                  market/5  market/6  market/7  market/8  market/0/1  \\\n",
       "market/0/1/ALCO        0.0       0.0       0.0       0.0         1.0   \n",
       "market/0/1/CTVA        0.0       0.0       0.0       0.0         1.0   \n",
       "market/0/1/LMNR        0.0       0.0       0.0       0.0         1.0   \n",
       "market/0/1/RKDA        0.0       0.0       0.0       0.0         1.0   \n",
       "market/0/1/YTEN        0.0       0.0       0.0       0.0         1.0   \n",
       "market/0/2/CALM        0.0       0.0       0.0       0.0         0.0   \n",
       "market/0/7/CEAD        0.0       0.0       0.0       0.0         0.0   \n",
       "market/0/7/CVAT        0.0       0.0       0.0       0.0         0.0   \n",
       "market/0/7/CVGW        0.0       0.0       0.0       0.0         0.0   \n",
       "market/0/7/GGROU       0.0       0.0       0.0       0.0         0.0   \n",
       "market/1/0/CDE         0.0       0.0       0.0       0.0         0.0   \n",
       "market/1/0/CLF         0.0       0.0       0.0       0.0         0.0   \n",
       "market/1/0/DYNR        0.0       0.0       0.0       0.0         0.0   \n",
       "market/1/0/FCX         0.0       0.0       0.0       0.0         0.0   \n",
       "market/1/0/GORO        0.0       0.0       0.0       0.0         0.0   \n",
       "market/1/0/IDR         0.0       0.0       0.0       0.0         0.0   \n",
       "market/1/0/MUX         0.0       0.0       0.0       0.0         0.0   \n",
       "market/1/0/NEM         0.0       0.0       0.0       0.0         0.0   \n",
       "market/1/0/SCCO        0.0       0.0       0.0       0.0         0.0   \n",
       "market/1/0/URG         0.0       0.0       0.0       0.0         0.0   \n",
       "\n",
       "                  market/0/2  market/0/7  market/1/0  market/1/2  market/1/3  \\\n",
       "market/0/1/ALCO          0.0         0.0         0.0         0.0         0.0   \n",
       "market/0/1/CTVA          0.0         0.0         0.0         0.0         0.0   \n",
       "market/0/1/LMNR          0.0         0.0         0.0         0.0         0.0   \n",
       "market/0/1/RKDA          0.0         0.0         0.0         0.0         0.0   \n",
       "market/0/1/YTEN          0.0         0.0         0.0         0.0         0.0   \n",
       "market/0/2/CALM          1.0         0.0         0.0         0.0         0.0   \n",
       "market/0/7/CEAD          0.0         1.0         0.0         0.0         0.0   \n",
       "market/0/7/CVAT          0.0         1.0         0.0         0.0         0.0   \n",
       "market/0/7/CVGW          0.0         1.0         0.0         0.0         0.0   \n",
       "market/0/7/GGROU         0.0         1.0         0.0         0.0         0.0   \n",
       "market/1/0/CDE           0.0         0.0         1.0         0.0         0.0   \n",
       "market/1/0/CLF           0.0         0.0         1.0         0.0         0.0   \n",
       "market/1/0/DYNR          0.0         0.0         1.0         0.0         0.0   \n",
       "market/1/0/FCX           0.0         0.0         1.0         0.0         0.0   \n",
       "market/1/0/GORO          0.0         0.0         1.0         0.0         0.0   \n",
       "market/1/0/IDR           0.0         0.0         1.0         0.0         0.0   \n",
       "market/1/0/MUX           0.0         0.0         1.0         0.0         0.0   \n",
       "market/1/0/NEM           0.0         0.0         1.0         0.0         0.0   \n",
       "market/1/0/SCCO          0.0         0.0         1.0         0.0         0.0   \n",
       "market/1/0/URG           0.0         0.0         1.0         0.0         0.0   \n",
       "\n",
       "                  market/1/4  market/1/5  market/1/6  market/1/7  \n",
       "market/0/1/ALCO          0.0         0.0         0.0         0.0  \n",
       "market/0/1/CTVA          0.0         0.0         0.0         0.0  \n",
       "market/0/1/LMNR          0.0         0.0         0.0         0.0  \n",
       "market/0/1/RKDA          0.0         0.0         0.0         0.0  \n",
       "market/0/1/YTEN          0.0         0.0         0.0         0.0  \n",
       "market/0/2/CALM          0.0         0.0         0.0         0.0  \n",
       "market/0/7/CEAD          0.0         0.0         0.0         0.0  \n",
       "market/0/7/CVAT          0.0         0.0         0.0         0.0  \n",
       "market/0/7/CVGW          0.0         0.0         0.0         0.0  \n",
       "market/0/7/GGROU         0.0         0.0         0.0         0.0  \n",
       "market/1/0/CDE           0.0         0.0         0.0         0.0  \n",
       "market/1/0/CLF           0.0         0.0         0.0         0.0  \n",
       "market/1/0/DYNR          0.0         0.0         0.0         0.0  \n",
       "market/1/0/FCX           0.0         0.0         0.0         0.0  \n",
       "market/1/0/GORO          0.0         0.0         0.0         0.0  \n",
       "market/1/0/IDR           0.0         0.0         0.0         0.0  \n",
       "market/1/0/MUX           0.0         0.0         0.0         0.0  \n",
       "market/1/0/NEM           0.0         0.0         0.0         0.0  \n",
       "market/1/0/SCCO          0.0         0.0         0.0         0.0  \n",
       "market/1/0/URG           0.0         0.0         0.0         0.0  "
      ]
     },
     "execution_count": 197,
=======
       "<p>30628 rows × 5 columns</p>\n",
       "</div>"
      ],
      "text/plain": [
       "                                 market/0/1/ALCO/CostOfRevenue  \\\n",
       "market                                                     1.0   \n",
       "market/0                                                   1.0   \n",
       "market/1                                                   0.0   \n",
       "market/2                                                   0.0   \n",
       "market/3                                                   0.0   \n",
       "...                                                        ...   \n",
       "market/8/9/NVRI/IncomeTaxes                                0.0   \n",
       "market/8/9/NVRI/InterestExpense                            0.0   \n",
       "market/8/9/NVRI/Other                                      0.0   \n",
       "market/8/9/NVRI/Revenue                                    0.0   \n",
       "market/8/9/NVRI/SGAExpense                                 0.0   \n",
       "\n",
       "                                 market/0/1/ALCO/IncomeTaxes  \\\n",
       "market                                                   1.0   \n",
       "market/0                                                 1.0   \n",
       "market/1                                                 0.0   \n",
       "market/2                                                 0.0   \n",
       "market/3                                                 0.0   \n",
       "...                                                      ...   \n",
       "market/8/9/NVRI/IncomeTaxes                              0.0   \n",
       "market/8/9/NVRI/InterestExpense                          0.0   \n",
       "market/8/9/NVRI/Other                                    0.0   \n",
       "market/8/9/NVRI/Revenue                                  0.0   \n",
       "market/8/9/NVRI/SGAExpense                               0.0   \n",
       "\n",
       "                                 market/0/1/ALCO/InterestExpense  \\\n",
       "market                                                       1.0   \n",
       "market/0                                                     1.0   \n",
       "market/1                                                     0.0   \n",
       "market/2                                                     0.0   \n",
       "market/3                                                     0.0   \n",
       "...                                                          ...   \n",
       "market/8/9/NVRI/IncomeTaxes                                  0.0   \n",
       "market/8/9/NVRI/InterestExpense                              0.0   \n",
       "market/8/9/NVRI/Other                                        0.0   \n",
       "market/8/9/NVRI/Revenue                                      0.0   \n",
       "market/8/9/NVRI/SGAExpense                                   0.0   \n",
       "\n",
       "                                 market/0/1/ALCO/Other  \\\n",
       "market                                             1.0   \n",
       "market/0                                           1.0   \n",
       "market/1                                           0.0   \n",
       "market/2                                           0.0   \n",
       "market/3                                           0.0   \n",
       "...                                                ...   \n",
       "market/8/9/NVRI/IncomeTaxes                        0.0   \n",
       "market/8/9/NVRI/InterestExpense                    0.0   \n",
       "market/8/9/NVRI/Other                              0.0   \n",
       "market/8/9/NVRI/Revenue                            0.0   \n",
       "market/8/9/NVRI/SGAExpense                         0.0   \n",
       "\n",
       "                                 market/0/1/ALCO/Revenue  \n",
       "market                                               1.0  \n",
       "market/0                                             1.0  \n",
       "market/1                                             0.0  \n",
       "market/2                                             0.0  \n",
       "market/3                                             0.0  \n",
       "...                                                  ...  \n",
       "market/8/9/NVRI/IncomeTaxes                          0.0  \n",
       "market/8/9/NVRI/InterestExpense                      0.0  \n",
       "market/8/9/NVRI/Other                                0.0  \n",
       "market/8/9/NVRI/Revenue                              0.0  \n",
       "market/8/9/NVRI/SGAExpense                           0.0  \n",
       "\n",
       "[30628 rows x 5 columns]"
      ]
     },
     "execution_count": 54,
>>>>>>> 0c3982659f19d7254365436e1457a283bc55fe6f
     "metadata": {},
     "output_type": "execute_result"
    }
   ],
   "source": [
<<<<<<< HEAD
    "S_df.T.iloc[0:20,0:20]"
=======
    "S_df.iloc[:, 0:5]"
>>>>>>> 0c3982659f19d7254365436e1457a283bc55fe6f
   ]
  },
  {
   "cell_type": "code",
   "execution_count": null,
<<<<<<< HEAD
   "id": "f7a11ecc",
   "metadata": {},
   "outputs": [],
   "source": []
  },
  {
   "cell_type": "code",
   "execution_count": 33,
   "id": "1d79c6fa",
   "metadata": {},
   "outputs": [],
   "source": [
    "with open('tags.pickle', 'wb') as out:\n",
    "    pickle.dump(tags, out)"
=======
   "id": "799f010b",
   "metadata": {},
   "outputs": [],
   "source": [
    "#S_df.to_parquet('S_df.parquet')"
>>>>>>> 0c3982659f19d7254365436e1457a283bc55fe6f
   ]
  },
  {
   "cell_type": "code",
<<<<<<< HEAD
   "execution_count": 198,
=======
   "execution_count": null,
   "id": "1d79c6fa",
   "metadata": {},
   "outputs": [],
   "source": [
    "#with open('tags.pickle', 'wb') as out:\n",
    "#    pickle.dump(tags, out)"
   ]
  },
  {
   "cell_type": "code",
   "execution_count": 7,
>>>>>>> 0c3982659f19d7254365436e1457a283bc55fe6f
   "id": "d19f85b8",
   "metadata": {},
   "outputs": [],
   "source": [
    "Y_df = Y_df.reset_index()"
   ]
  },
  {
   "cell_type": "code",
<<<<<<< HEAD
   "execution_count": 199,
=======
   "execution_count": 10,
>>>>>>> 0c3982659f19d7254365436e1457a283bc55fe6f
   "id": "626de399",
   "metadata": {},
   "outputs": [],
   "source": [
    "Y_test_df = Y_df.groupby(\"unique_id\").tail(TEST_PERIODS)\n",
    "Y_train_df = Y_df.drop(Y_test_df.index)\n",
    "Y_test_df = Y_test_df.set_index(\"unique_id\")"
   ]
  },
  {
   "cell_type": "markdown",
   "id": "c8d81868",
   "metadata": {},
   "source": [
    "## Base Forecasts"
   ]
  },
  {
   "cell_type": "code",
<<<<<<< HEAD
   "execution_count": 200,
=======
   "execution_count": 28,
>>>>>>> 0c3982659f19d7254365436e1457a283bc55fe6f
   "id": "59b47d20",
   "metadata": {},
   "outputs": [],
   "source": [
    "season_length = 4\n",
    "fcst = StatsForecast(\n",
    "    models=[AutoARIMA(season_length=season_length)],\n",
    "    freq=\"QE\",\n",
    "    fallback_model=SeasonalNaive(season_length=season_length),\n",
    "    n_jobs=-1\n",
    ")"
   ]
  },
  {
   "cell_type": "code",
<<<<<<< HEAD
   "execution_count": 201,
=======
   "execution_count": 29,
>>>>>>> 0c3982659f19d7254365436e1457a283bc55fe6f
   "id": "5ec7e15f",
   "metadata": {},
   "outputs": [
    {
     "name": "stderr",
     "output_type": "stream",
     "text": [
      "C:\\Users\\andre\\AppData\\Local\\Programs\\Python\\Python311\\Lib\\site-packages\\statsforecast\\core.py:417: FutureWarning: In a future version the predictions will have the id as a column. You can set the `NIXTLA_ID_AS_COL` environment variable to adopt the new behavior and to suppress this warning.\n",
      "  warnings.warn(\n"
     ]
    }
   ],
   "source": [
    "Y_hat_df = fcst.forecast(\n",
    "    df=Y_train_df,\n",
    "    h=TEST_PERIODS,\n",
    "    fitted=True,\n",
    ")"
   ]
  },
  {
   "cell_type": "code",
<<<<<<< HEAD
   "execution_count": 202,
=======
   "execution_count": 30,
>>>>>>> 0c3982659f19d7254365436e1457a283bc55fe6f
   "id": "f594460b",
   "metadata": {},
   "outputs": [],
   "source": [
    "Y_hat_df.to_parquet('Y_hat_df.parquet')"
   ]
  },
  {
   "cell_type": "code",
<<<<<<< HEAD
   "execution_count": 203,
=======
   "execution_count": 32,
>>>>>>> 0c3982659f19d7254365436e1457a283bc55fe6f
   "id": "82afd477",
   "metadata": {},
   "outputs": [
    {
     "name": "stderr",
     "output_type": "stream",
     "text": [
      "C:\\Users\\andre\\AppData\\Local\\Programs\\Python\\Python311\\Lib\\site-packages\\statsforecast\\core.py:417: FutureWarning: In a future version the predictions will have the id as a column. You can set the `NIXTLA_ID_AS_COL` environment variable to adopt the new behavior and to suppress this warning.\n",
      "  warnings.warn(\n"
     ]
    }
   ],
   "source": [
    "Y_fitted_df = fcst.forecast_fitted_values()"
   ]
  },
  {
   "cell_type": "code",
<<<<<<< HEAD
   "execution_count": 206,
   "id": "288a740f",
   "metadata": {},
   "outputs": [
    {
     "data": {
      "application/vnd.jupyter.widget-view+json": {
       "model_id": "e778ff658360425ca14963f2fa35aa69",
       "version_major": 2,
       "version_minor": 0
      },
      "text/plain": [
       "QgridWidget(grid_options={'fullWidthRows': True, 'syncColumnCellResize': True, 'forceFitColumns': True, 'defau…"
      ]
     },
     "execution_count": 206,
     "metadata": {},
     "output_type": "execute_result"
    }
   ],
   "source": [
    "show_grid(Y_fitted_df)"
   ]
  },
  {
   "cell_type": "code",
   "execution_count": 26,
=======
   "execution_count": null,
>>>>>>> 0c3982659f19d7254365436e1457a283bc55fe6f
   "id": "fd8c06db",
   "metadata": {},
   "outputs": [],
   "source": [
    "Y_fitted_df.to_parquet('Y_fitted_df.parquet')"
   ]
  },
  {
   "cell_type": "code",
<<<<<<< HEAD
   "execution_count": 208,
=======
   "execution_count": 34,
>>>>>>> 0c3982659f19d7254365436e1457a283bc55fe6f
   "id": "d667fc3b",
   "metadata": {},
   "outputs": [
    {
     "name": "stderr",
     "output_type": "stream",
     "text": [
      "C:\\Users\\andre\\AppData\\Local\\Programs\\Python\\Python311\\Lib\\site-packages\\statsforecast\\core.py:1275: FutureWarning: Passing the ids as the index is deprecated. Please provide them as a column instead.\n",
      "  warnings.warn(\n"
     ]
    },
    {
     "data": {
<<<<<<< HEAD
      "image/png": "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",
=======
      "image/png": "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",
>>>>>>> 0c3982659f19d7254365436e1457a283bc55fe6f
      "text/plain": [
       "<Figure size 2400x350 with 1 Axes>"
      ]
     },
<<<<<<< HEAD
     "execution_count": 208,
=======
     "execution_count": 34,
>>>>>>> 0c3982659f19d7254365436e1457a283bc55fe6f
     "metadata": {},
     "output_type": "execute_result"
    }
   ],
   "source": [
    "fcst.plot(\n",
    "    Y_train_df,\n",
    "    Y_hat_df,\n",
    "    models=[\"AutoARIMA\"],\n",
    "    unique_ids=[\"market\"],\n",
    ")"
   ]
  },
  {
   "cell_type": "markdown",
   "id": "decb4a12",
   "metadata": {},
   "source": [
    "## Hierarchical reconciliation"
   ]
  },
  {
   "cell_type": "code",
<<<<<<< HEAD
   "execution_count": 233,
=======
   "execution_count": 84,
>>>>>>> 0c3982659f19d7254365436e1457a283bc55fe6f
   "id": "b80fdce1",
   "metadata": {},
   "outputs": [],
   "source": [
    "hrec = HierarchicalReconciliation(\n",
    "    reconcilers=[\n",
    "        BottomUp(),\n",
<<<<<<< HEAD
    "     #   MinTrace(method=\"mint_shrink\"),\n",
    "        MinTrace(method=\"ols\"),\n",
    "        TopDown(method='forecast_proportions'),\n",
    "        OptimalCombination(method='ols')\n",
=======
    "        # MinTrace(method=\"mint_shrink\"),\n",
    "        #MinTrace(method=\"ols\"),\n",
    "    #    TopDown(method='forecast_proportions')\n",
>>>>>>> 0c3982659f19d7254365436e1457a283bc55fe6f
    "    ]\n",
    ")"
   ]
  },
  {
   "cell_type": "code",
<<<<<<< HEAD
   "execution_count": 234,
   "id": "73e929b1",
   "metadata": {
    "scrolled": true
   },
=======
   "execution_count": 81,
   "id": "f47c77bb",
   "metadata": {},
>>>>>>> 0c3982659f19d7254365436e1457a283bc55fe6f
   "outputs": [],
   "source": [
    "# Some records did not make it into Y_hat_df, think because they are 9\n",
    "\n",
    "missing_records = S_df.index.unique().difference(Y_hat_df.index.unique())\n",
    "S_df_minus_missing_records = S_df[~S_df.index.isin(missing_records)]"
   ]
  },
  {
   "cell_type": "code",
<<<<<<< HEAD
   "execution_count": 226,
=======
   "execution_count": 85,
   "id": "73e929b1",
   "metadata": {},
   "outputs": [],
   "source": [
    "Y_rec_df = hrec.reconcile(Y_hat_df=Y_hat_df, Y_df=Y_fitted_df, S=S_df_minus_missing_records, tags=tags)"
   ]
  },
  {
   "cell_type": "code",
   "execution_count": 87,
>>>>>>> 0c3982659f19d7254365436e1457a283bc55fe6f
   "id": "4793f2d4",
   "metadata": {},
   "outputs": [],
   "source": [
    "plot_df = pd.concat(\n",
    "    [\n",
    "        Y_df.reset_index().set_index([\"unique_id\", \"ds\"]),\n",
    "        Y_rec_df.set_index(\"ds\", append=True),\n",
    "    ],\n",
    "    axis=1,\n",
    ")\n",
    "plot_df = plot_df.reset_index(\"ds\")"
   ]
  },
  {
   "cell_type": "code",
<<<<<<< HEAD
   "execution_count": 227,
   "id": "b54e0f95",
   "metadata": {},
   "outputs": [
    {
     "data": {
      "image/png": "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",
      "text/plain": [
       "<Figure size 2000x700 with 1 Axes>"
      ]
     },
     "metadata": {},
     "output_type": "display_data"
    }
   ],
=======
   "execution_count": null,
   "id": "b54e0f95",
   "metadata": {},
   "outputs": [],
>>>>>>> 0c3982659f19d7254365436e1457a283bc55fe6f
   "source": [
    "hplot = HierarchicalPlot(S=S_df, tags=tags)\n",
    "hplot.plot_series(\n",
    "    series=\"market\",\n",
    "    Y_df=plot_df,\n",
    "    models=[\n",
    "        \"y\",\n",
    "        \"AutoARIMA\",\n",
    "        \"AutoARIMA/TopDown_method-forecast_proportions\",\n",
    "    ],\n",
    "    level=[80],\n",
    ")"
   ]
  },
  {
   "cell_type": "code",
   "execution_count": null,
   "id": "fcd46fe1",
   "metadata": {},
   "outputs": [],
   "source": [
    "hplot = HierarchicalPlot(S=S_df, tags=tags)\n",
    "difference_df = Y_hat_df.merge(Y_test_df, on=[\"unique_id\", \"ds\"])[\n",
    "    [\"ds\", \"AutoARIMA\", \"y\"]\n",
    "]\n",
    "\n",
    "# hplot.plot_hierarchical_predictions_gap(Y_hat_df.rename({\"Naive\": \"y\"}, axis=1))\n",
    "\n",
    "hplot.plot_hierarchical_predictions_gap(difference_df)"
   ]
  },
  {
   "cell_type": "markdown",
   "id": "c9076ea5",
   "metadata": {},
   "source": [
    "# Evaluation\n",
    "## https://github.com/Nixtla/hierarchicalforecast/blob/2296c259542dbd906cfba4b8345c3b72148dad79/nbs/examples/TourismSmall.ipynb#L463"
   ]
  },
  {
   "cell_type": "code",
<<<<<<< HEAD
   "execution_count": 235,
=======
   "execution_count": 101,
>>>>>>> 0c3982659f19d7254365436e1457a283bc55fe6f
   "id": "2d52f9cb",
   "metadata": {},
   "outputs": [],
   "source": [
    "evaluator = HierarchicalEvaluation(evaluators=[mse])\n",
    "evaluation = evaluator.evaluate(\n",
    "    Y_hat_df=Y_rec_df,\n",
    "    Y_test_df=Y_test_df,\n",
    "    tags=tags,\n",
    "    benchmark=\"AutoARIMA\",\n",
    ")"
   ]
  },
  {
   "cell_type": "code",
<<<<<<< HEAD
   "execution_count": 236,
   "id": "8a2c0da3",
=======
   "execution_count": 100,
   "id": "da7b3bf4",
   "metadata": {},
   "outputs": [],
   "source": [
    "tags['market/top_level_SIC_code/second_level_SIC_code/ticker/metric'] = tags['market/top_level_SIC_code/second_level_SIC_code/ticker/metric'][~tags['market/top_level_SIC_code/second_level_SIC_code/ticker/metric'].isin(missing_records)]"
   ]
  },
  {
   "cell_type": "code",
   "execution_count": 102,
   "id": "f760be34",
>>>>>>> 0c3982659f19d7254365436e1457a283bc55fe6f
   "metadata": {},
   "outputs": [
    {
     "data": {
      "text/html": [
       "<div>\n",
       "<style scoped>\n",
       "    .dataframe tbody tr th:only-of-type {\n",
       "        vertical-align: middle;\n",
       "    }\n",
       "\n",
       "    .dataframe tbody tr th {\n",
       "        vertical-align: top;\n",
       "    }\n",
       "\n",
       "    .dataframe thead tr th {\n",
       "        text-align: left;\n",
       "    }\n",
       "</style>\n",
       "<table border=\"1\" class=\"dataframe\">\n",
       "  <thead>\n",
       "    <tr>\n",
       "      <th>level</th>\n",
       "      <th>Overall</th>\n",
       "      <th>market</th>\n",
       "      <th>market/top_level_SIC_code</th>\n",
       "      <th>market/top_level_SIC_code/second_level_SIC_code</th>\n",
       "      <th>market/top_level_SIC_code/second_level_SIC_code/ticker</th>\n",
<<<<<<< HEAD
=======
       "      <th>market/top_level_SIC_code/second_level_SIC_code/ticker/metric</th>\n",
>>>>>>> 0c3982659f19d7254365436e1457a283bc55fe6f
       "    </tr>\n",
       "    <tr>\n",
       "      <th>metric</th>\n",
       "      <th>mse-scaled</th>\n",
       "      <th>mse-scaled</th>\n",
       "      <th>mse-scaled</th>\n",
       "      <th>mse-scaled</th>\n",
       "      <th>mse-scaled</th>\n",
<<<<<<< HEAD
=======
       "      <th>mse-scaled</th>\n",
>>>>>>> 0c3982659f19d7254365436e1457a283bc55fe6f
       "    </tr>\n",
       "  </thead>\n",
       "  <tbody>\n",
       "    <tr>\n",
       "      <th>AutoARIMA</th>\n",
       "      <td>1.0</td>\n",
       "      <td>1.0</td>\n",
       "      <td>1.0</td>\n",
       "      <td>1.0</td>\n",
       "      <td>1.0</td>\n",
<<<<<<< HEAD
       "    </tr>\n",
       "    <tr>\n",
       "      <th>AutoARIMA/BottomUp</th>\n",
       "      <td>0.33766</td>\n",
       "      <td>0.700817</td>\n",
       "      <td>0.177929</td>\n",
       "      <td>0.876388</td>\n",
       "      <td>1.0</td>\n",
       "    </tr>\n",
       "    <tr>\n",
       "      <th>AutoARIMA/MinTrace_method-ols</th>\n",
       "      <td>0.904598</td>\n",
       "      <td>1.173429</td>\n",
       "      <td>0.780557</td>\n",
       "      <td>1.535135</td>\n",
       "      <td>1.088426</td>\n",
       "    </tr>\n",
       "    <tr>\n",
       "      <th>AutoARIMA/TopDown_method-forecast_proportions</th>\n",
       "      <td>1.108331</td>\n",
       "      <td>1.0</td>\n",
       "      <td>0.905617</td>\n",
       "      <td>2.983127</td>\n",
       "      <td>1.583234</td>\n",
       "    </tr>\n",
       "    <tr>\n",
       "      <th>AutoARIMA/OptimalCombination_method-ols</th>\n",
       "      <td>0.904598</td>\n",
       "      <td>1.173429</td>\n",
       "      <td>0.780557</td>\n",
       "      <td>1.535135</td>\n",
       "      <td>1.088426</td>\n",
=======
       "      <td>1.0</td>\n",
       "    </tr>\n",
       "    <tr>\n",
       "      <th>AutoARIMA/BottomUp</th>\n",
       "      <td>0.594276</td>\n",
       "      <td>0.541308</td>\n",
       "      <td>0.62923</td>\n",
       "      <td>0.382817</td>\n",
       "      <td>0.920986</td>\n",
       "      <td>1.0</td>\n",
>>>>>>> 0c3982659f19d7254365436e1457a283bc55fe6f
       "    </tr>\n",
       "  </tbody>\n",
       "</table>\n",
       "</div>"
      ],
      "text/plain": [
<<<<<<< HEAD
       "level                                            Overall     market  \\\n",
       "metric                                        mse-scaled mse-scaled   \n",
       "AutoARIMA                                            1.0        1.0   \n",
       "AutoARIMA/BottomUp                               0.33766   0.700817   \n",
       "AutoARIMA/MinTrace_method-ols                   0.904598   1.173429   \n",
       "AutoARIMA/TopDown_method-forecast_proportions   1.108331        1.0   \n",
       "AutoARIMA/OptimalCombination_method-ols         0.904598   1.173429   \n",
       "\n",
       "level                                         market/top_level_SIC_code  \\\n",
       "metric                                                       mse-scaled   \n",
       "AutoARIMA                                                           1.0   \n",
       "AutoARIMA/BottomUp                                             0.177929   \n",
       "AutoARIMA/MinTrace_method-ols                                  0.780557   \n",
       "AutoARIMA/TopDown_method-forecast_proportions                  0.905617   \n",
       "AutoARIMA/OptimalCombination_method-ols                        0.780557   \n",
       "\n",
       "level                                         market/top_level_SIC_code/second_level_SIC_code  \\\n",
       "metric                                                                             mse-scaled   \n",
       "AutoARIMA                                                                                 1.0   \n",
       "AutoARIMA/BottomUp                                                                   0.876388   \n",
       "AutoARIMA/MinTrace_method-ols                                                        1.535135   \n",
       "AutoARIMA/TopDown_method-forecast_proportions                                        2.983127   \n",
       "AutoARIMA/OptimalCombination_method-ols                                              1.535135   \n",
       "\n",
       "level                                         market/top_level_SIC_code/second_level_SIC_code/ticker  \n",
       "metric                                                                                    mse-scaled  \n",
       "AutoARIMA                                                                                    1.0      \n",
       "AutoARIMA/BottomUp                                                                           1.0      \n",
       "AutoARIMA/MinTrace_method-ols                                                           1.088426      \n",
       "AutoARIMA/TopDown_method-forecast_proportions                                           1.583234      \n",
       "AutoARIMA/OptimalCombination_method-ols                                                 1.088426      "
      ]
     },
     "execution_count": 236,
=======
       "level                 Overall     market market/top_level_SIC_code  \\\n",
       "metric             mse-scaled mse-scaled                mse-scaled   \n",
       "AutoARIMA                 1.0        1.0                       1.0   \n",
       "AutoARIMA/BottomUp   0.594276   0.541308                   0.62923   \n",
       "\n",
       "level              market/top_level_SIC_code/second_level_SIC_code  \\\n",
       "metric                                                  mse-scaled   \n",
       "AutoARIMA                                                      1.0   \n",
       "AutoARIMA/BottomUp                                        0.382817   \n",
       "\n",
       "level              market/top_level_SIC_code/second_level_SIC_code/ticker  \\\n",
       "metric                                                         mse-scaled   \n",
       "AutoARIMA                                                         1.0       \n",
       "AutoARIMA/BottomUp                                           0.920986       \n",
       "\n",
       "level              market/top_level_SIC_code/second_level_SIC_code/ticker/metric  \n",
       "metric                                                                mse-scaled  \n",
       "AutoARIMA                                                         1.0             \n",
       "AutoARIMA/BottomUp                                                1.0             "
      ]
     },
     "execution_count": 102,
>>>>>>> 0c3982659f19d7254365436e1457a283bc55fe6f
     "metadata": {},
     "output_type": "execute_result"
    }
   ],
   "source": [
    "evaluation.T"
   ]
  },
  {
   "cell_type": "code",
<<<<<<< HEAD
   "execution_count": 229,
   "id": "a8b1d999",
   "metadata": {
    "collapsed": true
   },
   "outputs": [
    {
     "name": "stderr",
     "output_type": "stream",
     "text": [
      "C:\\Users\\andre\\AppData\\Local\\Temp\\ipykernel_1128\\141917388.py:6: FutureWarning: The behavior of 'isin' with dtype=datetime64[us] and castable values (e.g. strings) is deprecated. In a future version, these will not be considered matching by isin. Explicitly cast to the appropriate dtype before calling isin instead.\n",
      "  .query('ds == \"2024-06-30\"')\n"
     ]
    },
    {
     "data": {
      "application/vnd.jupyter.widget-view+json": {
       "model_id": "21c4e7b631834357a6a4bb85f47eb500",
       "version_major": 2,
       "version_minor": 0
      },
      "text/plain": [
       "QgridWidget(grid_options={'fullWidthRows': True, 'syncColumnCellResize': True, 'forceFitColumns': True, 'defau…"
      ]
     },
     "execution_count": 229,
     "metadata": {},
     "output_type": "execute_result"
    }
   ],
=======
   "execution_count": null,
   "id": "a8b1d999",
   "metadata": {},
   "outputs": [],
>>>>>>> 0c3982659f19d7254365436e1457a283bc55fe6f
   "source": [
    "show_grid(\n",
    "    Y_rec_df.set_index([\"ds\"], append=True)\n",
    "    .sub(Y_test_df.set_index([\"ds\"], append=True)[\"y\"], axis=\"index\")[\n",
    "        [\"AutoARIMA\", \"AutoARIMA/TopDown_method-forecast_proportions\"]\n",
    "    ]\n",
    "    .query('ds == \"2024-06-30\"')\n",
    ")"
   ]
  },
  {
   "cell_type": "code",
   "execution_count": null,
   "id": "0228cb1b",
   "metadata": {},
   "outputs": [],
   "source": []
  }
 ],
 "metadata": {
  "kernelspec": {
   "display_name": "Python 3 (ipykernel)",
   "language": "python",
   "name": "python3"
  },
  "language_info": {
   "codemirror_mode": {
    "name": "ipython",
    "version": 3
   },
   "file_extension": ".py",
   "mimetype": "text/x-python",
   "name": "python",
   "nbconvert_exporter": "python",
   "pygments_lexer": "ipython3",
   "version": "3.11.0"
  }
 },
 "nbformat": 4,
 "nbformat_minor": 5
}
