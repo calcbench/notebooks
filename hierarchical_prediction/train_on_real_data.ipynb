{
 "cells": [
  {
   "cell_type": "markdown",
   "id": "9a05ef29",
   "metadata": {},
   "source": [
    "## https://github.com/Nixtla/hierarchicalforecast/blob/main/nbs/examples/TourismSmall.ipynb"
   ]
  },
  {
   "cell_type": "code",
   "execution_count": null,
   "id": "1a8fbd23",
   "metadata": {},
   "outputs": [],
   "source": [
    "# %#pip install statsforecast hierarchicalforecast utilsforcast"
   ]
  },
  {
   "cell_type": "code",
   "execution_count": 1,
   "id": "4d081a13",
   "metadata": {},
   "outputs": [
    {
     "name": "stderr",
     "output_type": "stream",
     "text": [
      "C:\\Users\\andre\\AppData\\Local\\Programs\\Python\\Python311\\Lib\\site-packages\\statsforecast\\core.py:26: TqdmExperimentalWarning: Using `tqdm.autonotebook.tqdm` in notebook mode. Use `tqdm.tqdm` instead to force console mode (e.g. in jupyter console)\n",
      "  from tqdm.autonotebook import tqdm\n",
      "C:\\Users\\andre\\AppData\\Local\\Programs\\Python\\Python311\\Lib\\site-packages\\statsforecast\\utils.py:236: FutureWarning: 'M' is deprecated and will be removed in a future version, please use 'ME' instead.\n",
      "  \"ds\": pd.date_range(start=\"1949-01-01\", periods=len(AirPassengers), freq=\"M\"),\n"
     ]
    }
   ],
   "source": [
    "from statsforecast.core import StatsForecast\n",
    "from statsforecast.models import AutoARIMA, Naive, HoltWinters\n",
    "import pandas as pd\n",
    "\n",
    "from hierarchicalforecast.core import HierarchicalReconciliation\n",
    "from hierarchicalforecast.evaluation import HierarchicalEvaluation, mse, rel_mse, mqloss\n",
    "from hierarchicalforecast.methods import TopDown, BottomUp, MinTrace\n",
    "from hierarchicalforecast.utils import aggregate, HierarchicalPlot\n",
    "from utilsforecast.preprocessing import fill_gaps\n",
    "import numpy as np\n",
    "\n",
    "import pickle\n",
    "from datetime import date, datetime\n",
    "from sklearn.metrics import mean_absolute_percentage_error\n",
    "from qgridnext import show_grid\n",
    "from importlib import reload\n",
    "import re\n",
    "import pickle"
   ]
  },
  {
   "cell_type": "code",
   "execution_count": 2,
   "id": "0d3ec2fe",
   "metadata": {},
   "outputs": [],
   "source": [
    "TEST_PERIODS = 2"
   ]
  },
  {
   "cell_type": "code",
   "execution_count": 9,
   "id": "6c7f0fb2",
   "metadata": {},
   "outputs": [],
   "source": [
    "Y_df_load = pd.read_parquet(\"test_train_data.parquet\")\n"
   ]
  },
  {
   "cell_type": "markdown",
   "id": "92b6f2a8",
   "metadata": {},
   "source": [
    "## Prep Data"
   ]
  },
  {
   "cell_type": "code",
   "execution_count": 5,
   "id": "17abf16e",
   "metadata": {},
   "outputs": [],
   "source": [
    "pivot_columns = [\n",
    "    \"ticker\",\n",
    "    \"top_level_SIC_code\",\n",
    "    \"second_level_SIC_code\",\n",
    "    \"third_level_SIC_code\",\n",
    "    \"fourth_level_SIC_code\",\n",
    "    'metric',\n",
    "]"
   ]
  },
  {
   "cell_type": "code",
   "execution_count": 6,
   "id": "7efab97a",
   "metadata": {},
   "outputs": [
    {
     "ename": "KeyError",
     "evalue": "'y'",
     "output_type": "error",
     "traceback": [
      "\u001b[1;31m---------------------------------------------------------------------------\u001b[0m",
      "\u001b[1;31mKeyError\u001b[0m                                  Traceback (most recent call last)",
      "File \u001b[1;32m~\\AppData\\Local\\Programs\\Python\\Python311\\Lib\\site-packages\\pandas\\core\\indexes\\base.py:3802\u001b[0m, in \u001b[0;36mIndex.get_loc\u001b[1;34m(self, key)\u001b[0m\n\u001b[0;32m   3801\u001b[0m \u001b[38;5;28;01mtry\u001b[39;00m:\n\u001b[1;32m-> 3802\u001b[0m     \u001b[38;5;28;01mreturn\u001b[39;00m \u001b[38;5;28;43mself\u001b[39;49m\u001b[38;5;241;43m.\u001b[39;49m\u001b[43m_engine\u001b[49m\u001b[38;5;241;43m.\u001b[39;49m\u001b[43mget_loc\u001b[49m\u001b[43m(\u001b[49m\u001b[43mcasted_key\u001b[49m\u001b[43m)\u001b[49m\n\u001b[0;32m   3803\u001b[0m \u001b[38;5;28;01mexcept\u001b[39;00m \u001b[38;5;167;01mKeyError\u001b[39;00m \u001b[38;5;28;01mas\u001b[39;00m err:\n",
      "File \u001b[1;32mindex.pyx:153\u001b[0m, in \u001b[0;36mpandas._libs.index.IndexEngine.get_loc\u001b[1;34m()\u001b[0m\n",
      "File \u001b[1;32mindex.pyx:182\u001b[0m, in \u001b[0;36mpandas._libs.index.IndexEngine.get_loc\u001b[1;34m()\u001b[0m\n",
      "File \u001b[1;32mpandas\\\\_libs\\\\hashtable_class_helper.pxi:7081\u001b[0m, in \u001b[0;36mpandas._libs.hashtable.PyObjectHashTable.get_item\u001b[1;34m()\u001b[0m\n",
      "File \u001b[1;32mpandas\\\\_libs\\\\hashtable_class_helper.pxi:7089\u001b[0m, in \u001b[0;36mpandas._libs.hashtable.PyObjectHashTable.get_item\u001b[1;34m()\u001b[0m\n",
      "\u001b[1;31mKeyError\u001b[0m: 'y'",
      "\nThe above exception was the direct cause of the following exception:\n",
      "\u001b[1;31mKeyError\u001b[0m                                  Traceback (most recent call last)",
      "Cell \u001b[1;32mIn[6], line 3\u001b[0m\n\u001b[0;32m      1\u001b[0m \u001b[38;5;66;03m# forward fill missing data\u001b[39;00m\n\u001b[0;32m      2\u001b[0m Y_df_load \u001b[38;5;241m=\u001b[39m (\n\u001b[1;32m----> 3\u001b[0m     \u001b[43mY_df_load\u001b[49m\u001b[38;5;241;43m.\u001b[39;49m\u001b[43mpivot\u001b[49m\u001b[43m(\u001b[49m\n\u001b[0;32m      4\u001b[0m \u001b[43m        \u001b[49m\u001b[43mindex\u001b[49m\u001b[38;5;241;43m=\u001b[39;49m\u001b[38;5;124;43m\"\u001b[39;49m\u001b[38;5;124;43mds\u001b[39;49m\u001b[38;5;124;43m\"\u001b[39;49m\u001b[43m,\u001b[49m\n\u001b[0;32m      5\u001b[0m \u001b[43m        \u001b[49m\u001b[43mcolumns\u001b[49m\u001b[38;5;241;43m=\u001b[39;49m\u001b[43mpivot_columns\u001b[49m\u001b[43m,\u001b[49m\n\u001b[0;32m      6\u001b[0m \u001b[43m        \u001b[49m\u001b[43mvalues\u001b[49m\u001b[38;5;241;43m=\u001b[39;49m\u001b[38;5;124;43m\"\u001b[39;49m\u001b[38;5;124;43my\u001b[39;49m\u001b[38;5;124;43m\"\u001b[39;49m\u001b[43m,\u001b[49m\n\u001b[0;32m      7\u001b[0m \u001b[43m    \u001b[49m\u001b[43m)\u001b[49m\n\u001b[0;32m      8\u001b[0m     \u001b[38;5;241m.\u001b[39mffill()\n\u001b[0;32m      9\u001b[0m     \u001b[38;5;241m.\u001b[39mmelt(ignore_index\u001b[38;5;241m=\u001b[39m\u001b[38;5;28;01mFalse\u001b[39;00m, value_name\u001b[38;5;241m=\u001b[39m\u001b[38;5;124m\"\u001b[39m\u001b[38;5;124my\u001b[39m\u001b[38;5;124m\"\u001b[39m)\n\u001b[0;32m     10\u001b[0m     \u001b[38;5;241m.\u001b[39mreset_index()\n\u001b[0;32m     11\u001b[0m )\n",
      "File \u001b[1;32m~\\AppData\\Local\\Programs\\Python\\Python311\\Lib\\site-packages\\pandas\\core\\frame.py:9312\u001b[0m, in \u001b[0;36mDataFrame.pivot\u001b[1;34m(self, columns, index, values)\u001b[0m\n\u001b[0;32m   9305\u001b[0m \u001b[38;5;129m@Substitution\u001b[39m(\u001b[38;5;124m\"\u001b[39m\u001b[38;5;124m\"\u001b[39m)\n\u001b[0;32m   9306\u001b[0m \u001b[38;5;129m@Appender\u001b[39m(_shared_docs[\u001b[38;5;124m\"\u001b[39m\u001b[38;5;124mpivot\u001b[39m\u001b[38;5;124m\"\u001b[39m])\n\u001b[0;32m   9307\u001b[0m \u001b[38;5;28;01mdef\u001b[39;00m \u001b[38;5;21mpivot\u001b[39m(\n\u001b[0;32m   9308\u001b[0m     \u001b[38;5;28mself\u001b[39m, \u001b[38;5;241m*\u001b[39m, columns, index\u001b[38;5;241m=\u001b[39mlib\u001b[38;5;241m.\u001b[39mno_default, values\u001b[38;5;241m=\u001b[39mlib\u001b[38;5;241m.\u001b[39mno_default\n\u001b[0;32m   9309\u001b[0m ) \u001b[38;5;241m-\u001b[39m\u001b[38;5;241m>\u001b[39m DataFrame:\n\u001b[0;32m   9310\u001b[0m     \u001b[38;5;28;01mfrom\u001b[39;00m \u001b[38;5;21;01mpandas\u001b[39;00m\u001b[38;5;21;01m.\u001b[39;00m\u001b[38;5;21;01mcore\u001b[39;00m\u001b[38;5;21;01m.\u001b[39;00m\u001b[38;5;21;01mreshape\u001b[39;00m\u001b[38;5;21;01m.\u001b[39;00m\u001b[38;5;21;01mpivot\u001b[39;00m \u001b[38;5;28;01mimport\u001b[39;00m pivot\n\u001b[1;32m-> 9312\u001b[0m     \u001b[38;5;28;01mreturn\u001b[39;00m \u001b[43mpivot\u001b[49m\u001b[43m(\u001b[49m\u001b[38;5;28;43mself\u001b[39;49m\u001b[43m,\u001b[49m\u001b[43m \u001b[49m\u001b[43mindex\u001b[49m\u001b[38;5;241;43m=\u001b[39;49m\u001b[43mindex\u001b[49m\u001b[43m,\u001b[49m\u001b[43m \u001b[49m\u001b[43mcolumns\u001b[49m\u001b[38;5;241;43m=\u001b[39;49m\u001b[43mcolumns\u001b[49m\u001b[43m,\u001b[49m\u001b[43m \u001b[49m\u001b[43mvalues\u001b[49m\u001b[38;5;241;43m=\u001b[39;49m\u001b[43mvalues\u001b[49m\u001b[43m)\u001b[49m\n",
      "File \u001b[1;32m~\\AppData\\Local\\Programs\\Python\\Python311\\Lib\\site-packages\\pandas\\core\\reshape\\pivot.py:566\u001b[0m, in \u001b[0;36mpivot\u001b[1;34m(data, columns, index, values)\u001b[0m\n\u001b[0;32m    562\u001b[0m         indexed \u001b[38;5;241m=\u001b[39m data\u001b[38;5;241m.\u001b[39m_constructor(\n\u001b[0;32m    563\u001b[0m             data[values]\u001b[38;5;241m.\u001b[39m_values, index\u001b[38;5;241m=\u001b[39mmultiindex, columns\u001b[38;5;241m=\u001b[39mvalues\n\u001b[0;32m    564\u001b[0m         )\n\u001b[0;32m    565\u001b[0m     \u001b[38;5;28;01melse\u001b[39;00m:\n\u001b[1;32m--> 566\u001b[0m         indexed \u001b[38;5;241m=\u001b[39m data\u001b[38;5;241m.\u001b[39m_constructor_sliced(\u001b[43mdata\u001b[49m\u001b[43m[\u001b[49m\u001b[43mvalues\u001b[49m\u001b[43m]\u001b[49m\u001b[38;5;241m.\u001b[39m_values, index\u001b[38;5;241m=\u001b[39mmultiindex)\n\u001b[0;32m    567\u001b[0m \u001b[38;5;66;03m# error: Argument 1 to \"unstack\" of \"DataFrame\" has incompatible type \"Union\u001b[39;00m\n\u001b[0;32m    568\u001b[0m \u001b[38;5;66;03m# [List[Any], ExtensionArray, ndarray[Any, Any], Index, Series]\"; expected\u001b[39;00m\n\u001b[0;32m    569\u001b[0m \u001b[38;5;66;03m# \"Hashable\"\u001b[39;00m\n\u001b[0;32m    570\u001b[0m result \u001b[38;5;241m=\u001b[39m indexed\u001b[38;5;241m.\u001b[39munstack(columns_listlike)  \u001b[38;5;66;03m# type: ignore[arg-type]\u001b[39;00m\n",
      "File \u001b[1;32m~\\AppData\\Local\\Programs\\Python\\Python311\\Lib\\site-packages\\pandas\\core\\frame.py:4090\u001b[0m, in \u001b[0;36mDataFrame.__getitem__\u001b[1;34m(self, key)\u001b[0m\n\u001b[0;32m   4088\u001b[0m \u001b[38;5;28;01mif\u001b[39;00m \u001b[38;5;28mself\u001b[39m\u001b[38;5;241m.\u001b[39mcolumns\u001b[38;5;241m.\u001b[39mnlevels \u001b[38;5;241m>\u001b[39m \u001b[38;5;241m1\u001b[39m:\n\u001b[0;32m   4089\u001b[0m     \u001b[38;5;28;01mreturn\u001b[39;00m \u001b[38;5;28mself\u001b[39m\u001b[38;5;241m.\u001b[39m_getitem_multilevel(key)\n\u001b[1;32m-> 4090\u001b[0m indexer \u001b[38;5;241m=\u001b[39m \u001b[38;5;28;43mself\u001b[39;49m\u001b[38;5;241;43m.\u001b[39;49m\u001b[43mcolumns\u001b[49m\u001b[38;5;241;43m.\u001b[39;49m\u001b[43mget_loc\u001b[49m\u001b[43m(\u001b[49m\u001b[43mkey\u001b[49m\u001b[43m)\u001b[49m\n\u001b[0;32m   4091\u001b[0m \u001b[38;5;28;01mif\u001b[39;00m is_integer(indexer):\n\u001b[0;32m   4092\u001b[0m     indexer \u001b[38;5;241m=\u001b[39m [indexer]\n",
      "File \u001b[1;32m~\\AppData\\Local\\Programs\\Python\\Python311\\Lib\\site-packages\\pandas\\core\\indexes\\base.py:3809\u001b[0m, in \u001b[0;36mIndex.get_loc\u001b[1;34m(self, key)\u001b[0m\n\u001b[0;32m   3804\u001b[0m     \u001b[38;5;28;01mif\u001b[39;00m \u001b[38;5;28misinstance\u001b[39m(casted_key, \u001b[38;5;28mslice\u001b[39m) \u001b[38;5;129;01mor\u001b[39;00m (\n\u001b[0;32m   3805\u001b[0m         \u001b[38;5;28misinstance\u001b[39m(casted_key, abc\u001b[38;5;241m.\u001b[39mIterable)\n\u001b[0;32m   3806\u001b[0m         \u001b[38;5;129;01mand\u001b[39;00m \u001b[38;5;28many\u001b[39m(\u001b[38;5;28misinstance\u001b[39m(x, \u001b[38;5;28mslice\u001b[39m) \u001b[38;5;28;01mfor\u001b[39;00m x \u001b[38;5;129;01min\u001b[39;00m casted_key)\n\u001b[0;32m   3807\u001b[0m     ):\n\u001b[0;32m   3808\u001b[0m         \u001b[38;5;28;01mraise\u001b[39;00m InvalidIndexError(key)\n\u001b[1;32m-> 3809\u001b[0m     \u001b[38;5;28;01mraise\u001b[39;00m \u001b[38;5;167;01mKeyError\u001b[39;00m(key) \u001b[38;5;28;01mfrom\u001b[39;00m \u001b[38;5;21;01merr\u001b[39;00m\n\u001b[0;32m   3810\u001b[0m \u001b[38;5;28;01mexcept\u001b[39;00m \u001b[38;5;167;01mTypeError\u001b[39;00m:\n\u001b[0;32m   3811\u001b[0m     \u001b[38;5;66;03m# If we have a listlike key, _check_indexing_error will raise\u001b[39;00m\n\u001b[0;32m   3812\u001b[0m     \u001b[38;5;66;03m#  InvalidIndexError. Otherwise we fall through and re-raise\u001b[39;00m\n\u001b[0;32m   3813\u001b[0m     \u001b[38;5;66;03m#  the TypeError.\u001b[39;00m\n\u001b[0;32m   3814\u001b[0m     \u001b[38;5;28mself\u001b[39m\u001b[38;5;241m.\u001b[39m_check_indexing_error(key)\n",
      "\u001b[1;31mKeyError\u001b[0m: 'y'"
     ]
    }
   ],
   "source": [
    "# forward fill missing data\n",
    "Y_df_load = (\n",
    "    Y_df_load.pivot(\n",
    "        index=\"ds\",\n",
    "        columns=pivot_columns,\n",
    "        values=\"y\",\n",
    "    )\n",
    "    .ffill()\n",
    "    .melt(ignore_index=False, value_name=\"y\")\n",
    "    .reset_index()\n",
    ")"
   ]
  },
  {
   "cell_type": "code",
   "execution_count": null,
   "id": "3f670764",
   "metadata": {},
   "outputs": [],
   "source": [
    "Y_df_load = Y_df_load[~Y_df_load[\"y\"].isna()]"
   ]
  },
  {
   "cell_type": "code",
   "execution_count": null,
   "id": "8a940822",
   "metadata": {},
   "outputs": [],
   "source": [
    "Y_df_load[\"entity_type\"] = \"company\""
   ]
  },
  {
   "cell_type": "markdown",
   "id": "ffdf4a98",
   "metadata": {},
   "source": [
    "## Build training data"
   ]
  },
  {
   "cell_type": "code",
   "execution_count": null,
   "id": "a6eae936",
   "metadata": {},
   "outputs": [],
   "source": [
    "levels = [\n",
    "    [\"entity_type\", \"top_level_SIC_code\", \"second_level_SIC_code\"],\n",
    "    [\n",
    "        \"entity_type\",\n",
    "        \"top_level_SIC_code\",\n",
    "        \"second_level_SIC_code\",\n",
    "        \"third_level_SIC_code\",\n",
    "    ],\n",
    "    [\n",
    "        \"entity_type\",\n",
    "        \"top_level_SIC_code\",\n",
    "        \"second_level_SIC_code\",\n",
    "        \"third_level_SIC_code\",\n",
    "        \"fourth_level_SIC_code\",\n",
    "    ],\n",
    "    [\n",
    "        \"entity_type\",\n",
    "        \"top_level_SIC_code\",\n",
    "        \"second_level_SIC_code\",\n",
    "        \"third_level_SIC_code\",\n",
    "        \"fourth_level_SIC_code\",\n",
    "        \"ticker\",\n",
    "    ],\n",
    "]\n",
    "\n",
    "\n",
    "levels = [\n",
    "    [\"entity_type\"],\n",
    "    [\"entity_type\", \"top_level_SIC_code\"],\n",
    "    [\"entity_type\", \"top_level_SIC_code\", \"ticker\"],\n",
    "]\n",
    "\n",
    "levels = [\n",
    "    [\"top_level_SIC_code\"],\n",
    "    [\"top_level_SIC_code\", \"second_level_SIC_code\"],\n",
    "    [\"top_level_SIC_code\", \"second_level_SIC_code\", \"ticker\"],\n",
    "]"
   ]
  },
  {
   "cell_type": "code",
   "execution_count": null,
   "id": "0f35973b",
   "metadata": {},
   "outputs": [],
   "source": [
    "Y_df, S_df, tags = aggregate(df=Y_df_load, spec=levels)"
   ]
  },
  {
   "cell_type": "code",
   "execution_count": null,
   "id": "799f010b",
   "metadata": {},
   "outputs": [],
   "source": [
    "S_df.to_parquet('S_df.parquet')"
   ]
  },
  {
   "cell_type": "code",
   "execution_count": null,
   "id": "f7a11ecc",
   "metadata": {},
   "outputs": [],
   "source": []
  },
  {
   "cell_type": "code",
   "execution_count": null,
   "id": "1d79c6fa",
   "metadata": {},
   "outputs": [],
   "source": [
    "with open('tags.pickle', 'wb') as out:\n",
    "    pickle.dump(tags, out)"
   ]
  },
  {
   "cell_type": "code",
   "execution_count": null,
   "id": "451b32d5",
   "metadata": {},
   "outputs": [],
   "source": [
    "tags"
   ]
  },
  {
   "cell_type": "code",
   "execution_count": null,
   "id": "d19f85b8",
   "metadata": {},
   "outputs": [],
   "source": [
    "Y_df = Y_df.reset_index()"
   ]
  },
  {
   "cell_type": "code",
   "execution_count": null,
   "id": "626de399",
   "metadata": {},
   "outputs": [],
   "source": [
    "Y_test_df = Y_df.groupby(\"unique_id\").tail(TEST_PERIODS)\n",
    "Y_train_df = Y_df.drop(Y_test_df.index)\n",
    "Y_test_df = Y_test_df.set_index(\"unique_id\")"
   ]
  },
  {
   "cell_type": "markdown",
   "id": "c8d81868",
   "metadata": {},
   "source": [
    "## Base Forecasts"
   ]
  },
  {
   "cell_type": "code",
   "execution_count": null,
   "id": "59b47d20",
   "metadata": {},
   "outputs": [],
   "source": [
    "fcst = StatsForecast(models=[AutoARIMA(season_length=4)], freq=\"QE\", n_jobs=-1) "
   ]
  },
  {
   "cell_type": "code",
   "execution_count": null,
   "id": "5ec7e15f",
   "metadata": {},
   "outputs": [],
   "source": [
    "Y_hat_df = fcst.forecast(\n",
    "    df=Y_train_df,\n",
    "    h=TEST_PERIODS,\n",
    "    fitted=True,\n",
    ")"
   ]
  },
  {
   "cell_type": "code",
   "execution_count": null,
   "id": "f594460b",
   "metadata": {},
   "outputs": [],
   "source": [
    "Y_hat_df.to_parquet('Y_hat_df.parquet')"
   ]
  },
  {
   "cell_type": "code",
   "execution_count": null,
   "id": "82afd477",
   "metadata": {},
   "outputs": [],
   "source": [
    "Y_fitted_df = fcst.forecast_fitted_values()"
   ]
  },
  {
   "cell_type": "code",
   "execution_count": null,
   "id": "fd8c06db",
   "metadata": {},
   "outputs": [],
   "source": [
    "Y_fitted_df.to_parquet('Y_fitted_df.parquet')"
   ]
  },
  {
   "cell_type": "code",
   "execution_count": null,
   "id": "d667fc3b",
   "metadata": {},
   "outputs": [],
   "source": [
    "fcst.plot(\n",
    "    Y_train_df,\n",
    "    Y_hat_df,\n",
    "    models=[\"AutoARIMA\"],\n",
    "    unique_ids=[\"0\"],\n",
    ")"
   ]
  },
  {
   "cell_type": "markdown",
   "id": "decb4a12",
   "metadata": {},
   "source": [
    "## Hierarchical reconciliation"
   ]
  },
  {
   "cell_type": "code",
   "execution_count": null,
   "id": "b80fdce1",
   "metadata": {},
   "outputs": [],
   "source": [
    "hrec = HierarchicalReconciliation(\n",
    "    reconcilers=[\n",
    "        #BottomUp(),\n",
    "        # MinTrace(method=\"mint_shrink\"),\n",
    "        #MinTrace(method=\"ols\"),\n",
    "        TopDown(method='forecast_proportions')\n",
    "    ]\n",
    ")"
   ]
  },
  {
   "cell_type": "code",
   "execution_count": null,
   "id": "73e929b1",
   "metadata": {
    "scrolled": true
   },
   "outputs": [],
   "source": [
    "Y_rec_df = hrec.reconcile(Y_hat_df=Y_hat_df, Y_df=Y_fitted_df, S=S_df, tags=tags)"
   ]
  },
  {
   "cell_type": "code",
   "execution_count": null,
   "id": "4793f2d4",
   "metadata": {},
   "outputs": [],
   "source": [
    "plot_df = pd.concat(\n",
    "    [\n",
    "        Y_df.reset_index().set_index([\"unique_id\", \"ds\"]),\n",
    "        Y_rec_df.set_index(\"ds\", append=True),\n",
    "    ],\n",
    "    axis=1,\n",
    ")\n",
    "plot_df = plot_df.reset_index(\"ds\")"
   ]
  },
  {
   "cell_type": "code",
   "execution_count": null,
   "id": "63c6909c",
   "metadata": {},
   "outputs": [],
   "source": [
    "show_grid(plot_df[plot_df.index.str.startswith(\"6\")].query('ds == \"2024-06-30\"'))"
   ]
  },
  {
   "cell_type": "code",
   "execution_count": null,
   "id": "b54e0f95",
   "metadata": {},
   "outputs": [],
   "source": [
    "hplot = HierarchicalPlot(S=S_df, tags=tags)\n",
    "hplot.plot_series(\n",
    "    series=\"0\",\n",
    "    Y_df=plot_df,\n",
    "    models=[\n",
    "        \"y\",\n",
    "        \"AutoARIMA\",\n",
    "        \"AutoARIMA/TopDown_method-forecast_proportions\",\n",
    "    ],\n",
    "    level=[80],\n",
    ")"
   ]
  },
  {
   "cell_type": "code",
   "execution_count": null,
   "id": "fcd46fe1",
   "metadata": {},
   "outputs": [],
   "source": [
    "hplot = HierarchicalPlot(S=S_df, tags=tags)\n",
    "difference_df = Y_hat_df.merge(Y_test_df, on=[\"unique_id\", \"ds\"])[\n",
    "    [\"ds\", \"AutoARIMA\", \"y\"]\n",
    "]\n",
    "\n",
    "# hplot.plot_hierarchical_predictions_gap(Y_hat_df.rename({\"Naive\": \"y\"}, axis=1))\n",
    "\n",
    "hplot.plot_hierarchical_predictions_gap(difference_df)"
   ]
  },
  {
   "cell_type": "markdown",
   "id": "c9076ea5",
   "metadata": {},
   "source": [
    "# Evaluation\n",
    "## https://github.com/Nixtla/hierarchicalforecast/blob/2296c259542dbd906cfba4b8345c3b72148dad79/nbs/examples/TourismSmall.ipynb#L463"
   ]
  },
  {
   "cell_type": "code",
   "execution_count": null,
   "id": "2d52f9cb",
   "metadata": {},
   "outputs": [],
   "source": [
    "evaluator = HierarchicalEvaluation(evaluators=[mse])\n",
    "evaluation = evaluator.evaluate(\n",
    "    Y_hat_df=Y_rec_df,\n",
    "    Y_test_df=Y_test_df,\n",
    "    tags=tags,\n",
    "    benchmark=\"AutoARIMA\",\n",
    ")"
   ]
  },
  {
   "cell_type": "code",
   "execution_count": null,
   "id": "f760be34",
   "metadata": {},
   "outputs": [],
   "source": [
    "evaluation.T"
   ]
  },
  {
   "cell_type": "code",
   "execution_count": null,
   "id": "a8b1d999",
   "metadata": {},
   "outputs": [],
   "source": [
    "show_grid(\n",
    "    Y_rec_df.set_index([\"ds\"], append=True)\n",
    "    .sub(Y_test_df.set_index([\"ds\"], append=True)[\"y\"], axis=\"index\")[\n",
    "        [\"AutoARIMA\", \"AutoARIMA/BottomUp\"]\n",
    "    ]\n",
    "    .query('ds == \"2024-06-30\"')\n",
    ")"
   ]
  },
  {
   "cell_type": "code",
   "execution_count": null,
   "id": "0228cb1b",
   "metadata": {},
   "outputs": [],
   "source": []
  }
 ],
 "metadata": {
  "kernelspec": {
   "display_name": "Python 3 (ipykernel)",
   "language": "python",
   "name": "python3"
  },
  "language_info": {
   "codemirror_mode": {
    "name": "ipython",
    "version": 3
   },
   "file_extension": ".py",
   "mimetype": "text/x-python",
   "name": "python",
   "nbconvert_exporter": "python",
   "pygments_lexer": "ipython3",
   "version": "3.11.0"
  }
 },
 "nbformat": 4,
 "nbformat_minor": 5
}
