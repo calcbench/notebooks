{
 "cells": [
  {
   "cell_type": "markdown",
   "id": "9a05ef29",
   "metadata": {},
   "source": [
    "## https://github.com/Nixtla/hierarchicalforecast/blob/main/nbs/examples/TourismSmall.ipynb"
   ]
  },
  {
   "cell_type": "code",
   "execution_count": null,
   "id": "1a8fbd23",
   "metadata": {},
   "outputs": [],
   "source": [
    "# %#pip install statsforecast hierarchicalforecast utilsforcast"
   ]
  },
  {
   "cell_type": "code",
   "execution_count": 1,
   "id": "4d081a13",
   "metadata": {},
   "outputs": [
    {
     "name": "stderr",
     "output_type": "stream",
     "text": [
      "C:\\Users\\andre\\AppData\\Local\\Programs\\Python\\Python311\\Lib\\site-packages\\statsforecast\\core.py:26: TqdmExperimentalWarning: Using `tqdm.autonotebook.tqdm` in notebook mode. Use `tqdm.tqdm` instead to force console mode (e.g. in jupyter console)\n",
      "  from tqdm.autonotebook import tqdm\n",
      "C:\\Users\\andre\\AppData\\Local\\Programs\\Python\\Python311\\Lib\\site-packages\\statsforecast\\utils.py:236: FutureWarning: 'M' is deprecated and will be removed in a future version, please use 'ME' instead.\n",
      "  \"ds\": pd.date_range(start=\"1949-01-01\", periods=len(AirPassengers), freq=\"M\"),\n"
     ]
    }
   ],
   "source": [
    "from statsforecast.core import StatsForecast\n",
    "from statsforecast.models import AutoARIMA, Naive, HoltWinters\n",
    "import pandas as pd\n",
    "\n",
    "from hierarchicalforecast.core import HierarchicalReconciliation\n",
    "from hierarchicalforecast.evaluation import HierarchicalEvaluation\n",
    "from hierarchicalforecast.methods import TopDown, BottomUp\n",
    "from hierarchicalforecast.utils import aggregate, HierarchicalPlot\n",
    "from utilsforecast.preprocessing import fill_gaps\n",
    "import numpy as np\n",
    "\n",
    "import pickle\n",
    "from datetime import date\n",
    "from sklearn.metrics import mean_absolute_percentage_error\n",
    "from qgridnext import show_grid"
   ]
  },
  {
   "cell_type": "code",
   "execution_count": 2,
   "id": "0d3ec2fe",
   "metadata": {},
   "outputs": [],
   "source": [
    "TEST_PERIODS = 4"
   ]
  },
  {
   "cell_type": "code",
   "execution_count": 4,
   "id": "6c7f0fb2",
   "metadata": {},
   "outputs": [],
   "source": [
    "Y_df_load = (\n",
    "    pd.read_parquet(\"revenue_data.parquet\").rename({\"value\": \"y\"}, axis=1).reset_index()\n",
    ")"
   ]
  },
  {
   "cell_type": "markdown",
   "id": "92b6f2a8",
   "metadata": {},
   "source": [
    "## Prep Data"
   ]
  },
  {
   "cell_type": "code",
   "execution_count": 5,
   "id": "25679a0e",
   "metadata": {},
   "outputs": [],
   "source": [
    "# last date\n",
    "last_date = pd.to_datetime(date(2023, 9, 30))"
   ]
  },
  {
   "cell_type": "code",
   "execution_count": 6,
   "id": "8d9052a3",
   "metadata": {},
   "outputs": [],
   "source": [
    "# XBRL data starts ~2010\n",
    "first_date = pd.to_datetime(date(2010, 1, 1))"
   ]
  },
  {
   "cell_type": "code",
   "execution_count": 7,
   "id": "2714e666",
   "metadata": {},
   "outputs": [],
   "source": [
    "# remove periods after the date from which we are predicting\n",
    "Y_df_load = Y_df_load[Y_df_load[\"ds\"] <= last_date]\n",
    "Y_df_load = Y_df_load[Y_df_load[\"ds\"] >= first_date]"
   ]
  },
  {
   "cell_type": "code",
   "execution_count": 8,
   "id": "3ed2d225",
   "metadata": {},
   "outputs": [],
   "source": [
    "# remove companies for which we do not have current data\n",
    "Y_df_load = Y_df_load.groupby(\"ticker\").filter(lambda x: x[\"ds\"].max() == last_date)"
   ]
  },
  {
   "cell_type": "code",
   "execution_count": 9,
   "id": "08e22b1f",
   "metadata": {},
   "outputs": [],
   "source": [
    "# Get rid of companies for which we do not have enough data\n",
    "MINIMUM_NUMBER_OF_OBSERVATIONS = 40\n",
    "Y_df_load = Y_df_load.groupby(\"ticker\").filter(\n",
    "    lambda x: x.shape[0] > MINIMUM_NUMBER_OF_OBSERVATIONS\n",
    ")"
   ]
  },
  {
   "cell_type": "code",
   "execution_count": 10,
   "id": "17abf16e",
   "metadata": {},
   "outputs": [],
   "source": [
    "pivot_columns = [\n",
    "    \"ticker\",\n",
    "    \"top_level_SIC_code\",\n",
    "    \"second_level_SIC_code\",\n",
    "    \"third_level_SIC_code\",\n",
    "    \"fourth_level_SIC_code\",\n",
    "]"
   ]
  },
  {
   "cell_type": "code",
   "execution_count": 11,
   "id": "7efab97a",
   "metadata": {},
   "outputs": [],
   "source": [
    "# forward fill missing data\n",
    "Y_df_load = (\n",
    "    Y_df_load.pivot(\n",
    "        index=\"ds\",\n",
    "        columns=pivot_columns,\n",
    "        values=\"y\",\n",
    "    )\n",
    "    .ffill()\n",
    "    .melt(ignore_index=False, value_name=\"y\")\n",
    "    .reset_index()\n",
    ")"
   ]
  },
  {
   "cell_type": "code",
   "execution_count": 12,
   "id": "3f670764",
   "metadata": {},
   "outputs": [],
   "source": [
    "Y_df_load = Y_df_load[~Y_df_load[\"y\"].isna()]"
   ]
  },
  {
   "cell_type": "code",
   "execution_count": 13,
   "id": "8a940822",
   "metadata": {},
   "outputs": [],
   "source": [
    "Y_df_load[\"entity_type\"] = \"company\""
   ]
  },
  {
   "cell_type": "markdown",
   "id": "ffdf4a98",
   "metadata": {},
   "source": [
    "## Build training data"
   ]
  },
  {
   "cell_type": "code",
   "execution_count": 33,
   "id": "a6eae936",
   "metadata": {},
   "outputs": [],
   "source": [
    "levels = [\n",
    "    [\"entity_type\"],\n",
    "    [\"entity_type\", \"top_level_SIC_code\"],\n",
    "    [\"entity_type\", \"top_level_SIC_code\", \"second_level_SIC_code\"],\n",
    "    [\n",
    "        \"entity_type\",\n",
    "        \"top_level_SIC_code\",\n",
    "        \"second_level_SIC_code\",\n",
    "        \"third_level_SIC_code\",\n",
    "    ],\n",
    "    [\n",
    "        \"entity_type\",\n",
    "        \"top_level_SIC_code\",\n",
    "        \"second_level_SIC_code\",\n",
    "        \"third_level_SIC_code\",\n",
    "        \"fourth_level_SIC_code\",\n",
    "    ],\n",
    "    [\n",
    "        \"entity_type\",\n",
    "        \"top_level_SIC_code\",\n",
    "        \"second_level_SIC_code\",\n",
    "        \"third_level_SIC_code\",\n",
    "        \"fourth_level_SIC_code\",\n",
    "        \"ticker\",\n",
    "    ],\n",
    "]"
   ]
  },
  {
   "cell_type": "code",
   "execution_count": 34,
   "id": "0f35973b",
   "metadata": {},
   "outputs": [],
   "source": [
    "Y_df, S_df, tags = aggregate(df=Y_df_load, spec=levels)"
   ]
  },
  {
   "cell_type": "code",
   "execution_count": 44,
   "id": "ea4f6651",
   "metadata": {},
   "outputs": [
    {
     "data": {
      "application/vnd.jupyter.widget-view+json": {
       "model_id": "269977861d24474e908f8fb40691b7ca",
       "version_major": 2,
       "version_minor": 0
      },
      "text/plain": [
       "QgridWidget(grid_options={'fullWidthRows': True, 'syncColumnCellResize': True, 'forceFitColumns': True, 'defau…"
      ]
     },
     "execution_count": 44,
     "metadata": {},
     "output_type": "execute_result"
    }
   ],
   "source": [
    "show_grid(Y_df)"
   ]
  },
  {
   "cell_type": "code",
   "execution_count": 35,
   "id": "ab1ea30f",
   "metadata": {},
   "outputs": [
    {
     "data": {
      "application/vnd.jupyter.widget-view+json": {
       "model_id": "1e20e3bb70b84826bc195f18a6051522",
       "version_major": 2,
       "version_minor": 0
      },
      "text/plain": [
       "QgridWidget(grid_options={'fullWidthRows': True, 'syncColumnCellResize': True, 'forceFitColumns': True, 'defau…"
      ]
     },
     "execution_count": 35,
     "metadata": {},
     "output_type": "execute_result"
    }
   ],
   "source": [
    "show_grid(Y_df)"
   ]
  },
  {
   "cell_type": "code",
   "execution_count": 15,
   "id": "d19f85b8",
   "metadata": {},
   "outputs": [],
   "source": [
    "Y_df = Y_df.reset_index()"
   ]
  },
  {
   "cell_type": "code",
   "execution_count": 16,
   "id": "626de399",
   "metadata": {},
   "outputs": [],
   "source": [
    "Y_test_df = Y_df.groupby(\"unique_id\").tail(TEST_PERIODS)\n",
    "Y_train_df = Y_df.drop(Y_test_df.index)\n",
    "Y_test_df = Y_test_df.set_index(\"unique_id\")"
   ]
  },
  {
   "cell_type": "markdown",
   "id": "c8d81868",
   "metadata": {},
   "source": [
    "## Base Forecasts"
   ]
  },
  {
   "cell_type": "code",
   "execution_count": 17,
   "id": "59b47d20",
   "metadata": {},
   "outputs": [],
   "source": [
    "fcst = StatsForecast(models=[AutoARIMA(season_length=4), Naive()], freq=\"QE\", n_jobs=-1)"
   ]
  },
  {
   "cell_type": "code",
   "execution_count": 18,
   "id": "5ec7e15f",
   "metadata": {},
   "outputs": [
    {
     "name": "stderr",
     "output_type": "stream",
     "text": [
      "C:\\Users\\andre\\AppData\\Local\\Programs\\Python\\Python311\\Lib\\site-packages\\statsforecast\\core.py:417: FutureWarning: In a future version the predictions will have the id as a column. You can set the `NIXTLA_ID_AS_COL` environment variable to adopt the new behavior and to suppress this warning.\n",
      "  warnings.warn(\n"
     ]
    }
   ],
   "source": [
    "Y_hat_df = fcst.forecast(\n",
    "    df=Y_train_df,\n",
    "    h=TEST_PERIODS,\n",
    "    fitted=True,\n",
    ")"
   ]
  },
  {
   "cell_type": "code",
   "execution_count": 19,
   "id": "d667fc3b",
   "metadata": {},
   "outputs": [
    {
     "name": "stderr",
     "output_type": "stream",
     "text": [
      "C:\\Users\\andre\\AppData\\Local\\Programs\\Python\\Python311\\Lib\\site-packages\\statsforecast\\core.py:1275: FutureWarning: Passing the ids as the index is deprecated. Please provide them as a column instead.\n",
      "  warnings.warn(\n"
     ]
    },
    {
     "data": {
      "image/png": "[encoded data removed]",
      "text/plain": [
       "<Figure size 2400x350 with 1 Axes>"
      ]
     },
     "execution_count": 19,
     "metadata": {},
     "output_type": "execute_result"
    }
   ],
   "source": [
    "fcst.plot(\n",
    "    Y_train_df,\n",
    "    Y_hat_df,\n",
    "    models=[\"AutoARIMA\", \"Naive\"],\n",
    "    unique_ids=[\"company/5/9/0/0/WINA\"],\n",
    ")"
   ]
  },
  {
   "cell_type": "markdown",
   "id": "decb4a12",
   "metadata": {},
   "source": [
    "## Hierarchical reconciliation"
   ]
  },
  {
   "cell_type": "code",
   "execution_count": 20,
   "id": "b80fdce1",
   "metadata": {},
   "outputs": [],
   "source": [
    "hrec = HierarchicalReconciliation([TopDown(method=\"forecast_proportions\")])"
   ]
  },
  {
   "cell_type": "code",
   "execution_count": 21,
   "id": "73e929b1",
   "metadata": {},
   "outputs": [],
   "source": [
    "Y_rec_df = hrec.reconcile(Y_hat_df=Y_hat_df, Y_df=Y_train_df, S=S_df, tags=tags)"
   ]
  },
  {
   "cell_type": "code",
   "execution_count": 22,
   "id": "4793f2d4",
   "metadata": {},
   "outputs": [],
   "source": [
    "plot_df = pd.concat(\n",
    "    [\n",
    "        Y_df.reset_index().set_index([\"unique_id\", \"ds\"]),\n",
    "        Y_rec_df.set_index(\"ds\", append=True),\n",
    "    ],\n",
    "    axis=1,\n",
    ")\n",
    "plot_df = plot_df.reset_index(\"ds\")"
   ]
  },
  {
   "cell_type": "code",
   "execution_count": 23,
   "id": "d82e4f7e",
   "metadata": {},
   "outputs": [],
   "source": [
    "hplot = HierarchicalPlot(S=S_df, tags=tags)"
   ]
  },
  {
   "cell_type": "code",
   "execution_count": 24,
   "id": "3d71e1af",
   "metadata": {},
   "outputs": [],
   "source": [
    "predicted_to_true =abs( (\n",
    "    Y_rec_df.set_index(\"ds\", append=True)[\"AutoARIMA\"]\n",
    "    - Y_test_df.set_index(\"ds\", append=True)[\"y\"]\n",
    ") / Y_rec_df.set_index(\"ds\", append=True)[\"AutoARIMA\"])\n",
    "predicted_to_true.name = \"predicted_to_true\"\n",
    "predicted_to_true = pd.DataFrame(predicted_to_true)"
   ]
  },
  {
   "cell_type": "code",
   "execution_count": 25,
   "id": "5cfd3351",
   "metadata": {},
   "outputs": [
    {
     "data": {
      "application/vnd.jupyter.widget-view+json": {
       "model_id": "5eb8e2e3c1a149068f4e22075b9675a9",
       "version_major": 2,
       "version_minor": 0
      },
      "text/plain": [
       "QgridWidget(grid_options={'fullWidthRows': True, 'syncColumnCellResize': True, 'forceFitColumns': True, 'defau…"
      ]
     },
     "execution_count": 25,
     "metadata": {},
     "output_type": "execute_result"
    }
   ],
   "source": [
    "show_grid(predicted_to_true)"
   ]
  },
  {
   "cell_type": "code",
   "execution_count": null,
   "id": "b54e0f95",
   "metadata": {},
   "outputs": [],
   "source": [
    "hplot.plot_series(\n",
    "    series=\"company/5/9/9/0/FLWS\",\n",
    "    Y_df=plot_df,\n",
    "    models=[\"y\", \"Naive\", \"AutoARIMA\", \"AutoARIMA/TopDown_method-forecast_proportions\"],\n",
    "    level=[80],\n",
    ")"
   ]
  },
  {
   "cell_type": "code",
   "execution_count": null,
   "id": "fcd46fe1",
   "metadata": {},
   "outputs": [],
   "source": [
    "hplot = HierarchicalPlot(S=S_df, tags=tags)\n",
    "hplot.plot_hierarchical_predictions_gap(Y_hat_df.rename({\"Naive\": \"y\"}, axis=1))"
   ]
  },
  {
   "cell_type": "markdown",
   "id": "c9076ea5",
   "metadata": {},
   "source": [
    "# Evaluation\n",
    "## https://github.com/Nixtla/hierarchicalforecast/blob/2296c259542dbd906cfba4b8345c3b72148dad79/nbs/examples/TourismSmall.ipynb#L463"
   ]
  },
  {
   "cell_type": "code",
   "execution_count": null,
   "id": "2d52f9cb",
   "metadata": {},
   "outputs": [],
   "source": [
    "def mse(y, y_hat):\n",
    "    return np.mean((y - y_hat) ** 2)\n",
    "\n",
    "\n",
    "evaluator = HierarchicalEvaluation(evaluators=[mean_absolute_percentage_error])\n",
    "evaluation = evaluator.evaluate(\n",
    "    Y_hat_df=Y_rec_df,\n",
    "    Y_test_df=Y_test_df,\n",
    "    tags=tags,\n",
    "    benchmark=\"Naive\",\n",
    ")"
   ]
  },
  {
   "cell_type": "code",
   "execution_count": null,
   "id": "4b8ff531",
   "metadata": {},
   "outputs": [],
   "source": [
    "evaluation.T"
   ]
  },
  {
   "cell_type": "code",
   "execution_count": null,
   "id": "1c725275",
   "metadata": {},
   "outputs": [],
   "source": []
  }
 ],
 "metadata": {
  "kernelspec": {
   "display_name": "Python 3 (ipykernel)",
   "language": "python",
   "name": "python3"
  },
  "language_info": {
   "codemirror_mode": {
    "name": "ipython",
    "version": 3
   },
   "file_extension": ".py",
   "mimetype": "text/x-python",
   "name": "python",
   "nbconvert_exporter": "python",
   "pygments_lexer": "ipython3",
   "version": "3.11.0"
  }
 },
 "nbformat": 4,
 "nbformat_minor": 5
}
