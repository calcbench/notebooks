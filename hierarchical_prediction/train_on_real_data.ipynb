{
 "cells": [
  {
   "cell_type": "markdown",
   "id": "9a05ef29",
   "metadata": {},
   "source": [
    "## https://github.com/Nixtla/hierarchicalforecast/blob/main/nbs/examples/TourismSmall.ipynb"
   ]
  },
  {
   "cell_type": "code",
   "execution_count": null,
   "id": "1a8fbd23",
   "metadata": {},
   "outputs": [],
   "source": [
    "# %#pip install statsforecast hierarchicalforecast utilsforcast"
   ]
  },
  {
   "cell_type": "code",
   "execution_count": 4,
   "id": "4d081a13",
   "metadata": {},
   "outputs": [
    {
     "name": "stderr",
     "output_type": "stream",
     "text": [
      "C:\\Users\\andre\\AppData\\Local\\Programs\\Python\\Python311\\Lib\\site-packages\\statsforecast\\core.py:26: TqdmExperimentalWarning: Using `tqdm.autonotebook.tqdm` in notebook mode. Use `tqdm.tqdm` instead to force console mode (e.g. in jupyter console)\n",
      "  from tqdm.autonotebook import tqdm\n",
      "C:\\Users\\andre\\AppData\\Local\\Programs\\Python\\Python311\\Lib\\site-packages\\statsforecast\\utils.py:236: FutureWarning: 'M' is deprecated and will be removed in a future version, please use 'ME' instead.\n",
      "  \"ds\": pd.date_range(start=\"1949-01-01\", periods=len(AirPassengers), freq=\"M\"),\n"
     ]
    }
   ],
   "source": [
    "from statsforecast.core import StatsForecast\n",
    "from statsforecast.models import AutoARIMA, Naive, HoltWinters\n",
    "import pandas as pd\n",
    "\n",
    "from hierarchicalforecast.core import HierarchicalReconciliation\n",
    "from hierarchicalforecast.evaluation import HierarchicalEvaluation, mse, rel_mse, mqloss\n",
    "from hierarchicalforecast.methods import TopDown, BottomUp, MinTrace\n",
    "from hierarchicalforecast.utils import aggregate, HierarchicalPlot\n",
    "from utilsforecast.preprocessing import fill_gaps\n",
    "import numpy as np\n",
    "\n",
    "import pickle\n",
    "from datetime import date, datetime\n",
    "from sklearn.metrics import mean_absolute_percentage_error\n",
    "from qgridnext import show_grid\n",
    "from importlib import reload\n",
    "import re\n",
    "import pickle"
   ]
  },
  {
   "cell_type": "code",
   "execution_count": 9,
   "id": "0d3ec2fe",
   "metadata": {},
   "outputs": [],
   "source": [
    "TEST_PERIODS = 2"
   ]
  },
  {
   "cell_type": "code",
   "execution_count": 1,
   "id": "6c7f0fb2",
   "metadata": {},
   "outputs": [],
   "source": [
    "Y_df_load = pd.read_parquet(\"test_train_data.parquet\")"
   ]
  },
  {
   "cell_type": "markdown",
   "id": "ffdf4a98",
   "metadata": {},
   "source": [
    "## Build training data"
   ]
  },
  {
   "cell_type": "code",
   "execution_count": 5,
   "id": "a6eae936",
   "metadata": {},
   "outputs": [],
   "source": [
    "levels = [\n",
    "    [\"market\"],\n",
    "    [\"market\", \"top_level_SIC_code\"],\n",
    "    [\"market\", \"top_level_SIC_code\", \"second_level_SIC_code\"],\n",
    "    [\"market\", \"top_level_SIC_code\", \"second_level_SIC_code\", \"ticker\"],\n",
    "    [\"market\", \"top_level_SIC_code\", \"second_level_SIC_code\", \"ticker\", 'metric']\n",
    "]"
   ]
  },
  {
   "cell_type": "code",
   "execution_count": 6,
   "id": "0f35973b",
   "metadata": {},
   "outputs": [],
   "source": [
    "Y_df, S_df, tags = aggregate(df=Y_df_load, spec=levels)"
   ]
  },
  {
   "cell_type": "code",
   "execution_count": null,
   "id": "799f010b",
   "metadata": {},
   "outputs": [],
   "source": [
    "#S_df.to_parquet('S_df.parquet')"
   ]
  },
  {
   "cell_type": "code",
   "execution_count": null,
   "id": "1d79c6fa",
   "metadata": {},
   "outputs": [],
   "source": [
    "#with open('tags.pickle', 'wb') as out:\n",
    "#    pickle.dump(tags, out)"
   ]
  },
  {
   "cell_type": "code",
   "execution_count": 7,
   "id": "d19f85b8",
   "metadata": {},
   "outputs": [],
   "source": [
    "Y_df = Y_df.reset_index()"
   ]
  },
  {
   "cell_type": "code",
   "execution_count": 10,
   "id": "626de399",
   "metadata": {},
   "outputs": [],
   "source": [
    "Y_test_df = Y_df.groupby(\"unique_id\").tail(TEST_PERIODS)\n",
    "Y_train_df = Y_df.drop(Y_test_df.index)\n",
    "Y_test_df = Y_test_df.set_index(\"unique_id\")"
   ]
  },
  {
   "cell_type": "markdown",
   "id": "c8d81868",
   "metadata": {},
   "source": [
    "## Base Forecasts"
   ]
  },
  {
   "cell_type": "code",
   "execution_count": 11,
   "id": "59b47d20",
   "metadata": {},
   "outputs": [],
   "source": [
    "fcst = StatsForecast(models=[AutoARIMA(season_length=4)], freq=\"QE\", n_jobs=-1) "
   ]
  },
  {
   "cell_type": "code",
   "execution_count": null,
   "id": "5ec7e15f",
   "metadata": {},
   "outputs": [],
   "source": [
    "Y_hat_df = fcst.forecast(\n",
    "    df=Y_train_df,\n",
    "    h=TEST_PERIODS,\n",
    "    fitted=True,\n",
    ")"
   ]
  },
  {
   "cell_type": "code",
   "execution_count": null,
   "id": "f594460b",
   "metadata": {},
   "outputs": [],
   "source": [
    "Y_hat_df.to_parquet('Y_hat_df.parquet')"
   ]
  },
  {
   "cell_type": "code",
   "execution_count": null,
   "id": "82afd477",
   "metadata": {},
   "outputs": [],
   "source": [
    "Y_fitted_df = fcst.forecast_fitted_values()"
   ]
  },
  {
   "cell_type": "code",
   "execution_count": null,
   "id": "fd8c06db",
   "metadata": {},
   "outputs": [],
   "source": [
    "Y_fitted_df.to_parquet('Y_fitted_df.parquet')"
   ]
  },
  {
   "cell_type": "code",
   "execution_count": null,
   "id": "d667fc3b",
   "metadata": {},
   "outputs": [],
   "source": [
    "fcst.plot(\n",
    "    Y_train_df,\n",
    "    Y_hat_df,\n",
    "    models=[\"AutoARIMA\"],\n",
    "    unique_ids=[\"0\"],\n",
    ")"
   ]
  },
  {
   "cell_type": "markdown",
   "id": "decb4a12",
   "metadata": {},
   "source": [
    "## Hierarchical reconciliation"
   ]
  },
  {
   "cell_type": "code",
   "execution_count": null,
   "id": "b80fdce1",
   "metadata": {},
   "outputs": [],
   "source": [
    "hrec = HierarchicalReconciliation(\n",
    "    reconcilers=[\n",
    "        #BottomUp(),\n",
    "        # MinTrace(method=\"mint_shrink\"),\n",
    "        #MinTrace(method=\"ols\"),\n",
    "        TopDown(method='forecast_proportions')\n",
    "    ]\n",
    ")"
   ]
  },
  {
   "cell_type": "code",
   "execution_count": null,
   "id": "73e929b1",
   "metadata": {
    "scrolled": true
   },
   "outputs": [],
   "source": [
    "Y_rec_df = hrec.reconcile(Y_hat_df=Y_hat_df, Y_df=Y_fitted_df, S=S_df, tags=tags)"
   ]
  },
  {
   "cell_type": "code",
   "execution_count": null,
   "id": "4793f2d4",
   "metadata": {},
   "outputs": [],
   "source": [
    "plot_df = pd.concat(\n",
    "    [\n",
    "        Y_df.reset_index().set_index([\"unique_id\", \"ds\"]),\n",
    "        Y_rec_df.set_index(\"ds\", append=True),\n",
    "    ],\n",
    "    axis=1,\n",
    ")\n",
    "plot_df = plot_df.reset_index(\"ds\")"
   ]
  },
  {
   "cell_type": "code",
   "execution_count": null,
   "id": "63c6909c",
   "metadata": {},
   "outputs": [],
   "source": [
    "show_grid(plot_df[plot_df.index.str.startswith(\"6\")].query('ds == \"2024-06-30\"'))"
   ]
  },
  {
   "cell_type": "code",
   "execution_count": null,
   "id": "b54e0f95",
   "metadata": {},
   "outputs": [],
   "source": [
    "hplot = HierarchicalPlot(S=S_df, tags=tags)\n",
    "hplot.plot_series(\n",
    "    series=\"0\",\n",
    "    Y_df=plot_df,\n",
    "    models=[\n",
    "        \"y\",\n",
    "        \"AutoARIMA\",\n",
    "        \"AutoARIMA/TopDown_method-forecast_proportions\",\n",
    "    ],\n",
    "    level=[80],\n",
    ")"
   ]
  },
  {
   "cell_type": "code",
   "execution_count": null,
   "id": "fcd46fe1",
   "metadata": {},
   "outputs": [],
   "source": [
    "hplot = HierarchicalPlot(S=S_df, tags=tags)\n",
    "difference_df = Y_hat_df.merge(Y_test_df, on=[\"unique_id\", \"ds\"])[\n",
    "    [\"ds\", \"AutoARIMA\", \"y\"]\n",
    "]\n",
    "\n",
    "# hplot.plot_hierarchical_predictions_gap(Y_hat_df.rename({\"Naive\": \"y\"}, axis=1))\n",
    "\n",
    "hplot.plot_hierarchical_predictions_gap(difference_df)"
   ]
  },
  {
   "cell_type": "markdown",
   "id": "c9076ea5",
   "metadata": {},
   "source": [
    "# Evaluation\n",
    "## https://github.com/Nixtla/hierarchicalforecast/blob/2296c259542dbd906cfba4b8345c3b72148dad79/nbs/examples/TourismSmall.ipynb#L463"
   ]
  },
  {
   "cell_type": "code",
   "execution_count": null,
   "id": "2d52f9cb",
   "metadata": {},
   "outputs": [],
   "source": [
    "evaluator = HierarchicalEvaluation(evaluators=[mse])\n",
    "evaluation = evaluator.evaluate(\n",
    "    Y_hat_df=Y_rec_df,\n",
    "    Y_test_df=Y_test_df,\n",
    "    tags=tags,\n",
    "    benchmark=\"AutoARIMA\",\n",
    ")"
   ]
  },
  {
   "cell_type": "code",
   "execution_count": null,
   "id": "f760be34",
   "metadata": {},
   "outputs": [],
   "source": [
    "evaluation.T"
   ]
  },
  {
   "cell_type": "code",
   "execution_count": null,
   "id": "a8b1d999",
   "metadata": {},
   "outputs": [],
   "source": [
    "show_grid(\n",
    "    Y_rec_df.set_index([\"ds\"], append=True)\n",
    "    .sub(Y_test_df.set_index([\"ds\"], append=True)[\"y\"], axis=\"index\")[\n",
    "        [\"AutoARIMA\", \"AutoARIMA/BottomUp\"]\n",
    "    ]\n",
    "    .query('ds == \"2024-06-30\"')\n",
    ")"
   ]
  },
  {
   "cell_type": "code",
   "execution_count": null,
   "id": "0228cb1b",
   "metadata": {},
   "outputs": [],
   "source": []
  }
 ],
 "metadata": {
  "kernelspec": {
   "display_name": "Python 3 (ipykernel)",
   "language": "python",
   "name": "python3"
  },
  "language_info": {
   "codemirror_mode": {
    "name": "ipython",
    "version": 3
   },
   "file_extension": ".py",
   "mimetype": "text/x-python",
   "name": "python",
   "nbconvert_exporter": "python",
   "pygments_lexer": "ipython3",
   "version": "3.11.0"
  }
 },
 "nbformat": 4,
 "nbformat_minor": 5
}
