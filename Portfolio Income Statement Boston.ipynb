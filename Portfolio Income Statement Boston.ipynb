{
 "cells": [
  {
   "cell_type": "code",
   "execution_count": 1,
   "metadata": {},
   "outputs": [],
   "source": [
    "import calcbench as cb\n",
    "import pandas as pd\n",
    "import requests"
   ]
  },
  {
   "cell_type": "code",
   "execution_count": 1,
   "metadata": {},
   "outputs": [],
   "source": [
    "boston_companies = \"IRBT\tW\tPAYD\tCSPI\tNTCT\tRBBN\tBCOV\tCARB\tCARG\tPEGA\tAZPN\tTYPE\tVRTU\tEVER\tCRCM\tAVID\tAWRE\tBLIN\tCBLK\tDWCH\tEVBG\tGEC\tHUBS\tLOGM\tNUAN\tPRGS\tPTC\tRPD\tTRIP\".split(\"\\t\")\n"
   ]
  },
  {
   "cell_type": "code",
   "execution_count": 8,
   "metadata": {},
   "outputs": [],
   "source": [
    "income_statement_metrics = ['Revenue', \n",
    "                            'CostOfRevenue', \n",
    "                            'GrossProfit', \n",
    "                            'SGAExpense', \n",
    "                            'OperatingExpenses', \n",
    "                            'OperatingIncome',\n",
    "                            'EBIT', \n",
    "                            'InterestExpense', \n",
    "                            'IncomeTaxes',\n",
    "                            'NetIncome',\n",
    "                           ]"
   ]
  },
  {
   "cell_type": "code",
   "execution_count": 13,
   "metadata": {},
   "outputs": [
    {
     "name": "stdout",
     "output_type": "stream",
     "text": [
      "Revenue 20389206022244.617\n",
      "CostOfRevenue 14854516622193.232\n",
      "GrossProfit 5534689400051.386\n",
      "SGAExpense 3436654964729.0347\n",
      "OperatingExpenses 5764678423730.568\n",
      "OperatingIncome -229823855938.80902\n",
      "EBIT -230567915072.5475\n",
      "InterestExpense 314165146248.34656\n",
      "IncomeTaxes -193459148502.12646\n",
      "NetIncome -255531759810.4028\n"
     ]
    }
   ],
   "source": [
    "for metric in income_statement_metrics:\n",
    "    print(metric, (d.loc['2016'][metric] * percent_of_company_fund_owns).sum())"
   ]
  }
 ],
 "metadata": {
  "kernelspec": {
   "display_name": "Python 3",
   "language": "python",
   "name": "python3"
  },
  "language_info": {
   "codemirror_mode": {
    "name": "ipython",
    "version": 3
   },
   "file_extension": ".py",
   "mimetype": "text/x-python",
   "name": "python",
   "nbconvert_exporter": "python",
   "pygments_lexer": "ipython3",
   "version": "3.8.2"
  }
 },
 "nbformat": 4,
 "nbformat_minor": 2
}
