{
 "cells": [
  {
   "cell_type": "markdown",
   "metadata": {},
   "source": [
    "# Topic and word list from a working paper by Sophie Stone of the Dartmouth College Economics Department"
   ]
  },
  {
   "cell_type": "markdown",
   "metadata": {},
   "source": [
    "\n",
    "\n",
    "## https://www.sbert.net/docs/usage/semantic_textual_similarity.html"
   ]
  },
  {
   "cell_type": "code",
   "execution_count": null,
   "metadata": {},
   "outputs": [],
   "source": [
    "# Dependencies\n",
    "# !pip install \"calcbench-api-client[Pandas, Backoff, BeautifulSoup]\" tqdm qgrid ipywidgets nltk spacy\n",
    "# !python -m spacy download en_core_web_sm"
   ]
  },
  {
   "cell_type": "code",
   "execution_count": null,
   "metadata": {},
   "outputs": [],
   "source": [
    "import warnings\n",
    "from collections import Counter\n",
    "from typing import Set, Iterable\n",
    "import numpy as np\n",
    "\n",
    "import pandas as pd\n",
    "import itertools\n",
    "from tqdm.notebook import tqdm\n",
    "import qgrid\n",
    "import spacy\n",
    "from spacy.matcher import Matcher\n",
    "from spacy.lang.en import English\n",
    "\n",
    "\n",
    "nlp = English()\n",
    "\n",
    "import calcbench as cb\n",
    "\n",
    "cb.enable_backoff()\n",
    "tqdm.pandas(desc=\"progress\")\n",
    "\n",
    "MAX_DOC_LENGTH = 1000000  # The maximum document length spacy can handle"
   ]
  },
  {
   "cell_type": "code",
   "execution_count": null,
   "metadata": {},
   "outputs": [],
   "source": [
    "category_embeddings = {\n",
    "    \"environmental\": {\n",
    "        \"biodiversity\",\n",
    "        \"carbon\",\n",
    "        \"carbon negative\",\n",
    "        \"carbon neutral\",\n",
    "        \"carbon zero\",\n",
    "        \"clean\",\n",
    "        \"clean tech\",\n",
    "        \"clean-up\",\n",
    "        \"climate change\",\n",
    "        \"climate positive\",\n",
    "        \"contamination\",\n",
    "        \"discharge\",\n",
    "        \"emission\",\n",
    "        \"energy-efficient\",\n",
    "        \"environmental\",\n",
    "        \"environmental risk\",\n",
    "        \"fuel\",\n",
    "        \"fuel efficiency\",\n",
    "        \"green\",\n",
    "        \"greenhouse gas\",\n",
    "        \"hazardous\",\n",
    "        \"low carbon\",\n",
    "        \"natural resource\",\n",
    "        \"net-zero emission\",\n",
    "        \"pollution\",\n",
    "        \"remediation\",\n",
    "        \"sustainability\",\n",
    "        \"sustainable\",\n",
    "        \"toxic\",\n",
    "        \"waste\",\n",
    "        \"water\",\n",
    "        \"zero carbon\",\n",
    "        \"zero net carbon\",\n",
    "    },\n",
    "    \"social\": {\n",
    "        \"accident\",\n",
    "        \"antiracism\",\n",
    "        \"consumer protection\",\n",
    "        \"customer privacy\",\n",
    "        \"employee relation\",\n",
    "        \"equal\",\n",
    "        \"equal pay\",\n",
    "        \"equity\",\n",
    "        \"gender equality\",\n",
    "        \"health\",\n",
    "        \"human right\",\n",
    "        \"justice\",\n",
    "        \"labor relation\",\n",
    "        \"labor standard\",\n",
    "        \"racial awareness\",\n",
    "        \"racial equity\",\n",
    "        \"racial justice\",\n",
    "        \"working condition\",\n",
    "    },\n",
    "    \"governance\": {\n",
    "        \"advocacy\",\n",
    "        \"antitrust\",\n",
    "        \"board independence\",\n",
    "        \"code of ethic\",\n",
    "        \"compensation\",\n",
    "        \"corporate culture\",\n",
    "        \"corporate governance\",\n",
    "        \"corruption\",\n",
    "        \"governance risk\",\n",
    "        \"justice\",\n",
    "        \"political lobbying\",\n",
    "        \"scandal\",\n",
    "        \"shareholder right\",\n",
    "        \"stability\",\n",
    "        \"stewardship\",\n",
    "        \"transparency\",\n",
    "    },\n",
    "}"
   ]
  },
  {
   "cell_type": "code",
   "execution_count": null,
   "metadata": {},
   "outputs": [],
   "source": [
    "contents_pkl_file = r\"C:\\Users\\andre\\Dropbox (Calcbench)\\andrew\\sp_500_contents.pkl\""
   ]
  },
  {
   "cell_type": "code",
   "execution_count": null,
   "metadata": {},
   "outputs": [],
   "source": [
    "disclosure_contents = pd.read_pickle(contents_pkl_file)"
   ]
  },
  {
   "cell_type": "code",
   "execution_count": null,
   "metadata": {},
   "outputs": [],
   "source": [
    "matcher = Matcher(nlp.vocab)\n",
    "phrase_matches = []\n",
    "for phrase in category_embeddings[\"environmental\"]:\n",
    "    phrase_words = phrase.split()\n",
    "    phrase_matches.append([{\"LOWER\": word} for word in phrase_words])\n",
    "matcher.add(\"environmental\", phrase_matches)"
   ]
  },
  {
   "cell_type": "code",
   "execution_count": null,
   "metadata": {},
   "outputs": [],
   "source": [
    "for category, category_phrases in tqdm(category_embeddings.items()):\n",
    "    all_phrases = set()\n",
    "    def disclosure_matches(disclosure: str):\n",
    "        # https://stackoverflow.com/questions/47638877/using-phrasematcher-in-spacy-to-find-multiple-match-types\n",
    "        global all_phrases\n",
    "        doc = nlp(disclosure[:MAX_DOC_LENGTH])\n",
    "        matches = matcher(doc)\n",
    "        match_words = [doc[start:end].text.lower() for _, start, end in matches]\n",
    "        all_phrases = all_phrases.union(match_words)\n",
    "        return Counter(match_words)\n",
    "\n",
    "    phrase_counts = disclosure_contents.progress_applymap(disclosure_matches)\n",
    "    all_phrases = list(all_phrases)\n",
    "    counts = phrase_counts.progress_applymap(\n",
    "        lambda phrase_counts: [phrase_counts[p] for p in all_phrases]\n",
    "    ).apply(pd.Series.explode)\n",
    "    counts['phrases'] = all_phrases * disclosure_contents.shape[0]\n",
    "    counts.set_index(\"phrases\", append=True, inplace=True)\n",
    "    counts.to_excel(f\"{category}_phrase_counts.xlsx\")"
   ]
  }
 ],
 "metadata": {
  "kernelspec": {
   "display_name": "Python 3 (ipykernel)",
   "language": "python",
   "name": "python3"
  },
  "language_info": {
   "codemirror_mode": {
    "name": "ipython",
    "version": 3
   },
   "file_extension": ".py",
   "mimetype": "text/x-python",
   "name": "python",
   "nbconvert_exporter": "python",
   "pygments_lexer": "ipython3",
   "version": "3.11.0"
  }
 },
 "nbformat": 4,
 "nbformat_minor": 4
}
