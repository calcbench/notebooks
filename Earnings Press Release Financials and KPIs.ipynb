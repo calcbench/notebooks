{
 "cells": [
  {
   "cell_type": "markdown",
   "metadata": {},
   "source": [
    "# Numbers Extracted from Earnings Press Releases"
   ]
  },
  {
   "cell_type": "code",
   "execution_count": null,
   "metadata": {},
   "outputs": [],
   "source": [
    "%pip install \"calcbench-api-client[Pandas]>=5.4.1\" qgrid tqdm"
   ]
  },
  {
   "cell_type": "code",
   "execution_count": 1,
   "metadata": {},
   "outputs": [],
   "source": [
    "import calcbench as cb\n",
    "import qgrid\n",
    "from tqdm import tqdm_notebook"
   ]
  },
  {
   "cell_type": "code",
   "execution_count": 2,
   "metadata": {},
   "outputs": [],
   "source": [
    "useful_columns = [\n",
    "    \"ticker\",\n",
    "    \"CIK\",\n",
    "    \"fiscal_year\",\n",
    "    \"fiscal_period\",\n",
    "    \"date_reported\",\n",
    "    \"extract_tag\",\n",
    "    \"effective_value\",\n",
    "    \"reported_value\",\n",
    "    \"is_instant_value\",\n",
    "    \"UOM\",\n",
    "    \"statement_type\",\n",
    "    \"table_id\",\n",
    "    \"label\",\n",
    "    \"indent_level\",\n",
    "    \"column_label_short\",\n",
    "    \"presentation_order\",\n",
    "    \"column_index\",\n",
    "    \"range_low\",\n",
    "    \"range_high\",\n",
    "    \"is_guidance\",\n",
    "    \"is_non_gaap\",\n",
    "    \"is_change_amount\",\n",
    "    \"is_segment\",\n",
    "    \"trace_link\",\n",
    "]"
   ]
  },
  {
   "cell_type": "code",
   "execution_count": 3,
   "metadata": {},
   "outputs": [],
   "source": [
    "tickers = cb.tickers(index='DJIA')"
   ]
  },
  {
   "cell_type": "code",
   "execution_count": 5,
   "metadata": {
    "collapsed": true
   },
   "outputs": [
    {
     "name": "stderr",
     "output_type": "stream",
     "text": [
      "<ipython-input-5-bc9629d57474>:2: TqdmDeprecationWarning: This function will be removed in tqdm==5.0.0\n",
      "Please use `tqdm.notebook.tqdm` instead of `tqdm.tqdm_notebook`\n",
      "  for ticker in tqdm_notebook(tickers):\n"
     ]
    },
    {
     "data": {
      "application/vnd.jupyter.widget-view+json": {
       "model_id": "b2dc994f684a401abf2d5b6556f3d865",
       "version_major": 2,
       "version_minor": 0
      },
      "text/plain": [
       "  0%|          | 0/30 [00:00<?, ?it/s]"
      ]
     },
     "metadata": {},
     "output_type": "display_data"
    },
    {
     "name": "stderr",
     "output_type": "stream",
     "text": [
      "<ipython-input-5-bc9629d57474>:4: TqdmDeprecationWarning: This function will be removed in tqdm==5.0.0\n",
      "Please use `tqdm.notebook.tqdm` instead of `tqdm.tqdm_notebook`\n",
      "  for filing in tqdm_notebook(filings):\n"
     ]
    },
    {
     "data": {
      "application/vnd.jupyter.widget-view+json": {
       "model_id": "d9e90c8835454f68a5d143bd78a2b464",
       "version_major": 2,
       "version_minor": 0
      },
      "text/plain": [
       "0it [00:00, ?it/s]"
      ]
     },
     "metadata": {},
     "output_type": "display_data"
    },
    {
     "data": {
      "application/vnd.jupyter.widget-view+json": {
       "model_id": "e242dcdd27db4fe4abd516489bcd6a76",
       "version_major": 2,
       "version_minor": 0
      },
      "text/plain": [
       "0it [00:00, ?it/s]"
      ]
     },
     "metadata": {},
     "output_type": "display_data"
    },
    {
     "data": {
      "application/vnd.jupyter.widget-view+json": {
       "model_id": "0ca2ac58a6324dcc91278af070bf1356",
       "version_major": 2,
       "version_minor": 0
      },
      "text/plain": [
       "0it [00:00, ?it/s]"
      ]
     },
     "metadata": {},
     "output_type": "display_data"
    },
    {
     "data": {
      "application/vnd.jupyter.widget-view+json": {
       "model_id": "15e7a5eb0669443c86001afd6352fe9e",
       "version_major": 2,
       "version_minor": 0
      },
      "text/plain": [
       "0it [00:00, ?it/s]"
      ]
     },
     "metadata": {},
     "output_type": "display_data"
    },
    {
     "data": {
      "application/vnd.jupyter.widget-view+json": {
       "model_id": "80874650b3d742439208a3337be2adc1",
       "version_major": 2,
       "version_minor": 0
      },
      "text/plain": [
       "0it [00:00, ?it/s]"
      ]
     },
     "metadata": {},
     "output_type": "display_data"
    },
    {
     "data": {
      "application/vnd.jupyter.widget-view+json": {
       "model_id": "ad7b995303564cc0bb3ec695e93e0470",
       "version_major": 2,
       "version_minor": 0
      },
      "text/plain": [
       "0it [00:00, ?it/s]"
      ]
     },
     "metadata": {},
     "output_type": "display_data"
    },
    {
     "data": {
      "application/vnd.jupyter.widget-view+json": {
       "model_id": "3f8bfec541574b17bc5ae210d93b6c26",
       "version_major": 2,
       "version_minor": 0
      },
      "text/plain": [
       "0it [00:00, ?it/s]"
      ]
     },
     "metadata": {},
     "output_type": "display_data"
    },
    {
     "data": {
      "application/vnd.jupyter.widget-view+json": {
       "model_id": "7e3bb36775a8448d8c6b81f72460f8b5",
       "version_major": 2,
       "version_minor": 0
      },
      "text/plain": [
       "0it [00:00, ?it/s]"
      ]
     },
     "metadata": {},
     "output_type": "display_data"
    },
    {
     "data": {
      "application/vnd.jupyter.widget-view+json": {
       "model_id": "aa9da528fe6f49ec8888a826c2130aac",
       "version_major": 2,
       "version_minor": 0
      },
      "text/plain": [
       "0it [00:00, ?it/s]"
      ]
     },
     "metadata": {},
     "output_type": "display_data"
    },
    {
     "data": {
      "application/vnd.jupyter.widget-view+json": {
       "model_id": "5b5e3e5daf4c4f918fd38c755dbcf11a",
       "version_major": 2,
       "version_minor": 0
      },
      "text/plain": [
       "0it [00:00, ?it/s]"
      ]
     },
     "metadata": {},
     "output_type": "display_data"
    },
    {
     "data": {
      "application/vnd.jupyter.widget-view+json": {
       "model_id": "b283f5422a244c2ab84cad109d49d9c4",
       "version_major": 2,
       "version_minor": 0
      },
      "text/plain": [
       "0it [00:00, ?it/s]"
      ]
     },
     "metadata": {},
     "output_type": "display_data"
    },
    {
     "data": {
      "application/vnd.jupyter.widget-view+json": {
       "model_id": "53ca7b07bb8744f89c4955fe6c5c29bb",
       "version_major": 2,
       "version_minor": 0
      },
      "text/plain": [
       "0it [00:00, ?it/s]"
      ]
     },
     "metadata": {},
     "output_type": "display_data"
    },
    {
     "data": {
      "application/vnd.jupyter.widget-view+json": {
       "model_id": "e7e524af44254076b29c38968a829687",
       "version_major": 2,
       "version_minor": 0
      },
      "text/plain": [
       "0it [00:00, ?it/s]"
      ]
     },
     "metadata": {},
     "output_type": "display_data"
    },
    {
     "data": {
      "application/vnd.jupyter.widget-view+json": {
       "model_id": "b6718ebd5b2a43ea967e3c5b542c5e09",
       "version_major": 2,
       "version_minor": 0
      },
      "text/plain": [
       "0it [00:00, ?it/s]"
      ]
     },
     "metadata": {},
     "output_type": "display_data"
    },
    {
     "data": {
      "application/vnd.jupyter.widget-view+json": {
       "model_id": "7d7b33c394c440ac9e64485b476b065e",
       "version_major": 2,
       "version_minor": 0
      },
      "text/plain": [
       "0it [00:00, ?it/s]"
      ]
     },
     "metadata": {},
     "output_type": "display_data"
    },
    {
     "data": {
      "application/vnd.jupyter.widget-view+json": {
       "model_id": "a97ead8d6e794bf28a925044eedaca30",
       "version_major": 2,
       "version_minor": 0
      },
      "text/plain": [
       "0it [00:00, ?it/s]"
      ]
     },
     "metadata": {},
     "output_type": "display_data"
    },
    {
     "data": {
      "application/vnd.jupyter.widget-view+json": {
       "model_id": "3b7c04aa1959493aa28a028551832a06",
       "version_major": 2,
       "version_minor": 0
      },
      "text/plain": [
       "0it [00:00, ?it/s]"
      ]
     },
     "metadata": {},
     "output_type": "display_data"
    },
    {
     "data": {
      "application/vnd.jupyter.widget-view+json": {
       "model_id": "cc387544a4894b1988b1ee887a3a1e3b",
       "version_major": 2,
       "version_minor": 0
      },
      "text/plain": [
       "0it [00:00, ?it/s]"
      ]
     },
     "metadata": {},
     "output_type": "display_data"
    },
    {
     "data": {
      "application/vnd.jupyter.widget-view+json": {
       "model_id": "9ad97247c9e2475c934251256ffa7f10",
       "version_major": 2,
       "version_minor": 0
      },
      "text/plain": [
       "0it [00:00, ?it/s]"
      ]
     },
     "metadata": {},
     "output_type": "display_data"
    },
    {
     "data": {
      "application/vnd.jupyter.widget-view+json": {
       "model_id": "b739f4032e25427ca49728c75b11f204",
       "version_major": 2,
       "version_minor": 0
      },
      "text/plain": [
       "0it [00:00, ?it/s]"
      ]
     },
     "metadata": {},
     "output_type": "display_data"
    },
    {
     "data": {
      "application/vnd.jupyter.widget-view+json": {
       "model_id": "3005984db4bd4f7597d8d44725888e6f",
       "version_major": 2,
       "version_minor": 0
      },
      "text/plain": [
       "0it [00:00, ?it/s]"
      ]
     },
     "metadata": {},
     "output_type": "display_data"
    },
    {
     "data": {
      "application/vnd.jupyter.widget-view+json": {
       "model_id": "fe6a0d14bc3d43bda6082c4155f20706",
       "version_major": 2,
       "version_minor": 0
      },
      "text/plain": [
       "0it [00:00, ?it/s]"
      ]
     },
     "metadata": {},
     "output_type": "display_data"
    },
    {
     "data": {
      "application/vnd.jupyter.widget-view+json": {
       "model_id": "4e3509ad4d084fa0885de3869deb4ea2",
       "version_major": 2,
       "version_minor": 0
      },
      "text/plain": [
       "0it [00:00, ?it/s]"
      ]
     },
     "metadata": {},
     "output_type": "display_data"
    },
    {
     "data": {
      "application/vnd.jupyter.widget-view+json": {
       "model_id": "81b3520ce14a4c8ebf6c600d4b2adbc4",
       "version_major": 2,
       "version_minor": 0
      },
      "text/plain": [
       "0it [00:00, ?it/s]"
      ]
     },
     "metadata": {},
     "output_type": "display_data"
    },
    {
     "data": {
      "application/vnd.jupyter.widget-view+json": {
       "model_id": "3260c5487b2e4f87ab7a0f0c389d3cc2",
       "version_major": 2,
       "version_minor": 0
      },
      "text/plain": [
       "0it [00:00, ?it/s]"
      ]
     },
     "metadata": {},
     "output_type": "display_data"
    },
    {
     "data": {
      "application/vnd.jupyter.widget-view+json": {
       "model_id": "6aeea40235224fe28bd5a871803e2373",
       "version_major": 2,
       "version_minor": 0
      },
      "text/plain": [
       "0it [00:00, ?it/s]"
      ]
     },
     "metadata": {},
     "output_type": "display_data"
    },
    {
     "data": {
      "application/vnd.jupyter.widget-view+json": {
       "model_id": "ee3a08d87e4b47148beee074e513fce6",
       "version_major": 2,
       "version_minor": 0
      },
      "text/plain": [
       "0it [00:00, ?it/s]"
      ]
     },
     "metadata": {},
     "output_type": "display_data"
    },
    {
     "data": {
      "application/vnd.jupyter.widget-view+json": {
       "model_id": "e42d821d68dd4935b3fd07ac02f7649d",
       "version_major": 2,
       "version_minor": 0
      },
      "text/plain": [
       "0it [00:00, ?it/s]"
      ]
     },
     "metadata": {},
     "output_type": "display_data"
    },
    {
     "data": {
      "application/vnd.jupyter.widget-view+json": {
       "model_id": "ff48d8857d934504a3df77d3ed1f44a4",
       "version_major": 2,
       "version_minor": 0
      },
      "text/plain": [
       "0it [00:00, ?it/s]"
      ]
     },
     "metadata": {},
     "output_type": "display_data"
    },
    {
     "data": {
      "application/vnd.jupyter.widget-view+json": {
       "model_id": "3a6f2c29c7c84f4cbf2770bc0fe3d9c9",
       "version_major": 2,
       "version_minor": 0
      },
      "text/plain": [
       "0it [00:00, ?it/s]"
      ]
     },
     "metadata": {},
     "output_type": "display_data"
    }
   ],
   "source": [
    "all_data = pd.DataFrame()\n",
    "for ticker in tqdm_notebook(tickers):\n",
    "    filings = cb.filings(company_identifiers=[ticker])\n",
    "    for filing in tqdm_notebook(filings):\n",
    "        if filing.filing_type != \"eightk_earningsPressRelease\":\n",
    "            continue\n",
    "        press_release_data = cb.press_release_data(\n",
    "            company_identifiers=[filing.ticker],\n",
    "            year=filing.fiscal_year,\n",
    "            period=filing.fiscal_period,\n",
    "        )\n",
    "        if not press_release_data.empty:\n",
    "            all_data = all_data.append(press_release_data[useful_columns])"
   ]
  },
  {
   "cell_type": "code",
   "execution_count": 13,
   "metadata": {},
   "outputs": [
    {
     "data": {
      "text/html": [
       "<div>\n",
       "<style scoped>\n",
       "    .dataframe tbody tr th:only-of-type {\n",
       "        vertical-align: middle;\n",
       "    }\n",
       "\n",
       "    .dataframe tbody tr th {\n",
       "        vertical-align: top;\n",
       "    }\n",
       "\n",
       "    .dataframe thead th {\n",
       "        text-align: right;\n",
       "    }\n",
       "</style>\n",
       "<table border=\"1\" class=\"dataframe\">\n",
       "  <thead>\n",
       "    <tr style=\"text-align: right;\">\n",
       "      <th></th>\n",
       "      <th>ticker</th>\n",
       "      <th>CIK</th>\n",
       "      <th>fiscal_year</th>\n",
       "      <th>fiscal_period</th>\n",
       "      <th>date_reported</th>\n",
       "      <th>extract_tag</th>\n",
       "      <th>effective_value</th>\n",
       "      <th>reported_value</th>\n",
       "      <th>is_instant_value</th>\n",
       "      <th>UOM</th>\n",
       "      <th>statement_type</th>\n",
       "      <th>table_id</th>\n",
       "      <th>label</th>\n",
       "      <th>indent_level</th>\n",
       "      <th>column_label_short</th>\n",
       "      <th>presentation_order</th>\n",
       "      <th>column_index</th>\n",
       "      <th>range_low</th>\n",
       "      <th>range_high</th>\n",
       "      <th>is_guidance</th>\n",
       "      <th>is_non_gaap</th>\n",
       "      <th>is_change_amount</th>\n",
       "      <th>is_segment</th>\n",
       "      <th>trace_link</th>\n",
       "    </tr>\n",
       "  </thead>\n",
       "  <tbody>\n",
       "    <tr>\n",
       "      <th>34</th>\n",
       "      <td>MMM</td>\n",
       "      <td>66740</td>\n",
       "      <td>2015.0</td>\n",
       "      <td>Y</td>\n",
       "      <td>0001-01-01 00:00:00</td>\n",
       "      <td>EarnGuidancChang</td>\n",
       "      <td>3.500000e-01</td>\n",
       "      <td>0.35</td>\n",
       "      <td>False</td>\n",
       "      <td>USD</td>\n",
       "      <td>TEXT</td>\n",
       "      <td>None</td>\n",
       "      <td>earnings - decrease - impacts</td>\n",
       "      <td>0</td>\n",
       "      <td></td>\n",
       "      <td>18</td>\n",
       "      <td>1</td>\n",
       "      <td>False</td>\n",
       "      <td>False</td>\n",
       "      <td>True</td>\n",
       "      <td>False</td>\n",
       "      <td>True</td>\n",
       "      <td>False</td>\n",
       "      <td>https://www.calcbench.com/traceFactNonXBRL/268...</td>\n",
       "    </tr>\n",
       "    <tr>\n",
       "      <th>35</th>\n",
       "      <td>MMM</td>\n",
       "      <td>66740</td>\n",
       "      <td>2015.0</td>\n",
       "      <td>Y</td>\n",
       "      <td>0001-01-01 00:00:00</td>\n",
       "      <td>EarnPerShareImpactGuidanc_PerShare</td>\n",
       "      <td>4.000000e-01</td>\n",
       "      <td>0.40</td>\n",
       "      <td>False</td>\n",
       "      <td>USD/shares</td>\n",
       "      <td>TEXT</td>\n",
       "      <td>None</td>\n",
       "      <td>earnings per share - impacts</td>\n",
       "      <td>0</td>\n",
       "      <td></td>\n",
       "      <td>18</td>\n",
       "      <td>2</td>\n",
       "      <td>False</td>\n",
       "      <td>False</td>\n",
       "      <td>True</td>\n",
       "      <td>False</td>\n",
       "      <td>False</td>\n",
       "      <td>False</td>\n",
       "      <td>https://www.calcbench.com/traceFactNonXBRL/268...</td>\n",
       "    </tr>\n",
       "    <tr>\n",
       "      <th>36</th>\n",
       "      <td>MMM</td>\n",
       "      <td>66740</td>\n",
       "      <td>2015.0</td>\n",
       "      <td>Y</td>\n",
       "      <td>0001-01-01 00:00:00</td>\n",
       "      <td>EarnPerShareLowEndRangGuidanc_PerShare</td>\n",
       "      <td>7.800000e+00</td>\n",
       "      <td>7.80</td>\n",
       "      <td>False</td>\n",
       "      <td>USD/shares</td>\n",
       "      <td>TEXT</td>\n",
       "      <td>None</td>\n",
       "      <td>earnings per share - Low End Of Range</td>\n",
       "      <td>0</td>\n",
       "      <td></td>\n",
       "      <td>19</td>\n",
       "      <td>1</td>\n",
       "      <td>True</td>\n",
       "      <td>False</td>\n",
       "      <td>True</td>\n",
       "      <td>False</td>\n",
       "      <td>False</td>\n",
       "      <td>False</td>\n",
       "      <td>https://www.calcbench.com/traceFactNonXBRL/268...</td>\n",
       "    </tr>\n",
       "    <tr>\n",
       "      <th>37</th>\n",
       "      <td>MMM</td>\n",
       "      <td>66740</td>\n",
       "      <td>2015.0</td>\n",
       "      <td>Y</td>\n",
       "      <td>0001-01-01 00:00:00</td>\n",
       "      <td>EarnPerShareHighEndRangGuidanc_PerShare</td>\n",
       "      <td>8.100000e+00</td>\n",
       "      <td>8.10</td>\n",
       "      <td>False</td>\n",
       "      <td>USD/shares</td>\n",
       "      <td>TEXT</td>\n",
       "      <td>None</td>\n",
       "      <td>earnings per share - High End Of Range</td>\n",
       "      <td>0</td>\n",
       "      <td></td>\n",
       "      <td>19</td>\n",
       "      <td>2</td>\n",
       "      <td>False</td>\n",
       "      <td>True</td>\n",
       "      <td>True</td>\n",
       "      <td>False</td>\n",
       "      <td>False</td>\n",
       "      <td>False</td>\n",
       "      <td>https://www.calcbench.com/traceFactNonXBRL/268...</td>\n",
       "    </tr>\n",
       "    <tr>\n",
       "      <th>39</th>\n",
       "      <td>MMM</td>\n",
       "      <td>66740</td>\n",
       "      <td>2015.0</td>\n",
       "      <td>Y</td>\n",
       "      <td>0001-01-01 00:00:00</td>\n",
       "      <td>EarnPerShareGuidanc_PerShare</td>\n",
       "      <td>8.300000e+00</td>\n",
       "      <td>8.30</td>\n",
       "      <td>False</td>\n",
       "      <td>USD/shares</td>\n",
       "      <td>TEXT</td>\n",
       "      <td>None</td>\n",
       "      <td>earnings per share</td>\n",
       "      <td>0</td>\n",
       "      <td></td>\n",
       "      <td>19</td>\n",
       "      <td>4</td>\n",
       "      <td>False</td>\n",
       "      <td>False</td>\n",
       "      <td>True</td>\n",
       "      <td>False</td>\n",
       "      <td>False</td>\n",
       "      <td>False</td>\n",
       "      <td>https://www.calcbench.com/traceFactNonXBRL/268...</td>\n",
       "    </tr>\n",
       "    <tr>\n",
       "      <th>...</th>\n",
       "      <td>...</td>\n",
       "      <td>...</td>\n",
       "      <td>...</td>\n",
       "      <td>...</td>\n",
       "      <td>...</td>\n",
       "      <td>...</td>\n",
       "      <td>...</td>\n",
       "      <td>...</td>\n",
       "      <td>...</td>\n",
       "      <td>...</td>\n",
       "      <td>...</td>\n",
       "      <td>...</td>\n",
       "      <td>...</td>\n",
       "      <td>...</td>\n",
       "      <td>...</td>\n",
       "      <td>...</td>\n",
       "      <td>...</td>\n",
       "      <td>...</td>\n",
       "      <td>...</td>\n",
       "      <td>...</td>\n",
       "      <td>...</td>\n",
       "      <td>...</td>\n",
       "      <td>...</td>\n",
       "      <td>...</td>\n",
       "    </tr>\n",
       "    <tr>\n",
       "      <th>839</th>\n",
       "      <td>DIS</td>\n",
       "      <td>0001744489</td>\n",
       "      <td>2020.0</td>\n",
       "      <td>Y</td>\n",
       "      <td>2021-11-10 16:16:10</td>\n",
       "      <td>ChangCashCashEquivalRestrictCash</td>\n",
       "      <td>1.249900e+10</td>\n",
       "      <td>12499.00</td>\n",
       "      <td>False</td>\n",
       "      <td></td>\n",
       "      <td>CashFlow</td>\n",
       "      <td>22</td>\n",
       "      <td>Change in cash, cash equivalents and restricte...</td>\n",
       "      <td>0</td>\n",
       "      <td></td>\n",
       "      <td>40</td>\n",
       "      <td>11</td>\n",
       "      <td>False</td>\n",
       "      <td>False</td>\n",
       "      <td>False</td>\n",
       "      <td>False</td>\n",
       "      <td>False</td>\n",
       "      <td>False</td>\n",
       "      <td>https://www.calcbench.com/traceFactNonXBRL/336...</td>\n",
       "    </tr>\n",
       "    <tr>\n",
       "      <th>840</th>\n",
       "      <td>DIS</td>\n",
       "      <td>0001744489</td>\n",
       "      <td>2020.0</td>\n",
       "      <td>Y</td>\n",
       "      <td>2021-11-10 16:16:10</td>\n",
       "      <td>CashCashEquivalRestrictCashBeginPeriod</td>\n",
       "      <td>1.795400e+10</td>\n",
       "      <td>17954.00</td>\n",
       "      <td>True</td>\n",
       "      <td></td>\n",
       "      <td>CashFlow</td>\n",
       "      <td>22</td>\n",
       "      <td>Cash, cash equivalents and restricted cash, be...</td>\n",
       "      <td>0</td>\n",
       "      <td></td>\n",
       "      <td>41</td>\n",
       "      <td>5</td>\n",
       "      <td>False</td>\n",
       "      <td>False</td>\n",
       "      <td>False</td>\n",
       "      <td>False</td>\n",
       "      <td>False</td>\n",
       "      <td>False</td>\n",
       "      <td>https://www.calcbench.com/traceFactNonXBRL/336...</td>\n",
       "    </tr>\n",
       "    <tr>\n",
       "      <th>841</th>\n",
       "      <td>DIS</td>\n",
       "      <td>0001744489</td>\n",
       "      <td>2019.0</td>\n",
       "      <td>Y</td>\n",
       "      <td>2021-11-10 16:16:10</td>\n",
       "      <td>CashCashEquivalRestrictCashBeginPeriod</td>\n",
       "      <td>5.455000e+09</td>\n",
       "      <td>5455.00</td>\n",
       "      <td>True</td>\n",
       "      <td></td>\n",
       "      <td>CashFlow</td>\n",
       "      <td>22</td>\n",
       "      <td>Cash, cash equivalents and restricted cash, be...</td>\n",
       "      <td>0</td>\n",
       "      <td></td>\n",
       "      <td>41</td>\n",
       "      <td>11</td>\n",
       "      <td>False</td>\n",
       "      <td>False</td>\n",
       "      <td>False</td>\n",
       "      <td>False</td>\n",
       "      <td>False</td>\n",
       "      <td>False</td>\n",
       "      <td>https://www.calcbench.com/traceFactNonXBRL/336...</td>\n",
       "    </tr>\n",
       "    <tr>\n",
       "      <th>842</th>\n",
       "      <td>DIS</td>\n",
       "      <td>0001744489</td>\n",
       "      <td>2021.0</td>\n",
       "      <td>Y</td>\n",
       "      <td>2021-11-10 16:16:10</td>\n",
       "      <td>CashCashEquivalRestrictCashEndPeriod</td>\n",
       "      <td>1.600300e+10</td>\n",
       "      <td>16003.00</td>\n",
       "      <td>True</td>\n",
       "      <td>USD</td>\n",
       "      <td>CashFlow</td>\n",
       "      <td>22</td>\n",
       "      <td>Cash, cash equivalents and restricted cash, en...</td>\n",
       "      <td>0</td>\n",
       "      <td></td>\n",
       "      <td>42</td>\n",
       "      <td>5</td>\n",
       "      <td>False</td>\n",
       "      <td>False</td>\n",
       "      <td>False</td>\n",
       "      <td>False</td>\n",
       "      <td>False</td>\n",
       "      <td>False</td>\n",
       "      <td>https://www.calcbench.com/traceFactNonXBRL/336...</td>\n",
       "    </tr>\n",
       "    <tr>\n",
       "      <th>843</th>\n",
       "      <td>DIS</td>\n",
       "      <td>0001744489</td>\n",
       "      <td>2020.0</td>\n",
       "      <td>Y</td>\n",
       "      <td>2021-11-10 16:16:10</td>\n",
       "      <td>CashCashEquivalRestrictCashEndPeriod</td>\n",
       "      <td>1.795400e+10</td>\n",
       "      <td>17954.00</td>\n",
       "      <td>True</td>\n",
       "      <td>USD</td>\n",
       "      <td>CashFlow</td>\n",
       "      <td>22</td>\n",
       "      <td>Cash, cash equivalents and restricted cash, en...</td>\n",
       "      <td>0</td>\n",
       "      <td></td>\n",
       "      <td>42</td>\n",
       "      <td>11</td>\n",
       "      <td>False</td>\n",
       "      <td>False</td>\n",
       "      <td>False</td>\n",
       "      <td>False</td>\n",
       "      <td>False</td>\n",
       "      <td>False</td>\n",
       "      <td>https://www.calcbench.com/traceFactNonXBRL/336...</td>\n",
       "    </tr>\n",
       "  </tbody>\n",
       "</table>\n",
       "<p>306831 rows × 24 columns</p>\n",
       "</div>"
      ],
      "text/plain": [
       "    ticker         CIK  fiscal_year fiscal_period        date_reported  \\\n",
       "34     MMM       66740       2015.0             Y  0001-01-01 00:00:00   \n",
       "35     MMM       66740       2015.0             Y  0001-01-01 00:00:00   \n",
       "36     MMM       66740       2015.0             Y  0001-01-01 00:00:00   \n",
       "37     MMM       66740       2015.0             Y  0001-01-01 00:00:00   \n",
       "39     MMM       66740       2015.0             Y  0001-01-01 00:00:00   \n",
       "..     ...         ...          ...           ...                  ...   \n",
       "839    DIS  0001744489       2020.0             Y  2021-11-10 16:16:10   \n",
       "840    DIS  0001744489       2020.0             Y  2021-11-10 16:16:10   \n",
       "841    DIS  0001744489       2019.0             Y  2021-11-10 16:16:10   \n",
       "842    DIS  0001744489       2021.0             Y  2021-11-10 16:16:10   \n",
       "843    DIS  0001744489       2020.0             Y  2021-11-10 16:16:10   \n",
       "\n",
       "                                 extract_tag  effective_value  reported_value  \\\n",
       "34                          EarnGuidancChang     3.500000e-01            0.35   \n",
       "35        EarnPerShareImpactGuidanc_PerShare     4.000000e-01            0.40   \n",
       "36    EarnPerShareLowEndRangGuidanc_PerShare     7.800000e+00            7.80   \n",
       "37   EarnPerShareHighEndRangGuidanc_PerShare     8.100000e+00            8.10   \n",
       "39              EarnPerShareGuidanc_PerShare     8.300000e+00            8.30   \n",
       "..                                       ...              ...             ...   \n",
       "839         ChangCashCashEquivalRestrictCash     1.249900e+10        12499.00   \n",
       "840   CashCashEquivalRestrictCashBeginPeriod     1.795400e+10        17954.00   \n",
       "841   CashCashEquivalRestrictCashBeginPeriod     5.455000e+09         5455.00   \n",
       "842     CashCashEquivalRestrictCashEndPeriod     1.600300e+10        16003.00   \n",
       "843     CashCashEquivalRestrictCashEndPeriod     1.795400e+10        17954.00   \n",
       "\n",
       "    is_instant_value         UOM statement_type table_id  \\\n",
       "34             False         USD           TEXT     None   \n",
       "35             False  USD/shares           TEXT     None   \n",
       "36             False  USD/shares           TEXT     None   \n",
       "37             False  USD/shares           TEXT     None   \n",
       "39             False  USD/shares           TEXT     None   \n",
       "..               ...         ...            ...      ...   \n",
       "839            False                   CashFlow       22   \n",
       "840             True                   CashFlow       22   \n",
       "841             True                   CashFlow       22   \n",
       "842             True         USD       CashFlow       22   \n",
       "843             True         USD       CashFlow       22   \n",
       "\n",
       "                                                 label  indent_level  \\\n",
       "34                       earnings - decrease - impacts             0   \n",
       "35                        earnings per share - impacts             0   \n",
       "36               earnings per share - Low End Of Range             0   \n",
       "37              earnings per share - High End Of Range             0   \n",
       "39                                  earnings per share             0   \n",
       "..                                                 ...           ...   \n",
       "839  Change in cash, cash equivalents and restricte...             0   \n",
       "840  Cash, cash equivalents and restricted cash, be...             0   \n",
       "841  Cash, cash equivalents and restricted cash, be...             0   \n",
       "842  Cash, cash equivalents and restricted cash, en...             0   \n",
       "843  Cash, cash equivalents and restricted cash, en...             0   \n",
       "\n",
       "    column_label_short  presentation_order  column_index  range_low  \\\n",
       "34                                      18             1      False   \n",
       "35                                      18             2      False   \n",
       "36                                      19             1       True   \n",
       "37                                      19             2      False   \n",
       "39                                      19             4      False   \n",
       "..                 ...                 ...           ...        ...   \n",
       "839                                     40            11      False   \n",
       "840                                     41             5      False   \n",
       "841                                     41            11      False   \n",
       "842                                     42             5      False   \n",
       "843                                     42            11      False   \n",
       "\n",
       "     range_high  is_guidance is_non_gaap is_change_amount is_segment  \\\n",
       "34        False         True       False             True      False   \n",
       "35        False         True       False            False      False   \n",
       "36        False         True       False            False      False   \n",
       "37         True         True       False            False      False   \n",
       "39        False         True       False            False      False   \n",
       "..          ...          ...         ...              ...        ...   \n",
       "839       False        False       False            False      False   \n",
       "840       False        False       False            False      False   \n",
       "841       False        False       False            False      False   \n",
       "842       False        False       False            False      False   \n",
       "843       False        False       False            False      False   \n",
       "\n",
       "                                            trace_link  \n",
       "34   https://www.calcbench.com/traceFactNonXBRL/268...  \n",
       "35   https://www.calcbench.com/traceFactNonXBRL/268...  \n",
       "36   https://www.calcbench.com/traceFactNonXBRL/268...  \n",
       "37   https://www.calcbench.com/traceFactNonXBRL/268...  \n",
       "39   https://www.calcbench.com/traceFactNonXBRL/268...  \n",
       "..                                                 ...  \n",
       "839  https://www.calcbench.com/traceFactNonXBRL/336...  \n",
       "840  https://www.calcbench.com/traceFactNonXBRL/336...  \n",
       "841  https://www.calcbench.com/traceFactNonXBRL/336...  \n",
       "842  https://www.calcbench.com/traceFactNonXBRL/336...  \n",
       "843  https://www.calcbench.com/traceFactNonXBRL/336...  \n",
       "\n",
       "[306831 rows x 24 columns]"
      ]
     },
     "execution_count": 13,
     "metadata": {},
     "output_type": "execute_result"
    }
   ],
   "source": [
    "all_data[(all_data.fiscal_period == 'Y')]# & (all_data.ticker == 'MMM')]"
   ]
  },
  {
   "cell_type": "code",
   "execution_count": 7,
   "metadata": {},
   "outputs": [
    {
     "data": {
      "application/vnd.jupyter.widget-view+json": {
       "model_id": "16bd01a2c36e4b2a855b04df36f5a183",
       "version_major": 2,
       "version_minor": 0
      },
      "text/plain": [
       "QgridWidget(grid_options={'fullWidthRows': True, 'syncColumnCellResize': True, 'forceFitColumns': True, 'defau…"
      ]
     },
     "metadata": {},
     "output_type": "display_data"
    }
   ],
   "source": [
    "qgrid.show_grid(all_data)"
   ]
  },
  {
   "cell_type": "code",
   "execution_count": null,
   "metadata": {},
   "outputs": [],
   "source": []
  }
 ],
 "metadata": {
  "kernelspec": {
   "display_name": "Python 3",
   "language": "python",
   "name": "python3"
  },
  "language_info": {
   "codemirror_mode": {
    "name": "ipython",
    "version": 3
   },
   "file_extension": ".py",
   "mimetype": "text/x-python",
   "name": "python",
   "nbconvert_exporter": "python",
   "pygments_lexer": "ipython3",
   "version": "3.8.2"
  }
 },
 "nbformat": 4,
 "nbformat_minor": 4
}
