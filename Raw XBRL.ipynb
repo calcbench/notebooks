{
 "cells": [
  {
   "cell_type": "code",
   "execution_count": 3,
   "metadata": {},
   "outputs": [],
   "source": [
    "import calcbench as cb"
   ]
  },
  {
   "cell_type": "code",
   "execution_count": 4,
   "metadata": {},
   "outputs": [],
   "source": [
    "import json"
   ]
  },
  {
   "cell_type": "code",
   "execution_count": 9,
   "metadata": {},
   "outputs": [],
   "source": [
    "period = '2Q' # Use 'Y' for annual data, '1Q', '2Q', '4Q' for quarters\n",
    "clauses = [{\"value\": \"DerivativeNotionalAmount\", \"parameter\": \"XBRLtag\", \"operator\": 10},\n",
    "           {\"value\": \"2018\", \"parameter\": \"fiscalYear\", \"operator\": 1},\n",
    "           {\"value\": period, \"parameter\": \"fiscalPeriod\", \"operator\": 1},\n",
    "           {\"value\" : \"True\", \"parameter\" : \"specifiesDimensions\", \"operator\" : 1},\n",
    "           {\"value\" : \"Most Recent Only\", \"parameter\": \"factversion\", \"operator\": 1}]"
   ]
  },
  {
   "cell_type": "code",
   "execution_count": 6,
   "metadata": {},
   "outputs": [],
   "source": [
    "facts = cb.raw_xbrl_raw(company_identifiers=['mmm', 'gs'], clauses=clauses)"
   ]
  },
  {
   "cell_type": "code",
   "execution_count": 7,
   "metadata": {},
   "outputs": [
    {
     "name": "stdout",
     "output_type": "stream",
     "text": [
      "MMM 2054000000.0 DerivativeNotionalAmount {'BalanceSheetLocationAxis': 'CurrentBalanceSheetLocationMember', 'DerivativeInstrumentRiskAxis': 'ForeignExchangeContractMember', 'HedgingDesignationAxis': 'DesignatedAsHedgingInstrumentMember'}\n",
      "MMM 3834000000.0 DerivativeNotionalAmount {'BalanceSheetLocationAxis': 'CurrentBalanceSheetLocationMember', 'DerivativeInstrumentRiskAxis': 'ForeignExchangeContractMember', 'HedgingDesignationAxis': 'NondesignatedMember'}\n",
      "MMM 1350000000.0 DerivativeNotionalAmount {'BalanceSheetLocationAxis': 'CurrentBalanceSheetLocationMember', 'DerivativeInstrumentRiskAxis': 'InterestRateSwapMember', 'HedgingDesignationAxis': 'DesignatedAsHedgingInstrumentMember'}\n",
      "MMM 1264000000.0 DerivativeNotionalAmount {'BalanceSheetLocationAxis': 'NoncurrentBalanceSheetLocationMember', 'DerivativeInstrumentRiskAxis': 'ForeignExchangeContractMember', 'HedgingDesignationAxis': 'DesignatedAsHedgingInstrumentMember'}\n",
      "MMM 1103000000.0 DerivativeNotionalAmount {'BalanceSheetLocationAxis': 'NoncurrentBalanceSheetLocationMember', 'DerivativeInstrumentRiskAxis': 'InterestRateSwapMember', 'HedgingDesignationAxis': 'DesignatedAsHedgingInstrumentMember'}\n",
      "MMM 150000000.0 DerivativeNotionalAmount {'DerivativeInstrumentRiskAxis': 'ForeignExchangeForwardMember', 'DerivativeInstrumentsGainLossByHedgingRelationshipAxis': 'NetInvestmentHedgingMember'}\n",
      "MMM 248000000000.0 DerivativeNotionalAmount {'DerivativeInstrumentRiskAxis': 'ForeignExchangeForwardMember', 'DerivativeInstrumentsGainLossByHedgingRelationshipAxis': 'NetInvestmentHedgingMember'}\n",
      "MMM 500000000.0 DerivativeNotionalAmount {'DerivativeInstrumentRiskAxis': 'InterestRateSwapMember', 'DerivativeInstrumentsGainLossByHedgingRelationshipAxis': 'CashFlowHedgingMember'}\n",
      "GS 57022239000000.0 DerivativeNotionalAmount []\n",
      "GS 575764000000.0 DerivativeNotionalAmount {'DerivativeInstrumentRiskAxis': 'CommodityContractMember', 'HedgingDesignationAxis': 'NondesignatedMember'}\n",
      "GS 268593000000.0 DerivativeNotionalAmount {'DerivativeInstrumentRiskAxis': 'CommodityContractMember', 'HedgingDesignationAxis': 'NondesignatedMember', 'TransactionTypeAxis': 'BilateralOtcMember'}\n",
      "GS 3431000000.0 DerivativeNotionalAmount {'DerivativeInstrumentRiskAxis': 'CommodityContractMember', 'HedgingDesignationAxis': 'NondesignatedMember', 'TransactionTypeAxis': 'ExchangeClearedMember'}\n",
      "GS 303740000000.0 DerivativeNotionalAmount {'DerivativeInstrumentRiskAxis': 'CommodityContractMember', 'HedgingDesignationAxis': 'NondesignatedMember', 'TransactionTypeAxis': 'ExchangeTradedMember'}\n",
      "GS 1127463000000.0 DerivativeNotionalAmount {'DerivativeInstrumentRiskAxis': 'CreditRiskContractMember', 'HedgingDesignationAxis': 'NondesignatedMember'}\n",
      "GS 755967000000.0 DerivativeNotionalAmount {'DerivativeInstrumentRiskAxis': 'CreditRiskContractMember', 'HedgingDesignationAxis': 'NondesignatedMember', 'TransactionTypeAxis': 'BilateralOtcMember'}\n",
      "GS 371496000000.0 DerivativeNotionalAmount {'DerivativeInstrumentRiskAxis': 'CreditRiskContractMember', 'HedgingDesignationAxis': 'NondesignatedMember', 'TransactionTypeAxis': 'ExchangeClearedMember'}\n",
      "GS 9302000000.0 DerivativeNotionalAmount {'DerivativeInstrumentRiskAxis': 'EmbeddedDerivativeFinancialInstrumentsMember'}\n",
      "GS 1894027000000.0 DerivativeNotionalAmount {'DerivativeInstrumentRiskAxis': 'EquityContractMember', 'HedgingDesignationAxis': 'NondesignatedMember'}\n",
      "GS 1229565000000.0 DerivativeNotionalAmount {'DerivativeInstrumentRiskAxis': 'EquityContractMember', 'HedgingDesignationAxis': 'NondesignatedMember', 'TransactionTypeAxis': 'BilateralOtcMember'}\n",
      "GS 664462000000.0 DerivativeNotionalAmount {'DerivativeInstrumentRiskAxis': 'EquityContractMember', 'HedgingDesignationAxis': 'NondesignatedMember', 'TransactionTypeAxis': 'ExchangeTradedMember'}\n",
      "GS 9852000000.0 DerivativeNotionalAmount {'DerivativeInstrumentRiskAxis': 'ForeignExchangeContractMember', 'HedgingDesignationAxis': 'DesignatedAsHedgingInstrumentMember'}\n",
      "GS 7125000000.0 DerivativeNotionalAmount {'DerivativeInstrumentRiskAxis': 'ForeignExchangeContractMember', 'HedgingDesignationAxis': 'DesignatedAsHedgingInstrumentMember', 'TransactionTypeAxis': 'BilateralOtcMember'}\n",
      "GS 2727000000.0 DerivativeNotionalAmount {'DerivativeInstrumentRiskAxis': 'ForeignExchangeContractMember', 'HedgingDesignationAxis': 'DesignatedAsHedgingInstrumentMember', 'TransactionTypeAxis': 'ExchangeClearedMember'}\n",
      "GS 7244899000000.0 DerivativeNotionalAmount {'DerivativeInstrumentRiskAxis': 'ForeignExchangeContractMember', 'HedgingDesignationAxis': 'NondesignatedMember'}\n",
      "GS 7116915000000.0 DerivativeNotionalAmount {'DerivativeInstrumentRiskAxis': 'ForeignExchangeContractMember', 'HedgingDesignationAxis': 'NondesignatedMember', 'TransactionTypeAxis': 'BilateralOtcMember'}\n",
      "GS 121541000000.0 DerivativeNotionalAmount {'DerivativeInstrumentRiskAxis': 'ForeignExchangeContractMember', 'HedgingDesignationAxis': 'NondesignatedMember', 'TransactionTypeAxis': 'ExchangeClearedMember'}\n",
      "GS 6443000000.0 DerivativeNotionalAmount {'DerivativeInstrumentRiskAxis': 'ForeignExchangeContractMember', 'HedgingDesignationAxis': 'NondesignatedMember', 'TransactionTypeAxis': 'ExchangeTradedMember'}\n",
      "GS 89588000000.0 DerivativeNotionalAmount {'DerivativeInstrumentRiskAxis': 'InterestRateContractMember', 'HedgingDesignationAxis': 'DesignatedAsHedgingInstrumentMember'}\n",
      "GS 9964000000.0 DerivativeNotionalAmount {'DerivativeInstrumentRiskAxis': 'InterestRateContractMember', 'HedgingDesignationAxis': 'DesignatedAsHedgingInstrumentMember', 'TransactionTypeAxis': 'BilateralOtcMember'}\n",
      "GS 79624000000.0 DerivativeNotionalAmount {'DerivativeInstrumentRiskAxis': 'InterestRateContractMember', 'HedgingDesignationAxis': 'DesignatedAsHedgingInstrumentMember', 'TransactionTypeAxis': 'ExchangeClearedMember'}\n",
      "GS 46080646000000.0 DerivativeNotionalAmount {'DerivativeInstrumentRiskAxis': 'InterestRateContractMember', 'HedgingDesignationAxis': 'NondesignatedMember'}\n",
      "GS 16874426000000.0 DerivativeNotionalAmount {'DerivativeInstrumentRiskAxis': 'InterestRateContractMember', 'HedgingDesignationAxis': 'NondesignatedMember', 'TransactionTypeAxis': 'BilateralOtcMember'}\n",
      "GS 16945938000000.0 DerivativeNotionalAmount {'DerivativeInstrumentRiskAxis': 'InterestRateContractMember', 'HedgingDesignationAxis': 'NondesignatedMember', 'TransactionTypeAxis': 'ExchangeClearedMember'}\n",
      "GS 12260282000000.0 DerivativeNotionalAmount {'DerivativeInstrumentRiskAxis': 'InterestRateContractMember', 'HedgingDesignationAxis': 'NondesignatedMember', 'TransactionTypeAxis': 'ExchangeTradedMember'}\n",
      "GS 99440000000.0 DerivativeNotionalAmount {'HedgingDesignationAxis': 'DesignatedAsHedgingInstrumentMember'}\n",
      "GS 56922799000000.0 DerivativeNotionalAmount {'HedgingDesignationAxis': 'NondesignatedMember'}\n"
     ]
    }
   ],
   "source": [
    "for fact in facts:\n",
    "    print('{ticker} {Value} {XBRLtag} {dimensions}'.format(**fact))"
   ]
  }
 ],
 "metadata": {
  "kernelspec": {
   "display_name": "Python 3",
   "language": "python",
   "name": "python3"
  },
  "language_info": {
   "codemirror_mode": {
    "name": "ipython",
    "version": 3
   },
   "file_extension": ".py",
   "mimetype": "text/x-python",
   "name": "python",
   "nbconvert_exporter": "python",
   "pygments_lexer": "ipython3",
   "version": "3.8.2"
  }
 },
 "nbformat": 4,
 "nbformat_minor": 2
}
