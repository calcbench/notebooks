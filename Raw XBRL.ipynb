{
 "cells": [
  {
   "cell_type": "markdown",
   "metadata": {},
   "source": [
    "# XBRL Data As-Reported by Filers\n",
    "## Data behind the Raw XBRL page https://www.calcbench.com/xbrl"
   ]
  },
  {
   "cell_type": "code",
   "execution_count": 1,
   "metadata": {},
   "outputs": [],
   "source": [
    "import calcbench as cb\n",
    "from calcbench.raw_numeric_XBRL  import Operator"
   ]
  },
  {
   "cell_type": "code",
   "execution_count": 19,
   "metadata": {},
   "outputs": [],
   "source": [
    "# See allowed clauses @ https://www.calcbench.com/api/rawdataxbrlpoints\n",
    "clauses = [\n",
    "    {\n",
    "        \"value\": \"RevenueRemainingPerformanceObligationPercentage\",\n",
    "        \"parameter\": \"XBRLtag\",\n",
    "        \"operator\": Operator.Contains,\n",
    "    },\n",
    "    {\"value\": \"True\", \"parameter\": \"specifiesDimensions\", \"operator\": 1},\n",
    "]"
   ]
  },
  {
   "cell_type": "code",
   "execution_count": 17,
   "metadata": {},
   "outputs": [],
   "source": [
    "df = cb.raw_XBRL(company_identifiers=[\"ORCL\"], clauses=clauses)"
   ]
  },
  {
   "cell_type": "code",
   "execution_count": null,
   "metadata": {},
   "outputs": [],
   "source": []
  }
 ],
 "metadata": {
  "kernelspec": {
   "display_name": "Python 3 (ipykernel)",
   "language": "python",
   "name": "python3"
  },
  "language_info": {
   "codemirror_mode": {
    "name": "ipython",
    "version": 3
   },
   "file_extension": ".py",
   "mimetype": "text/x-python",
   "name": "python",
   "nbconvert_exporter": "python",
   "pygments_lexer": "ipython3",
   "version": "3.11.0"
  }
 },
 "nbformat": 4,
 "nbformat_minor": 2
}
