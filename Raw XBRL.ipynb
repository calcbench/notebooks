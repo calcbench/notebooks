{
 "cells": [
  {
   "cell_type": "code",
   "execution_count": 1,
   "metadata": {},
   "outputs": [],
   "source": [
    "import calcbench as cb"
   ]
  },
  {
   "cell_type": "code",
   "execution_count": 16,
   "metadata": {},
   "outputs": [],
   "source": [
    "period = '2Q' # Use 'Y' for annual data, '1Q', '2Q', '4Q' for quarters\n",
    "clauses = [{\"value\": \"EntityCommonStockSharesOutstanding\", \"parameter\": \"XBRLtag\", \"operator\": 10},\n",
    "           {\"value\": \"2019\", \"parameter\": \"fiscalYear\", \"operator\": 1},\n",
    "           {\"value\": period, \"parameter\": \"fiscalPeriod\", \"operator\": 1},\n",
    "           {\"value\" : \"True\", \"parameter\" : \"specifiesDimensions\", \"operator\" : 1},\n",
    "           {\"value\" : \"Most Recent Only\", \"parameter\": \"factversion\", \"operator\": 1}]"
   ]
  },
  {
   "cell_type": "code",
   "execution_count": 17,
   "metadata": {},
   "outputs": [],
   "source": [
    "facts = cb.raw_xbrl_raw(company_identifiers=['mime'], clauses=clauses)"
   ]
  },
  {
   "cell_type": "code",
   "execution_count": 18,
   "metadata": {},
   "outputs": [
    {
     "name": "stdout",
     "output_type": "stream",
     "text": [
      "MIME 60063419.0 EntityCommonStockSharesOutstanding []\n"
     ]
    }
   ],
   "source": [
    "for fact in facts:\n",
    "    print('{ticker} {Value} {XBRLtag} {dimensions}'.format(**fact))"
   ]
  },
  {
   "cell_type": "code",
   "execution_count": null,
   "metadata": {},
   "outputs": [],
   "source": []
  }
 ],
 "metadata": {
  "kernelspec": {
   "display_name": "Python 3",
   "language": "python",
   "name": "python3"
  },
  "language_info": {
   "codemirror_mode": {
    "name": "ipython",
    "version": 3
   },
   "file_extension": ".py",
   "mimetype": "text/x-python",
   "name": "python",
   "nbconvert_exporter": "python",
   "pygments_lexer": "ipython3",
   "version": "3.8.2"
  }
 },
 "nbformat": 4,
 "nbformat_minor": 2
}
