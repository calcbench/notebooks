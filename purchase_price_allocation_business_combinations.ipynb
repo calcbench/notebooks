{
 "cells": [
  {
   "cell_type": "code",
   "execution_count": null,
   "metadata": {},
   "outputs": [],
   "source": [
    "%pip install calcbench-api-client[Pandas,tqdm,backoff]"
   ]
  },
  {
   "cell_type": "code",
   "execution_count": null,
   "metadata": {},
   "outputs": [],
   "source": [
    "from tqdm import tqdm\n",
    "\n",
    "import calcbench as cb\n",
    "from datetime import date\n",
    "import pandas as pd"
   ]
  },
  {
   "cell_type": "code",
   "execution_count": null,
   "metadata": {},
   "outputs": [],
   "source": [
    "cb.enable_backoff()"
   ]
  },
  {
   "cell_type": "code",
   "execution_count": null,
   "metadata": {},
   "outputs": [],
   "source": [
    "filings = list(cb.filings(\n",
    "    entire_universe=True,\n",
    "    start_date=date(2022, 1, 10),\n",
    "    end_date=date(2022, 1, 13),\n",
    "    include_non_xbrl=False,\n",
    "    include_press_releases_and_proxies=False,\n",
    "))"
   ]
  },
  {
   "cell_type": "code",
   "execution_count": null,
   "metadata": {},
   "outputs": [],
   "source": [
    "data = pd.DataFrame()\n",
    "for filing in tqdm(filings):\n",
    "    ppa = cb.business_combinations(accession_id=filing.accession_id)\n",
    "    if not ppa.empty:\n",
    "        tqdm.write(f\"{filing.ticker} {filing.filing_date} {ppa}\")\n",
    "        data = data.append(ppa)"
   ]
  }
 ],
 "metadata": {
  "kernelspec": {
   "display_name": "Python 3 (ipykernel)",
   "language": "python",
   "name": "python3"
  },
  "language_info": {
   "codemirror_mode": {
    "name": "ipython",
    "version": 3
   },
   "file_extension": ".py",
   "mimetype": "text/x-python",
   "name": "python",
   "nbconvert_exporter": "python",
   "pygments_lexer": "ipython3",
   "version": "3.8.2"
  }
 },
 "nbformat": 4,
 "nbformat_minor": 4
}
