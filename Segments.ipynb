{
 "cells": [
  {
   "cell_type": "markdown",
   "metadata": {},
   "source": [
    "# Segment Data from the Calcbench API\n",
    "## The data behind the [Calcbench Segments](https://www.calcbench.com/segments) page."
   ]
  },
  {
   "cell_type": "code",
   "execution_count": null,
   "metadata": {},
   "outputs": [],
   "source": [
    "%pip install calcbench-api-client[Pandas] qgrid"
   ]
  },
  {
   "cell_type": "code",
   "execution_count": 6,
   "metadata": {},
   "outputs": [],
   "source": [
    "import calcbench as cb\n",
    "import pandas as pd\n",
    "import qgrid"
   ]
  },
  {
   "cell_type": "code",
   "execution_count": 7,
   "metadata": {},
   "outputs": [],
   "source": [
    "tickers = cb.tickers(index=\"DJIA\")"
   ]
  },
  {
   "cell_type": "code",
   "execution_count": 16,
   "metadata": {},
   "outputs": [
    {
     "data": {
      "text/html": [
       "<div>\n",
       "<style scoped>\n",
       "    .dataframe tbody tr th:only-of-type {\n",
       "        vertical-align: middle;\n",
       "    }\n",
       "\n",
       "    .dataframe tbody tr th {\n",
       "        vertical-align: top;\n",
       "    }\n",
       "\n",
       "    .dataframe thead th {\n",
       "        text-align: right;\n",
       "    }\n",
       "</style>\n",
       "<table border=\"1\" class=\"dataframe\">\n",
       "  <thead>\n",
       "    <tr style=\"text-align: right;\">\n",
       "      <th></th>\n",
       "      <th></th>\n",
       "      <th></th>\n",
       "      <th></th>\n",
       "      <th></th>\n",
       "      <th>value</th>\n",
       "    </tr>\n",
       "    <tr>\n",
       "      <th>ticker</th>\n",
       "      <th>axis</th>\n",
       "      <th>metric</th>\n",
       "      <th>member</th>\n",
       "      <th>fiscal_period</th>\n",
       "      <th></th>\n",
       "    </tr>\n",
       "  </thead>\n",
       "  <tbody>\n",
       "    <tr>\n",
       "      <th rowspan=\"5\" valign=\"top\">MMM</th>\n",
       "      <th rowspan=\"5\" valign=\"top\">Segment</th>\n",
       "      <th rowspan=\"5\" valign=\"top\">OperatingSegmentRevenue</th>\n",
       "      <th>Abrasives - Safety and Industrial</th>\n",
       "      <th>2020</th>\n",
       "      <td>1.180000e+09</td>\n",
       "    </tr>\n",
       "    <tr>\n",
       "      <th>Automotive Aftermarket - Safety and Industrial</th>\n",
       "      <th>2020</th>\n",
       "      <td>1.102000e+09</td>\n",
       "    </tr>\n",
       "    <tr>\n",
       "      <th>Closure And Masking Systems - Safety and Industrial</th>\n",
       "      <th>2020</th>\n",
       "      <td>9.930000e+08</td>\n",
       "    </tr>\n",
       "    <tr>\n",
       "      <th>Electrical Markets - Safety and Industrial</th>\n",
       "      <th>2020</th>\n",
       "      <td>1.121000e+09</td>\n",
       "    </tr>\n",
       "    <tr>\n",
       "      <th>Industrial Adhesives And Tapes - Safety and Industrial</th>\n",
       "      <th>2020</th>\n",
       "      <td>2.562000e+09</td>\n",
       "    </tr>\n",
       "    <tr>\n",
       "      <th>...</th>\n",
       "      <th>...</th>\n",
       "      <th>...</th>\n",
       "      <th>...</th>\n",
       "      <th>...</th>\n",
       "      <td>...</td>\n",
       "    </tr>\n",
       "    <tr>\n",
       "      <th rowspan=\"5\" valign=\"top\">DIS</th>\n",
       "      <th rowspan=\"5\" valign=\"top\">Segment</th>\n",
       "      <th rowspan=\"5\" valign=\"top\">OperatingSegmentRevenue</th>\n",
       "      <th>Consumer Products - Third Party</th>\n",
       "      <th>2008</th>\n",
       "      <td>2.569000e+09</td>\n",
       "    </tr>\n",
       "    <tr>\n",
       "      <th>Intersegment - Studio Entertainment</th>\n",
       "      <th>2008</th>\n",
       "      <td>1.810000e+08</td>\n",
       "    </tr>\n",
       "    <tr>\n",
       "      <th>Studio Entertainment - Third Party</th>\n",
       "      <th>2008</th>\n",
       "      <td>7.167000e+09</td>\n",
       "    </tr>\n",
       "    <tr>\n",
       "      <th>Interactive Media - Intersegment</th>\n",
       "      <th>2008</th>\n",
       "      <td>-2.700000e+07</td>\n",
       "    </tr>\n",
       "    <tr>\n",
       "      <th>Revenues</th>\n",
       "      <th>2008</th>\n",
       "      <td>3.784300e+10</td>\n",
       "    </tr>\n",
       "  </tbody>\n",
       "</table>\n",
       "<p>13418 rows × 1 columns</p>\n",
       "</div>"
      ],
      "text/plain": [
       "                                                                                                                value\n",
       "ticker axis    metric                  member                                             fiscal_period              \n",
       "MMM    Segment OperatingSegmentRevenue Abrasives - Safety and Industrial                  2020           1.180000e+09\n",
       "                                       Automotive Aftermarket - Safety and Industrial     2020           1.102000e+09\n",
       "                                       Closure And Masking Systems - Safety and Indust... 2020           9.930000e+08\n",
       "                                       Electrical Markets - Safety and Industrial         2020           1.121000e+09\n",
       "                                       Industrial Adhesives And Tapes - Safety and Ind... 2020           2.562000e+09\n",
       "...                                                                                                               ...\n",
       "DIS    Segment OperatingSegmentRevenue Consumer Products - Third Party                    2008           2.569000e+09\n",
       "                                       Intersegment - Studio Entertainment                2008           1.810000e+08\n",
       "                                       Studio Entertainment - Third Party                 2008           7.167000e+09\n",
       "                                       Interactive Media - Intersegment                   2008          -2.700000e+07\n",
       "                                       Revenues                                           2008           3.784300e+10\n",
       "\n",
       "[13418 rows x 1 columns]"
      ]
     },
     "execution_count": 16,
     "metadata": {},
     "output_type": "execute_result"
    }
   ],
   "source": [
    "cb.dimensional(\n",
    "    company_identifiers=tickers,\n",
    "    metrics=[\"OperatingSegmentRevenue\", \"GeographicalSegmentRevenue\"],\n",
    "    period_type=\"annual\",\n",
    ")"
   ]
  },
  {
   "cell_type": "code",
   "execution_count": null,
   "metadata": {},
   "outputs": [],
   "source": [
    "qgrid.show_grid(operating_segment_revenue)"
   ]
  },
  {
   "cell_type": "code",
   "execution_count": null,
   "metadata": {},
   "outputs": [],
   "source": []
  }
 ],
 "metadata": {
  "kernelspec": {
   "display_name": "Python 3",
   "language": "python",
   "name": "python3"
  },
  "language_info": {
   "codemirror_mode": {
    "name": "ipython",
    "version": 3
   },
   "file_extension": ".py",
   "mimetype": "text/x-python",
   "name": "python",
   "nbconvert_exporter": "python",
   "pygments_lexer": "ipython3",
   "version": "3.8.2"
  }
 },
 "nbformat": 4,
 "nbformat_minor": 4
}
