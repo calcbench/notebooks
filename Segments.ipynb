{
 "cells": [
  {
   "cell_type": "markdown",
   "metadata": {},
   "source": [
    "# Segment Data from the Calcbench API\n",
    "## The data behind the [Calcbench Segments](https://www.calcbench.com/segments) page."
   ]
  },
  {
   "cell_type": "code",
   "execution_count": 11,
   "metadata": {
    "collapsed": true
   },
   "outputs": [
    {
     "name": "stdout",
     "output_type": "stream",
     "text": [
      "Requirement already satisfied: pandasgui in c:\\users\\andre\\appdata\\local\\programs\\python\\python311\\lib\\site-packages (0.2.14)\n",
      "Collecting nltk\n",
      "  Downloading nltk-3.8.1-py3-none-any.whl.metadata (2.8 kB)\n",
      "Requirement already satisfied: calcbench-api-client[Pandas] in c:\\users\\andre\\repos\\python_api_client (12.2.0)\n",
      "Requirement already satisfied: requests in c:\\users\\andre\\appdata\\local\\programs\\python\\python311\\lib\\site-packages (from calcbench-api-client[Pandas]) (2.31.0)\n",
      "Requirement already satisfied: pydantic>=2.0.0 in c:\\users\\andre\\appdata\\local\\programs\\python\\python311\\lib\\site-packages (from calcbench-api-client[Pandas]) (2.5.3)\n",
      "Requirement already satisfied: Pandas>=1.0.0 in c:\\users\\andre\\appdata\\local\\programs\\python\\python311\\lib\\site-packages (from calcbench-api-client[Pandas]) (2.2.0)\n",
      "Requirement already satisfied: numpy in c:\\users\\andre\\appdata\\local\\programs\\python\\python311\\lib\\site-packages (from pandasgui) (1.23.5)\n",
      "Requirement already satisfied: PyQt5 in c:\\users\\andre\\appdata\\local\\programs\\python\\python311\\lib\\site-packages (from pandasgui) (5.15.10)\n",
      "Requirement already satisfied: PyQt5-sip in c:\\users\\andre\\appdata\\local\\programs\\python\\python311\\lib\\site-packages (from pandasgui) (12.13.0)\n",
      "Requirement already satisfied: PyQtWebEngine in c:\\users\\andre\\appdata\\local\\programs\\python\\python311\\lib\\site-packages (from pandasgui) (5.15.6)\n",
      "Requirement already satisfied: plotly in c:\\users\\andre\\appdata\\local\\programs\\python\\python311\\lib\\site-packages (from pandasgui) (5.20.0)\n",
      "Requirement already satisfied: wordcloud in c:\\users\\andre\\appdata\\local\\programs\\python\\python311\\lib\\site-packages (from pandasgui) (1.9.3)\n",
      "Requirement already satisfied: setuptools in c:\\users\\andre\\appdata\\local\\programs\\python\\python311\\lib\\site-packages (from pandasgui) (65.5.0)\n",
      "Requirement already satisfied: appdirs in c:\\users\\andre\\appdata\\local\\programs\\python\\python311\\lib\\site-packages (from pandasgui) (1.4.4)\n",
      "Requirement already satisfied: pynput in c:\\users\\andre\\appdata\\local\\programs\\python\\python311\\lib\\site-packages (from pandasgui) (1.7.6)\n",
      "Requirement already satisfied: IPython in c:\\users\\andre\\appdata\\local\\programs\\python\\python311\\lib\\site-packages (from pandasgui) (8.20.0)\n",
      "Requirement already satisfied: pyarrow in c:\\users\\andre\\appdata\\local\\programs\\python\\python311\\lib\\site-packages (from pandasgui) (15.0.0)\n",
      "Requirement already satisfied: astor in c:\\users\\andre\\appdata\\local\\programs\\python\\python311\\lib\\site-packages (from pandasgui) (0.8.1)\n",
      "Requirement already satisfied: typing-extensions in c:\\users\\andre\\appdata\\local\\programs\\python\\python311\\lib\\site-packages (from pandasgui) (4.9.0)\n",
      "Requirement already satisfied: qtstylish>=0.1.2 in c:\\users\\andre\\appdata\\local\\programs\\python\\python311\\lib\\site-packages (from pandasgui) (0.1.5)\n",
      "Requirement already satisfied: pywin32 in c:\\users\\andre\\appdata\\local\\programs\\python\\python311\\lib\\site-packages (from pandasgui) (306)\n",
      "Requirement already satisfied: click in c:\\users\\andre\\appdata\\local\\programs\\python\\python311\\lib\\site-packages (from nltk) (8.1.7)\n",
      "Requirement already satisfied: joblib in c:\\users\\andre\\appdata\\local\\programs\\python\\python311\\lib\\site-packages (from nltk) (1.3.2)\n",
      "Collecting regex>=2021.8.3 (from nltk)\n",
      "  Downloading regex-2024.4.16-cp311-cp311-win_amd64.whl.metadata (41 kB)\n",
      "     ---------------------------------------- 0.0/42.0 kB ? eta -:--:--\n",
      "     ---------------------------------------- 42.0/42.0 kB 2.0 MB/s eta 0:00:00\n",
      "Requirement already satisfied: tqdm in c:\\users\\andre\\appdata\\local\\programs\\python\\python311\\lib\\site-packages (from nltk) (4.66.1)\n",
      "Requirement already satisfied: python-dateutil>=2.8.2 in c:\\users\\andre\\appdata\\local\\programs\\python\\python311\\lib\\site-packages (from Pandas>=1.0.0->calcbench-api-client[Pandas]) (2.8.2)\n",
      "Requirement already satisfied: pytz>=2020.1 in c:\\users\\andre\\appdata\\local\\programs\\python\\python311\\lib\\site-packages (from Pandas>=1.0.0->calcbench-api-client[Pandas]) (2023.3.post1)\n",
      "Requirement already satisfied: tzdata>=2022.7 in c:\\users\\andre\\appdata\\local\\programs\\python\\python311\\lib\\site-packages (from Pandas>=1.0.0->calcbench-api-client[Pandas]) (2023.4)\n",
      "Requirement already satisfied: annotated-types>=0.4.0 in c:\\users\\andre\\appdata\\local\\programs\\python\\python311\\lib\\site-packages (from pydantic>=2.0.0->calcbench-api-client[Pandas]) (0.6.0)\n",
      "Requirement already satisfied: pydantic-core==2.14.6 in c:\\users\\andre\\appdata\\local\\programs\\python\\python311\\lib\\site-packages (from pydantic>=2.0.0->calcbench-api-client[Pandas]) (2.14.6)\n",
      "Requirement already satisfied: colorama in c:\\users\\andre\\appdata\\local\\programs\\python\\python311\\lib\\site-packages (from click->nltk) (0.4.6)\n",
      "Requirement already satisfied: decorator in c:\\users\\andre\\appdata\\local\\programs\\python\\python311\\lib\\site-packages (from IPython->pandasgui) (5.1.1)\n",
      "Requirement already satisfied: jedi>=0.16 in c:\\users\\andre\\appdata\\local\\programs\\python\\python311\\lib\\site-packages (from IPython->pandasgui) (0.19.1)\n",
      "Requirement already satisfied: matplotlib-inline in c:\\users\\andre\\appdata\\local\\programs\\python\\python311\\lib\\site-packages (from IPython->pandasgui) (0.1.6)\n",
      "Requirement already satisfied: prompt-toolkit<3.1.0,>=3.0.41 in c:\\users\\andre\\appdata\\local\\programs\\python\\python311\\lib\\site-packages (from IPython->pandasgui) (3.0.43)\n",
      "Requirement already satisfied: pygments>=2.4.0 in c:\\users\\andre\\appdata\\local\\programs\\python\\python311\\lib\\site-packages (from IPython->pandasgui) (2.17.2)\n",
      "Requirement already satisfied: stack-data in c:\\users\\andre\\appdata\\local\\programs\\python\\python311\\lib\\site-packages (from IPython->pandasgui) (0.6.3)\n",
      "Requirement already satisfied: traitlets>=5 in c:\\users\\andre\\appdata\\local\\programs\\python\\python311\\lib\\site-packages (from IPython->pandasgui) (5.14.1)\n",
      "Requirement already satisfied: tenacity>=6.2.0 in c:\\users\\andre\\appdata\\local\\programs\\python\\python311\\lib\\site-packages (from plotly->pandasgui) (8.2.3)\n",
      "Requirement already satisfied: packaging in c:\\users\\andre\\appdata\\local\\programs\\python\\python311\\lib\\site-packages (from plotly->pandasgui) (23.2)\n",
      "Requirement already satisfied: six in c:\\users\\andre\\appdata\\local\\programs\\python\\python311\\lib\\site-packages (from pynput->pandasgui) (1.16.0)\n",
      "Requirement already satisfied: PyQt5-Qt5>=5.15.2 in c:\\users\\andre\\appdata\\local\\programs\\python\\python311\\lib\\site-packages (from PyQt5->pandasgui) (5.15.2)\n",
      "Requirement already satisfied: PyQtWebEngine-Qt5>=5.15.0 in c:\\users\\andre\\appdata\\local\\programs\\python\\python311\\lib\\site-packages (from PyQtWebEngine->pandasgui) (5.15.2)\n",
      "Requirement already satisfied: charset-normalizer<4,>=2 in c:\\users\\andre\\appdata\\local\\programs\\python\\python311\\lib\\site-packages (from requests->calcbench-api-client[Pandas]) (3.3.2)\n",
      "Requirement already satisfied: idna<4,>=2.5 in c:\\users\\andre\\appdata\\local\\programs\\python\\python311\\lib\\site-packages (from requests->calcbench-api-client[Pandas]) (3.6)\n",
      "Requirement already satisfied: urllib3<3,>=1.21.1 in c:\\users\\andre\\appdata\\local\\programs\\python\\python311\\lib\\site-packages (from requests->calcbench-api-client[Pandas]) (2.1.0)\n",
      "Requirement already satisfied: certifi>=2017.4.17 in c:\\users\\andre\\appdata\\local\\programs\\python\\python311\\lib\\site-packages (from requests->calcbench-api-client[Pandas]) (2023.11.17)\n",
      "Requirement already satisfied: pillow in c:\\users\\andre\\appdata\\local\\programs\\python\\python311\\lib\\site-packages (from wordcloud->pandasgui) (10.2.0)\n",
      "Requirement already satisfied: matplotlib in c:\\users\\andre\\appdata\\local\\programs\\python\\python311\\lib\\site-packages (from wordcloud->pandasgui) (3.8.2)\n",
      "Requirement already satisfied: parso<0.9.0,>=0.8.3 in c:\\users\\andre\\appdata\\local\\programs\\python\\python311\\lib\\site-packages (from jedi>=0.16->IPython->pandasgui) (0.8.3)\n",
      "Requirement already satisfied: wcwidth in c:\\users\\andre\\appdata\\local\\programs\\python\\python311\\lib\\site-packages (from prompt-toolkit<3.1.0,>=3.0.41->IPython->pandasgui) (0.2.13)\n",
      "Requirement already satisfied: contourpy>=1.0.1 in c:\\users\\andre\\appdata\\local\\programs\\python\\python311\\lib\\site-packages (from matplotlib->wordcloud->pandasgui) (1.2.0)\n",
      "Requirement already satisfied: cycler>=0.10 in c:\\users\\andre\\appdata\\local\\programs\\python\\python311\\lib\\site-packages (from matplotlib->wordcloud->pandasgui) (0.12.1)\n",
      "Requirement already satisfied: fonttools>=4.22.0 in c:\\users\\andre\\appdata\\local\\programs\\python\\python311\\lib\\site-packages (from matplotlib->wordcloud->pandasgui) (4.47.2)\n",
      "Requirement already satisfied: kiwisolver>=1.3.1 in c:\\users\\andre\\appdata\\local\\programs\\python\\python311\\lib\\site-packages (from matplotlib->wordcloud->pandasgui) (1.4.5)\n",
      "Requirement already satisfied: pyparsing>=2.3.1 in c:\\users\\andre\\appdata\\local\\programs\\python\\python311\\lib\\site-packages (from matplotlib->wordcloud->pandasgui) (3.1.1)\n",
      "Requirement already satisfied: executing>=1.2.0 in c:\\users\\andre\\appdata\\local\\programs\\python\\python311\\lib\\site-packages (from stack-data->IPython->pandasgui) (2.0.1)\n",
      "Requirement already satisfied: asttokens>=2.1.0 in c:\\users\\andre\\appdata\\local\\programs\\python\\python311\\lib\\site-packages (from stack-data->IPython->pandasgui) (2.4.1)\n",
      "Requirement already satisfied: pure-eval in c:\\users\\andre\\appdata\\local\\programs\\python\\python311\\lib\\site-packages (from stack-data->IPython->pandasgui) (0.2.2)\n",
      "Downloading nltk-3.8.1-py3-none-any.whl (1.5 MB)\n",
      "   ---------------------------------------- 0.0/1.5 MB ? eta -:--:--\n",
      "   ----- ---------------------------------- 0.2/1.5 MB 14.3 MB/s eta 0:00:01\n",
      "   ----------------- ---------------------- 0.6/1.5 MB 10.2 MB/s eta 0:00:01\n",
      "   -------------------------------- ------- 1.2/1.5 MB 13.0 MB/s eta 0:00:01\n",
      "   ---------------------------------------- 1.5/1.5 MB 12.0 MB/s eta 0:00:00\n",
      "Downloading regex-2024.4.16-cp311-cp311-win_amd64.whl (268 kB)\n",
      "   ---------------------------------------- 0.0/268.9 kB ? eta -:--:--\n",
      "   --------------------------------------- 268.9/268.9 kB 17.2 MB/s eta 0:00:00\n",
      "Installing collected packages: regex, nltk\n",
      "Successfully installed nltk-3.8.1 regex-2024.4.16\n",
      "Note: you may need to restart the kernel to use updated packages.\n"
     ]
    }
   ],
   "source": [
    "# %#pip install calcbench-api-client[Pandas] pandasgui nltk"
   ]
  },
  {
   "cell_type": "code",
   "execution_count": 72,
   "metadata": {},
   "outputs": [],
   "source": [
    "import calcbench as cb\n",
    "from pandasgui import show\n",
    "import pandas as pd\n",
    "from nltk.metrics import edit_distance"
   ]
  },
  {
   "cell_type": "code",
   "execution_count": 2,
   "metadata": {},
   "outputs": [],
   "source": [
    "tickers = cb.tickers(index=\"DJIA\")"
   ]
  },
  {
   "cell_type": "code",
   "execution_count": 3,
   "metadata": {},
   "outputs": [],
   "source": [
    "d = cb.dimensional(\n",
    "    company_identifiers=tickers,\n",
    "    metrics=[\"GeographicalSegmentRevenue\"],\n",
    "    period_type=\"annual\",\n",
    ")"
   ]
  },
  {
   "cell_type": "code",
   "execution_count": 36,
   "metadata": {},
   "outputs": [],
   "source": [
    "chart_values = d.loc[\n",
    "    (\"DIS\", slice(None), slice(None), slice(None), [\"Americas\", \"Europe\"]), :\n",
    "]"
   ]
  },
  {
   "cell_type": "code",
   "execution_count": 73,
   "metadata": {},
   "outputs": [],
   "source": [
    "edit_distances = (\n",
    "    chart_values.reset_index()\n",
    "    .apply(lambda r: edit_distance(r[\"label\"], r[\"standardized_label\"]), axis=1)\n",
    "    .rename(\"edit_distance\")\n",
    ")"
   ]
  },
  {
   "cell_type": "code",
   "execution_count": 80,
   "metadata": {},
   "outputs": [],
   "source": [
    "edit_distances.index = chart_values.index"
   ]
  },
  {
   "cell_type": "code",
   "execution_count": 94,
   "metadata": {},
   "outputs": [],
   "source": [
    "x = (\n",
    "    chart_values.merge(edit_distances, right_index=True, left_index=True)\n",
    "    .sort_values(\"edit_distance\")\n",
    "    .droplevel([\"metric\", \"label\"], axis=0)\n",
    ")"
   ]
  },
  {
   "cell_type": "code",
   "execution_count": 106,
   "metadata": {},
   "outputs": [],
   "source": [
    "no_dupes = x.loc[~x.index.duplicated()].sort_index()"
   ]
  },
  {
   "cell_type": "code",
   "execution_count": 114,
   "metadata": {},
   "outputs": [
    {
     "data": {
      "text/plain": [
       "<Axes: xlabel='ticker,fiscal_period'>"
      ]
     },
     "execution_count": 114,
     "metadata": {},
     "output_type": "execute_result"
    },
    {
     "data": {
      "image/png": "[encoded data removed]",
      "text/plain": [
       "<Figure size 640x480 with 1 Axes>"
      ]
     },
     "metadata": {},
     "output_type": "display_data"
    }
   ],
   "source": [
    "no_dupes.unstack(\"standardized_label\")['value'].plot()"
   ]
  },
  {
   "cell_type": "code",
   "execution_count": null,
   "metadata": {},
   "outputs": [],
   "source": []
  }
 ],
 "metadata": {
  "kernelspec": {
   "display_name": "Python 3 (ipykernel)",
   "language": "python",
   "name": "python3"
  },
  "language_info": {
   "codemirror_mode": {
    "name": "ipython",
    "version": 3
   },
   "file_extension": ".py",
   "mimetype": "text/x-python",
   "name": "python",
   "nbconvert_exporter": "python",
   "pygments_lexer": "ipython3",
   "version": "3.11.0"
  }
 },
 "nbformat": 4,
 "nbformat_minor": 4
}
