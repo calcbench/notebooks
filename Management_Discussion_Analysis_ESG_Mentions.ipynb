{
 "cells": [
  {
   "cell_type": "markdown",
   "metadata": {},
   "source": [
    "# Topic and word list from a working paper by Sophie Stone of the Dartmouth College Economics Department"
   ]
  },
  {
   "cell_type": "markdown",
   "metadata": {},
   "source": [
    "\n",
    "\n",
    "## https://www.sbert.net/docs/usage/semantic_textual_similarity.html"
   ]
  },
  {
   "cell_type": "code",
   "execution_count": null,
   "metadata": {},
   "outputs": [],
   "source": [
    "# Dependencies\n",
    "# !pip install \"calcbench-api-client[Pandas, Backoff, BeautifulSoup]\" sentence-transformers tqdm qgrid ipywidgets"
   ]
  },
  {
   "cell_type": "code",
   "execution_count": 21,
   "metadata": {},
   "outputs": [],
   "source": [
    "import warnings\n",
    "\n",
    "import pandas as pd\n",
    "import itertools\n",
    "from tqdm.notebook import tqdm\n",
    "import qgrid\n",
    "\n",
    "import torch\n",
    "\n",
    "# https://github.com/UKPLab/sentence-transformers\n",
    "from sentence_transformers import SentenceTransformer, util\n",
    "import calcbench as cb\n",
    "\n",
    "model = SentenceTransformer(\"distilbert-base-nli-stsb-mean-tokens\")\n",
    "\n",
    "cb.enable_backoff()\n",
    "tqdm.pandas(desc=\"progress\")"
   ]
  },
  {
   "cell_type": "code",
   "execution_count": 2,
   "metadata": {},
   "outputs": [],
   "source": [
    "categories = [\n",
    "    (\n",
    "        \"environmental\",\n",
    "        \"\"\"biodiversity, carbon, carbon negative, carbon neutral, carbon zero, clean-up, clean, clean tech, climate change, climate positive, contamination, discharge, emission, energy-efficient, environmental, environmental risk, fuel, fuel efficiency, green, greenhouse gas, hazardous, low carbon, natural resource, net-zero emission, pollution, remediation, sustainability, sustainable, toxic, waste, water, zero carbon, zero net carbon\"\"\",\n",
    "    ),\n",
    "    (\n",
    "        \"social\",\n",
    "        \"\"\"accident, antiracism, consumer protection, customer privacy, employee relation, equal, equal pay, equity, gender equality, health, human right, justice, labor relation, labor standard, racial equity, racial awareness, racial justice, working condition\"\"\",\n",
    "    ),\n",
    "    (\n",
    "        \"governance\",\n",
    "        \"\"\"advocacy, antitrust, board independence, code of ethic, compensation, corporate culture, corporate governance, corruption, governance risk, justice, political lobbying, scandal, shareholder right, stability, stewardship, transparency\"\"\",\n",
    "    ),\n",
    "]"
   ]
  },
  {
   "cell_type": "code",
   "execution_count": 3,
   "metadata": {},
   "outputs": [
    {
     "data": {
      "application/vnd.jupyter.widget-view+json": {
       "model_id": "2dc3f53f53cd463b8d43541f15fe4b5d",
       "version_major": 2,
       "version_minor": 0
      },
      "text/plain": [
       "0it [00:00, ?it/s]"
      ]
     },
     "metadata": {},
     "output_type": "display_data"
    }
   ],
   "source": [
    "with tqdm() as progress_bar:\n",
    "    disclosures = cb.document_dataframe(\n",
    "        company_identifiers=[\"msft\", \"orcl\"],  # \"DJIA\"\n",
    "        disclosure_names=[\"ManagementsDiscussionAndAnalysis\", \"RiskFactors\"],\n",
    "        all_history=True,\n",
    "        period_type=\"annual\",\n",
    "        progress_bar=progress_bar,\n",
    "        # entire_universe=True,\n",
    "    )"
   ]
  },
  {
   "cell_type": "code",
   "execution_count": 4,
   "metadata": {},
   "outputs": [
    {
     "data": {
      "application/vnd.jupyter.widget-view+json": {
       "model_id": "e22da731681e4842ad5f63a0c34af74b",
       "version_major": 2,
       "version_minor": 0
      },
      "text/plain": [
       "progress:   0%|          | 0/44 [00:00<?, ?it/s]"
      ]
     },
     "metadata": {},
     "output_type": "display_data"
    }
   ],
   "source": [
    "def get_contents(d):\n",
    "    try:\n",
    "        return d.get_contents_text()\n",
    "    except Exception as e:\n",
    "        print(f\"Exception getting {d} \\n{e}\")\n",
    "\n",
    "\n",
    "disclosure_contents = disclosures.progress_applymap(\n",
    "    get_contents, na_action=\"ignore\"\n",
    ").fillna(\"\")"
   ]
  },
  {
   "cell_type": "code",
   "execution_count": 9,
   "metadata": {
    "scrolled": true
   },
   "outputs": [
    {
     "data": {
      "application/vnd.jupyter.widget-view+json": {
       "model_id": "a02164f4e6764478b8d9f43a680e8de6",
       "version_major": 2,
       "version_minor": 0
      },
      "text/plain": [
       "progress:   0%|          | 0/44 [00:00<?, ?it/s]"
      ]
     },
     "metadata": {},
     "output_type": "display_data"
    }
   ],
   "source": [
    "disclosure_embeddings = disclosure_contents.progress_applymap(\n",
    "    lambda c: model.encode(c, convert_to_tensor=True)\n",
    ")"
   ]
  },
  {
   "cell_type": "code",
   "execution_count": 53,
   "metadata": {},
   "outputs": [],
   "source": [
    "def distance(column_embeddings: pd.Series, category_embeddings):\n",
    "    distances = util.pytorch_cos_sim(torch.stack(list(column_embeddings)), category_embeddings).T[0]\n",
    "    return distances"
   ]
  },
  {
   "cell_type": "code",
   "execution_count": 54,
   "metadata": {},
   "outputs": [
    {
     "data": {
      "application/vnd.jupyter.widget-view+json": {
       "model_id": "588b7de68a6c4f698283e55ba5e180ca",
       "version_major": 2,
       "version_minor": 0
      },
      "text/plain": [
       "  0%|          | 0/3 [00:00<?, ?it/s]"
      ]
     },
     "metadata": {},
     "output_type": "display_data"
    },
    {
     "data": {
      "application/vnd.jupyter.widget-view+json": {
       "model_id": "9af2eb4783aa441ebbc83e34ef244a81",
       "version_major": 2,
       "version_minor": 0
      },
      "text/plain": [
       "progress:   0%|          | 0/4 [00:00<?, ?it/s]"
      ]
     },
     "metadata": {},
     "output_type": "display_data"
    },
    {
     "data": {
      "application/vnd.jupyter.widget-view+json": {
       "model_id": "ad6f83dde812457fa15e7b9dced761a8",
       "version_major": 2,
       "version_minor": 0
      },
      "text/plain": [
       "progress:   0%|          | 0/4 [00:00<?, ?it/s]"
      ]
     },
     "metadata": {},
     "output_type": "display_data"
    },
    {
     "data": {
      "application/vnd.jupyter.widget-view+json": {
       "model_id": "dd92cab2f4b84583b87d6e2177a03228",
       "version_major": 2,
       "version_minor": 0
      },
      "text/plain": [
       "progress:   0%|          | 0/4 [00:00<?, ?it/s]"
      ]
     },
     "metadata": {},
     "output_type": "display_data"
    }
   ],
   "source": [
    "distances = []\n",
    "for _, category_words in tqdm(categories):\n",
    "    category_embeddings = model.encode(category_words, convert_to_tensor=True)\n",
    "    category_distances = disclosure_tensors.progress_apply(distance, category_embeddings=category_embeddings)\n",
    "    distances.append(category_distances)"
   ]
  },
  {
   "cell_type": "code",
   "execution_count": 51,
   "metadata": {},
   "outputs": [
    {
     "data": {
      "text/html": [
       "<div>\n",
       "<style scoped>\n",
       "    .dataframe tbody tr th:only-of-type {\n",
       "        vertical-align: middle;\n",
       "    }\n",
       "\n",
       "    .dataframe tbody tr th {\n",
       "        vertical-align: top;\n",
       "    }\n",
       "\n",
       "    .dataframe thead tr th {\n",
       "        text-align: left;\n",
       "    }\n",
       "\n",
       "    .dataframe thead tr:last-of-type th {\n",
       "        text-align: right;\n",
       "    }\n",
       "</style>\n",
       "<table border=\"1\" class=\"dataframe\">\n",
       "  <thead>\n",
       "    <tr>\n",
       "      <th></th>\n",
       "      <th colspan=\"4\" halign=\"left\">environmental</th>\n",
       "      <th colspan=\"4\" halign=\"left\">social</th>\n",
       "      <th colspan=\"4\" halign=\"left\">governance</th>\n",
       "    </tr>\n",
       "    <tr>\n",
       "      <th>disclosure_type_name</th>\n",
       "      <th colspan=\"2\" halign=\"left\">ManagementsDiscussionAndAnalysis</th>\n",
       "      <th colspan=\"2\" halign=\"left\">RiskFactors</th>\n",
       "      <th colspan=\"2\" halign=\"left\">ManagementsDiscussionAndAnalysis</th>\n",
       "      <th colspan=\"2\" halign=\"left\">RiskFactors</th>\n",
       "      <th colspan=\"2\" halign=\"left\">ManagementsDiscussionAndAnalysis</th>\n",
       "      <th colspan=\"2\" halign=\"left\">RiskFactors</th>\n",
       "    </tr>\n",
       "    <tr>\n",
       "      <th>ticker</th>\n",
       "      <th>MSFT</th>\n",
       "      <th>ORCL</th>\n",
       "      <th>MSFT</th>\n",
       "      <th>ORCL</th>\n",
       "      <th>MSFT</th>\n",
       "      <th>ORCL</th>\n",
       "      <th>MSFT</th>\n",
       "      <th>ORCL</th>\n",
       "      <th>MSFT</th>\n",
       "      <th>ORCL</th>\n",
       "      <th>MSFT</th>\n",
       "      <th>ORCL</th>\n",
       "    </tr>\n",
       "    <tr>\n",
       "      <th>period</th>\n",
       "      <th></th>\n",
       "      <th></th>\n",
       "      <th></th>\n",
       "      <th></th>\n",
       "      <th></th>\n",
       "      <th></th>\n",
       "      <th></th>\n",
       "      <th></th>\n",
       "      <th></th>\n",
       "      <th></th>\n",
       "      <th></th>\n",
       "      <th></th>\n",
       "    </tr>\n",
       "  </thead>\n",
       "  <tbody>\n",
       "    <tr>\n",
       "      <th>2010</th>\n",
       "      <td>0.067704</td>\n",
       "      <td>0.046842</td>\n",
       "      <td>0.041494</td>\n",
       "      <td>0.069147</td>\n",
       "      <td>0.287402</td>\n",
       "      <td>0.282850</td>\n",
       "      <td>0.390782</td>\n",
       "      <td>0.374338</td>\n",
       "      <td>0.434765</td>\n",
       "      <td>0.399483</td>\n",
       "      <td>0.302868</td>\n",
       "      <td>0.367925</td>\n",
       "    </tr>\n",
       "    <tr>\n",
       "      <th>2011</th>\n",
       "      <td>0.056875</td>\n",
       "      <td>0.021732</td>\n",
       "      <td>0.031076</td>\n",
       "      <td>0.069147</td>\n",
       "      <td>0.317599</td>\n",
       "      <td>0.289613</td>\n",
       "      <td>0.388511</td>\n",
       "      <td>0.374338</td>\n",
       "      <td>0.406364</td>\n",
       "      <td>0.403239</td>\n",
       "      <td>0.310657</td>\n",
       "      <td>0.367925</td>\n",
       "    </tr>\n",
       "    <tr>\n",
       "      <th>2012</th>\n",
       "      <td>0.036274</td>\n",
       "      <td>-0.012102</td>\n",
       "      <td>0.125279</td>\n",
       "      <td>0.076744</td>\n",
       "      <td>0.287051</td>\n",
       "      <td>0.285193</td>\n",
       "      <td>0.397964</td>\n",
       "      <td>0.372680</td>\n",
       "      <td>0.386091</td>\n",
       "      <td>0.401582</td>\n",
       "      <td>0.376065</td>\n",
       "      <td>0.382831</td>\n",
       "    </tr>\n",
       "    <tr>\n",
       "      <th>2013</th>\n",
       "      <td>0.056632</td>\n",
       "      <td>0.041432</td>\n",
       "      <td>0.126557</td>\n",
       "      <td>0.085984</td>\n",
       "      <td>0.286282</td>\n",
       "      <td>0.321872</td>\n",
       "      <td>0.405035</td>\n",
       "      <td>0.385839</td>\n",
       "      <td>0.390310</td>\n",
       "      <td>0.405992</td>\n",
       "      <td>0.363333</td>\n",
       "      <td>0.375781</td>\n",
       "    </tr>\n",
       "    <tr>\n",
       "      <th>2014</th>\n",
       "      <td>0.096285</td>\n",
       "      <td>0.029410</td>\n",
       "      <td>0.172148</td>\n",
       "      <td>0.076744</td>\n",
       "      <td>0.026628</td>\n",
       "      <td>0.321093</td>\n",
       "      <td>0.400975</td>\n",
       "      <td>0.372680</td>\n",
       "      <td>0.035563</td>\n",
       "      <td>0.412648</td>\n",
       "      <td>0.396679</td>\n",
       "      <td>0.382831</td>\n",
       "    </tr>\n",
       "    <tr>\n",
       "      <th>2015</th>\n",
       "      <td>0.097422</td>\n",
       "      <td>0.058823</td>\n",
       "      <td>0.138491</td>\n",
       "      <td>0.076744</td>\n",
       "      <td>0.283516</td>\n",
       "      <td>0.322281</td>\n",
       "      <td>0.408795</td>\n",
       "      <td>0.372680</td>\n",
       "      <td>0.416288</td>\n",
       "      <td>0.468417</td>\n",
       "      <td>0.369809</td>\n",
       "      <td>0.382831</td>\n",
       "    </tr>\n",
       "    <tr>\n",
       "      <th>2016</th>\n",
       "      <td>0.108320</td>\n",
       "      <td>0.083348</td>\n",
       "      <td>0.125647</td>\n",
       "      <td>0.122130</td>\n",
       "      <td>0.285077</td>\n",
       "      <td>0.354271</td>\n",
       "      <td>0.397462</td>\n",
       "      <td>0.372968</td>\n",
       "      <td>0.401584</td>\n",
       "      <td>0.478349</td>\n",
       "      <td>0.370774</td>\n",
       "      <td>0.416945</td>\n",
       "    </tr>\n",
       "    <tr>\n",
       "      <th>2017</th>\n",
       "      <td>0.135766</td>\n",
       "      <td>0.035972</td>\n",
       "      <td>0.138491</td>\n",
       "      <td>0.115558</td>\n",
       "      <td>0.288576</td>\n",
       "      <td>0.322182</td>\n",
       "      <td>0.408795</td>\n",
       "      <td>0.365560</td>\n",
       "      <td>0.428353</td>\n",
       "      <td>0.441306</td>\n",
       "      <td>0.369809</td>\n",
       "      <td>0.407424</td>\n",
       "    </tr>\n",
       "    <tr>\n",
       "      <th>2018</th>\n",
       "      <td>0.135766</td>\n",
       "      <td>0.040085</td>\n",
       "      <td>0.138491</td>\n",
       "      <td>0.122130</td>\n",
       "      <td>0.288576</td>\n",
       "      <td>0.325882</td>\n",
       "      <td>0.408795</td>\n",
       "      <td>0.372968</td>\n",
       "      <td>0.428353</td>\n",
       "      <td>0.445339</td>\n",
       "      <td>0.369809</td>\n",
       "      <td>0.416945</td>\n",
       "    </tr>\n",
       "    <tr>\n",
       "      <th>2019</th>\n",
       "      <td>0.109887</td>\n",
       "      <td>0.063685</td>\n",
       "      <td>0.138491</td>\n",
       "      <td>0.057861</td>\n",
       "      <td>0.280293</td>\n",
       "      <td>0.351092</td>\n",
       "      <td>0.408795</td>\n",
       "      <td>0.368606</td>\n",
       "      <td>0.415492</td>\n",
       "      <td>0.465294</td>\n",
       "      <td>0.369809</td>\n",
       "      <td>0.343619</td>\n",
       "    </tr>\n",
       "    <tr>\n",
       "      <th>2020</th>\n",
       "      <td>0.109887</td>\n",
       "      <td>0.063685</td>\n",
       "      <td>0.138491</td>\n",
       "      <td>0.050335</td>\n",
       "      <td>0.280293</td>\n",
       "      <td>0.351092</td>\n",
       "      <td>0.408795</td>\n",
       "      <td>0.366652</td>\n",
       "      <td>0.415492</td>\n",
       "      <td>0.465294</td>\n",
       "      <td>0.369809</td>\n",
       "      <td>0.353268</td>\n",
       "    </tr>\n",
       "  </tbody>\n",
       "</table>\n",
       "</div>"
      ],
      "text/plain": [
       "                                        environmental                        \\\n",
       "disclosure_type_name ManagementsDiscussionAndAnalysis           RiskFactors   \n",
       "ticker                                           MSFT      ORCL        MSFT   \n",
       "period                                                                        \n",
       "2010                                         0.067704  0.046842    0.041494   \n",
       "2011                                         0.056875  0.021732    0.031076   \n",
       "2012                                         0.036274 -0.012102    0.125279   \n",
       "2013                                         0.056632  0.041432    0.126557   \n",
       "2014                                         0.096285  0.029410    0.172148   \n",
       "2015                                         0.097422  0.058823    0.138491   \n",
       "2016                                         0.108320  0.083348    0.125647   \n",
       "2017                                         0.135766  0.035972    0.138491   \n",
       "2018                                         0.135766  0.040085    0.138491   \n",
       "2019                                         0.109887  0.063685    0.138491   \n",
       "2020                                         0.109887  0.063685    0.138491   \n",
       "\n",
       "                                                         social            \\\n",
       "disclosure_type_name           ManagementsDiscussionAndAnalysis             \n",
       "ticker                    ORCL                             MSFT      ORCL   \n",
       "period                                                                      \n",
       "2010                  0.069147                         0.287402  0.282850   \n",
       "2011                  0.069147                         0.317599  0.289613   \n",
       "2012                  0.076744                         0.287051  0.285193   \n",
       "2013                  0.085984                         0.286282  0.321872   \n",
       "2014                  0.076744                         0.026628  0.321093   \n",
       "2015                  0.076744                         0.283516  0.322281   \n",
       "2016                  0.122130                         0.285077  0.354271   \n",
       "2017                  0.115558                         0.288576  0.322182   \n",
       "2018                  0.122130                         0.288576  0.325882   \n",
       "2019                  0.057861                         0.280293  0.351092   \n",
       "2020                  0.050335                         0.280293  0.351092   \n",
       "\n",
       "                                                                 governance  \\\n",
       "disclosure_type_name RiskFactors           ManagementsDiscussionAndAnalysis   \n",
       "ticker                      MSFT      ORCL                             MSFT   \n",
       "period                                                                        \n",
       "2010                    0.390782  0.374338                         0.434765   \n",
       "2011                    0.388511  0.374338                         0.406364   \n",
       "2012                    0.397964  0.372680                         0.386091   \n",
       "2013                    0.405035  0.385839                         0.390310   \n",
       "2014                    0.400975  0.372680                         0.035563   \n",
       "2015                    0.408795  0.372680                         0.416288   \n",
       "2016                    0.397462  0.372968                         0.401584   \n",
       "2017                    0.408795  0.365560                         0.428353   \n",
       "2018                    0.408795  0.372968                         0.428353   \n",
       "2019                    0.408795  0.368606                         0.415492   \n",
       "2020                    0.408795  0.366652                         0.415492   \n",
       "\n",
       "                                                      \n",
       "disclosure_type_name           RiskFactors            \n",
       "ticker                    ORCL        MSFT      ORCL  \n",
       "period                                                \n",
       "2010                  0.399483    0.302868  0.367925  \n",
       "2011                  0.403239    0.310657  0.367925  \n",
       "2012                  0.401582    0.376065  0.382831  \n",
       "2013                  0.405992    0.363333  0.375781  \n",
       "2014                  0.412648    0.396679  0.382831  \n",
       "2015                  0.468417    0.369809  0.382831  \n",
       "2016                  0.478349    0.370774  0.416945  \n",
       "2017                  0.441306    0.369809  0.407424  \n",
       "2018                  0.445339    0.369809  0.416945  \n",
       "2019                  0.465294    0.369809  0.343619  \n",
       "2020                  0.465294    0.369809  0.353268  "
      ]
     },
     "execution_count": 51,
     "metadata": {},
     "output_type": "execute_result"
    }
   ],
   "source": [
    "pd.concat(distances, axis=1, keys=[category for category, _ in categories])"
   ]
  },
  {
   "cell_type": "code",
   "execution_count": null,
   "metadata": {},
   "outputs": [],
   "source": []
  }
 ],
 "metadata": {
  "kernelspec": {
   "display_name": "Python 3",
   "language": "python",
   "name": "python3"
  },
  "language_info": {
   "codemirror_mode": {
    "name": "ipython",
    "version": 3
   },
   "file_extension": ".py",
   "mimetype": "text/x-python",
   "name": "python",
   "nbconvert_exporter": "python",
   "pygments_lexer": "ipython3",
   "version": "3.8.2"
  }
 },
 "nbformat": 4,
 "nbformat_minor": 4
}
