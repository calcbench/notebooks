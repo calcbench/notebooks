{
 "cells": [
  {
   "cell_type": "markdown",
   "metadata": {},
   "source": [
    "# Topic and word list from a working paper by Sophie Stone of the Dartmouth College Economics Department"
   ]
  },
  {
   "cell_type": "markdown",
   "metadata": {},
   "source": [
    "\n",
    "\n",
    "## https://www.sbert.net/docs/usage/semantic_textual_similarity.html"
   ]
  },
  {
   "cell_type": "code",
   "execution_count": null,
   "metadata": {},
   "outputs": [],
   "source": [
    "# Dependencies\n",
    "# !pip install \"calcbench-api-client[Pandas, Backoff, BeautifulSoup]\" sentence-transformers tqdm qgrid ipywidgets "
   ]
  },
  {
   "cell_type": "code",
   "execution_count": 248,
   "metadata": {},
   "outputs": [],
   "source": [
    "import warnings\n",
    "\n",
    "import pandas as pd\n",
    "import itertools\n",
    "from tqdm.notebook import tqdm\n",
    "import qgrid\n",
    "\n",
    "# https://github.com/UKPLab/sentence-transformers\n",
    "from sentence_transformers import SentenceTransformer, util\n",
    "import calcbench as cb\n",
    "\n",
    "model = SentenceTransformer(\"distilbert-base-nli-stsb-mean-tokens\")\n",
    "\n",
    "cb.enable_backoff()\n",
    "tqdm.pandas(desc=\"progress\")"
   ]
  },
  {
   "cell_type": "code",
   "execution_count": 249,
   "metadata": {},
   "outputs": [],
   "source": [
    "categories = [\n",
    "    (\n",
    "        \"environmental\",\n",
    "        \"\"\"biodiversity, carbon, carbon negative, carbon neutral, carbon zero, clean-up, clean, clean tech, climate change, climate positive, contamination, discharge, emission, energy-efficient, environmental, environmental risk, fuel, fuel efficiency, green, greenhouse gas, hazardous, low carbon, natural resource, net-zero emission, pollution, remediation, sustainability, sustainable, toxic, waste, water, zero carbon, zero net carbon\"\"\",\n",
    "    ),\n",
    "    (\n",
    "        \"social\",\n",
    "        \"\"\"accident, antiracism, consumer protection, customer privacy, employee relation, equal, equal pay, equity, gender equality, health, human right, justice, labor relation, labor standard, racial equity, racial awareness, racial justice, working condition\"\"\",\n",
    "    ),\n",
    "    (\n",
    "        \"governance\",\n",
    "        \"\"\"advocacy, antitrust, board independence, code of ethic, compensation, corporate culture, corporate governance, corruption, governance risk, justice, political lobbying, scandal, shareholder right, stability, stewardship, transparency\"\"\",\n",
    "    ),\n",
    "]"
   ]
  },
  {
   "cell_type": "code",
   "execution_count": 250,
   "metadata": {},
   "outputs": [
    {
     "data": {
      "application/vnd.jupyter.widget-view+json": {
       "model_id": "de04ec036ccd42b095a6eeab7b38e158",
       "version_major": 2,
       "version_minor": 0
      },
      "text/plain": [
       "0it [00:00, ?it/s]"
      ]
     },
     "metadata": {},
     "output_type": "display_data"
    }
   ],
   "source": [
    "with tqdm() as progress_bar:\n",
    "    disclosures = cb.document_dataframe(\n",
    "        company_identifiers=[\"msft\", \"orcl\"],  # \"DJIA\"\n",
    "        disclosure_names=[\"ManagementsDiscussionAndAnalysis\", \"RiskFactors\"],\n",
    "        all_history=True,\n",
    "        period_type=\"annual\",\n",
    "        progress_bar=progress_bar,\n",
    "        # entire_universe=True,\n",
    "    )"
   ]
  },
  {
   "cell_type": "code",
   "execution_count": 251,
   "metadata": {},
   "outputs": [
    {
     "data": {
      "application/vnd.jupyter.widget-view+json": {
       "model_id": "04b23da30b62443a865ab79382c7fc69",
       "version_major": 2,
       "version_minor": 0
      },
      "text/plain": [
       "progress:   0%|          | 0/44 [00:00<?, ?it/s]"
      ]
     },
     "metadata": {},
     "output_type": "display_data"
    }
   ],
   "source": [
    "def get_contents(d):\n",
    "    try:\n",
    "        return d.get_contents_text()\n",
    "    except Exception as e:\n",
    "        print(f\"Exception getting {d} \\n{e}\")\n",
    "\n",
    "\n",
    "disclosure_contents = disclosures.progress_applymap(\n",
    "    get_contents, na_action=\"ignore\"\n",
    ").fillna(\"\")"
   ]
  },
  {
   "cell_type": "code",
   "execution_count": 282,
   "metadata": {
    "scrolled": true
   },
   "outputs": [
    {
     "data": {
      "application/vnd.jupyter.widget-view+json": {
       "model_id": "e3b55d0dc0b944c9aab6a8503962e0de",
       "version_major": 2,
       "version_minor": 0
      },
      "text/plain": [
       "progress:   0%|          | 0/4 [00:00<?, ?it/s]"
      ]
     },
     "metadata": {},
     "output_type": "display_data"
    },
    {
     "data": {
      "text/html": [
       "<div>\n",
       "<style scoped>\n",
       "    .dataframe tbody tr th:only-of-type {\n",
       "        vertical-align: middle;\n",
       "    }\n",
       "\n",
       "    .dataframe tbody tr th {\n",
       "        vertical-align: top;\n",
       "    }\n",
       "\n",
       "    .dataframe thead tr th {\n",
       "        text-align: left;\n",
       "    }\n",
       "\n",
       "    .dataframe thead tr:last-of-type th {\n",
       "        text-align: right;\n",
       "    }\n",
       "</style>\n",
       "<table border=\"1\" class=\"dataframe\">\n",
       "  <thead>\n",
       "    <tr>\n",
       "      <th>disclosure_type_name</th>\n",
       "      <th colspan=\"2\" halign=\"left\">ManagementsDiscussionAndAnalysis</th>\n",
       "      <th colspan=\"2\" halign=\"left\">RiskFactors</th>\n",
       "    </tr>\n",
       "    <tr>\n",
       "      <th>ticker</th>\n",
       "      <th>MSFT</th>\n",
       "      <th>ORCL</th>\n",
       "      <th>MSFT</th>\n",
       "      <th>ORCL</th>\n",
       "    </tr>\n",
       "    <tr>\n",
       "      <th>period</th>\n",
       "      <th></th>\n",
       "      <th></th>\n",
       "      <th></th>\n",
       "      <th></th>\n",
       "    </tr>\n",
       "  </thead>\n",
       "  <tbody>\n",
       "    <tr>\n",
       "      <th>2010</th>\n",
       "      <td>[tensor(-0.0815), tensor(0.5086), tensor(0.409...</td>\n",
       "      <td>[tensor(-0.0409), tensor(0.5338), tensor(0.253...</td>\n",
       "      <td>[tensor(-0.5752), tensor(0.5337), tensor(0.045...</td>\n",
       "      <td>[tensor(-0.1091), tensor(0.3647), tensor(-0.11...</td>\n",
       "    </tr>\n",
       "    <tr>\n",
       "      <th>2011</th>\n",
       "      <td>[tensor(0.0267), tensor(0.3679), tensor(0.4261...</td>\n",
       "      <td>[tensor(-0.0161), tensor(0.6351), tensor(0.233...</td>\n",
       "      <td>[tensor(-0.5466), tensor(0.4814), tensor(0.053...</td>\n",
       "      <td>[tensor(-0.1091), tensor(0.3647), tensor(-0.11...</td>\n",
       "    </tr>\n",
       "    <tr>\n",
       "      <th>2012</th>\n",
       "      <td>[tensor(0.0777), tensor(0.3125), tensor(0.5341...</td>\n",
       "      <td>[tensor(-0.0807), tensor(0.6055), tensor(0.407...</td>\n",
       "      <td>[tensor(-0.1781), tensor(0.4499), tensor(0.052...</td>\n",
       "      <td>[tensor(-0.1020), tensor(0.3097), tensor(-0.14...</td>\n",
       "    </tr>\n",
       "    <tr>\n",
       "      <th>2013</th>\n",
       "      <td>[tensor(-0.0837), tensor(0.2474), tensor(0.492...</td>\n",
       "      <td>[tensor(-0.2248), tensor(0.4081), tensor(0.361...</td>\n",
       "      <td>[tensor(-0.1801), tensor(0.4780), tensor(0.076...</td>\n",
       "      <td>[tensor(-0.1767), tensor(0.4423), tensor(-0.20...</td>\n",
       "    </tr>\n",
       "    <tr>\n",
       "      <th>2014</th>\n",
       "      <td>[tensor(-0.3330), tensor(0.4071), tensor(0.466...</td>\n",
       "      <td>[tensor(-0.1335), tensor(0.4905), tensor(0.385...</td>\n",
       "      <td>[tensor(-0.2326), tensor(0.4099), tensor(-0.06...</td>\n",
       "      <td>[tensor(-0.1020), tensor(0.3097), tensor(-0.14...</td>\n",
       "    </tr>\n",
       "    <tr>\n",
       "      <th>2015</th>\n",
       "      <td>[tensor(-0.2203), tensor(0.4431), tensor(0.481...</td>\n",
       "      <td>[tensor(0.0890), tensor(0.7324), tensor(0.6550...</td>\n",
       "      <td>[tensor(-0.2551), tensor(0.4232), tensor(0.115...</td>\n",
       "      <td>[tensor(-0.1020), tensor(0.3097), tensor(-0.14...</td>\n",
       "    </tr>\n",
       "    <tr>\n",
       "      <th>2016</th>\n",
       "      <td>[tensor(-0.2690), tensor(0.6047), tensor(0.464...</td>\n",
       "      <td>[tensor(0.0659), tensor(0.6676), tensor(0.5572...</td>\n",
       "      <td>[tensor(-0.1250), tensor(0.4783), tensor(0.085...</td>\n",
       "      <td>[tensor(-0.1491), tensor(0.3031), tensor(0.152...</td>\n",
       "    </tr>\n",
       "    <tr>\n",
       "      <th>2017</th>\n",
       "      <td>[tensor(-0.4079), tensor(0.5036), tensor(0.413...</td>\n",
       "      <td>[tensor(0.3988), tensor(0.6977), tensor(0.5984...</td>\n",
       "      <td>[tensor(-0.2551), tensor(0.4232), tensor(0.115...</td>\n",
       "      <td>[tensor(-0.1006), tensor(0.2886), tensor(0.194...</td>\n",
       "    </tr>\n",
       "    <tr>\n",
       "      <th>2018</th>\n",
       "      <td>[tensor(-0.4079), tensor(0.5036), tensor(0.413...</td>\n",
       "      <td>[tensor(0.3516), tensor(0.6838), tensor(0.5437...</td>\n",
       "      <td>[tensor(-0.2551), tensor(0.4232), tensor(0.115...</td>\n",
       "      <td>[tensor(-0.1491), tensor(0.3031), tensor(0.152...</td>\n",
       "    </tr>\n",
       "    <tr>\n",
       "      <th>2019</th>\n",
       "      <td>[tensor(-0.3389), tensor(0.5636), tensor(0.495...</td>\n",
       "      <td>[tensor(0.2449), tensor(0.5134), tensor(0.5144...</td>\n",
       "      <td>[tensor(-0.2551), tensor(0.4232), tensor(0.115...</td>\n",
       "      <td>[tensor(-0.0239), tensor(0.1828), tensor(0.176...</td>\n",
       "    </tr>\n",
       "    <tr>\n",
       "      <th>2020</th>\n",
       "      <td>[tensor(-0.3389), tensor(0.5636), tensor(0.495...</td>\n",
       "      <td>[tensor(0.2449), tensor(0.5134), tensor(0.5144...</td>\n",
       "      <td>[tensor(-0.2551), tensor(0.4232), tensor(0.115...</td>\n",
       "      <td>[tensor(0.3013), tensor(0.2067), tensor(-0.186...</td>\n",
       "    </tr>\n",
       "  </tbody>\n",
       "</table>\n",
       "</div>"
      ],
      "text/plain": [
       "disclosure_type_name                   ManagementsDiscussionAndAnalysis  \\\n",
       "ticker                                                             MSFT   \n",
       "period                                                                    \n",
       "2010                  [tensor(-0.0815), tensor(0.5086), tensor(0.409...   \n",
       "2011                  [tensor(0.0267), tensor(0.3679), tensor(0.4261...   \n",
       "2012                  [tensor(0.0777), tensor(0.3125), tensor(0.5341...   \n",
       "2013                  [tensor(-0.0837), tensor(0.2474), tensor(0.492...   \n",
       "2014                  [tensor(-0.3330), tensor(0.4071), tensor(0.466...   \n",
       "2015                  [tensor(-0.2203), tensor(0.4431), tensor(0.481...   \n",
       "2016                  [tensor(-0.2690), tensor(0.6047), tensor(0.464...   \n",
       "2017                  [tensor(-0.4079), tensor(0.5036), tensor(0.413...   \n",
       "2018                  [tensor(-0.4079), tensor(0.5036), tensor(0.413...   \n",
       "2019                  [tensor(-0.3389), tensor(0.5636), tensor(0.495...   \n",
       "2020                  [tensor(-0.3389), tensor(0.5636), tensor(0.495...   \n",
       "\n",
       "disclosure_type_name                                                     \\\n",
       "ticker                                                             ORCL   \n",
       "period                                                                    \n",
       "2010                  [tensor(-0.0409), tensor(0.5338), tensor(0.253...   \n",
       "2011                  [tensor(-0.0161), tensor(0.6351), tensor(0.233...   \n",
       "2012                  [tensor(-0.0807), tensor(0.6055), tensor(0.407...   \n",
       "2013                  [tensor(-0.2248), tensor(0.4081), tensor(0.361...   \n",
       "2014                  [tensor(-0.1335), tensor(0.4905), tensor(0.385...   \n",
       "2015                  [tensor(0.0890), tensor(0.7324), tensor(0.6550...   \n",
       "2016                  [tensor(0.0659), tensor(0.6676), tensor(0.5572...   \n",
       "2017                  [tensor(0.3988), tensor(0.6977), tensor(0.5984...   \n",
       "2018                  [tensor(0.3516), tensor(0.6838), tensor(0.5437...   \n",
       "2019                  [tensor(0.2449), tensor(0.5134), tensor(0.5144...   \n",
       "2020                  [tensor(0.2449), tensor(0.5134), tensor(0.5144...   \n",
       "\n",
       "disclosure_type_name                                        RiskFactors  \\\n",
       "ticker                                                             MSFT   \n",
       "period                                                                    \n",
       "2010                  [tensor(-0.5752), tensor(0.5337), tensor(0.045...   \n",
       "2011                  [tensor(-0.5466), tensor(0.4814), tensor(0.053...   \n",
       "2012                  [tensor(-0.1781), tensor(0.4499), tensor(0.052...   \n",
       "2013                  [tensor(-0.1801), tensor(0.4780), tensor(0.076...   \n",
       "2014                  [tensor(-0.2326), tensor(0.4099), tensor(-0.06...   \n",
       "2015                  [tensor(-0.2551), tensor(0.4232), tensor(0.115...   \n",
       "2016                  [tensor(-0.1250), tensor(0.4783), tensor(0.085...   \n",
       "2017                  [tensor(-0.2551), tensor(0.4232), tensor(0.115...   \n",
       "2018                  [tensor(-0.2551), tensor(0.4232), tensor(0.115...   \n",
       "2019                  [tensor(-0.2551), tensor(0.4232), tensor(0.115...   \n",
       "2020                  [tensor(-0.2551), tensor(0.4232), tensor(0.115...   \n",
       "\n",
       "disclosure_type_name                                                     \n",
       "ticker                                                             ORCL  \n",
       "period                                                                   \n",
       "2010                  [tensor(-0.1091), tensor(0.3647), tensor(-0.11...  \n",
       "2011                  [tensor(-0.1091), tensor(0.3647), tensor(-0.11...  \n",
       "2012                  [tensor(-0.1020), tensor(0.3097), tensor(-0.14...  \n",
       "2013                  [tensor(-0.1767), tensor(0.4423), tensor(-0.20...  \n",
       "2014                  [tensor(-0.1020), tensor(0.3097), tensor(-0.14...  \n",
       "2015                  [tensor(-0.1020), tensor(0.3097), tensor(-0.14...  \n",
       "2016                  [tensor(-0.1491), tensor(0.3031), tensor(0.152...  \n",
       "2017                  [tensor(-0.1006), tensor(0.2886), tensor(0.194...  \n",
       "2018                  [tensor(-0.1491), tensor(0.3031), tensor(0.152...  \n",
       "2019                  [tensor(-0.0239), tensor(0.1828), tensor(0.176...  \n",
       "2020                  [tensor(0.3013), tensor(0.2067), tensor(-0.186...  "
      ]
     },
     "execution_count": 282,
     "metadata": {},
     "output_type": "execute_result"
    }
   ],
   "source": [
    "disclosure_contents.progress_apply(lambda c : list(model.encode(c, convert_to_tensor=True)))"
   ]
  },
  {
   "cell_type": "code",
   "execution_count": null,
   "metadata": {},
   "outputs": [],
   "source": [
    "def distance(contents: pd.Series, embeddings):\n",
    "    content_embeddings = model.encode(\n",
    "        contents,\n",
    "        convert_to_tensor=True,\n",
    "    )\n",
    "    distances = util.pytorch_cos_sim(content_embeddings, embeddings).numpy().T[0]\n",
    "    return distances"
   ]
  },
  {
   "cell_type": "code",
   "execution_count": null,
   "metadata": {},
   "outputs": [],
   "source": [
    "distances = []\n",
    "for _, category_words in tqdm(categories):\n",
    "    embeddings = model.encode(category_words, convert_to_tensor=True)\n",
    "    category_distances = disclosure_contents.progress_apply(distance, embeddings=embeddings)\n",
    "    distances.append(category_distances)"
   ]
  },
  {
   "cell_type": "code",
   "execution_count": null,
   "metadata": {},
   "outputs": [],
   "source": [
    "pd.concat(distances, axis=1, keys=[category for category, _ in categories])"
   ]
  },
  {
   "cell_type": "code",
   "execution_count": null,
   "metadata": {},
   "outputs": [],
   "source": []
  }
 ],
 "metadata": {
  "kernelspec": {
   "display_name": "Python 3",
   "language": "python",
   "name": "python3"
  },
  "language_info": {
   "codemirror_mode": {
    "name": "ipython",
    "version": 3
   },
   "file_extension": ".py",
   "mimetype": "text/x-python",
   "name": "python",
   "nbconvert_exporter": "python",
   "pygments_lexer": "ipython3",
   "version": "3.8.2"
  }
 },
 "nbformat": 4,
 "nbformat_minor": 4
}
