{
 "cells": [
  {
   "cell_type": "markdown",
   "metadata": {},
   "source": [
    "# Topic and word list from a working paper by Sophie Stone of the Dartmouth College Economics Department"
   ]
  },
  {
   "cell_type": "markdown",
   "metadata": {},
   "source": [
    "\n",
    "\n",
    "## https://www.sbert.net/docs/usage/semantic_textual_similarity.html"
   ]
  },
  {
   "cell_type": "code",
   "execution_count": null,
   "metadata": {},
   "outputs": [],
   "source": [
    "import warnings\n",
    "\n",
    "import pandas as pd\n",
    "import itertools\n",
    "from tqdm.notebook import tqdm\n",
    "\n",
    "# https://github.com/UKPLab/sentence-transformers\n",
    "from sentence_transformers import SentenceTransformer, util\n",
    "import qgrid\n",
    "import calcbench as cb\n",
    "\n",
    "model = SentenceTransformer(\"distilbert-base-nli-stsb-mean-tokens\")\n",
    "\n",
    "cb.enable_backoff()"
   ]
  },
  {
   "cell_type": "code",
   "execution_count": null,
   "metadata": {},
   "outputs": [],
   "source": [
    "ticker_to_SIC = {c[\"ticker\"]: c[\"sic_code\"] for c in cb.companies_raw(index=\"SP500\")}"
   ]
  },
  {
   "cell_type": "code",
   "execution_count": null,
   "metadata": {},
   "outputs": [],
   "source": [
    "categories = [\n",
    "    (\n",
    "        \"environmental\",\n",
    "        \"\"\"biodiversity, carbon, carbon negative, carbon neutral, carbon zero, clean-up, clean, clean tech, climate change, climate positive, contamination, discharge, emission, energy-efficient, environmental, environmental risk, fuel, fuel efficiency, green, greenhouse gas, hazardous, low carbon, natural resource, net-zero emission, pollution, remediation, sustainability, sustainable, toxic, waste, water, zero carbon, zero net carbon\"\"\",\n",
    "    ),\n",
    "    (\n",
    "        \"social\",\n",
    "        \"\"\"accident, antiracism, consumer protection, customer privacy, employee relation, equal, equal pay, equity, gender equality, health, human right, justice, labor relation, labor standard, racial equity, racial awareness, racial justice, working condition\"\"\",\n",
    "    ),\n",
    "    (\n",
    "        \"goverance\",\n",
    "        \"\"\"advocacy, antitrust, board independence, code of ethic, compensation, corporate culture, corporate governance, corruption, governance risk, justice, political lobbying, scandal, shareholder right, stability, stewardship, transparency\"\"\",\n",
    "    ),\n",
    "]"
   ]
  },
  {
   "cell_type": "code",
   "execution_count": null,
   "metadata": {},
   "outputs": [],
   "source": [
    "esg_embeddings = model.encode(\n",
    "    [words for _, words in categories], convert_to_tensor=True\n",
    ")"
   ]
  },
  {
   "cell_type": "code",
   "execution_count": null,
   "metadata": {},
   "outputs": [],
   "source": [
    "with tqdm() as progress_bar:\n",
    "    search_results = list(\n",
    "        cb.document_search(\n",
    "            company_identifiers=cb.tickers(index=\"SP500\"),  # \"DJIA\"\n",
    "            document_name=\"ManagementsDiscussionAndAnalysis\",\n",
    "            all_history=True,\n",
    "            period_type=\"annual\",\n",
    "            progress_bar=progress_bar,\n",
    "            # entire_universe=True,\n",
    "        )\n",
    "    )\n",
    "\n",
    "search_results = [\n",
    "    s for s in search_results if s.document_type == \"10-K\"\n",
    "]  # Remove amended filings"
   ]
  },
  {
   "cell_type": "code",
   "execution_count": null,
   "metadata": {},
   "outputs": [],
   "source": [
    "document_contents = []\n",
    "for d in tqdm(search_results):\n",
    "    try:\n",
    "        document_contents.append((d, d.get_contents_text()))\n",
    "    except Exception as e:\n",
    "        warnings.warn(f\"Exception getting {d} {e}\")\n",
    "\n",
    "# = [(d, d.get_contents_text()) for d in tqdm(search_results)]"
   ]
  },
  {
   "cell_type": "code",
   "execution_count": null,
   "metadata": {},
   "outputs": [],
   "source": [
    "md_a_embeddings = model.encode(\n",
    "    [contents for _, contents in document_contents],\n",
    "    convert_to_tensor=True,\n",
    "    show_progress_bar=True,\n",
    ")"
   ]
  },
  {
   "cell_type": "code",
   "execution_count": null,
   "metadata": {},
   "outputs": [],
   "source": [
    "cosine_scores = util.pytorch_cos_sim(esg_embeddings, md_a_embeddings)"
   ]
  },
  {
   "cell_type": "code",
   "execution_count": null,
   "metadata": {},
   "outputs": [],
   "source": [
    "distances = pd.DataFrame(\n",
    "    cosine_scores.numpy(),\n",
    "    columns=pd.MultiIndex.from_tuples(\n",
    "        [\n",
    "            (ticker_to_SIC[document.ticker], document.ticker, document.fiscal_year)\n",
    "            for document, _ in document_contents\n",
    "        ],\n",
    "        names=[\"SIC\", \"ticker\", \"year\"],\n",
    "    ),\n",
    "    index=[c for c, _ in categories],\n",
    ").T.sort_index(level=[0, 1], ascending=[True, False])"
   ]
  },
  {
   "cell_type": "code",
   "execution_count": null,
   "metadata": {},
   "outputs": [],
   "source": [
    "qgrid.show_grid(distances)"
   ]
  },
  {
   "cell_type": "code",
   "execution_count": null,
   "metadata": {},
   "outputs": [],
   "source": [
    "sic_year_means = distances.groupby([\"SIC\", \"year\"]).mean()"
   ]
  },
  {
   "cell_type": "code",
   "execution_count": null,
   "metadata": {},
   "outputs": [],
   "source": [
    "sic_year_means.environmental.unstack(level=0).plot()"
   ]
  },
  {
   "cell_type": "code",
   "execution_count": null,
   "metadata": {},
   "outputs": [],
   "source": [
    "distances.style.background_gradient(cmap=\"viridis\")"
   ]
  },
  {
   "cell_type": "code",
   "execution_count": null,
   "metadata": {},
   "outputs": [],
   "source": [
    "distances.to_excel(\n",
    "    r\"C:\\Users\\andre\\Dropbox (Calcbench)\\andrew\\md_a_esg_similarity.xlsx\"\n",
    ")"
   ]
  },
  {
   "cell_type": "code",
   "execution_count": null,
   "metadata": {},
   "outputs": [],
   "source": [
    "distances.to_stata"
   ]
  },
  {
   "cell_type": "code",
   "execution_count": null,
   "metadata": {},
   "outputs": [],
   "source": []
  }
 ],
 "metadata": {
  "kernelspec": {
   "display_name": "Python 3",
   "language": "python",
   "name": "python3"
  },
  "language_info": {
   "codemirror_mode": {
    "name": "ipython",
    "version": 3
   },
   "file_extension": ".py",
   "mimetype": "text/x-python",
   "name": "python",
   "nbconvert_exporter": "python",
   "pygments_lexer": "ipython3",
   "version": "3.8.2"
  }
 },
 "nbformat": 4,
 "nbformat_minor": 4
}
