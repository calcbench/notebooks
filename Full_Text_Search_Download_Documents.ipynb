{
 "cells": [
  {
   "cell_type": "markdown",
   "metadata": {},
   "source": [
    "# Search for Text in 10-K Footnotes with the Calcbench Text Search API and Save the Disclosures to Text Files\n",
    "## Or, How to fill your hard-drive with disclosures that mention crypto-currency\n",
    "\n",
    "Use the Calcbench text search API to search for terms in disclosures.  More about the API @ https://www.calcbench.com/home/api, get the Calcbench Python API client @ https://github.com/calcbench/python_api_client."
   ]
  },
  {
   "cell_type": "code",
   "execution_count": null,
   "metadata": {},
   "outputs": [],
   "source": [
    "%pip install calcbench-api-client[Backoff,BeautifulSoup] tqdm python-slugify[unidecode]"
   ]
  },
  {
   "cell_type": "code",
   "execution_count": 1,
   "metadata": {},
   "outputs": [],
   "source": [
    "import os\n",
    "import warnings\n",
    "from pathlib import Path, PureWindowsPath\n",
    "from slugify import slugify\n",
    "import calcbench as cb\n",
    "from tqdm.notebook import tqdm\n",
    "\n",
    "cb.enable_backoff(giveup=lambda e: e.response.status_code == 404)"
   ]
  },
  {
   "cell_type": "code",
   "execution_count": 3,
   "metadata": {},
   "outputs": [],
   "source": [
    "# Use Lucene query syntax, http://lucene.apache.org/core/2_9_4/queryparsersyntax.html\n",
    "search_term = \"crypto\""
   ]
  },
  {
   "cell_type": "code",
   "execution_count": 4,
   "metadata": {},
   "outputs": [
    {
     "data": {
      "application/vnd.jupyter.widget-view+json": {
       "model_id": "bbc60ec6d8d24ef1a0803c9d0a615ec7",
       "version_major": 2,
       "version_minor": 0
      },
      "text/plain": [
       "0it [00:00, ?it/s]"
      ]
     },
     "metadata": {},
     "output_type": "display_data"
    }
   ],
   "source": [
    "with tqdm() as progress_bar:\n",
    "    search_results = list(\n",
    "        cb.disclosure_search(\n",
    "            full_text_search_term=search_term,\n",
    "            entire_universe=True,\n",
    "            all_history=True,\n",
    "            progress_bar=progress_bar,\n",
    "        )\n",
    "    )"
   ]
  },
  {
   "cell_type": "code",
   "execution_count": null,
   "metadata": {},
   "outputs": [],
   "source": [
    "for number, disclosure in tqdm(enumerate(search_results)):\n",
    "    try:\n",
    "        contents = disclosure.get_contents_text()\n",
    "    except Exception as e:\n",
    "        warnings.warn(f\"error getting contents for {disclosure} {e}\")\n",
    "    else:\n",
    "        file_name = f\"{number}-{disclosure.ticker}-{disclosure.fiscal_year}-{disclosure.fiscal_period}-{disclosure.description}\"\n",
    "        file_name = (\n",
    "            slugify(file_name[:250]) + \".txt\"  # Max file length on Window is 260\n",
    "        )\n",
    "        file_path = os.path.join(\n",
    "            Path.home(),\n",
    "            \"Downloads\",\n",
    "            \"crypto_disclosures\",\n",
    "            file_name,\n",
    "        )\n",
    "        with open(file_path, \"wb\") as output:\n",
    "            contents = contents.encode()\n",
    "            output.write(contents)"
   ]
  },
  {
   "cell_type": "code",
   "execution_count": null,
   "metadata": {},
   "outputs": [],
   "source": []
  }
 ],
 "metadata": {
  "kernelspec": {
   "display_name": "Python 3",
   "language": "python",
   "name": "python3"
  },
  "language_info": {
   "codemirror_mode": {
    "name": "ipython",
    "version": 3
   },
   "file_extension": ".py",
   "mimetype": "text/x-python",
   "name": "python",
   "nbconvert_exporter": "python",
   "pygments_lexer": "ipython3",
   "version": "3.8.2"
  }
 },
 "nbformat": 4,
 "nbformat_minor": 4
}
