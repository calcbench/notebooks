{
 "cells": [
  {
   "cell_type": "markdown",
   "metadata": {},
   "source": [
    "# Text from 10-K/Q Disclosures and Sections\n",
    "## See list of available disclosures @ https://www.calcbench.com/disclosure_list\n",
    "## Documentation @ http://calcbench.github.io/python_api_client/html/disclosures.html"
   ]
  },
  {
   "cell_type": "code",
   "execution_count": null,
   "metadata": {},
   "outputs": [],
   "source": [
    "# %#pip install calcbench-api-client[BeautifulSoup,Backoff] tqdm"
   ]
  },
  {
   "cell_type": "code",
   "execution_count": null,
   "metadata": {},
   "outputs": [],
   "source": [
    "import calcbench as cb\n",
    "from calcbench.models.disclosure import FootnoteTypeTitle\n",
    "from tqdm.notebook import tqdm\n",
    "from itertools import product\n",
    "\n",
    "cb.enable_backoff()"
   ]
  },
  {
   "cell_type": "code",
   "execution_count": null,
   "metadata": {},
   "outputs": [],
   "source": [
    "tickers = cb.tickers(index=\"DJIA\")"
   ]
  },
  {
   "cell_type": "markdown",
   "metadata": {},
   "source": [
    "## Get individual disclosures"
   ]
  },
  {
   "cell_type": "code",
   "execution_count": null,
   "metadata": {},
   "outputs": [],
   "source": [
    "disclosures_to_get = [\n",
    "    \"RiskFactors\",\n",
    "    \"ManagementsDiscussionAndAnalysis\",\n",
    "]  # See the complete list @ https://www.calcbench.com/disclosure_list"
   ]
  },
  {
   "cell_type": "code",
   "execution_count": null,
   "metadata": {},
   "outputs": [],
   "source": [
    "for ticker in tqdm(tickers, leave=False):\n",
    "    docs = cb.disclosure_search(\n",
    "        company_identifiers=[ticker],\n",
    "        disclosure_names=disclosures_to_get,\n",
    "        all_history=True,\n",
    "        period_type=\"annual\",\n",
    "    )\n",
    "    for document in docs:\n",
    "        contents = document.get_contents_text()\n",
    "        print(\n",
    "            f\"{ticker} {document.fiscal_year}-{document.fiscal_period} {document.disclosure_type_name}, Word Count {len(contents.split())}\"\n",
    "        )"
   ]
  },
  {
   "cell_type": "markdown",
   "metadata": {},
   "source": [
    "## Get 10-K/Q sections and related disclosures by company and period"
   ]
  },
  {
   "cell_type": "code",
   "execution_count": null,
   "metadata": {},
   "outputs": [],
   "source": [
    "years = range(2010, 2022)\n",
    "periods = [0, 1, 2, 3]"
   ]
  },
  {
   "cell_type": "code",
   "execution_count": null,
   "metadata": {},
   "outputs": [],
   "source": [
    "company_periods = list(product(tickers, years, periods))"
   ]
  },
  {
   "cell_type": "code",
   "execution_count": null,
   "metadata": {},
   "outputs": [],
   "source": [
    "for ticker, fiscal_year, fiscal_period in tqdm(company_periods):\n",
    "    disclosures = list(\n",
    "        cb.disclosure_search(\n",
    "            all_documents=True,\n",
    "            company_identifiers=[ticker],\n",
    "            year=fiscal_year,\n",
    "            period=fiscal_period,\n",
    "            use_fiscal_period=True,\n",
    "        )\n",
    "    )\n",
    "    for d in (ticker_pbar:=tqdm(disclosures, desc=ticker, leave=False)):\n",
    "        if d.footnote_type_title not in {\n",
    "            FootnoteTypeTitle.TextBlock,\n",
    "            FootnoteTypeTitle.PolicyTextBlock,\n",
    "        }:\n",
    "            text_contents = d.get_contents_text()\n",
    "            word_count = len(text_contents.split(\" \"))\n",
    "            ticker_pbar.set_description(f\"{d} word count {word_count}\")"
   ]
  },
  {
   "cell_type": "code",
   "execution_count": null,
   "metadata": {},
   "outputs": [],
   "source": []
  }
 ],
 "metadata": {
  "kernelspec": {
   "display_name": "Python 3 (ipykernel)",
   "language": "python",
   "name": "python3"
  },
  "language_info": {
   "codemirror_mode": {
    "name": "ipython",
    "version": 3
   },
   "file_extension": ".py",
   "mimetype": "text/x-python",
   "name": "python",
   "nbconvert_exporter": "python",
   "pygments_lexer": "ipython3",
   "version": "3.11.0"
  }
 },
 "nbformat": 4,
 "nbformat_minor": 2
}
