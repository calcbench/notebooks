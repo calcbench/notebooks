{
 "cells": [
  {
   "cell_type": "markdown",
   "metadata": {},
   "source": [
    "# Text from Disclosures and Sections\n",
    "## See list of available disclosures @ https://www.calcbench.com/disclosure_list\n",
    "## Documentation @ http://calcbench.github.io/python_api_client/html/disclosures.html"
   ]
  },
  {
   "cell_type": "code",
   "execution_count": null,
   "metadata": {},
   "outputs": [],
   "source": [
    "%pip install calcbench-api-client[BeautifulSoup, Backoff]"
   ]
  },
  {
   "cell_type": "code",
   "execution_count": null,
   "metadata": {},
   "outputs": [],
   "source": [
    "import calcbench as cb\n",
    "from tqdm.notebook import tqdm\n",
    "cb.enable_backoff()"
   ]
  },
  {
   "cell_type": "code",
   "execution_count": null,
   "metadata": {},
   "outputs": [],
   "source": [
    "tickers = cb.tickers(index=\"DJIA\")"
   ]
  },
  {
   "cell_type": "code",
   "execution_count": null,
   "metadata": {},
   "outputs": [],
   "source": [
    "disclosures_to_get = [\n",
    "    \"RiskFactors\", # Calcbench does not have many conference calls transcripts\n",
    "    \"ManagementsDiscussionAndAnalysis\",\n",
    "]  # See the complete list @ https://www.calcbench.com/disclosure_list"
   ]
  },
  {
   "cell_type": "code",
   "execution_count": null,
   "metadata": {},
   "outputs": [],
   "source": [
    "for ticker in tqdm(tickers, leave=False):\n",
    "    docs = cb.document_search(\n",
    "        company_identifiers=[ticker],\n",
    "        disclosure_names=disclosures_to_get,\n",
    "        all_history=True,\n",
    "        period_type=\"annual\",\n",
    "    )\n",
    "    for document in docs:\n",
    "        contents = document.get_contents_text()\n",
    "        print(\n",
    "            f\"{ticker} {document['fiscal_year']}-{document['fiscal_period']} {document['disclosure_type_name']}, Word Count {len(contents.split())}\"\n",
    "        )"
   ]
  },
  {
   "cell_type": "code",
   "execution_count": null,
   "metadata": {},
   "outputs": [],
   "source": []
  }
 ],
 "metadata": {
  "kernelspec": {
   "display_name": "Python 3",
   "language": "python",
   "name": "python3"
  },
  "language_info": {
   "codemirror_mode": {
    "name": "ipython",
    "version": 3
   },
   "file_extension": ".py",
   "mimetype": "text/x-python",
   "name": "python",
   "nbconvert_exporter": "python",
   "pygments_lexer": "ipython3",
   "version": "3.8.2"
  }
 },
 "nbformat": 4,
 "nbformat_minor": 2
}
