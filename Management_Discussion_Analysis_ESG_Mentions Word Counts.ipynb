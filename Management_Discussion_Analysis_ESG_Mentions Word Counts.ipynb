{
 "cells": [
  {
   "cell_type": "markdown",
   "metadata": {},
   "source": [
    "# Topic and word list from a working paper by Sophie Stone of the Dartmouth College Economics Department"
   ]
  },
  {
   "cell_type": "markdown",
   "metadata": {},
   "source": [
    "\n",
    "\n",
    "## https://www.sbert.net/docs/usage/semantic_textual_similarity.html"
   ]
  },
  {
   "cell_type": "code",
   "execution_count": null,
   "metadata": {},
   "outputs": [],
   "source": [
    "# Dependencies\n",
    "# !pip install \"calcbench-api-client[Pandas, Backoff, BeautifulSoup]\" sentence-transformers tqdm qgrid ipywidgets"
   ]
  },
  {
   "cell_type": "code",
   "execution_count": null,
   "metadata": {},
   "outputs": [],
   "source": [
    "import warnings\n",
    "from collections import Counter\n",
    "\n",
    "import pandas as pd\n",
    "import itertools\n",
    "from tqdm.notebook import tqdm\n",
    "import qgrid\n",
    "\n",
    "import calcbench as cb\n",
    "\n",
    "\n",
    "cb.enable_backoff()\n",
    "tqdm.pandas(desc=\"progress\")"
   ]
  },
  {
   "cell_type": "code",
   "execution_count": null,
   "metadata": {},
   "outputs": [],
   "source": [
    "categories = {\n",
    "    \"environmental\": \"\"\"biodiversity, carbon, carbon negative, carbon neutral, carbon zero, clean-up, clean, clean tech, climate change, climate positive, contamination, discharge, emission, energy-efficient, environmental, environmental risk, fuel, fuel efficiency, green, greenhouse gas, hazardous, low carbon, natural resource, net-zero emission, pollution, remediation, sustainability, sustainable, toxic, waste, water, zero carbon, zero net carbon\"\"\",\n",
    "    \"social\": \"\"\"accident, antiracism, consumer protection, customer privacy, employee relation, equal, equal pay, equity, gender equality, health, human right, justice, labor relation, labor standard, racial equity, racial awareness, racial justice, working condition\"\"\",\n",
    "    \"governance\": \"\"\"advocacy, antitrust, board independence, code of ethic, compensation, corporate culture, corporate governance, corruption, governance risk, justice, political lobbying, scandal, shareholder right, stability, stewardship, transparency\"\"\",\n",
    "}\n",
    "\n",
    "category_embeddings = {\n",
    "    category: set(w.strip().lower() for w in category_words.split(',')) for (category, category_words) in categories.items()\n",
    "}"
   ]
  },
  {
   "cell_type": "code",
   "execution_count": null,
   "metadata": {},
   "outputs": [],
   "source": [
    "with tqdm() as progress_bar:\n",
    "    disclosures = cb.document_dataframe(\n",
    "        company_identifiers=cb.tickers(index=\"DJIA\"),\n",
    "        disclosure_names=[\"ManagementsDiscussionAndAnalysis\", \"RiskFactors\"],\n",
    "        all_history=True,\n",
    "        period_type=\"annual\",\n",
    "        progress_bar=progress_bar,\n",
    "        # entire_universe=True,\n",
    "    )"
   ]
  },
  {
   "cell_type": "code",
   "execution_count": null,
   "metadata": {},
   "outputs": [],
   "source": [
    "def get_contents(d):\n",
    "    try:\n",
    "        return d.get_contents_text()\n",
    "    except Exception as e:\n",
    "        print(f\"Exception getting {d} \\n{e}\")\n",
    "\n",
    "\n",
    "disclosure_contents = disclosures.progress_applymap(\n",
    "    get_contents, na_action=\"ignore\"\n",
    ").fillna(\"\")"
   ]
  },
  {
   "cell_type": "code",
   "execution_count": null,
   "metadata": {},
   "outputs": [],
   "source": [
    "disclosure_contents = pd.read_pickle(\"disclosure_contents.pkl\")"
   ]
  },
  {
   "cell_type": "code",
   "execution_count": null,
   "metadata": {},
   "outputs": [],
   "source": [
    "def distance(word_counts, category_words):\n",
    "    word_counts =[(word, count) for word, count in word_counts.items() if word in category_words]\n",
    "    return sum(count for _, count in word_counts)"
   ]
  },
  {
   "cell_type": "code",
   "execution_count": null,
   "metadata": {},
   "outputs": [],
   "source": [
    "distances = []\n",
    "for _, category_words in tqdm(category_embeddings.items()):\n",
    "    category_distances = disclosure_embeddings.progress_applymap(lambda word_counts:distance(word_counts, category_words)    )\n",
    "    distances.append(category_distances)\n",
    "esg_distances = pd.concat(\n",
    "    distances, axis=1, keys=[category for category, _ in categories.items()]\n",
    ")"
   ]
  },
  {
   "cell_type": "code",
   "execution_count": null,
   "metadata": {},
   "outputs": [],
   "source": [
    "esg_distances"
   ]
  },
  {
   "cell_type": "code",
   "execution_count": null,
   "metadata": {},
   "outputs": [],
   "source": []
  }
 ],
 "metadata": {
  "kernelspec": {
   "display_name": "Python 3",
   "language": "python",
   "name": "python3"
  },
  "language_info": {
   "codemirror_mode": {
    "name": "ipython",
    "version": 3
   },
   "file_extension": ".py",
   "mimetype": "text/x-python",
   "name": "python",
   "nbconvert_exporter": "python",
   "pygments_lexer": "ipython3",
   "version": "3.8.2"
  }
 },
 "nbformat": 4,
 "nbformat_minor": 4
}
