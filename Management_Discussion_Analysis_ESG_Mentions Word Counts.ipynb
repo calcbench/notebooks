{
 "cells": [
  {
   "cell_type": "markdown",
   "metadata": {},
   "source": [
    "# Topic and word list from a working paper by Sophie Stone of the Dartmouth College Economics Department"
   ]
  },
  {
   "cell_type": "markdown",
   "metadata": {},
   "source": [
    "\n",
    "\n",
    "## https://www.sbert.net/docs/usage/semantic_textual_similarity.html"
   ]
  },
  {
   "cell_type": "code",
   "execution_count": null,
   "metadata": {},
   "outputs": [],
   "source": [
    "# Dependencies\n",
    "# !pip install \"calcbench-api-client[Pandas, Backoff, BeautifulSoup]\" tqdm qgrid ipywidgets nltk"
   ]
  },
  {
   "cell_type": "code",
   "execution_count": null,
   "metadata": {},
   "outputs": [],
   "source": [
    "import warnings\n",
    "from collections import Counter\n",
    "\n",
    "import pandas as pd\n",
    "import itertools\n",
    "from tqdm.notebook import tqdm\n",
    "import qgrid\n",
    "import nltk\n",
    "\n",
    "import calcbench as cb\n",
    "\n",
    "\n",
    "cb.enable_backoff()\n",
    "tqdm.pandas(desc=\"progress\")"
   ]
  },
  {
   "cell_type": "code",
   "execution_count": null,
   "metadata": {},
   "outputs": [],
   "source": [
    "category_embeddings = {\n",
    "    \"environmental\": {\n",
    "        \"biodiversity\",\n",
    "        \"carbon\",\n",
    "        \"carbon negative\",\n",
    "        \"carbon neutral\",\n",
    "        \"carbon zero\",\n",
    "        \"clean\",\n",
    "        \"clean tech\",\n",
    "        \"clean-up\",\n",
    "        \"climate change\",\n",
    "        \"climate positive\",\n",
    "        \"contamination\",\n",
    "        \"discharge\",\n",
    "        \"emission\",\n",
    "        \"energy-efficient\",\n",
    "        \"environmental\",\n",
    "        \"environmental risk\",\n",
    "        \"fuel\",\n",
    "        \"fuel efficiency\",\n",
    "        \"green\",\n",
    "        \"greenhouse gas\",\n",
    "        \"hazardous\",\n",
    "        \"low carbon\",\n",
    "        \"natural resource\",\n",
    "        \"net-zero emission\",\n",
    "        \"pollution\",\n",
    "        \"remediation\",\n",
    "        \"sustainability\",\n",
    "        \"sustainable\",\n",
    "        \"toxic\",\n",
    "        \"waste\",\n",
    "        \"water\",\n",
    "        \"zero carbon\",\n",
    "        \"zero net carbon\",\n",
    "    },\n",
    "    \"social\": {\n",
    "        \"accident\",\n",
    "        \"antiracism\",\n",
    "        \"consumer protection\",\n",
    "        \"customer privacy\",\n",
    "        \"employee relation\",\n",
    "        \"equal\",\n",
    "        \"equal pay\",\n",
    "        \"equity\",\n",
    "        \"gender equality\",\n",
    "        \"health\",\n",
    "        \"human right\",\n",
    "        \"justice\",\n",
    "        \"labor relation\",\n",
    "        \"labor standard\",\n",
    "        \"racial awareness\",\n",
    "        \"racial equity\",\n",
    "        \"racial justice\",\n",
    "        \"working condition\",\n",
    "    },\n",
    "    \"governance\": {\n",
    "        \"advocacy\",\n",
    "        \"antitrust\",\n",
    "        \"board independence\",\n",
    "        \"code of ethic\",\n",
    "        \"compensation\",\n",
    "        \"corporate culture\",\n",
    "        \"corporate governance\",\n",
    "        \"corruption\",\n",
    "        \"governance risk\",\n",
    "        \"justice\",\n",
    "        \"political lobbying\",\n",
    "        \"scandal\",\n",
    "        \"shareholder right\",\n",
    "        \"stability\",\n",
    "        \"stewardship\",\n",
    "        \"transparency\",\n",
    "    },\n",
    "}"
   ]
  },
  {
   "cell_type": "code",
   "execution_count": null,
   "metadata": {},
   "outputs": [],
   "source": [
    "with tqdm() as progress_bar:\n",
    "    disclosures = cb.document_dataframe(\n",
    "        company_identifiers=cb.tickers(index=\"SP500\"),\n",
    "        disclosure_names=[\"ManagementsDiscussionAndAnalysis\", \"RiskFactors\"],\n",
    "        all_history=True,\n",
    "        period_type=\"annual\",\n",
    "        progress_bar=progress_bar,\n",
    "        # entire_universe=True,\n",
    "    )"
   ]
  },
  {
   "cell_type": "code",
   "execution_count": null,
   "metadata": {},
   "outputs": [],
   "source": [
    "def get_contents(d):\n",
    "    try:\n",
    "        return d.get_contents_text()\n",
    "    except Exception as e:\n",
    "        print(f\"Exception getting {d} \\n{e}\")\n",
    "\n",
    "\n",
    "disclosure_contents = disclosures.progress_applymap(\n",
    "    get_contents, na_action=\"ignore\"\n",
    ").fillna(\"\")"
   ]
  },
  {
   "cell_type": "code",
   "execution_count": null,
   "metadata": {},
   "outputs": [],
   "source": [
    "!pip install swifter"
   ]
  },
  {
   "cell_type": "code",
   "execution_count": null,
   "metadata": {},
   "outputs": [],
   "source": [
    "disclosure_contents.to_pickle(\n",
    "    r\"C:\\Users\\andre\\Dropbox (Calcbench)\\andrew\\sp_500_contents.pkl\"\n",
    ")"
   ]
  },
  {
   "cell_type": "code",
   "execution_count": null,
   "metadata": {},
   "outputs": [],
   "source": [
    "disclosure_contents = pd.read_pickle(r\"C:\\Users\\andre\\Dropbox (Calcbench)\\andrew\\sp_500_contents.pkl\")"
   ]
  },
  {
   "cell_type": "markdown",
   "metadata": {},
   "source": [
    "disclosure_embeddings = disclosure_contents.progress_applymap(\n",
    "    lambda c: Counter(word.lower() for word in nltk.word_tokenize(c))\n",
    ")"
   ]
  },
  {
   "cell_type": "code",
   "execution_count": null,
   "metadata": {},
   "outputs": [],
   "source": [
    "disclosure_embeddings.to_pickle(r\"C:\\Users\\andre\\Dropbox (Calcbench)\\andrew\\sp_500_tokenize_embeddings.pkl\")"
   ]
  },
  {
   "cell_type": "code",
   "execution_count": null,
   "metadata": {},
   "outputs": [],
   "source": [
    "def distance(word_counts, category_words):\n",
    "    word_counts = [\n",
    "        (word, count) for word, count in word_counts.items() if word in category_words\n",
    "    ]\n",
    "    return sum(count for _, count in word_counts)"
   ]
  },
  {
   "cell_type": "code",
   "execution_count": null,
   "metadata": {},
   "outputs": [],
   "source": [
    "distances = []\n",
    "for _, category_words in tqdm(category_embeddings.items()):\n",
    "    category_distances = disclosure_embeddings.progress_applymap(\n",
    "        lambda word_counts: distance(word_counts, category_words)\n",
    "    )\n",
    "    distances.append(category_distances)\n",
    "esg_distances = pd.concat(\n",
    "    distances, axis=1, keys=[category for category, _ in category_embeddings.items()]\n",
    ")"
   ]
  },
  {
   "cell_type": "code",
   "execution_count": null,
   "metadata": {},
   "outputs": [],
   "source": [
    "esg_distances.to_excel(\"djia_esg_word_counts.xlsx\")"
   ]
  }
 ],
 "metadata": {
  "kernelspec": {
   "display_name": "Python 3",
   "language": "python",
   "name": "python3"
  },
  "language_info": {
   "codemirror_mode": {
    "name": "ipython",
    "version": 3
   },
   "file_extension": ".py",
   "mimetype": "text/x-python",
   "name": "python",
   "nbconvert_exporter": "python",
   "pygments_lexer": "ipython3",
   "version": "3.8.2"
  }
 },
 "nbformat": 4,
 "nbformat_minor": 4
}
