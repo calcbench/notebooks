{
 "cells": [
  {
   "cell_type": "code",
   "execution_count": null,
   "id": "31f62544",
   "metadata": {},
   "outputs": [],
   "source": [
    "# Standardized"
   ]
  },
  {
   "cell_type": "code",
   "execution_count": 1,
   "id": "b6414591",
   "metadata": {
    "collapsed": true
   },
   "outputs": [
    {
     "name": "stdout",
     "output_type": "stream",
     "text": [
      "^C\n",
      "Note: you may need to restart the kernel to use updated packages.\n",
      "Requirement already satisfied: calcbench-api-client in c:\\users\\andre\\repos\\python_api_client (13.0.0)\n",
      "Requirement already satisfied: requests in c:\\users\\andre\\appdata\\local\\programs\\python\\python311\\lib\\site-packages (from calcbench-api-client) (2.31.0)\n",
      "Requirement already satisfied: pydantic>=2.0.0 in c:\\users\\andre\\appdata\\local\\programs\\python\\python311\\lib\\site-packages (from calcbench-api-client) (2.5.3)\n",
      "Requirement already satisfied: annotated-types>=0.4.0 in c:\\users\\andre\\appdata\\local\\programs\\python\\python311\\lib\\site-packages (from pydantic>=2.0.0->calcbench-api-client) (0.6.0)\n",
      "Requirement already satisfied: pydantic-core==2.14.6 in c:\\users\\andre\\appdata\\local\\programs\\python\\python311\\lib\\site-packages (from pydantic>=2.0.0->calcbench-api-client) (2.14.6)\n",
      "Requirement already satisfied: typing-extensions>=4.6.1 in c:\\users\\andre\\appdata\\local\\programs\\python\\python311\\lib\\site-packages (from pydantic>=2.0.0->calcbench-api-client) (4.9.0)\n",
      "Requirement already satisfied: charset-normalizer<4,>=2 in c:\\users\\andre\\appdata\\local\\programs\\python\\python311\\lib\\site-packages (from requests->calcbench-api-client) (3.3.2)\n",
      "Requirement already satisfied: idna<4,>=2.5 in c:\\users\\andre\\appdata\\local\\programs\\python\\python311\\lib\\site-packages (from requests->calcbench-api-client) (3.6)\n",
      "Requirement already satisfied: urllib3<3,>=1.21.1 in c:\\users\\andre\\appdata\\local\\programs\\python\\python311\\lib\\site-packages (from requests->calcbench-api-client) (2.1.0)\n",
      "Requirement already satisfied: certifi>=2017.4.17 in c:\\users\\andre\\appdata\\local\\programs\\python\\python311\\lib\\site-packages (from requests->calcbench-api-client) (2023.11.17)\n"
     ]
    }
   ],
   "source": [
    "# %#pip install calcbench-api-client tqdm"
   ]
  },
  {
   "cell_type": "code",
   "execution_count": 2,
   "id": "62999257",
   "metadata": {},
   "outputs": [],
   "source": [
    "import calcbench as cb\n",
    "from calcbench.api_query_params import PeriodType\n",
    "from tqdm import tqdm\n",
    "from itertools import product\n",
    "from IPython.core.display import HTML\n",
    "\n",
    "cb.api_client._rig_for_testing(\"localhost\")"
   ]
  },
  {
   "cell_type": "code",
   "execution_count": 3,
   "id": "d2d68679",
   "metadata": {},
   "outputs": [],
   "source": [
    "disclosure = next(\n",
    "    cb.disclosure_search(\n",
    "        company_identifiers=[\"msft\"],\n",
    "        disclosure_names=[\"CommitmentAndContingencies\"],\n",
    "        year=2022,\n",
    "        period_type=PeriodType.Annual,\n",
    "    )\n",
    ")"
   ]
  },
  {
   "cell_type": "code",
   "execution_count": 8,
   "id": "ff8bc2c4",
   "metadata": {},
   "outputs": [],
   "source": [
    "non_standardized_disclosures = disclosure.get_contents()\n",
    "try:\n",
    "    standardized_disclosure = disclosure.get_contents(standardize=True)\n",
    "except:\n",
    "    standardized_disclosure = \"error\"\n",
    "side_by_side_html = f\"\"\"\n",
    "<div>\n",
    "<div style=\"width:50%; float:left;margin-right: 10px;\">{non_standardized_disclosures}</div>\n",
    "<div style=\"overflow-x:auto\">{standardized_disclosure}</div>\n",
    "</div>\n",
    "\"\"\""
   ]
  },
  {
   "cell_type": "code",
   "execution_count": 9,
   "id": "30c2f9b2",
   "metadata": {
    "scrolled": true
   },
   "outputs": [
    {
     "data": {
      "text/html": [
       "\n",
       "<div>\n",
       "<div style=\"width:50%; float:left;margin-right: 10px;\"><p style=\"text-indent:0.0%;font-size:10.0pt;margin-top:4.5pt;font-family:Times New Roman;margin-bottom:0.0pt;text-align:center;\"><span style=\"background-color:rgba(0,0,0,0);color:rgba(0,0,0,1);white-space:pre-wrap;font-weight:normal;text-decoration:underline;font-size:10.0pt;font-family:&quot;Arial&quot;, sans-serif;min-width:fit-content;\">NOTE 15 &#x2014; CONTINGENCIES</span></p><p style=\"text-indent:0.0%;font-size:10.0pt;margin-top:9.0pt;font-family:Times New Roman;margin-bottom:0.0pt;text-align:left;\"><span style=\"background-color:rgba(0,0,0,0);color:rgba(0,0,0,1);white-space:pre-wrap;font-weight:bold;font-size:10.0pt;font-family:&quot;Arial&quot;, sans-serif;min-width:fit-content;\">U.S. Cell Phone Litigation</span><span style=\"color:rgba(0,0,0,1);white-space:pre-wrap;font-weight:bold;font-size:10.0pt;font-family:&quot;Arial&quot;, sans-serif;min-width:fit-content;\"> </span></p><p style=\"text-indent:0.0%;font-size:10.0pt;margin-top:9.0pt;font-family:Times New Roman;margin-bottom:0.0pt;text-align:justify;\"><span style=\"background-color:rgba(0,0,0,0);color:rgba(0,0,0,1);white-space:pre-wrap;font-weight:normal;font-size:10.0pt;font-family:&quot;Arial&quot;, sans-serif;min-width:fit-content;\">Microsoft Mobile Oy, a subsidiary of Microsoft, along with other handset manufacturers and network operators, is a defendant in 46 lawsuits, including 45 lawsuits filed in the Superior Court for the District of Columbia by individual plaintiffs who allege that radio emissions from cellular handsets caused their brain tumors and other adverse health effects. We assumed responsibility for these claims in our agreement to acquire Nokia&#x2019;s Devices and Services business and have been substituted for the Nokia defendants. Nine of these cases were filed in 2002 and are consolidated for certain pre-trial proceedings; the remaining cases are stayed. In a separate 2009 decision, the Court of Appeals for the District of Columbia held that adverse health effect claims arising from the use of cellular handsets that operate within the U.S. Federal Communications Commission radio frequency emission guidelines (&#x201c;FCC Guidelines&#x201d;) are pre-empted by federal law. The plaintiffs allege that their handsets either operated outside the FCC Guidelines or were manufactured before the FCC Guidelines went into effect. The lawsuits also allege an industry-wide conspiracy to manipulate the science and testing around emission guidelines.</span><span style=\"color:rgba(0,0,0,1);white-space:pre-wrap;font-weight:normal;font-size:10.0pt;font-family:&quot;Arial&quot;, sans-serif;min-width:fit-content;\"> </span></p><p style=\"text-indent:0.0%;font-size:10.0pt;margin-top:9.0pt;font-family:Times New Roman;margin-bottom:0.0pt;text-align:justify;\"><span style=\"background-color:rgba(0,0,0,0);color:rgba(0,0,0,1);white-space:pre-wrap;font-weight:normal;font-size:10.0pt;font-family:&quot;Arial&quot;, sans-serif;min-width:fit-content;\">In 2013, the defendants in the consolidated cases moved to exclude the plaintiffs&#x2019; expert evidence of general causation on the basis of flawed scientific methodologies. In 2014, the trial court granted in part and denied in part the defendants&#x2019; motion to exclude the plaintiffs&#x2019; general causation experts. The defendants filed an interlocutory appeal to the District of Columbia Court of Appeals challenging the standard for evaluating expert scientific evidence. In October 2016, the Court of Appeals issued its decision adopting the standard advocated by the defendants and remanding the cases to the trial court for further proceedings under that standard. The plaintiffs have filed supplemental expert evidence, portions of which were stricken by the court.  A hearing on general causation took place in September of 2022. In April of 2023, the court granted defendants&#x2019; motion to strike the testimony of plaintiffs&#x2019; experts that cell phones cause brain cancer and entered an order excluding all of plaintiffs&#x2019; experts from testifying.</span></p><p style=\"text-indent:0.0%;font-size:10.0pt;margin-top:13.5pt;font-family:Times New Roman;margin-bottom:0.0pt;text-align:left;\"><span style=\"background-color:rgba(0,0,0,0);color:rgba(0,0,0,1);white-space:pre-wrap;font-weight:bold;font-size:10.0pt;font-family:&quot;Arial&quot;, sans-serif;min-width:fit-content;\">Irish Data Protection Commission Matter</span></p><p style=\"text-indent:0.0%;font-size:10.0pt;margin-top:9.0pt;font-family:Times New Roman;margin-bottom:0.0pt;text-align:justify;\"><span style=\"background-color:rgba(0,0,0,0);color:rgba(0,0,0,1);white-space:pre-wrap;font-weight:normal;font-size:10.0pt;font-family:&quot;Arial&quot;, sans-serif;min-width:fit-content;\">In 2018, the Irish Data Protection Commission (&#x201c;IDPC&#x201d;) began investigating a complaint against LinkedIn as to whether LinkedIn&#x2019;s targeted advertising practices violated the recently implemented European Union General Data Protection Regulation (&#x201c;GDPR&#x201d;). Microsoft cooperated throughout the period of inquiry. In April 2023, the IDPC provided LinkedIn with a non-public preliminary draft decision alleging GDPR violations and proposing a fine. Microsoft intends to challenge the preliminary draft decision. There is no set timeline for the IDPC to issue a final decision.</span></p><p style=\"text-indent:0.0%;font-size:10.0pt;margin-top:13.5pt;font-family:Times New Roman;margin-bottom:0.0pt;text-align:left;\"><span style=\"background-color:rgba(0,0,0,0);color:rgba(0,0,0,1);white-space:pre-wrap;font-weight:bold;font-size:10.0pt;font-family:&quot;Arial&quot;, sans-serif;min-width:fit-content;\">Other Contingencies</span><span style=\"color:rgba(0,0,0,1);white-space:pre-wrap;font-weight:bold;font-size:10.0pt;font-family:&quot;Arial&quot;, sans-serif;min-width:fit-content;\"> </span></p><p style=\"text-indent:0.0%;font-size:10.0pt;margin-top:9.0pt;font-family:Times New Roman;margin-bottom:0.0pt;text-align:justify;\"><span style=\"background-color:rgba(0,0,0,0);color:rgba(0,0,0,1);white-space:pre-wrap;font-weight:normal;font-size:10.0pt;font-family:&quot;Arial&quot;, sans-serif;min-width:fit-content;\">We also are subject to a variety of other claims and suits that arise from time to time in the ordinary course of our business. Although management currently believes that resolving claims against us, individually or in aggregate, will not have a material adverse impact in our consolidated financial statements, these matters are subject to inherent uncertainties and management&#x2019;s view of these matters may change in the future.</span><span style=\"color:rgba(0,0,0,1);white-space:pre-wrap;font-weight:normal;font-size:10.0pt;font-family:&quot;Arial&quot;, sans-serif;min-width:fit-content;\"> </span></p><p style=\"text-indent:0.0%;font-size:10.0pt;margin-top:9.0pt;font-family:Times New Roman;margin-bottom:0.0pt;text-align:justify;\"><span style=\"background-color:rgba(0,0,0,0);color:rgba(0,0,0,1);white-space:pre-wrap;font-weight:normal;font-size:10.0pt;font-family:&quot;Arial&quot;, sans-serif;min-width:fit-content;\">As of June 30, 2023, we accrued aggregate legal liabilities of $</span><span style=\"font-size:10.0pt;font-family:&quot;Arial&quot;, sans-serif;background-color:rgba(0,0,0,0);color:rgba(0,0,0,1);white-space:pre-wrap;font-weight:normal;font-size:10.0pt;font-family:&quot;Arial&quot;, sans-serif;min-width:fit-content;\"><ix:nonfraction id=\"F_07854cd6-7972-4664-997c-5a2726b629d1\" contextref=\"C_d4129f7a-27bd-4daf-8d40-6ace4c3b7548\" name=\"us-gaap:LossContingencyAccrualAtCarryingValue\" unitref=\"U_USD\" scale=\"6\" decimals=\"-6\" format=\"ixt:num-dot-decimal\" data-cbfactid=\"315129649\">617</ix:nonfraction></span><span style=\"background-color:rgba(0,0,0,0);color:rgba(0,0,0,1);white-space:pre-wrap;font-weight:normal;font-size:10.0pt;font-family:&quot;Arial&quot;, sans-serif;min-width:fit-content;\"> million. While we intend to defend these matters vigorously, adverse outcomes that we estimate could reach approximately $</span><span style=\"font-size:10.0pt;font-family:&quot;Arial&quot;, sans-serif;background-color:rgba(0,0,0,0);color:rgba(0,0,0,1);white-space:pre-wrap;font-weight:normal;font-size:10.0pt;font-family:&quot;Arial&quot;, sans-serif;min-width:fit-content;\"><ix:nonfraction id=\"F_c1a11edf-3931-4132-9d1d-c797e97dc452\" contextref=\"C_d4129f7a-27bd-4daf-8d40-6ace4c3b7548\" name=\"us-gaap:LossContingencyRangeOfPossibleLossPortionNotAccrued\" unitref=\"U_USD\" scale=\"6\" decimals=\"-6\" format=\"ixt:num-dot-decimal\" data-cbfactid=\"315129650\">600</ix:nonfraction></span><span style=\"background-color:rgba(0,0,0,0);color:rgba(0,0,0,1);white-space:pre-wrap;font-weight:normal;font-size:10.0pt;font-family:&quot;Arial&quot;, sans-serif;min-width:fit-content;\"> million in aggregate beyond recorded amounts are reasonably possible. Were unfavorable final outcomes to occur, there exists the possibility of a material adverse impact in our consolidated financial statements for the period in which the effects become reasonably estimable.</span><span style=\"color:rgba(0,0,0,1);white-space:pre-wrap;font-weight:normal;font-size:10.0pt;font-family:&quot;Arial&quot;, sans-serif;min-width:fit-content;\"> </span></p></div>\n",
       "<div style=\"overflow-x:auto\"><section><h1>NOTE 15 &#x2014; CONTINGENCIES</h1><section><h2>U.S. Cell Phone Litigation</h2> <p><p>Microsoft Mobile Oy, a subsidiary of Microsoft, along with other handset manufacturers and network operators, is a defendant in 46 lawsuits, including 45 lawsuits filed in the Superior Court for the District of Columbia by individual plaintiffs who allege that radio emissions from cellular handsets caused their brain tumors and other adverse health effects. We assumed responsibility for these claims in our agreement to acquire Nokia&#x2019;s Devices and Services business and have been substituted for the Nokia defendants. Nine of these cases were filed in 2002 and are consolidated for certain pre-trial proceedings; the remaining cases are stayed. In a separate 2009 decision, the Court of Appeals for the District of Columbia held that adverse health effect claims arising from the use of cellular handsets that operate within the U.S. Federal Communications Commission radio frequency emission guidelines (&#x201c;FCC Guidelines&#x201d;) are pre-empted by federal law. The plaintiffs allege that their handsets either operated outside the FCC Guidelines or were manufactured before the FCC Guidelines went into effect. The lawsuits also allege an industry-wide conspiracy to manipulate the science and testing around emission guidelines.</p> </p><p><p>In 2013, the defendants in the consolidated cases moved to exclude the plaintiffs&#x2019; expert evidence of general causation on the basis of flawed scientific methodologies. In 2014, the trial court granted in part and denied in part the defendants&#x2019; motion to exclude the plaintiffs&#x2019; general causation experts. The defendants filed an interlocutory appeal to the District of Columbia Court of Appeals challenging the standard for evaluating expert scientific evidence. In October 2016, the Court of Appeals issued its decision adopting the standard advocated by the defendants and remanding the cases to the trial court for further proceedings under that standard. The plaintiffs have filed supplemental expert evidence, portions of which were stricken by the court.  A hearing on general causation took place in September of 2022. In April of 2023, the court granted defendants&#x2019; motion to strike the testimony of plaintiffs&#x2019; experts that cell phones cause brain cancer and entered an order excluding all of plaintiffs&#x2019; experts from testifying.</p></p></section><section><h2>Irish Data Protection Commission Matter</h2><p><p>In 2018, the Irish Data Protection Commission (&#x201c;IDPC&#x201d;) began investigating a complaint against LinkedIn as to whether LinkedIn&#x2019;s targeted advertising practices violated the recently implemented European Union General Data Protection Regulation (&#x201c;GDPR&#x201d;). Microsoft cooperated throughout the period of inquiry. In April 2023, the IDPC provided LinkedIn with a non-public preliminary draft decision alleging GDPR violations and proposing a fine. Microsoft intends to challenge the preliminary draft decision. There is no set timeline for the IDPC to issue a final decision.</p></p></section><section><h2>Other Contingencies</h2> <p><p>We also are subject to a variety of other claims and suits that arise from time to time in the ordinary course of our business. Although management currently believes that resolving claims against us, individually or in aggregate, will not have a material adverse impact in our consolidated financial statements, these matters are subject to inherent uncertainties and management&#x2019;s view of these matters may change in the future.</p> </p><p>As of June 30, 2023, we accrued aggregate legal liabilities of $617 million. While we intend to defend these matters vigorously, adverse outcomes that we estimate could reach approximately $600 million in aggregate beyond recorded amounts are reasonably possible. Were unfavorable final outcomes to occur, there exists the possibility of a material adverse impact in our consolidated financial statements for the period in which the effects become reasonably estimable. </p></section></section></div>\n",
       "</div>\n"
      ],
      "text/plain": [
       "<IPython.core.display.HTML object>"
      ]
     },
     "metadata": {},
     "output_type": "display_data"
    }
   ],
   "source": [
    "display(HTML(side_by_side_html))"
   ]
  },
  {
   "cell_type": "code",
   "execution_count": null,
   "id": "7b3b14ab",
   "metadata": {},
   "outputs": [],
   "source": []
  }
 ],
 "metadata": {
  "kernelspec": {
   "display_name": "Python 3 (ipykernel)",
   "language": "python",
   "name": "python3"
  },
  "language_info": {
   "codemirror_mode": {
    "name": "ipython",
    "version": 3
   },
   "file_extension": ".py",
   "mimetype": "text/x-python",
   "name": "python",
   "nbconvert_exporter": "python",
   "pygments_lexer": "ipython3",
   "version": "3.11.0"
  }
 },
 "nbformat": 4,
 "nbformat_minor": 5
}
