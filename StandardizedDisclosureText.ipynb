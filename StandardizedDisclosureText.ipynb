{
 "cells": [
  {
   "cell_type": "code",
   "execution_count": null,
   "id": "7ec94fcb",
   "metadata": {},
   "outputs": [],
   "source": [
    "# Standardized "
   ]
  },
  {
   "cell_type": "code",
   "execution_count": 1,
   "id": "29ee7288",
   "metadata": {
    "collapsed": true
   },
   "outputs": [
    {
     "name": "stdout",
     "output_type": "stream",
     "text": [
      "^C\n",
      "Note: you may need to restart the kernel to use updated packages.\n",
      "Requirement already satisfied: calcbench-api-client in c:\\users\\andre\\repos\\python_api_client (13.0.0)\n",
      "Requirement already satisfied: requests in c:\\users\\andre\\appdata\\local\\programs\\python\\python311\\lib\\site-packages (from calcbench-api-client) (2.31.0)\n",
      "Requirement already satisfied: pydantic>=2.0.0 in c:\\users\\andre\\appdata\\local\\programs\\python\\python311\\lib\\site-packages (from calcbench-api-client) (2.5.3)\n",
      "Requirement already satisfied: annotated-types>=0.4.0 in c:\\users\\andre\\appdata\\local\\programs\\python\\python311\\lib\\site-packages (from pydantic>=2.0.0->calcbench-api-client) (0.6.0)\n",
      "Requirement already satisfied: pydantic-core==2.14.6 in c:\\users\\andre\\appdata\\local\\programs\\python\\python311\\lib\\site-packages (from pydantic>=2.0.0->calcbench-api-client) (2.14.6)\n",
      "Requirement already satisfied: typing-extensions>=4.6.1 in c:\\users\\andre\\appdata\\local\\programs\\python\\python311\\lib\\site-packages (from pydantic>=2.0.0->calcbench-api-client) (4.9.0)\n",
      "Requirement already satisfied: charset-normalizer<4,>=2 in c:\\users\\andre\\appdata\\local\\programs\\python\\python311\\lib\\site-packages (from requests->calcbench-api-client) (3.3.2)\n",
      "Requirement already satisfied: idna<4,>=2.5 in c:\\users\\andre\\appdata\\local\\programs\\python\\python311\\lib\\site-packages (from requests->calcbench-api-client) (3.6)\n",
      "Requirement already satisfied: urllib3<3,>=1.21.1 in c:\\users\\andre\\appdata\\local\\programs\\python\\python311\\lib\\site-packages (from requests->calcbench-api-client) (2.1.0)\n",
      "Requirement already satisfied: certifi>=2017.4.17 in c:\\users\\andre\\appdata\\local\\programs\\python\\python311\\lib\\site-packages (from requests->calcbench-api-client) (2023.11.17)\n"
     ]
    }
   ],
   "source": [
    "%pip install calcbench-api-client tqdm"
   ]
  },
  {
   "cell_type": "code",
   "execution_count": 4,
   "id": "c1c4a474",
   "metadata": {},
   "outputs": [],
   "source": [
    "import calcbench as cb\n",
    "from calcbench.api_query_params import PeriodType\n",
    "from tqdm import tqdm\n",
    "from itertools import product\n",
    "cb.api_client._rig_for_testing('localhost')\n",
    "\n",
    "disclosures_to_get = [\n",
    "    \"AccountingPolicies\",\n",
    "    \"BusinessCombinations\",\n",
    "    \"CommitmentAndContingencies\",\n",
    "    \"Debt\",\n",
    "    \"Equity\",\n",
    "    \"IntangibleAssetsGoodwillAndOther\"\n",
    "]\n",
    "\n",
    "tickers = cb.tickers(index='DJIA')\n"
   ]
  },
  {
   "cell_type": "code",
   "execution_count": 5,
   "id": "a4f6f4b2",
   "metadata": {},
   "outputs": [],
   "source": [
    "disclosures_and_tickers = list(product(disclosures_to_get, tickers))"
   ]
  },
  {
   "cell_type": "code",
   "execution_count": null,
   "id": "6558338a",
   "metadata": {},
   "outputs": [
    {
     "name": "stderr",
     "output_type": "stream",
     "text": [
      " 69%|██████████████████████████████████████████████████████████████████████████████████████████████████████████████████████▊                                                    | 125/180 [01:47<00:44,  1.23it/s]"
     ]
    }
   ],
   "source": [
    "for disclosure_name, ticker in tqdm(disclosures_and_tickers):\n",
    "    disclosures = cb.disclosure_search(\n",
    "        company_identifiers=[ticker],\n",
    "        disclosure_names=[disclosure_name],\n",
    "        year=2022,\n",
    "        period_type=PeriodType.Annual,\n",
    "    )\n",
    "\n",
    "    disclosure = next(disclosures,None)\n",
    "    if not disclosure:\n",
    "        continue\n",
    "    with open(f\"comparisons/{ticker}_{disclosure_name}_comparison.html\", 'w') as out:\n",
    "        non_standardized_disclosures = disclosure.get_contents()\n",
    "        try:\n",
    "            standardized_disclosure = disclosure.get_contents(standardize=True)\n",
    "        except:\n",
    "            standardized_disclosure = \"error\"\n",
    "        html = f\"\"\"\n",
    "        <div>\n",
    "        <div style=\"width:50%; float:left;\">{non_standardized_disclosures}</div>\n",
    "        <div style=\"overflow-x:auto\">{standardized_disclosure}</div>\n",
    "        </div>\n",
    "        \"\"\"\n",
    "        out.write(html)"
   ]
  },
  {
   "cell_type": "code",
   "execution_count": 8,
   "id": "f6f66d80",
   "metadata": {},
   "outputs": [
    {
     "data": {
      "text/plain": [
       "<generator object disclosure_search at 0x00000117E6AD0230>"
      ]
     },
     "execution_count": 8,
     "metadata": {},
     "output_type": "execute_result"
    }
   ],
   "source": [
    "disclosures"
   ]
  },
  {
   "cell_type": "code",
   "execution_count": null,
   "id": "b0e4d92c",
   "metadata": {},
   "outputs": [],
   "source": []
  }
 ],
 "metadata": {
  "kernelspec": {
   "display_name": "Python 3 (ipykernel)",
   "language": "python",
   "name": "python3"
  },
  "language_info": {
   "codemirror_mode": {
    "name": "ipython",
    "version": 3
   },
   "file_extension": ".py",
   "mimetype": "text/x-python",
   "name": "python",
   "nbconvert_exporter": "python",
   "pygments_lexer": "ipython3",
   "version": "3.11.0"
  }
 },
 "nbformat": 4,
 "nbformat_minor": 5
}
