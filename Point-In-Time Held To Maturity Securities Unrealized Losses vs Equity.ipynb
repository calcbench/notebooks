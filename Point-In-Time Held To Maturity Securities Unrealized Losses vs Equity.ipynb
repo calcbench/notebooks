{
 "cells": [
  {
   "cell_type": "code",
   "execution_count": null,
   "id": "0023b877",
   "metadata": {},
   "outputs": [],
   "source": [
    "%pip install \"calcbench-api-client[Pandas]\""
   ]
  },
  {
   "cell_type": "code",
   "execution_count": null,
   "id": "a552f1af",
   "metadata": {},
   "outputs": [],
   "source": [
    "import calcbench as cb\n",
    "from calcbench.downloaders import iterate_to_dataframe"
   ]
  },
  {
   "cell_type": "code",
   "execution_count": null,
   "id": "f47cda8a",
   "metadata": {},
   "outputs": [],
   "source": [
    "financial_institutions = cb.tickers(SIC_codes=[6000])"
   ]
  },
  {
   "cell_type": "code",
   "execution_count": 4,
   "id": "84f2dc3f",
   "metadata": {},
   "outputs": [],
   "source": [
    "metrics = [\n",
    "    \"HeldToMaturitySecuritiesFairValue\",\n",
    "    \"HeldToMaturitySecurities\",\n",
    "    \"StockholdersEquity\",\n",
    "]"
   ]
  },
  {
   "cell_type": "code",
   "execution_count": 6,
   "id": "db36f67c",
   "metadata": {},
   "outputs": [],
   "source": [
    "data = cb.standardized(\n",
    "    company_identifiers=financial_institutions, metrics=metrics, point_in_time=True\n",
    ")"
   ]
  },
  {
   "cell_type": "code",
   "execution_count": 7,
   "id": "045f6e56",
   "metadata": {},
   "outputs": [],
   "source": [
    "data = data.unstack(level=\"metric\")"
   ]
  },
  {
   "cell_type": "code",
   "execution_count": 8,
   "id": "862bb71a",
   "metadata": {},
   "outputs": [],
   "source": [
    "data = (\n",
    "    data[\"value\"]\n",
    "    .groupby(\n",
    "        level=[\n",
    "            \"ticker\",\n",
    "            \"fiscal_period\",\n",
    "        ]\n",
    "    )\n",
    "    .ffill()\n",
    ")"
   ]
  },
  {
   "cell_type": "code",
   "execution_count": 9,
   "id": "8222e001",
   "metadata": {},
   "outputs": [],
   "source": [
    "data[\"HTMUnrealizedLossesVsEquity\"] = (\n",
    "    data[\"HeldToMaturitySecuritiesFairValue\"] - data[\"HeldToMaturitySecurities\"]\n",
    ") / data[\"StockholdersEquity\"]"
   ]
  },
  {
   "cell_type": "code",
   "execution_count": 10,
   "id": "b726da46",
   "metadata": {},
   "outputs": [],
   "source": [
    "data[~data[\"HTMUnrealizedLossesVsEquity\"].isnull()].to_csv(\n",
    "    \"C:/Users/andre/Downloads/htm_unrealized_losses_vs_equity.csv\"\n",
    ")"
   ]
  },
  {
   "cell_type": "code",
   "execution_count": null,
   "id": "ecab3bbf",
   "metadata": {},
   "outputs": [],
   "source": []
  }
 ],
 "metadata": {
  "kernelspec": {
   "display_name": "Python 3 (ipykernel)",
   "language": "python",
   "name": "python3"
  },
  "language_info": {
   "codemirror_mode": {
    "name": "ipython",
    "version": 3
   },
   "file_extension": ".py",
   "mimetype": "text/x-python",
   "name": "python",
   "nbconvert_exporter": "python",
   "pygments_lexer": "ipython3",
   "version": "3.8.2"
  }
 },
 "nbformat": 4,
 "nbformat_minor": 5
}
