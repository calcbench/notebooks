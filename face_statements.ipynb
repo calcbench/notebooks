{
 "cells": [
  {
   "cell_type": "markdown",
   "id": "1917c9d8",
   "metadata": {},
   "source": [
    "# As-Reported Face Statements\n",
    "## Income statement, balance sheet, statement of cash flows.\n",
    "## The data behind https://www.calcbench.com/detail\n",
    "## https://calcbench.github.io/python_api_client/html/face-statements.html"
   ]
  },
  {
   "cell_type": "code",
   "execution_count": null,
   "id": "28978ef4",
   "metadata": {},
   "outputs": [],
   "source": [
    "%pip install calcbench-api-client[Pandas]"
   ]
  },
  {
   "cell_type": "code",
   "execution_count": null,
   "id": "ba200a6b",
   "metadata": {},
   "outputs": [],
   "source": [
    "import calcbench as cb"
   ]
  },
  {
   "cell_type": "code",
   "execution_count": null,
   "id": "504df840",
   "metadata": {},
   "outputs": [],
   "source": [
    "d = cb.face_statements.face_statement(\n",
    "    company_identifier=\"MSFT\", statement_type=\"income\", period_type=\"annual\", all_history=True\n",
    ")"
   ]
  },
  {
   "cell_type": "code",
   "execution_count": null,
   "id": "35e03a30",
   "metadata": {},
   "outputs": [],
   "source": [
    "d.as_dataframe()"
   ]
  },
  {
   "cell_type": "code",
   "execution_count": null,
   "id": "2c83cc20",
   "metadata": {},
   "outputs": [],
   "source": []
  }
 ],
 "metadata": {
  "kernelspec": {
   "display_name": "Python 3 (ipykernel)",
   "language": "python",
   "name": "python3"
  },
  "language_info": {
   "codemirror_mode": {
    "name": "ipython",
    "version": 3
   },
   "file_extension": ".py",
   "mimetype": "text/x-python",
   "name": "python",
   "nbconvert_exporter": "python",
   "pygments_lexer": "ipython3",
   "version": "3.11.0"
  }
 },
 "nbformat": 4,
 "nbformat_minor": 5
}
