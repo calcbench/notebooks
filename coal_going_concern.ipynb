{
 "cells": [
  {
   "cell_type": "markdown",
   "metadata": {},
   "source": [
    "# Search for Text in 10-K Footnotes with the Calcbench Text Search API.\n",
    "## or: The Coal Crisis in Seven Lines of Python."
   ]
  },
  {
   "cell_type": "markdown",
   "metadata": {},
   "source": [
    "Use the Calcbench text search API to search for terms in 10-K filings.  More about the API @ https://www.calcbench.com/home/api, get the Calcbench Python API client @ https://github.com/calcbench/python_api_client."
   ]
  },
  {
   "cell_type": "code",
   "execution_count": 2,
   "metadata": {},
   "outputs": [],
   "source": [
    "import calcbench as cb\n",
    "import itertools\n",
    "from operator import itemgetter"
   ]
  },
  {
   "cell_type": "code",
   "execution_count": 3,
   "metadata": {
    "collapsed": true
   },
   "outputs": [],
   "source": [
    "coal_companies = cb.tickers(SIC_codes=[1200])"
   ]
  },
  {
   "cell_type": "code",
   "execution_count": 4,
   "metadata": {
    "collapsed": true
   },
   "outputs": [],
   "source": [
    "search_term = '\"going concern\"'  # Use Lucene query syntax, http://lucene.apache.org/core/2_9_4/queryparsersyntax.html"
   ]
  },
  {
   "cell_type": "code",
   "execution_count": 5,
   "metadata": {},
   "outputs": [
    {
     "name": "stdout",
     "output_type": "stream",
     "text": [
      "YEAR  2010\n",
      "YEAR  2011\n",
      "America West Resources, Inc.\n",
      "Colombia Energy Resources, Inc.\n",
      "Eden Energy Corp\n",
      "Grand China Energy Group Ltd\n",
      "WESTMORELAND COAL Co\n",
      "YEAR  2012\n",
      "Borneo Resource Investments Ltd.\n",
      "China Energy CORP\n",
      "Grand China Energy Group Ltd\n",
      "Patriot Coal CORP\n",
      "Royal Energy Resources, Inc.\n",
      "Westmoreland Resource Partners, LP\n",
      "YEAR  2013\n",
      "Borneo Resource Investments Ltd.\n",
      "Cloud Peak Energy Inc.\n",
      "Grand China Energy Group Ltd\n",
      "Royal Energy Resources, Inc.\n",
      "Westmoreland Resource Partners, LP\n",
      "YEAR  2014\n",
      "Alliance Holdings GP, L.P.\n",
      "Alliance Resource Partners Lp\n",
      "Arch Coal Inc\n",
      "Armstrong Energy, Inc.\n",
      "Borneo Resource Investments Ltd.\n",
      "Foresight Energy LP\n",
      "Grand China Energy Group Ltd\n",
      "Peabody Energy Corp\n",
      "Royal Energy Resources, Inc.\n",
      "WESTMORELAND COAL Co\n",
      "Walter Energy, Inc.\n",
      "Westmoreland Resource Partners, LP\n",
      "YEAR  2015\n",
      "Alliance Holdings GP, L.P.\n",
      "Alliance Resource Partners Lp\n",
      "Arch Coal Inc\n",
      "Armstrong Energy, Inc.\n",
      "CNX Coal Resources LP\n",
      "Foresight Energy LP\n",
      "Natural Resource Partners Lp\n",
      "Peabody Energy Corp\n",
      "Rhino Resource Partners LP\n",
      "Royal Energy Resources, Inc.\n",
      "WESTMORELAND COAL Co\n",
      "Westmoreland Resource Partners, LP\n"
     ]
    }
   ],
   "source": [
    "for year in range(2010, 2016):\n",
    "    print(\"YEAR \", year)\n",
    "    going_concern_footnotes = cb.document_search(\n",
    "        company_identifiers=coal_companies,\n",
    "        full_text_search_term=search_term,\n",
    "        year=year,\n",
    "        period=0,\n",
    "    )\n",
    "    going_concern_footnotes = sorted(\n",
    "        going_concern_footnotes, key=itemgetter(\"entity_name\")\n",
    "    )\n",
    "    for company_name, _ in itertools.groupby(\n",
    "        going_concern_footnotes, itemgetter(\"entity_name\")\n",
    "    ):\n",
    "        print(company_name)"
   ]
  },
  {
   "cell_type": "code",
   "execution_count": null,
   "metadata": {
    "collapsed": true
   },
   "outputs": [],
   "source": []
  }
 ],
 "metadata": {
  "kernelspec": {
   "display_name": "Python 3",
   "language": "python",
   "name": "python3"
  },
  "language_info": {
   "codemirror_mode": {
    "name": "ipython",
    "version": 3
   },
   "file_extension": ".py",
   "mimetype": "text/x-python",
   "name": "python",
   "nbconvert_exporter": "python",
   "pygments_lexer": "ipython3",
   "version": "3.8.2"
  }
 },
 "nbformat": 4,
 "nbformat_minor": 1
}
