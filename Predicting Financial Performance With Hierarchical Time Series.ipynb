{
 "cells": [
  {
   "cell_type": "markdown",
   "metadata": {},
   "source": [
    "# Predicting Financial Performance With Hierarchical Time Series\n",
    "\n",
    "## Can we use heirarchical time series to capture the structure of companies and industries and predict financial performance?"
   ]
  },
  {
   "cell_type": "code",
   "execution_count": 31,
   "metadata": {},
   "outputs": [],
   "source": [
    "import calcbench as cb\n",
    "from hts import HTSRegressor\n",
    "import hts"
   ]
  },
  {
   "cell_type": "code",
   "execution_count": 72,
   "metadata": {},
   "outputs": [],
   "source": [
    "accounts = [\n",
    "    \"Revenue\",\n",
    "    \"CostOfRevenue\",\n",
    "    \"GrossProfit\",\n",
    "    \"SGAExpense\",\n",
    "    \"OperatingExpenses\",\n",
    "    \"InterestExpense\",\n",
    "    \"IncomeTaxes\",\n",
    "]"
   ]
  },
  {
   "cell_type": "code",
   "execution_count": 73,
   "metadata": {},
   "outputs": [],
   "source": [
    "api_data = cb.standardized_data(\n",
    "    company_identifiers=[\"msft\", \"orcl\", \"ko\"],\n",
    "    metrics=[\n",
    "        *accounts,\n",
    "        \"SIC_Code\",\n",
    "    ],\n",
    "    all_history=True,\n",
    "    period_type=\"annual\",\n",
    ")"
   ]
  },
  {
   "cell_type": "code",
   "execution_count": 36,
   "metadata": {},
   "outputs": [],
   "source": [
    "one_digit_SIC_codes = pd.to_numeric(\n",
    "    api_data[\"SIC_Code\"].iloc[0] // 1000, downcast=\"integer\"\n",
    ").astype(str)\n",
    "one_digit_SIC_codes.name = \"SIC_Code\"\n",
    "\n",
    "d = api_data.drop(columns=\"SIC_Code\", level=\"metric\")\n",
    "\n",
    "d = d.drop(d.index[0])  # drop the 0000 column left over from the SIC_Code\n",
    "\n",
    "d = d.stack().join(one_digit_SIC_codes).set_index(\"SIC_Code\", append=True)\n",
    "\n",
    "d.index = d.index.set_levels(d.index.levels[0].to_timestamp(), level=0)\n",
    "\n",
    "d = d.reset_index()"
   ]
  },
  {
   "cell_type": "code",
   "execution_count": 37,
   "metadata": {},
   "outputs": [],
   "source": [
    "for negative_account in [\n",
    "    \"CostOfRevenue\",\n",
    "    \"IncomeTaxes\",\n",
    "    \"InterestExpense\",\n",
    "    \"OperatingExpenses\",\n",
    "    \"SGAExpense\",\n",
    "]:\n",
    "    d[negative_account] = d[negative_account] * -1"
   ]
  },
  {
   "cell_type": "code",
   "execution_count": 38,
   "metadata": {},
   "outputs": [],
   "source": [
    "d = pd.melt(d, id_vars=[\"period\", \"ticker\", \"SIC_Code\"])"
   ]
  },
  {
   "cell_type": "code",
   "execution_count": 39,
   "metadata": {},
   "outputs": [],
   "source": [
    "d = d.rename(columns={\"variable\": \"account\"})"
   ]
  },
  {
   "cell_type": "code",
   "execution_count": 40,
   "metadata": {},
   "outputs": [],
   "source": [
    "ht, _, _, = hts.functions.get_hierarchichal_df(\n",
    "    d,\n",
    "    level_names=[\"SIC_Code\", \"ticker\", \"account\"],\n",
    "    date_colname=\"period\",\n",
    "    val_colname=\"value\",\n",
    "    hierarchy=[[\"SIC_Code\"], [\"ticker\"], [\"account\"]],\n",
    ")"
   ]
  },
  {
   "cell_type": "code",
   "execution_count": 30,
   "metadata": {},
   "outputs": [],
   "source": [
    "heirarchy = {\n",
    "    \"total\": [\"7\", \"2\"],\n",
    "    \"7\": [\"7_MSFT\", \"7_ORCL\"],\n",
    "    \"2\": [\"2_KO\"],\n",
    "    \"7_MSFT\": [],\n",
    "}"
   ]
  },
  {
   "cell_type": "code",
   "execution_count": 75,
   "metadata": {},
   "outputs": [],
   "source": [
    "tickers_with_SIC_groups = [(\"KO\", 2), (\"MSFT\", 7), (\"ORCL\", 7)]\n",
    "unique_SIC_codes = list(set([str(sic_code) for _, sic_code in tickers_with_SIC_groups]))\n",
    "heirarchy = {\"total\": unique_SIC_codes}\n",
    "for SIC_code in unique_SIC_codes:\n",
    "    heirarchy[SIC_code] = [\n",
    "        f\"{SIC_code}_{ticker}\"\n",
    "        for ticker, ticker_SIC_code in tickers_with_SIC_groups\n",
    "        if str(ticker_SIC_code) == str(SIC_code)\n",
    "    ]\n",
    "for ticker, SIC_group in tickers_with_sic_groups:\n",
    "    key = f\"{SIC_group}_{ticker}\"\n",
    "    heirarchy[key] = [f\"{key}_{account}\" for account in accounts]"
   ]
  },
  {
   "cell_type": "code",
   "execution_count": 77,
   "metadata": {},
   "outputs": [],
   "source": [
    "clf = HTSRegressor(model=\"prophet\", revision_method=\"OLS\", n_jobs=0)"
   ]
  },
  {
   "cell_type": "code",
   "execution_count": null,
   "metadata": {},
   "outputs": [],
   "source": [
    "model = clf.fit(ht, heirarchy)"
   ]
  },
  {
   "cell_type": "code",
   "execution_count": null,
   "metadata": {},
   "outputs": [],
   "source": [
    "predicted = model.predict(steps_ahead=4)"
   ]
  },
  {
   "cell_type": "markdown",
   "metadata": {},
   "source": [
    "## Predicted \"totals\" for companies is net-income"
   ]
  },
  {
   "cell_type": "code",
   "execution_count": null,
   "metadata": {},
   "outputs": [],
   "source": []
  }
 ],
 "metadata": {
  "kernelspec": {
   "display_name": "Python 3",
   "language": "python",
   "name": "python3"
  },
  "language_info": {
   "codemirror_mode": {
    "name": "ipython",
    "version": 3
   },
   "file_extension": ".py",
   "mimetype": "text/x-python",
   "name": "python",
   "nbconvert_exporter": "python",
   "pygments_lexer": "ipython3",
   "version": "3.8.2"
  }
 },
 "nbformat": 4,
 "nbformat_minor": 4
}
