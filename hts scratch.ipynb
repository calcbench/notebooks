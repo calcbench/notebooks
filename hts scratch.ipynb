{
 "cells": [
  {
   "cell_type": "code",
   "execution_count": null,
   "metadata": {},
   "outputs": [],
   "source": [
    "%pip install scikit-hts[prophet] calcbench-api-client plotly"
   ]
  },
  {
   "cell_type": "code",
   "execution_count": null,
   "metadata": {},
   "outputs": [],
   "source": [
    "from datetime import datetime\n",
    "from hts import HTSRegressor\n",
    "from hts.utilities.load_data import load_hierarchical_sine_data\n",
    "import hts.functions\n",
    "import calcbench as cb\n",
    "import pandas as pd\n",
    "from collections import defaultdict"
   ]
  },
  {
   "cell_type": "code",
   "execution_count": null,
   "metadata": {},
   "outputs": [],
   "source": [
    "tickers = cb.tickers(index='DJIA')"
   ]
  },
  {
   "cell_type": "code",
   "execution_count": null,
   "metadata": {},
   "outputs": [],
   "source": [
    "api_data = cb.standardized_data(\n",
    "    company_identifiers=tickers,\n",
    "    metrics=[\"GrossProfit\", \"SIC_Code\"],\n",
    "    all_history=True,\n",
    "    period_type=\"annual\",\n",
    ")"
   ]
  },
  {
   "cell_type": "code",
   "execution_count": null,
   "metadata": {},
   "outputs": [],
   "source": [
    "one_digit_SIC_codes = pd.to_numeric(\n",
    "    api_data[\"SIC_Code\"].iloc[0] // 1000, downcast=\"integer\"\n",
    ").astype(str)\n",
    "one_digit_SIC_codes.name = \"SIC_Code\"\n",
    "\n",
    "d = api_data.drop(columns=\"SIC_Code\", level=\"metric\")\n",
    "\n",
    "d = d.drop(d.index[0]) # drop the 0000 column left over from the SIC_Code\n",
    "\n",
    "d = d.stack().join(one_digit_SIC_codes).set_index(\"SIC_Code\", append=True)\n",
    "\n",
    "d.index = d.index.set_levels(d.index.levels[0].to_timestamp(), level=0)\n",
    "\n",
    "heirarchy_sets = defaultdict(set)\n",
    "for _, ticker, SIC_code in d.index.to_list():\n",
    "    heirarchy_sets[\"total\"].add(SIC_code)\n",
    "    heirarchy_sets[SIC_code].add(f\"{SIC_code}_{ticker}\")\n",
    "heirarchy = {key: list(values) for key, values in heirarchy_sets.items()}\n",
    "\n",
    "d = d.reset_index()"
   ]
  },
  {
   "cell_type": "code",
   "execution_count": null,
   "metadata": {},
   "outputs": [],
   "source": [
    "ht, _, _ = hts.functions.get_hierarchichal_df(\n",
    "    d,\n",
    "    level_names=[\"SIC_Code\", \"ticker\"],\n",
    "    date_colname=\"period\",\n",
    "    val_colname=\"GrossProfit\",\n",
    "    hierarchy=[\n",
    "        [\"SIC_Code\"],\n",
    "        [\"ticker\"],\n",
    "    ],\n",
    ")"
   ]
  },
  {
   "cell_type": "code",
   "execution_count": null,
   "metadata": {},
   "outputs": [],
   "source": [
    "ht.index.freq='AS-JAN' # have to set the  index frequency for HTS"
   ]
  },
  {
   "cell_type": "code",
   "execution_count": null,
   "metadata": {},
   "outputs": [],
   "source": [
    "clf = HTSRegressor(model=\"prophet\", revision_method=\"OLS\", n_jobs=0)"
   ]
  },
  {
   "cell_type": "code",
   "execution_count": null,
   "metadata": {},
   "outputs": [],
   "source": [
    "model = clf.fit(ht, heirarchy)"
   ]
  },
  {
   "cell_type": "code",
   "execution_count": null,
   "metadata": {},
   "outputs": [],
   "source": [
    "predicted_autoarima = model.predict(steps_ahead=4, freq='A')"
   ]
  },
  {
   "cell_type": "code",
   "execution_count": null,
   "metadata": {},
   "outputs": [],
   "source": [
    "predicted_autoarima"
   ]
  },
  {
   "cell_type": "code",
   "execution_count": null,
   "metadata": {},
   "outputs": [],
   "source": []
  }
 ],
 "metadata": {
  "kernelspec": {
   "display_name": "Python 3 (ipykernel)",
   "language": "python",
   "name": "python3"
  },
  "language_info": {
   "codemirror_mode": {
    "name": "ipython",
    "version": 3
   },
   "file_extension": ".py",
   "mimetype": "text/x-python",
   "name": "python",
   "nbconvert_exporter": "python",
   "pygments_lexer": "ipython3",
   "version": "3.9.7"
  }
 },
 "nbformat": 4,
 "nbformat_minor": 4
}
